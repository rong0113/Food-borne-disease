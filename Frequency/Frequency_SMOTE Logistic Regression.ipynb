{
 "cells": [
  {
   "cell_type": "code",
   "execution_count": 1,
   "id": "d6ebcf26",
   "metadata": {},
   "outputs": [],
   "source": [
    "import pandas as pd\n",
    "fre = pd.read_csv('/Users/evelyn/Desktop/Frequency/fre.csv')\n"
   ]
  },
  {
   "cell_type": "markdown",
   "id": "c366a604",
   "metadata": {},
   "source": [
    "## SALM"
   ]
  },
  {
   "cell_type": "code",
   "execution_count": 4,
   "id": "1cb25d16",
   "metadata": {},
   "outputs": [],
   "source": [
    "from sklearn.datasets import make_classification\n",
    "from sklearn.model_selection import train_test_split\n",
    "from sklearn.linear_model import LogisticRegression\n",
    "import numpy as np\n",
    "from sklearn import preprocessing\n",
    "\n",
    "from sklearn import metrics\n",
    "from sklearn.metrics import confusion_matrix\n",
    "from sklearn.metrics import classification_report\n",
    "from sklearn.metrics import roc_auc_score\n",
    "from sklearn.metrics import roc_curve\n",
    "from imblearn.over_sampling import SMOTE\n",
    "from sklearn.preprocessing import StandardScaler\n",
    "\n",
    "X = fre[['TEMP','SLP','WDSP','PRCP','RH','SLP-STP','MSXPD-WDSP']]\n",
    "y = fre['Salm']\n",
    "\n",
    "ss = StandardScaler()\n",
    "X_sc = ss.fit_transform(X)\n",
    "X = pd.DataFrame(X_sc, columns = X.columns)\n",
    "\n",
    "X_train, X_test, y_train, y_test = train_test_split(X, y, test_size=0.2, random_state=42)\n",
    "columns = X_train.columns"
   ]
  },
  {
   "cell_type": "code",
   "execution_count": 5,
   "id": "d77a77cd",
   "metadata": {},
   "outputs": [
    {
     "name": "stdout",
     "output_type": "stream",
     "text": [
      "Proportional distribution of positive and negative samples in the training set before oversampling:\n",
      "0    4463\n",
      "1     796\n",
      "Name: Salm, dtype: int64\n",
      "0    0.84864\n",
      "1    0.15136\n",
      "Name: Salm, dtype: float64\n",
      "-------------------------------------------\n",
      "Proportional distribution of positive and negative samples in the training set after oversampling:\n",
      "0    4463\n",
      "1    4463\n",
      "dtype: int64\n",
      "0    0.5\n",
      "1    0.5\n",
      "dtype: float64\n"
     ]
    }
   ],
   "source": [
    "print('Proportional distribution of positive and negative samples in the training set before oversampling:')\n",
    "print(y_train.value_counts())\n",
    "print(y_train.value_counts()/len(y_train))\n",
    "os = SMOTE(random_state=0)\n",
    "os_data_X,os_data_y=os.fit_resample(X_train, y_train.values.ravel())\n",
    "os_data_X = pd.DataFrame(data=os_data_X,columns=columns )\n",
    "os_data_y= pd.DataFrame(data=os_data_y)\n",
    "print('-------------------------------------------')\n",
    "print('Proportional distribution of positive and negative samples in the training set after oversampling:')\n",
    "print(os_data_y.value_counts())\n",
    "print(os_data_y.value_counts()/len(os_data_y))\n"
   ]
  },
  {
   "cell_type": "code",
   "execution_count": 6,
   "id": "34a16f9c",
   "metadata": {},
   "outputs": [
    {
     "name": "stderr",
     "output_type": "stream",
     "text": [
      "/Users/evelyn/opt/anaconda3/lib/python3.9/site-packages/sklearn/utils/validation.py:993: DataConversionWarning: A column-vector y was passed when a 1d array was expected. Please change the shape of y to (n_samples, ), for example using ravel().\n",
      "  y = column_or_1d(y, warn=True)\n"
     ]
    },
    {
     "data": {
      "text/plain": [
       "LogisticRegression()"
      ]
     },
     "execution_count": 6,
     "metadata": {},
     "output_type": "execute_result"
    }
   ],
   "source": [
    "X=os_data_X[['TEMP','SLP','WDSP','PRCP','RH','SLP-STP','MSXPD-WDSP']]\n",
    "y=os_data_y\n",
    "\n",
    "ss = StandardScaler()\n",
    "X_sc = ss.fit_transform(X)\n",
    "X = pd.DataFrame(X_sc, columns = X.columns)\n",
    "\n",
    "\n",
    "X_train, X_test, y_train, y_test = train_test_split(X, y, test_size=0.3, random_state=0)\n",
    "logreg = LogisticRegression()\n",
    "logreg.fit(X_train, y_train)"
   ]
  },
  {
   "cell_type": "code",
   "execution_count": 8,
   "id": "3b0423eb",
   "metadata": {},
   "outputs": [
    {
     "name": "stdout",
     "output_type": "stream",
     "text": [
      "Optimization terminated successfully.\n",
      "         Current function value: 0.642728\n",
      "         Iterations 5\n",
      "                          Results: Logit\n",
      "==================================================================\n",
      "Model:              Logit            Pseudo R-squared: 0.073      \n",
      "Dependent Variable: 0.0000           AIC:              11489.9800 \n",
      "Date:               2024-03-26 11:08 BIC:              11546.7538 \n",
      "No. Observations:   8926             Log-Likelihood:   -5737.0    \n",
      "Df Model:           7                LL-Null:          -6187.0    \n",
      "Df Residuals:       8918             LLR p-value:      4.6060e-190\n",
      "Converged:          1.0000           Scale:            1.0000     \n",
      "No. Iterations:     5.0000                                        \n",
      "-------------------------------------------------------------------\n",
      "                Coef.   Std.Err.     z     P>|z|    [0.025   0.975]\n",
      "-------------------------------------------------------------------\n",
      "const          -0.0300    0.0225  -1.3370  0.1812  -0.0740   0.0140\n",
      "TEMP            0.6890    0.0346  19.9093  0.0000   0.6212   0.7568\n",
      "SLP             0.2061    0.0318   6.4922  0.0000   0.1439   0.2684\n",
      "WDSP           -0.0647    0.0313  -2.0683  0.0386  -0.1261  -0.0034\n",
      "PRCP            0.0693    0.0251   2.7554  0.0059   0.0200   0.1186\n",
      "RH             -0.0577    0.0300  -1.9227  0.0545  -0.1166   0.0011\n",
      "SLP-STP         0.1626    0.0294   5.5210  0.0000   0.1049   0.2203\n",
      "MSXPD-WDSP      0.0563    0.0261   2.1606  0.0307   0.0052   0.1074\n",
      "==================================================================\n",
      "\n"
     ]
    }
   ],
   "source": [
    "import statsmodels.api as sm\n",
    "X=os_data_X[['TEMP','SLP','WDSP','PRCP','RH','SLP-STP','MSXPD-WDSP']]\n",
    "y=os_data_y\n",
    "\n",
    "ss = StandardScaler()\n",
    "X_sc = ss.fit_transform(X)\n",
    "X = pd.DataFrame(X_sc, columns = X.columns)\n",
    "\n",
    "\n",
    "X2 = sm.add_constant(X)\n",
    "\n",
    "logit_model=sm.Logit(y,X2)\n",
    "result=logit_model.fit()\n",
    "print(result.summary2())"
   ]
  },
  {
   "cell_type": "code",
   "execution_count": 155,
   "id": "66d543cc",
   "metadata": {},
   "outputs": [
    {
     "name": "stdout",
     "output_type": "stream",
     "text": [
      "Accuracy: 0.62\n"
     ]
    }
   ],
   "source": [
    "y_pred = logreg.predict(X_test)\n",
    "print('Accuracy: {:.2f}'.format(logreg.score(X_test, y_test)))"
   ]
  },
  {
   "cell_type": "code",
   "execution_count": 156,
   "id": "2ea1be4b",
   "metadata": {},
   "outputs": [
    {
     "data": {
      "text/plain": [
       "<AxesSubplot:>"
      ]
     },
     "execution_count": 156,
     "metadata": {},
     "output_type": "execute_result"
    },
    {
     "data": {
      "image/png": "[encoded data removed]",
      "text/plain": [
       "<Figure size 432x288 with 2 Axes>"
      ]
     },
     "metadata": {
      "needs_background": "light"
     },
     "output_type": "display_data"
    }
   ],
   "source": [
    "confusion_matrix = confusion_matrix(y_test, y_pred)\n",
    "sns.heatmap(confusion_matrix, annot=True, fmt='d')"
   ]
  },
  {
   "cell_type": "code",
   "execution_count": 157,
   "id": "9fca9352",
   "metadata": {},
   "outputs": [
    {
     "name": "stdout",
     "output_type": "stream",
     "text": [
      "              precision    recall  f1-score   support\n",
      "\n",
      "         0.0       0.67      0.49      0.57      1340\n",
      "         1.0       0.60      0.75      0.67      1338\n",
      "\n",
      "    accuracy                           0.62      2678\n",
      "   macro avg       0.63      0.62      0.62      2678\n",
      "weighted avg       0.63      0.62      0.62      2678\n",
      "\n"
     ]
    }
   ],
   "source": [
    "print(classification_report(y_test, y_pred))\n"
   ]
  },
  {
   "cell_type": "code",
   "execution_count": 158,
   "id": "937d5c2a",
   "metadata": {},
   "outputs": [
    {
     "data": {
      "image/png": "[encoded data removed]",
      "text/plain": [
       "<Figure size 432x288 with 1 Axes>"
      ]
     },
     "metadata": {
      "needs_background": "light"
     },
     "output_type": "display_data"
    }
   ],
   "source": [
    "logit_roc_auc = roc_auc_score(y_test, logreg.predict(X_test))\n",
    "fpr, tpr, thresholds = roc_curve(y_test, logreg.predict_proba(X_test)[:,1])\n",
    "plt.figure()\n",
    "plt.plot(fpr, tpr, label='Logistic Regression (area = %0.2f)' % logit_roc_auc)\n",
    "plt.plot([0, 1], [0, 1],'r--')\n",
    "plt.xlim([0.0, 1.0])\n",
    "plt.ylim([0.0, 1.05])\n",
    "plt.xlabel('False Positive Rate')\n",
    "plt.ylabel('True Positive Rate')\n",
    "plt.title('ROC of Salmonella Outbreak Frequency')\n",
    "plt.legend(loc=\"lower right\")\n",
    "plt.savefig('/Users/evelyn/Desktop/SF.jpg')\n",
    "plt.show()"
   ]
  },
  {
   "cell_type": "markdown",
   "id": "d7ae5b61",
   "metadata": {},
   "source": [
    "## Noro"
   ]
  },
  {
   "cell_type": "code",
   "execution_count": 129,
   "id": "214e60ac",
   "metadata": {},
   "outputs": [],
   "source": [
    "fre = pd.read_csv('/Users/evelyn/Desktop/Frequency/fre.csv')\n",
    "\n",
    "\n",
    "from sklearn.datasets import make_classification\n",
    "from sklearn.model_selection import train_test_split\n",
    "from sklearn.linear_model import LogisticRegression\n",
    "import numpy as np\n",
    "from sklearn import preprocessing\n",
    "import matplotlib.pyplot as plt \n",
    "plt.rc(\"font\", size=14)\n",
    "from sklearn import metrics\n",
    "from sklearn.metrics import confusion_matrix\n",
    "from sklearn.metrics import classification_report\n",
    "from sklearn.metrics import roc_auc_score\n",
    "from sklearn.metrics import roc_curve\n",
    "from imblearn.over_sampling import SMOTE\n",
    "import seaborn as sns\n",
    "from sklearn.preprocessing import StandardScaler\n",
    "\n",
    "X = fre[['TEMP','SLP','WDSP','PRCP','RH','SLP-STP','MSXPD-WDSP']]\n",
    "y = fre['Noro']\n",
    "\n",
    "ss = StandardScaler()\n",
    "X_sc = ss.fit_transform(X)\n",
    "X = pd.DataFrame(X_sc, columns = X.columns)\n",
    "\n",
    "X_train, X_test, y_train, y_test = train_test_split(X, y, test_size=0.2, random_state=42)\n",
    "columns = X_train.columns"
   ]
  },
  {
   "cell_type": "code",
   "execution_count": 130,
   "id": "6b4051d1",
   "metadata": {},
   "outputs": [
    {
     "name": "stdout",
     "output_type": "stream",
     "text": [
      "Proportional distribution of positive and negative samples in the training set before oversampling:\n",
      "0.0    4801\n",
      "1.0     458\n",
      "Name: Noro, dtype: int64\n",
      "0.0    0.912911\n",
      "1.0    0.087089\n",
      "Name: Noro, dtype: float64\n",
      "-------------------------------------------\n",
      "Proportional distribution of positive and negative samples in the training set after oversampling:\n",
      "0.0    4801\n",
      "1.0    4801\n",
      "dtype: int64\n",
      "0.0    0.5\n",
      "1.0    0.5\n",
      "dtype: float64\n"
     ]
    }
   ],
   "source": [
    "print('Proportional distribution of positive and negative samples in the training set before oversampling:')\n",
    "print(y_train.value_counts())\n",
    "print(y_train.value_counts()/len(y_train))\n",
    "os = SMOTE(random_state=0)\n",
    "os_data_X,os_data_y=os.fit_resample(X_train, y_train.values.ravel())\n",
    "os_data_X = pd.DataFrame(data=os_data_X,columns=columns )\n",
    "os_data_y= pd.DataFrame(data=os_data_y)\n",
    "print('-------------------------------------------')\n",
    "print('Proportional distribution of positive and negative samples in the training set after oversampling:')\n",
    "print(os_data_y.value_counts())\n",
    "print(os_data_y.value_counts()/len(os_data_y))\n"
   ]
  },
  {
   "cell_type": "code",
   "execution_count": 131,
   "id": "4e5e9cee",
   "metadata": {},
   "outputs": [
    {
     "name": "stderr",
     "output_type": "stream",
     "text": [
      "/Users/evelyn/opt/anaconda3/lib/python3.9/site-packages/sklearn/utils/validation.py:993: DataConversionWarning: A column-vector y was passed when a 1d array was expected. Please change the shape of y to (n_samples, ), for example using ravel().\n",
      "  y = column_or_1d(y, warn=True)\n"
     ]
    },
    {
     "data": {
      "text/plain": [
       "LogisticRegression()"
      ]
     },
     "execution_count": 131,
     "metadata": {},
     "output_type": "execute_result"
    }
   ],
   "source": [
    "X=os_data_X[['TEMP','SLP','WDSP','PRCP','RH','SLP-STP','MSXPD-WDSP']]\n",
    "y=os_data_y\n",
    "\n",
    "ss = StandardScaler()\n",
    "X_sc = ss.fit_transform(X)\n",
    "X = pd.DataFrame(X_sc, columns = X.columns)\n",
    "\n",
    "\n",
    "X_train, X_test, y_train, y_test = train_test_split(X, y, test_size=0.3, random_state=0)\n",
    "logreg = LogisticRegression()\n",
    "logreg.fit(X_train, y_train)"
   ]
  },
  {
   "cell_type": "code",
   "execution_count": 132,
   "id": "4dfe0714",
   "metadata": {},
   "outputs": [
    {
     "name": "stdout",
     "output_type": "stream",
     "text": [
      "Optimization terminated successfully.\n",
      "         Current function value: 0.652185\n",
      "         Iterations 5\n",
      "                          Results: Logit\n",
      "==================================================================\n",
      "Model:              Logit            Pseudo R-squared: 0.059      \n",
      "Dependent Variable: 0.0000           AIC:              12540.5643 \n",
      "Date:               2024-02-06 13:34 BIC:              12597.9221 \n",
      "No. Observations:   9602             Log-Likelihood:   -6262.3    \n",
      "Df Model:           7                LL-Null:          -6655.6    \n",
      "Df Residuals:       9594             LLR p-value:      1.4210e-165\n",
      "Converged:          1.0000           Scale:            1.0000     \n",
      "No. Iterations:     5.0000                                        \n",
      "-------------------------------------------------------------------\n",
      "               Coef.   Std.Err.     z      P>|z|    [0.025   0.975]\n",
      "-------------------------------------------------------------------\n",
      "const         -0.0020    0.0213   -0.0953  0.9241  -0.0438   0.0397\n",
      "TEMP          -0.0824    0.0295   -2.7938  0.0052  -0.1403  -0.0246\n",
      "SLP            0.1032    0.0278    3.7099  0.0002   0.0487   0.1578\n",
      "WDSP          -0.2341    0.0288   -8.1347  0.0000  -0.2905  -0.1777\n",
      "PRCP           0.1785    0.0263    6.7838  0.0000   0.1269   0.2301\n",
      "RH            -0.1059    0.0287   -3.6920  0.0002  -0.1621  -0.0497\n",
      "SLP-STP       -0.5992    0.0281  -21.3054  0.0000  -0.6544  -0.5441\n",
      "MSXPD-WDSP     0.0473    0.0243    1.9425  0.0521  -0.0004   0.0950\n",
      "==================================================================\n",
      "\n"
     ]
    }
   ],
   "source": [
    "X=os_data_X[['TEMP','SLP','WDSP','PRCP','RH','SLP-STP','MSXPD-WDSP']]\n",
    "y=os_data_y\n",
    "\n",
    "ss = StandardScaler()\n",
    "X_sc = ss.fit_transform(X)\n",
    "X = pd.DataFrame(X_sc, columns = X.columns)\n",
    "\n",
    "\n",
    "X2 = sm.add_constant(X)\n",
    "import statsmodels.api as sm\n",
    "logit_model=sm.Logit(y,X2)\n",
    "result=logit_model.fit()\n",
    "print(result.summary2())"
   ]
  },
  {
   "cell_type": "code",
   "execution_count": 133,
   "id": "3ad1cd03",
   "metadata": {},
   "outputs": [
    {
     "name": "stdout",
     "output_type": "stream",
     "text": [
      "Accuracy: 0.62\n"
     ]
    }
   ],
   "source": [
    "y_pred = logreg.predict(X_test)\n",
    "print('Accuracy: {:.2f}'.format(logreg.score(X_test, y_test)))"
   ]
  },
  {
   "cell_type": "code",
   "execution_count": 134,
   "id": "2f051212",
   "metadata": {},
   "outputs": [
    {
     "data": {
      "text/plain": [
       "<AxesSubplot:>"
      ]
     },
     "execution_count": 134,
     "metadata": {},
     "output_type": "execute_result"
    },
    {
     "data": {
      "image/png": "[encoded data removed]",
      "text/plain": [
       "<Figure size 432x288 with 2 Axes>"
      ]
     },
     "metadata": {
      "needs_background": "light"
     },
     "output_type": "display_data"
    }
   ],
   "source": [
    "confusion_matrix = confusion_matrix(y_test, y_pred)\n",
    "sns.heatmap(confusion_matrix, annot=True, fmt='d')"
   ]
  },
  {
   "cell_type": "code",
   "execution_count": 135,
   "id": "e9406dbc",
   "metadata": {},
   "outputs": [
    {
     "name": "stdout",
     "output_type": "stream",
     "text": [
      "              precision    recall  f1-score   support\n",
      "\n",
      "         0.0       0.63      0.59      0.61      1442\n",
      "         1.0       0.61      0.66      0.64      1439\n",
      "\n",
      "    accuracy                           0.62      2881\n",
      "   macro avg       0.62      0.62      0.62      2881\n",
      "weighted avg       0.62      0.62      0.62      2881\n",
      "\n"
     ]
    }
   ],
   "source": [
    "print(classification_report(y_test, y_pred))\n"
   ]
  },
  {
   "cell_type": "code",
   "execution_count": 149,
   "id": "67a71fd0",
   "metadata": {},
   "outputs": [
    {
     "data": {
      "image/png": "[encoded data removed]",
      "text/plain": [
       "<Figure size 432x288 with 1 Axes>"
      ]
     },
     "metadata": {
      "needs_background": "light"
     },
     "output_type": "display_data"
    }
   ],
   "source": [
    "logit_roc_auc = roc_auc_score(y_test, logreg.predict(X_test))\n",
    "fpr, tpr, thresholds = roc_curve(y_test, logreg.predict_proba(X_test)[:,1])\n",
    "plt.figure()\n",
    "plt.plot(fpr, tpr, label='Logistic Regression (area = %0.2f)' % logit_roc_auc)\n",
    "plt.plot([0, 1], [0, 1],'r--')\n",
    "plt.xlim([0.0, 1.0])\n",
    "plt.ylim([0.0, 1.05])\n",
    "plt.xlabel('False Positive Rate')\n",
    "plt.ylabel('True Positive Rate')\n",
    "plt.title('ROC of Norovirus Outbreak Frequency')\n",
    "plt.legend(loc=\"lower right\")\n",
    "plt.savefig('/Users/evelyn/Desktop/NF.jpg')\n",
    "\n",
    "plt.show()"
   ]
  },
  {
   "cell_type": "code",
   "execution_count": 147,
   "id": "9c880e7e",
   "metadata": {},
   "outputs": [
    {
     "data": {
      "text/plain": [
       "0.6223905297156004"
      ]
     },
     "execution_count": 147,
     "metadata": {},
     "output_type": "execute_result"
    }
   ],
   "source": [
    "logit_roc_auc"
   ]
  },
  {
   "cell_type": "code",
   "execution_count": 9,
   "id": "7b6bbf74",
   "metadata": {},
   "outputs": [
    {
     "data": {
      "text/plain": [
       "-9.210340371976182"
      ]
     },
     "execution_count": 9,
     "metadata": {},
     "output_type": "execute_result"
    }
   ],
   "source": [
    "np.log(0.0001)"
   ]
  },
  {
   "cell_type": "code",
   "execution_count": null,
   "id": "e9b7e3d5",
   "metadata": {},
   "outputs": [],
   "source": []
  }
 ],
 "metadata": {
  "kernelspec": {
   "display_name": "Python 3 (ipykernel)",
   "language": "python",
   "name": "python3"
  },
  "language_info": {
   "codemirror_mode": {
    "name": "ipython",
    "version": 3
   },
   "file_extension": ".py",
   "mimetype": "text/x-python",
   "name": "python",
   "nbconvert_exporter": "python",
   "pygments_lexer": "ipython3",
   "version": "3.9.12"
  }
 },
 "nbformat": 4,
 "nbformat_minor": 5
}
