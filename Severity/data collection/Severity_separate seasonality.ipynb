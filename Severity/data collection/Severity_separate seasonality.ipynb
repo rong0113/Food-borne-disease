{
 "cells": [
  {
   "cell_type": "code",
   "execution_count": 1,
   "id": "f729e88a",
   "metadata": {},
   "outputs": [],
   "source": [
    "import pandas as pd\n",
    "salm = pd.read_csv('/Users/evelyn/Desktop/Cubic spline/salm_nooutliers.csv')\n",
    "noro = pd.read_csv('/Users/evelyn/Desktop/Cubic spline/noro_nooutliers.csv')"
   ]
  },
  {
   "cell_type": "code",
   "execution_count": 4,
   "id": "20e04f57",
   "metadata": {},
   "outputs": [],
   "source": [
    "#seperate data into four seasons\n",
    "import datetime\n",
    "\n",
    "salm_spr = salm\n",
    "salm_sum = salm\n",
    "salm_aut = salm\n",
    "salm_win = salm\n",
    "for i in range(len(salm)):\n",
    "    startdate = datetime.datetime.strptime(salm.loc[i, \"InitialExposure\"], \"%Y-%m-%d\")\n",
    "    enddate = datetime.datetime.strptime(salm.loc[i, \"LastExposure\"], \"%Y-%m-%d\")\n",
    "    \n",
    "    #Spring\n",
    "    if not((3 <= startdate.month <= 5)):\n",
    "        salm_spr = salm_spr.drop(index = [i])\n",
    "\n",
    "    #Summer\n",
    "    if not((6 <= startdate.month <= 8)):\n",
    "        salm_sum = salm_sum.drop(index = [i])\n",
    "\n",
    "    #Autumn\n",
    "    if not((9 <= startdate.month <= 11)):\n",
    "        salm_aut = salm_aut.drop(index = [i])\n",
    "\n",
    "    #Winter\n",
    "    if not((12 <= startdate.month or startdate.month <= 2)):\n",
    "        salm_win = salm_win.drop(index = [i])\n",
    "\n",
    "    \n",
    "    "
   ]
  },
  {
   "cell_type": "code",
   "execution_count": 10,
   "id": "99c35a30",
   "metadata": {},
   "outputs": [],
   "source": [
    "salm_spr.reset_index(drop = True, inplace = True)\n",
    "salm_spr.to_csv('/Users/evelyn/Desktop/Seasonality/salm_spring.csv')\n",
    "salm_sum.reset_index(drop = True, inplace = True)\n",
    "salm_sum.to_csv('/Users/evelyn/Desktop/Seasonality/salm_summer.csv')\n",
    "salm_aut.reset_index(drop = True, inplace = True)\n",
    "salm_aut.to_csv('/Users/evelyn/Desktop/Seasonality/salm_autumn.csv')\n",
    "salm_win.reset_index(drop = True, inplace = True)\n",
    "salm_win.to_csv('/Users/evelyn/Desktop/Seasonality/salm_winter.csv')"
   ]
  },
  {
   "cell_type": "code",
   "execution_count": 12,
   "id": "889c2942",
   "metadata": {},
   "outputs": [],
   "source": [
    "#seperate data into four seasons\n",
    "noro_spr = noro\n",
    "noro_sum = noro\n",
    "noro_aut = noro\n",
    "noro_win = noro\n",
    "for i in range(len(noro)):\n",
    "    startdate = datetime.datetime.strptime(noro.loc[i, \"InitialExposure\"], \"%Y-%m-%d\")\n",
    "    \n",
    "    #Spring\n",
    "    if not((3 <= startdate.month <= 5)):\n",
    "        noro_spr = noro_spr.drop(index = [i])\n",
    "\n",
    "    #Summer\n",
    "    if not((6 <= startdate.month <= 8)):\n",
    "        noro_sum = noro_sum.drop(index = [i])\n",
    "\n",
    "    #Autumn\n",
    "    if not((9 <= startdate.month <= 11)):\n",
    "        noro_aut = noro_aut.drop(index = [i])\n",
    "\n",
    "    #Winter\n",
    "    if not((12 <= startdate.month or startdate.month <= 2)):\n",
    "        noro_win = noro_win.drop(index = [i])\n",
    "\n",
    "    \n",
    "    "
   ]
  },
  {
   "cell_type": "code",
   "execution_count": 13,
   "id": "22c1576a",
   "metadata": {},
   "outputs": [],
   "source": [
    "noro_spr.reset_index(drop = True, inplace = True)\n",
    "noro_spr.to_csv('/Users/evelyn/Desktop/Seasonality/noro_spring.csv')\n",
    "noro_sum.reset_index(drop = True, inplace = True)\n",
    "noro_sum.to_csv('/Users/evelyn/Desktop/Seasonality/noro_summer.csv')\n",
    "noro_aut.reset_index(drop = True, inplace = True)\n",
    "noro_aut.to_csv('/Users/evelyn/Desktop/Seasonality/noro_autumn.csv')\n",
    "noro_win.reset_index(drop = True, inplace = True)\n",
    "noro_win.to_csv('/Users/evelyn/Desktop/Seasonality/noro_winter.csv')"
   ]
  },
  {
   "cell_type": "code",
   "execution_count": null,
   "id": "4f9eeadf",
   "metadata": {},
   "outputs": [],
   "source": []
  }
 ],
 "metadata": {
  "kernelspec": {
   "display_name": "Python 3 (ipykernel)",
   "language": "python",
   "name": "python3"
  },
  "language_info": {
   "codemirror_mode": {
    "name": "ipython",
    "version": 3
   },
   "file_extension": ".py",
   "mimetype": "text/x-python",
   "name": "python",
   "nbconvert_exporter": "python",
   "pygments_lexer": "ipython3",
   "version": "3.9.12"
  }
 },
 "nbformat": 4,
 "nbformat_minor": 5
}
