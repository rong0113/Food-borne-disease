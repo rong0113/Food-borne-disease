{
 "cells": [
  {
   "cell_type": "code",
   "execution_count": 1,
   "id": "d3a58969",
   "metadata": {},
   "outputs": [],
   "source": [
    "# caculate the weather data of each outbreak"
   ]
  },
  {
   "cell_type": "code",
   "execution_count": 176,
   "id": "131892bf",
   "metadata": {},
   "outputs": [],
   "source": [
    "import pandas as pd\n",
    "import numpy as np\n",
    "import datetime"
   ]
  },
  {
   "cell_type": "code",
   "execution_count": 222,
   "id": "7e2e8f03",
   "metadata": {},
   "outputs": [],
   "source": [
    "salm_station = pd.read_csv('/Users/evelyn/Desktop/weather information/salm_station.csv')"
   ]
  },
  {
   "cell_type": "code",
   "execution_count": 291,
   "id": "7a6a11ef",
   "metadata": {},
   "outputs": [],
   "source": [
    "salm = pd.read_excel('/Users/evelyn/Desktop/project/Cleaned data - Salmonella and norovirus.xlsx', sheet_name = 'Salmonella')"
   ]
  },
  {
   "cell_type": "code",
   "execution_count": 223,
   "id": "7a8c5974",
   "metadata": {},
   "outputs": [],
   "source": [
    "salm_station = salm_station.dropna(subset = ['USAF'])\n",
    "salm_station = salm_station.reset_index(drop = True)"
   ]
  },
  {
   "cell_type": "code",
   "execution_count": 224,
   "id": "ef190df0",
   "metadata": {},
   "outputs": [],
   "source": [
    "salm_station[\"WBAN\"] = pd.to_numeric(salm_station[\"WBAN\"], errors='coerce').fillna('0').astype('int32')\n",
    "for a in range(len(salm_station)):\n",
    "    wban_unmodified = salm_station.loc[a, \"WBAN\"]\n",
    "    if 0 < wban_unmodified < 10000: \n",
    "        salm_station.loc[a, \"WBAN\"] = str(wban_unmodified).zfill(5)\n"
   ]
  },
  {
   "cell_type": "code",
   "execution_count": 304,
   "id": "0ec981eb",
   "metadata": {},
   "outputs": [],
   "source": [
    "salm_null = pd.read_csv('/Users/evelyn/Desktop/weather information/salm_interpolated stations.csv')"
   ]
  },
  {
   "cell_type": "code",
   "execution_count": 310,
   "id": "b94366ea",
   "metadata": {},
   "outputs": [],
   "source": [
    "for z in range(len(salm_null)):\n",
    "    salm_null.loc[z, \"USAF0\"] = str(salm_null.loc[z, \"USAF0\"])\n",
    "    salm_null.loc[z, \"WBAN0\"] = str(int(salm_null.loc[z, \"WBAN0\"]))\n",
    "\n",
    "    if not(pd.isna(salm_null.loc[z, \"USAF1\"])):\n",
    "        salm_null.loc[z, \"USAF1\"] = str(salm_null.loc[z, \"USAF1\"])\n",
    "        salm_null.loc[z, \"WBAN1\"] = str(int(salm_null.loc[z, \"WBAN1\"]))\n",
    "        \n",
    "    if not(pd.isna(salm_null.loc[z, \"USAF2\"])):\n",
    "        salm_null.loc[z, \"USAF2\"] = str(salm_null.loc[z, \"USAF2\"])\n",
    "        salm_null.loc[z, \"WBAN2\"] = str(int(salm_null.loc[z, \"WBAN2\"]))"
   ]
  },
  {
   "cell_type": "code",
   "execution_count": 294,
   "id": "5f89665a",
   "metadata": {},
   "outputs": [
    {
     "name": "stdout",
     "output_type": "stream",
     "text": [
      "0.0000%\n",
      "0.1063%\n",
      "0.2125%\n",
      "0.3188%\n",
      "0.4251%\n",
      "0.5313%\n",
      "0.6376%\n",
      "0.7439%\n",
      "0.8502%\n",
      "0.9564%\n",
      "1.0627%\n",
      "1.1690%\n",
      "1.2752%\n"
     ]
    },
    {
     "name": "stderr",
     "output_type": "stream",
     "text": [
      "/Users/evelyn/opt/anaconda3/lib/python3.9/site-packages/numpy/core/fromnumeric.py:3440: RuntimeWarning: Mean of empty slice.\n",
      "  return _methods._mean(a, axis=axis, dtype=dtype,\n",
      "/Users/evelyn/opt/anaconda3/lib/python3.9/site-packages/numpy/core/_methods.py:189: RuntimeWarning: invalid value encountered in double_scalars\n",
      "  ret = ret.dtype.type(ret / rcount)\n"
     ]
    },
    {
     "name": "stdout",
     "output_type": "stream",
     "text": [
      "1.3815%\n",
      "1.4878%\n",
      "1.5940%\n",
      "1.7003%\n",
      "1.8066%\n",
      "1.9129%\n",
      "2.0191%\n",
      "2.1254%\n",
      "2.2317%\n",
      "2.3379%\n",
      "2.4442%\n",
      "2.5505%\n",
      "2.6567%\n",
      "2.7630%\n",
      "2.8693%\n"
     ]
    },
    {
     "name": "stderr",
     "output_type": "stream",
     "text": [
      "/Users/evelyn/opt/anaconda3/lib/python3.9/site-packages/numpy/core/fromnumeric.py:3440: RuntimeWarning: Mean of empty slice.\n",
      "  return _methods._mean(a, axis=axis, dtype=dtype,\n",
      "/Users/evelyn/opt/anaconda3/lib/python3.9/site-packages/numpy/core/_methods.py:189: RuntimeWarning: invalid value encountered in double_scalars\n",
      "  ret = ret.dtype.type(ret / rcount)\n"
     ]
    },
    {
     "name": "stdout",
     "output_type": "stream",
     "text": [
      "2.9756%\n",
      "3.0818%\n",
      "3.1881%\n",
      "3.2944%\n",
      "3.4006%\n",
      "3.5069%\n",
      "3.6132%\n",
      "3.7194%\n"
     ]
    },
    {
     "name": "stderr",
     "output_type": "stream",
     "text": [
      "/Users/evelyn/opt/anaconda3/lib/python3.9/site-packages/numpy/core/fromnumeric.py:3440: RuntimeWarning: Mean of empty slice.\n",
      "  return _methods._mean(a, axis=axis, dtype=dtype,\n",
      "/Users/evelyn/opt/anaconda3/lib/python3.9/site-packages/numpy/core/_methods.py:189: RuntimeWarning: invalid value encountered in double_scalars\n",
      "  ret = ret.dtype.type(ret / rcount)\n",
      "/Users/evelyn/opt/anaconda3/lib/python3.9/site-packages/numpy/core/fromnumeric.py:3440: RuntimeWarning: Mean of empty slice.\n",
      "  return _methods._mean(a, axis=axis, dtype=dtype,\n",
      "/Users/evelyn/opt/anaconda3/lib/python3.9/site-packages/numpy/core/_methods.py:189: RuntimeWarning: invalid value encountered in double_scalars\n",
      "  ret = ret.dtype.type(ret / rcount)\n"
     ]
    },
    {
     "name": "stdout",
     "output_type": "stream",
     "text": [
      "3.8257%\n",
      "3.9320%\n",
      "4.0383%\n",
      "4.1445%\n",
      "4.2508%\n",
      "4.3571%\n",
      "4.4633%\n",
      "4.5696%\n",
      "4.6759%\n",
      "4.7821%\n"
     ]
    },
    {
     "name": "stderr",
     "output_type": "stream",
     "text": [
      "/Users/evelyn/opt/anaconda3/lib/python3.9/site-packages/numpy/core/fromnumeric.py:3440: RuntimeWarning: Mean of empty slice.\n",
      "  return _methods._mean(a, axis=axis, dtype=dtype,\n",
      "/Users/evelyn/opt/anaconda3/lib/python3.9/site-packages/numpy/core/_methods.py:189: RuntimeWarning: invalid value encountered in double_scalars\n",
      "  ret = ret.dtype.type(ret / rcount)\n"
     ]
    },
    {
     "name": "stdout",
     "output_type": "stream",
     "text": [
      "4.8884%\n",
      "4.9947%\n",
      "5.1010%\n",
      "5.2072%\n",
      "5.3135%\n",
      "5.4198%\n",
      "5.5260%\n"
     ]
    },
    {
     "name": "stderr",
     "output_type": "stream",
     "text": [
      "/Users/evelyn/opt/anaconda3/lib/python3.9/site-packages/numpy/core/fromnumeric.py:3440: RuntimeWarning: Mean of empty slice.\n",
      "  return _methods._mean(a, axis=axis, dtype=dtype,\n",
      "/Users/evelyn/opt/anaconda3/lib/python3.9/site-packages/numpy/core/_methods.py:189: RuntimeWarning: invalid value encountered in double_scalars\n",
      "  ret = ret.dtype.type(ret / rcount)\n"
     ]
    },
    {
     "name": "stdout",
     "output_type": "stream",
     "text": [
      "5.6323%\n",
      "5.7386%\n",
      "5.8448%\n",
      "5.9511%\n",
      "6.0574%\n",
      "6.1637%\n",
      "6.2699%\n",
      "6.3762%\n",
      "6.4825%\n"
     ]
    },
    {
     "name": "stderr",
     "output_type": "stream",
     "text": [
      "/Users/evelyn/opt/anaconda3/lib/python3.9/site-packages/numpy/core/fromnumeric.py:3440: RuntimeWarning: Mean of empty slice.\n",
      "  return _methods._mean(a, axis=axis, dtype=dtype,\n",
      "/Users/evelyn/opt/anaconda3/lib/python3.9/site-packages/numpy/core/_methods.py:189: RuntimeWarning: invalid value encountered in double_scalars\n",
      "  ret = ret.dtype.type(ret / rcount)\n"
     ]
    },
    {
     "name": "stdout",
     "output_type": "stream",
     "text": [
      "6.5887%\n",
      "6.6950%\n",
      "6.8013%\n",
      "6.9075%\n",
      "7.0138%\n",
      "7.1201%\n",
      "7.2264%\n",
      "7.3326%\n",
      "7.4389%\n",
      "7.5452%\n"
     ]
    },
    {
     "name": "stderr",
     "output_type": "stream",
     "text": [
      "/Users/evelyn/opt/anaconda3/lib/python3.9/site-packages/numpy/core/fromnumeric.py:3440: RuntimeWarning: Mean of empty slice.\n",
      "  return _methods._mean(a, axis=axis, dtype=dtype,\n",
      "/Users/evelyn/opt/anaconda3/lib/python3.9/site-packages/numpy/core/_methods.py:189: RuntimeWarning: invalid value encountered in double_scalars\n",
      "  ret = ret.dtype.type(ret / rcount)\n"
     ]
    },
    {
     "name": "stdout",
     "output_type": "stream",
     "text": [
      "7.6514%\n",
      "7.7577%\n",
      "7.8640%\n",
      "7.9702%\n",
      "8.0765%\n",
      "8.1828%\n",
      "8.2891%\n",
      "8.3953%\n",
      "8.5016%\n",
      "8.6079%\n",
      "8.7141%\n",
      "8.8204%\n"
     ]
    },
    {
     "name": "stderr",
     "output_type": "stream",
     "text": [
      "/Users/evelyn/opt/anaconda3/lib/python3.9/site-packages/numpy/core/fromnumeric.py:3440: RuntimeWarning: Mean of empty slice.\n",
      "  return _methods._mean(a, axis=axis, dtype=dtype,\n",
      "/Users/evelyn/opt/anaconda3/lib/python3.9/site-packages/numpy/core/_methods.py:189: RuntimeWarning: invalid value encountered in double_scalars\n",
      "  ret = ret.dtype.type(ret / rcount)\n"
     ]
    },
    {
     "name": "stdout",
     "output_type": "stream",
     "text": [
      "8.9267%\n",
      "9.0329%\n",
      "9.1392%\n",
      "9.2455%\n",
      "9.3518%\n",
      "9.4580%\n"
     ]
    },
    {
     "name": "stderr",
     "output_type": "stream",
     "text": [
      "/Users/evelyn/opt/anaconda3/lib/python3.9/site-packages/numpy/core/fromnumeric.py:3440: RuntimeWarning: Mean of empty slice.\n",
      "  return _methods._mean(a, axis=axis, dtype=dtype,\n",
      "/Users/evelyn/opt/anaconda3/lib/python3.9/site-packages/numpy/core/_methods.py:189: RuntimeWarning: invalid value encountered in double_scalars\n",
      "  ret = ret.dtype.type(ret / rcount)\n"
     ]
    },
    {
     "name": "stdout",
     "output_type": "stream",
     "text": [
      "9.5643%\n",
      "9.6706%\n",
      "9.7768%\n"
     ]
    },
    {
     "name": "stderr",
     "output_type": "stream",
     "text": [
      "/Users/evelyn/opt/anaconda3/lib/python3.9/site-packages/numpy/core/fromnumeric.py:3440: RuntimeWarning: Mean of empty slice.\n",
      "  return _methods._mean(a, axis=axis, dtype=dtype,\n",
      "/Users/evelyn/opt/anaconda3/lib/python3.9/site-packages/numpy/core/_methods.py:189: RuntimeWarning: invalid value encountered in double_scalars\n",
      "  ret = ret.dtype.type(ret / rcount)\n"
     ]
    },
    {
     "name": "stdout",
     "output_type": "stream",
     "text": [
      "9.8831%\n",
      "9.9894%\n",
      "10.0956%\n",
      "10.2019%\n",
      "10.3082%\n",
      "10.4145%\n",
      "10.5207%\n",
      "10.6270%\n"
     ]
    },
    {
     "name": "stderr",
     "output_type": "stream",
     "text": [
      "/Users/evelyn/opt/anaconda3/lib/python3.9/site-packages/numpy/core/fromnumeric.py:3440: RuntimeWarning: Mean of empty slice.\n",
      "  return _methods._mean(a, axis=axis, dtype=dtype,\n",
      "/Users/evelyn/opt/anaconda3/lib/python3.9/site-packages/numpy/core/_methods.py:189: RuntimeWarning: invalid value encountered in double_scalars\n",
      "  ret = ret.dtype.type(ret / rcount)\n"
     ]
    },
    {
     "name": "stdout",
     "output_type": "stream",
     "text": [
      "10.7333%\n",
      "10.8395%\n",
      "10.9458%\n",
      "11.0521%\n",
      "11.1583%\n",
      "11.2646%\n",
      "11.3709%\n",
      "11.4772%\n",
      "11.5834%\n",
      "11.6897%\n",
      "11.7960%\n",
      "11.9022%\n",
      "12.0085%\n"
     ]
    },
    {
     "name": "stderr",
     "output_type": "stream",
     "text": [
      "/Users/evelyn/opt/anaconda3/lib/python3.9/site-packages/numpy/core/fromnumeric.py:3440: RuntimeWarning: Mean of empty slice.\n",
      "  return _methods._mean(a, axis=axis, dtype=dtype,\n",
      "/Users/evelyn/opt/anaconda3/lib/python3.9/site-packages/numpy/core/_methods.py:189: RuntimeWarning: invalid value encountered in double_scalars\n",
      "  ret = ret.dtype.type(ret / rcount)\n",
      "/Users/evelyn/opt/anaconda3/lib/python3.9/site-packages/numpy/core/fromnumeric.py:3440: RuntimeWarning: Mean of empty slice.\n",
      "  return _methods._mean(a, axis=axis, dtype=dtype,\n",
      "/Users/evelyn/opt/anaconda3/lib/python3.9/site-packages/numpy/core/_methods.py:189: RuntimeWarning: invalid value encountered in double_scalars\n",
      "  ret = ret.dtype.type(ret / rcount)\n"
     ]
    },
    {
     "name": "stdout",
     "output_type": "stream",
     "text": [
      "12.1148%\n",
      "12.2210%\n",
      "12.3273%\n",
      "12.4336%\n"
     ]
    },
    {
     "name": "stderr",
     "output_type": "stream",
     "text": [
      "/Users/evelyn/opt/anaconda3/lib/python3.9/site-packages/numpy/core/fromnumeric.py:3440: RuntimeWarning: Mean of empty slice.\n",
      "  return _methods._mean(a, axis=axis, dtype=dtype,\n",
      "/Users/evelyn/opt/anaconda3/lib/python3.9/site-packages/numpy/core/_methods.py:189: RuntimeWarning: invalid value encountered in double_scalars\n",
      "  ret = ret.dtype.type(ret / rcount)\n",
      "/Users/evelyn/opt/anaconda3/lib/python3.9/site-packages/numpy/core/fromnumeric.py:3440: RuntimeWarning: Mean of empty slice.\n",
      "  return _methods._mean(a, axis=axis, dtype=dtype,\n",
      "/Users/evelyn/opt/anaconda3/lib/python3.9/site-packages/numpy/core/_methods.py:189: RuntimeWarning: invalid value encountered in double_scalars\n",
      "  ret = ret.dtype.type(ret / rcount)\n"
     ]
    },
    {
     "name": "stdout",
     "output_type": "stream",
     "text": [
      "12.5399%\n",
      "12.6461%\n",
      "12.7524%\n",
      "12.8587%\n",
      "12.9649%\n",
      "13.0712%\n",
      "13.1775%\n"
     ]
    },
    {
     "name": "stderr",
     "output_type": "stream",
     "text": [
      "/Users/evelyn/opt/anaconda3/lib/python3.9/site-packages/numpy/core/fromnumeric.py:3440: RuntimeWarning: Mean of empty slice.\n",
      "  return _methods._mean(a, axis=axis, dtype=dtype,\n",
      "/Users/evelyn/opt/anaconda3/lib/python3.9/site-packages/numpy/core/_methods.py:189: RuntimeWarning: invalid value encountered in double_scalars\n",
      "  ret = ret.dtype.type(ret / rcount)\n",
      "/Users/evelyn/opt/anaconda3/lib/python3.9/site-packages/numpy/core/fromnumeric.py:3440: RuntimeWarning: Mean of empty slice.\n",
      "  return _methods._mean(a, axis=axis, dtype=dtype,\n",
      "/Users/evelyn/opt/anaconda3/lib/python3.9/site-packages/numpy/core/_methods.py:189: RuntimeWarning: invalid value encountered in double_scalars\n",
      "  ret = ret.dtype.type(ret / rcount)\n",
      "/Users/evelyn/opt/anaconda3/lib/python3.9/site-packages/numpy/core/fromnumeric.py:3440: RuntimeWarning: Mean of empty slice.\n",
      "  return _methods._mean(a, axis=axis, dtype=dtype,\n",
      "/Users/evelyn/opt/anaconda3/lib/python3.9/site-packages/numpy/core/_methods.py:189: RuntimeWarning: invalid value encountered in double_scalars\n",
      "  ret = ret.dtype.type(ret / rcount)\n"
     ]
    },
    {
     "name": "stdout",
     "output_type": "stream",
     "text": [
      "13.2837%\n",
      "13.3900%\n",
      "13.4963%\n",
      "13.6026%\n",
      "13.7088%\n",
      "13.8151%\n"
     ]
    },
    {
     "name": "stderr",
     "output_type": "stream",
     "text": [
      "/Users/evelyn/opt/anaconda3/lib/python3.9/site-packages/numpy/core/fromnumeric.py:3440: RuntimeWarning: Mean of empty slice.\n",
      "  return _methods._mean(a, axis=axis, dtype=dtype,\n",
      "/Users/evelyn/opt/anaconda3/lib/python3.9/site-packages/numpy/core/_methods.py:189: RuntimeWarning: invalid value encountered in double_scalars\n",
      "  ret = ret.dtype.type(ret / rcount)\n",
      "/Users/evelyn/opt/anaconda3/lib/python3.9/site-packages/numpy/core/fromnumeric.py:3440: RuntimeWarning: Mean of empty slice.\n",
      "  return _methods._mean(a, axis=axis, dtype=dtype,\n",
      "/Users/evelyn/opt/anaconda3/lib/python3.9/site-packages/numpy/core/_methods.py:189: RuntimeWarning: invalid value encountered in double_scalars\n",
      "  ret = ret.dtype.type(ret / rcount)\n"
     ]
    },
    {
     "name": "stdout",
     "output_type": "stream",
     "text": [
      "13.9214%\n",
      "14.0276%\n",
      "14.1339%\n",
      "14.2402%\n",
      "14.3464%\n",
      "14.4527%\n",
      "14.5590%\n",
      "14.6652%\n",
      "14.7715%\n",
      "14.8778%\n"
     ]
    },
    {
     "name": "stderr",
     "output_type": "stream",
     "text": [
      "/Users/evelyn/opt/anaconda3/lib/python3.9/site-packages/numpy/core/fromnumeric.py:3440: RuntimeWarning: Mean of empty slice.\n",
      "  return _methods._mean(a, axis=axis, dtype=dtype,\n",
      "/Users/evelyn/opt/anaconda3/lib/python3.9/site-packages/numpy/core/_methods.py:189: RuntimeWarning: invalid value encountered in double_scalars\n",
      "  ret = ret.dtype.type(ret / rcount)\n"
     ]
    },
    {
     "name": "stdout",
     "output_type": "stream",
     "text": [
      "14.9841%\n",
      "15.0903%\n"
     ]
    },
    {
     "name": "stderr",
     "output_type": "stream",
     "text": [
      "/Users/evelyn/opt/anaconda3/lib/python3.9/site-packages/numpy/core/fromnumeric.py:3440: RuntimeWarning: Mean of empty slice.\n",
      "  return _methods._mean(a, axis=axis, dtype=dtype,\n",
      "/Users/evelyn/opt/anaconda3/lib/python3.9/site-packages/numpy/core/_methods.py:189: RuntimeWarning: invalid value encountered in double_scalars\n",
      "  ret = ret.dtype.type(ret / rcount)\n"
     ]
    },
    {
     "name": "stdout",
     "output_type": "stream",
     "text": [
      "15.1966%\n",
      "15.3029%\n",
      "15.4091%\n",
      "15.5154%\n",
      "15.6217%\n",
      "15.7279%\n",
      "15.8342%\n",
      "15.9405%\n",
      "16.0468%\n",
      "16.1530%\n",
      "16.2593%\n",
      "16.3656%\n",
      "16.4718%\n",
      "16.5781%\n",
      "16.6844%\n",
      "16.7906%\n",
      "16.8969%\n",
      "17.0032%\n",
      "17.1095%\n",
      "17.2157%\n",
      "17.3220%\n",
      "17.4283%\n",
      "17.5345%\n",
      "17.6408%\n",
      "17.7471%\n",
      "17.8533%\n",
      "17.9596%\n"
     ]
    },
    {
     "name": "stderr",
     "output_type": "stream",
     "text": [
      "/Users/evelyn/opt/anaconda3/lib/python3.9/site-packages/numpy/core/fromnumeric.py:3440: RuntimeWarning: Mean of empty slice.\n",
      "  return _methods._mean(a, axis=axis, dtype=dtype,\n",
      "/Users/evelyn/opt/anaconda3/lib/python3.9/site-packages/numpy/core/_methods.py:189: RuntimeWarning: invalid value encountered in double_scalars\n",
      "  ret = ret.dtype.type(ret / rcount)\n"
     ]
    },
    {
     "name": "stdout",
     "output_type": "stream",
     "text": [
      "18.0659%\n",
      "18.1722%\n",
      "18.2784%\n",
      "18.3847%\n",
      "18.4910%\n"
     ]
    },
    {
     "name": "stderr",
     "output_type": "stream",
     "text": [
      "/Users/evelyn/opt/anaconda3/lib/python3.9/site-packages/numpy/core/fromnumeric.py:3440: RuntimeWarning: Mean of empty slice.\n",
      "  return _methods._mean(a, axis=axis, dtype=dtype,\n",
      "/Users/evelyn/opt/anaconda3/lib/python3.9/site-packages/numpy/core/_methods.py:189: RuntimeWarning: invalid value encountered in double_scalars\n",
      "  ret = ret.dtype.type(ret / rcount)\n"
     ]
    },
    {
     "name": "stdout",
     "output_type": "stream",
     "text": [
      "18.5972%\n",
      "18.7035%\n"
     ]
    },
    {
     "name": "stderr",
     "output_type": "stream",
     "text": [
      "/Users/evelyn/opt/anaconda3/lib/python3.9/site-packages/numpy/core/fromnumeric.py:3440: RuntimeWarning: Mean of empty slice.\n",
      "  return _methods._mean(a, axis=axis, dtype=dtype,\n",
      "/Users/evelyn/opt/anaconda3/lib/python3.9/site-packages/numpy/core/_methods.py:189: RuntimeWarning: invalid value encountered in double_scalars\n",
      "  ret = ret.dtype.type(ret / rcount)\n"
     ]
    },
    {
     "name": "stdout",
     "output_type": "stream",
     "text": [
      "18.8098%\n",
      "18.9160%\n",
      "19.0223%\n",
      "19.1286%\n",
      "19.2349%\n",
      "19.3411%\n",
      "19.4474%\n"
     ]
    },
    {
     "name": "stderr",
     "output_type": "stream",
     "text": [
      "/Users/evelyn/opt/anaconda3/lib/python3.9/site-packages/numpy/core/fromnumeric.py:3440: RuntimeWarning: Mean of empty slice.\n",
      "  return _methods._mean(a, axis=axis, dtype=dtype,\n",
      "/Users/evelyn/opt/anaconda3/lib/python3.9/site-packages/numpy/core/_methods.py:189: RuntimeWarning: invalid value encountered in double_scalars\n",
      "  ret = ret.dtype.type(ret / rcount)\n"
     ]
    },
    {
     "name": "stdout",
     "output_type": "stream",
     "text": [
      "19.5537%\n",
      "19.6599%\n",
      "19.7662%\n",
      "19.8725%\n",
      "19.9787%\n"
     ]
    },
    {
     "name": "stderr",
     "output_type": "stream",
     "text": [
      "/Users/evelyn/opt/anaconda3/lib/python3.9/site-packages/numpy/core/fromnumeric.py:3440: RuntimeWarning: Mean of empty slice.\n",
      "  return _methods._mean(a, axis=axis, dtype=dtype,\n",
      "/Users/evelyn/opt/anaconda3/lib/python3.9/site-packages/numpy/core/_methods.py:189: RuntimeWarning: invalid value encountered in double_scalars\n",
      "  ret = ret.dtype.type(ret / rcount)\n",
      "/Users/evelyn/opt/anaconda3/lib/python3.9/site-packages/numpy/core/fromnumeric.py:3440: RuntimeWarning: Mean of empty slice.\n",
      "  return _methods._mean(a, axis=axis, dtype=dtype,\n",
      "/Users/evelyn/opt/anaconda3/lib/python3.9/site-packages/numpy/core/_methods.py:189: RuntimeWarning: invalid value encountered in double_scalars\n",
      "  ret = ret.dtype.type(ret / rcount)\n"
     ]
    },
    {
     "name": "stdout",
     "output_type": "stream",
     "text": [
      "20.0850%\n",
      "20.1913%\n",
      "20.2976%\n",
      "20.4038%\n",
      "20.5101%\n",
      "20.6164%\n",
      "20.7226%\n"
     ]
    },
    {
     "name": "stderr",
     "output_type": "stream",
     "text": [
      "/Users/evelyn/opt/anaconda3/lib/python3.9/site-packages/numpy/core/fromnumeric.py:3440: RuntimeWarning: Mean of empty slice.\n",
      "  return _methods._mean(a, axis=axis, dtype=dtype,\n",
      "/Users/evelyn/opt/anaconda3/lib/python3.9/site-packages/numpy/core/_methods.py:189: RuntimeWarning: invalid value encountered in double_scalars\n",
      "  ret = ret.dtype.type(ret / rcount)\n"
     ]
    },
    {
     "name": "stdout",
     "output_type": "stream",
     "text": [
      "20.8289%\n",
      "20.9352%\n",
      "21.0414%\n",
      "21.1477%\n",
      "21.2540%\n",
      "21.3603%\n",
      "21.4665%\n",
      "21.5728%\n",
      "21.6791%\n",
      "21.7853%\n",
      "21.8916%\n",
      "21.9979%\n",
      "22.1041%\n",
      "22.2104%\n",
      "22.3167%\n",
      "22.4230%\n",
      "22.5292%\n"
     ]
    },
    {
     "name": "stderr",
     "output_type": "stream",
     "text": [
      "/Users/evelyn/opt/anaconda3/lib/python3.9/site-packages/numpy/core/fromnumeric.py:3440: RuntimeWarning: Mean of empty slice.\n",
      "  return _methods._mean(a, axis=axis, dtype=dtype,\n",
      "/Users/evelyn/opt/anaconda3/lib/python3.9/site-packages/numpy/core/_methods.py:189: RuntimeWarning: invalid value encountered in double_scalars\n",
      "  ret = ret.dtype.type(ret / rcount)\n"
     ]
    },
    {
     "name": "stdout",
     "output_type": "stream",
     "text": [
      "22.6355%\n",
      "22.7418%\n"
     ]
    },
    {
     "name": "stderr",
     "output_type": "stream",
     "text": [
      "/Users/evelyn/opt/anaconda3/lib/python3.9/site-packages/numpy/core/fromnumeric.py:3440: RuntimeWarning: Mean of empty slice.\n",
      "  return _methods._mean(a, axis=axis, dtype=dtype,\n",
      "/Users/evelyn/opt/anaconda3/lib/python3.9/site-packages/numpy/core/_methods.py:189: RuntimeWarning: invalid value encountered in double_scalars\n",
      "  ret = ret.dtype.type(ret / rcount)\n"
     ]
    },
    {
     "name": "stdout",
     "output_type": "stream",
     "text": [
      "22.8480%\n",
      "22.9543%\n",
      "23.0606%\n",
      "23.1668%\n"
     ]
    },
    {
     "name": "stderr",
     "output_type": "stream",
     "text": [
      "/Users/evelyn/opt/anaconda3/lib/python3.9/site-packages/numpy/core/fromnumeric.py:3440: RuntimeWarning: Mean of empty slice.\n",
      "  return _methods._mean(a, axis=axis, dtype=dtype,\n",
      "/Users/evelyn/opt/anaconda3/lib/python3.9/site-packages/numpy/core/_methods.py:189: RuntimeWarning: invalid value encountered in double_scalars\n",
      "  ret = ret.dtype.type(ret / rcount)\n",
      "/Users/evelyn/opt/anaconda3/lib/python3.9/site-packages/numpy/core/fromnumeric.py:3440: RuntimeWarning: Mean of empty slice.\n",
      "  return _methods._mean(a, axis=axis, dtype=dtype,\n",
      "/Users/evelyn/opt/anaconda3/lib/python3.9/site-packages/numpy/core/_methods.py:189: RuntimeWarning: invalid value encountered in double_scalars\n",
      "  ret = ret.dtype.type(ret / rcount)\n"
     ]
    },
    {
     "name": "stdout",
     "output_type": "stream",
     "text": [
      "23.2731%\n",
      "23.3794%\n",
      "23.4857%\n",
      "23.5919%\n",
      "23.6982%\n",
      "23.8045%\n",
      "23.9107%\n",
      "24.0170%\n",
      "24.1233%\n",
      "24.2295%\n",
      "24.3358%\n",
      "24.4421%\n",
      "24.5484%\n",
      "24.6546%\n",
      "24.7609%\n",
      "24.8672%\n",
      "24.9734%\n",
      "25.0797%\n"
     ]
    },
    {
     "name": "stderr",
     "output_type": "stream",
     "text": [
      "/Users/evelyn/opt/anaconda3/lib/python3.9/site-packages/numpy/core/fromnumeric.py:3440: RuntimeWarning: Mean of empty slice.\n",
      "  return _methods._mean(a, axis=axis, dtype=dtype,\n",
      "/Users/evelyn/opt/anaconda3/lib/python3.9/site-packages/numpy/core/_methods.py:189: RuntimeWarning: invalid value encountered in double_scalars\n",
      "  ret = ret.dtype.type(ret / rcount)\n"
     ]
    },
    {
     "name": "stdout",
     "output_type": "stream",
     "text": [
      "25.1860%\n",
      "25.2922%\n",
      "25.3985%\n"
     ]
    },
    {
     "name": "stderr",
     "output_type": "stream",
     "text": [
      "/Users/evelyn/opt/anaconda3/lib/python3.9/site-packages/numpy/core/fromnumeric.py:3440: RuntimeWarning: Mean of empty slice.\n",
      "  return _methods._mean(a, axis=axis, dtype=dtype,\n",
      "/Users/evelyn/opt/anaconda3/lib/python3.9/site-packages/numpy/core/_methods.py:189: RuntimeWarning: invalid value encountered in double_scalars\n",
      "  ret = ret.dtype.type(ret / rcount)\n"
     ]
    },
    {
     "name": "stdout",
     "output_type": "stream",
     "text": [
      "25.5048%\n",
      "25.6111%\n",
      "25.7173%\n",
      "25.8236%\n",
      "25.9299%\n",
      "26.0361%\n",
      "26.1424%\n",
      "26.2487%\n",
      "26.3549%\n",
      "26.4612%\n",
      "26.5675%\n",
      "26.6738%\n",
      "26.7800%\n",
      "26.8863%\n",
      "26.9926%\n"
     ]
    },
    {
     "name": "stderr",
     "output_type": "stream",
     "text": [
      "/Users/evelyn/opt/anaconda3/lib/python3.9/site-packages/numpy/core/fromnumeric.py:3440: RuntimeWarning: Mean of empty slice.\n",
      "  return _methods._mean(a, axis=axis, dtype=dtype,\n",
      "/Users/evelyn/opt/anaconda3/lib/python3.9/site-packages/numpy/core/_methods.py:189: RuntimeWarning: invalid value encountered in double_scalars\n",
      "  ret = ret.dtype.type(ret / rcount)\n"
     ]
    },
    {
     "name": "stdout",
     "output_type": "stream",
     "text": [
      "27.0988%\n",
      "27.2051%\n",
      "27.3114%\n"
     ]
    },
    {
     "name": "stderr",
     "output_type": "stream",
     "text": [
      "/Users/evelyn/opt/anaconda3/lib/python3.9/site-packages/numpy/core/fromnumeric.py:3440: RuntimeWarning: Mean of empty slice.\n",
      "  return _methods._mean(a, axis=axis, dtype=dtype,\n",
      "/Users/evelyn/opt/anaconda3/lib/python3.9/site-packages/numpy/core/_methods.py:189: RuntimeWarning: invalid value encountered in double_scalars\n",
      "  ret = ret.dtype.type(ret / rcount)\n"
     ]
    },
    {
     "name": "stdout",
     "output_type": "stream",
     "text": [
      "27.4176%\n",
      "27.5239%\n",
      "27.6302%\n",
      "27.7365%\n",
      "27.8427%\n",
      "27.9490%\n",
      "28.0553%\n",
      "28.1615%\n"
     ]
    },
    {
     "name": "stderr",
     "output_type": "stream",
     "text": [
      "/Users/evelyn/opt/anaconda3/lib/python3.9/site-packages/numpy/core/fromnumeric.py:3440: RuntimeWarning: Mean of empty slice.\n",
      "  return _methods._mean(a, axis=axis, dtype=dtype,\n",
      "/Users/evelyn/opt/anaconda3/lib/python3.9/site-packages/numpy/core/_methods.py:189: RuntimeWarning: invalid value encountered in double_scalars\n",
      "  ret = ret.dtype.type(ret / rcount)\n"
     ]
    },
    {
     "name": "stdout",
     "output_type": "stream",
     "text": [
      "28.2678%\n",
      "28.3741%\n",
      "28.4803%\n"
     ]
    },
    {
     "name": "stderr",
     "output_type": "stream",
     "text": [
      "/Users/evelyn/opt/anaconda3/lib/python3.9/site-packages/numpy/core/fromnumeric.py:3440: RuntimeWarning: Mean of empty slice.\n",
      "  return _methods._mean(a, axis=axis, dtype=dtype,\n",
      "/Users/evelyn/opt/anaconda3/lib/python3.9/site-packages/numpy/core/_methods.py:189: RuntimeWarning: invalid value encountered in double_scalars\n",
      "  ret = ret.dtype.type(ret / rcount)\n"
     ]
    },
    {
     "name": "stdout",
     "output_type": "stream",
     "text": [
      "28.5866%\n",
      "28.6929%\n",
      "28.7991%\n",
      "28.9054%\n",
      "29.0117%\n"
     ]
    },
    {
     "name": "stderr",
     "output_type": "stream",
     "text": [
      "/Users/evelyn/opt/anaconda3/lib/python3.9/site-packages/numpy/core/fromnumeric.py:3440: RuntimeWarning: Mean of empty slice.\n",
      "  return _methods._mean(a, axis=axis, dtype=dtype,\n",
      "/Users/evelyn/opt/anaconda3/lib/python3.9/site-packages/numpy/core/_methods.py:189: RuntimeWarning: invalid value encountered in double_scalars\n",
      "  ret = ret.dtype.type(ret / rcount)\n"
     ]
    },
    {
     "name": "stdout",
     "output_type": "stream",
     "text": [
      "29.1180%\n",
      "29.2242%\n"
     ]
    },
    {
     "name": "stderr",
     "output_type": "stream",
     "text": [
      "/Users/evelyn/opt/anaconda3/lib/python3.9/site-packages/numpy/core/fromnumeric.py:3440: RuntimeWarning: Mean of empty slice.\n",
      "  return _methods._mean(a, axis=axis, dtype=dtype,\n",
      "/Users/evelyn/opt/anaconda3/lib/python3.9/site-packages/numpy/core/_methods.py:189: RuntimeWarning: invalid value encountered in double_scalars\n",
      "  ret = ret.dtype.type(ret / rcount)\n"
     ]
    },
    {
     "name": "stdout",
     "output_type": "stream",
     "text": [
      "29.3305%\n",
      "29.4368%\n",
      "29.5430%\n",
      "29.6493%\n",
      "29.7556%\n",
      "29.8618%\n",
      "29.9681%\n",
      "30.0744%\n",
      "30.1807%\n",
      "30.2869%\n",
      "30.3932%\n",
      "30.4995%\n",
      "30.6057%\n",
      "30.7120%\n",
      "30.8183%\n"
     ]
    },
    {
     "name": "stderr",
     "output_type": "stream",
     "text": [
      "/Users/evelyn/opt/anaconda3/lib/python3.9/site-packages/numpy/core/fromnumeric.py:3440: RuntimeWarning: Mean of empty slice.\n",
      "  return _methods._mean(a, axis=axis, dtype=dtype,\n",
      "/Users/evelyn/opt/anaconda3/lib/python3.9/site-packages/numpy/core/_methods.py:189: RuntimeWarning: invalid value encountered in double_scalars\n",
      "  ret = ret.dtype.type(ret / rcount)\n"
     ]
    },
    {
     "name": "stdout",
     "output_type": "stream",
     "text": [
      "30.9245%\n",
      "31.0308%\n",
      "31.1371%\n",
      "31.2434%\n",
      "31.3496%\n",
      "31.4559%\n"
     ]
    },
    {
     "name": "stderr",
     "output_type": "stream",
     "text": [
      "/Users/evelyn/opt/anaconda3/lib/python3.9/site-packages/numpy/core/fromnumeric.py:3440: RuntimeWarning: Mean of empty slice.\n",
      "  return _methods._mean(a, axis=axis, dtype=dtype,\n",
      "/Users/evelyn/opt/anaconda3/lib/python3.9/site-packages/numpy/core/_methods.py:189: RuntimeWarning: invalid value encountered in double_scalars\n",
      "  ret = ret.dtype.type(ret / rcount)\n",
      "/Users/evelyn/opt/anaconda3/lib/python3.9/site-packages/numpy/core/fromnumeric.py:3440: RuntimeWarning: Mean of empty slice.\n",
      "  return _methods._mean(a, axis=axis, dtype=dtype,\n",
      "/Users/evelyn/opt/anaconda3/lib/python3.9/site-packages/numpy/core/_methods.py:189: RuntimeWarning: invalid value encountered in double_scalars\n",
      "  ret = ret.dtype.type(ret / rcount)\n"
     ]
    },
    {
     "name": "stdout",
     "output_type": "stream",
     "text": [
      "31.5622%\n",
      "31.6684%\n",
      "31.7747%\n",
      "31.8810%\n",
      "31.9872%\n"
     ]
    },
    {
     "name": "stderr",
     "output_type": "stream",
     "text": [
      "/Users/evelyn/opt/anaconda3/lib/python3.9/site-packages/numpy/core/fromnumeric.py:3440: RuntimeWarning: Mean of empty slice.\n",
      "  return _methods._mean(a, axis=axis, dtype=dtype,\n",
      "/Users/evelyn/opt/anaconda3/lib/python3.9/site-packages/numpy/core/_methods.py:189: RuntimeWarning: invalid value encountered in double_scalars\n",
      "  ret = ret.dtype.type(ret / rcount)\n"
     ]
    },
    {
     "name": "stdout",
     "output_type": "stream",
     "text": [
      "32.0935%\n",
      "32.1998%\n",
      "32.3061%\n",
      "32.4123%\n",
      "32.5186%\n",
      "32.6249%\n",
      "32.7311%\n",
      "32.8374%\n"
     ]
    },
    {
     "name": "stderr",
     "output_type": "stream",
     "text": [
      "/Users/evelyn/opt/anaconda3/lib/python3.9/site-packages/numpy/core/fromnumeric.py:3440: RuntimeWarning: Mean of empty slice.\n",
      "  return _methods._mean(a, axis=axis, dtype=dtype,\n",
      "/Users/evelyn/opt/anaconda3/lib/python3.9/site-packages/numpy/core/_methods.py:189: RuntimeWarning: invalid value encountered in double_scalars\n",
      "  ret = ret.dtype.type(ret / rcount)\n"
     ]
    },
    {
     "name": "stdout",
     "output_type": "stream",
     "text": [
      "32.9437%\n",
      "33.0499%\n",
      "33.1562%\n",
      "33.2625%\n"
     ]
    },
    {
     "name": "stderr",
     "output_type": "stream",
     "text": [
      "/Users/evelyn/opt/anaconda3/lib/python3.9/site-packages/numpy/core/fromnumeric.py:3440: RuntimeWarning: Mean of empty slice.\n",
      "  return _methods._mean(a, axis=axis, dtype=dtype,\n",
      "/Users/evelyn/opt/anaconda3/lib/python3.9/site-packages/numpy/core/_methods.py:189: RuntimeWarning: invalid value encountered in double_scalars\n",
      "  ret = ret.dtype.type(ret / rcount)\n"
     ]
    },
    {
     "name": "stdout",
     "output_type": "stream",
     "text": [
      "33.3688%\n",
      "33.4750%\n",
      "33.5813%\n",
      "33.6876%\n",
      "33.7938%\n",
      "33.9001%\n"
     ]
    },
    {
     "name": "stderr",
     "output_type": "stream",
     "text": [
      "/Users/evelyn/opt/anaconda3/lib/python3.9/site-packages/numpy/core/fromnumeric.py:3440: RuntimeWarning: Mean of empty slice.\n",
      "  return _methods._mean(a, axis=axis, dtype=dtype,\n",
      "/Users/evelyn/opt/anaconda3/lib/python3.9/site-packages/numpy/core/_methods.py:189: RuntimeWarning: invalid value encountered in double_scalars\n",
      "  ret = ret.dtype.type(ret / rcount)\n",
      "/Users/evelyn/opt/anaconda3/lib/python3.9/site-packages/numpy/core/fromnumeric.py:3440: RuntimeWarning: Mean of empty slice.\n",
      "  return _methods._mean(a, axis=axis, dtype=dtype,\n",
      "/Users/evelyn/opt/anaconda3/lib/python3.9/site-packages/numpy/core/_methods.py:189: RuntimeWarning: invalid value encountered in double_scalars\n",
      "  ret = ret.dtype.type(ret / rcount)\n"
     ]
    },
    {
     "name": "stdout",
     "output_type": "stream",
     "text": [
      "34.0064%\n",
      "34.1126%\n",
      "34.2189%\n"
     ]
    },
    {
     "name": "stderr",
     "output_type": "stream",
     "text": [
      "/Users/evelyn/opt/anaconda3/lib/python3.9/site-packages/numpy/core/fromnumeric.py:3440: RuntimeWarning: Mean of empty slice.\n",
      "  return _methods._mean(a, axis=axis, dtype=dtype,\n",
      "/Users/evelyn/opt/anaconda3/lib/python3.9/site-packages/numpy/core/_methods.py:189: RuntimeWarning: invalid value encountered in double_scalars\n",
      "  ret = ret.dtype.type(ret / rcount)\n"
     ]
    },
    {
     "name": "stdout",
     "output_type": "stream",
     "text": [
      "34.3252%\n",
      "34.4315%\n",
      "34.5377%\n",
      "34.6440%\n",
      "34.7503%\n",
      "34.8565%\n",
      "34.9628%\n",
      "35.0691%\n",
      "35.1753%\n",
      "35.2816%\n",
      "35.3879%\n",
      "35.4942%\n"
     ]
    },
    {
     "name": "stderr",
     "output_type": "stream",
     "text": [
      "/Users/evelyn/opt/anaconda3/lib/python3.9/site-packages/numpy/core/fromnumeric.py:3440: RuntimeWarning: Mean of empty slice.\n",
      "  return _methods._mean(a, axis=axis, dtype=dtype,\n",
      "/Users/evelyn/opt/anaconda3/lib/python3.9/site-packages/numpy/core/_methods.py:189: RuntimeWarning: invalid value encountered in double_scalars\n",
      "  ret = ret.dtype.type(ret / rcount)\n"
     ]
    },
    {
     "name": "stdout",
     "output_type": "stream",
     "text": [
      "35.6004%\n",
      "35.7067%\n",
      "35.8130%\n",
      "35.9192%\n",
      "36.0255%\n",
      "36.1318%\n",
      "36.2380%\n",
      "36.3443%\n",
      "36.4506%\n",
      "36.5569%\n",
      "36.6631%\n"
     ]
    },
    {
     "name": "stderr",
     "output_type": "stream",
     "text": [
      "/Users/evelyn/opt/anaconda3/lib/python3.9/site-packages/numpy/core/fromnumeric.py:3440: RuntimeWarning: Mean of empty slice.\n",
      "  return _methods._mean(a, axis=axis, dtype=dtype,\n",
      "/Users/evelyn/opt/anaconda3/lib/python3.9/site-packages/numpy/core/_methods.py:189: RuntimeWarning: invalid value encountered in double_scalars\n",
      "  ret = ret.dtype.type(ret / rcount)\n",
      "/Users/evelyn/opt/anaconda3/lib/python3.9/site-packages/numpy/core/fromnumeric.py:3440: RuntimeWarning: Mean of empty slice.\n",
      "  return _methods._mean(a, axis=axis, dtype=dtype,\n",
      "/Users/evelyn/opt/anaconda3/lib/python3.9/site-packages/numpy/core/_methods.py:189: RuntimeWarning: invalid value encountered in double_scalars\n",
      "  ret = ret.dtype.type(ret / rcount)\n"
     ]
    },
    {
     "name": "stdout",
     "output_type": "stream",
     "text": [
      "36.7694%\n",
      "36.8757%\n",
      "36.9819%\n",
      "37.0882%\n",
      "37.1945%\n",
      "37.3007%\n",
      "37.4070%\n",
      "37.5133%\n",
      "37.6196%\n",
      "37.7258%\n",
      "37.8321%\n",
      "37.9384%\n",
      "38.0446%\n",
      "38.1509%\n"
     ]
    },
    {
     "name": "stderr",
     "output_type": "stream",
     "text": [
      "/Users/evelyn/opt/anaconda3/lib/python3.9/site-packages/numpy/core/fromnumeric.py:3440: RuntimeWarning: Mean of empty slice.\n",
      "  return _methods._mean(a, axis=axis, dtype=dtype,\n",
      "/Users/evelyn/opt/anaconda3/lib/python3.9/site-packages/numpy/core/_methods.py:189: RuntimeWarning: invalid value encountered in double_scalars\n",
      "  ret = ret.dtype.type(ret / rcount)\n"
     ]
    },
    {
     "name": "stdout",
     "output_type": "stream",
     "text": [
      "38.2572%\n",
      "38.3634%\n",
      "38.4697%\n",
      "38.5760%\n",
      "38.6823%\n",
      "38.7885%\n",
      "38.8948%\n"
     ]
    },
    {
     "name": "stderr",
     "output_type": "stream",
     "text": [
      "/Users/evelyn/opt/anaconda3/lib/python3.9/site-packages/numpy/core/fromnumeric.py:3440: RuntimeWarning: Mean of empty slice.\n",
      "  return _methods._mean(a, axis=axis, dtype=dtype,\n",
      "/Users/evelyn/opt/anaconda3/lib/python3.9/site-packages/numpy/core/_methods.py:189: RuntimeWarning: invalid value encountered in double_scalars\n",
      "  ret = ret.dtype.type(ret / rcount)\n",
      "/Users/evelyn/opt/anaconda3/lib/python3.9/site-packages/numpy/core/fromnumeric.py:3440: RuntimeWarning: Mean of empty slice.\n",
      "  return _methods._mean(a, axis=axis, dtype=dtype,\n",
      "/Users/evelyn/opt/anaconda3/lib/python3.9/site-packages/numpy/core/_methods.py:189: RuntimeWarning: invalid value encountered in double_scalars\n",
      "  ret = ret.dtype.type(ret / rcount)\n"
     ]
    },
    {
     "name": "stdout",
     "output_type": "stream",
     "text": [
      "39.0011%\n",
      "39.1073%\n",
      "39.2136%\n",
      "39.3199%\n"
     ]
    },
    {
     "name": "stderr",
     "output_type": "stream",
     "text": [
      "/Users/evelyn/opt/anaconda3/lib/python3.9/site-packages/numpy/core/fromnumeric.py:3440: RuntimeWarning: Mean of empty slice.\n",
      "  return _methods._mean(a, axis=axis, dtype=dtype,\n",
      "/Users/evelyn/opt/anaconda3/lib/python3.9/site-packages/numpy/core/_methods.py:189: RuntimeWarning: invalid value encountered in double_scalars\n",
      "  ret = ret.dtype.type(ret / rcount)\n",
      "/Users/evelyn/opt/anaconda3/lib/python3.9/site-packages/numpy/core/fromnumeric.py:3440: RuntimeWarning: Mean of empty slice.\n",
      "  return _methods._mean(a, axis=axis, dtype=dtype,\n",
      "/Users/evelyn/opt/anaconda3/lib/python3.9/site-packages/numpy/core/_methods.py:189: RuntimeWarning: invalid value encountered in double_scalars\n",
      "  ret = ret.dtype.type(ret / rcount)\n"
     ]
    },
    {
     "name": "stdout",
     "output_type": "stream",
     "text": [
      "39.4261%\n",
      "39.5324%\n",
      "39.6387%\n"
     ]
    },
    {
     "name": "stderr",
     "output_type": "stream",
     "text": [
      "/Users/evelyn/opt/anaconda3/lib/python3.9/site-packages/numpy/core/fromnumeric.py:3440: RuntimeWarning: Mean of empty slice.\n",
      "  return _methods._mean(a, axis=axis, dtype=dtype,\n",
      "/Users/evelyn/opt/anaconda3/lib/python3.9/site-packages/numpy/core/_methods.py:189: RuntimeWarning: invalid value encountered in double_scalars\n",
      "  ret = ret.dtype.type(ret / rcount)\n",
      "/Users/evelyn/opt/anaconda3/lib/python3.9/site-packages/numpy/core/fromnumeric.py:3440: RuntimeWarning: Mean of empty slice.\n",
      "  return _methods._mean(a, axis=axis, dtype=dtype,\n",
      "/Users/evelyn/opt/anaconda3/lib/python3.9/site-packages/numpy/core/_methods.py:189: RuntimeWarning: invalid value encountered in double_scalars\n",
      "  ret = ret.dtype.type(ret / rcount)\n"
     ]
    },
    {
     "name": "stdout",
     "output_type": "stream",
     "text": [
      "39.7450%\n",
      "39.8512%\n",
      "39.9575%\n",
      "40.0638%\n",
      "40.1700%\n",
      "40.2763%\n"
     ]
    },
    {
     "name": "stderr",
     "output_type": "stream",
     "text": [
      "/Users/evelyn/opt/anaconda3/lib/python3.9/site-packages/numpy/core/fromnumeric.py:3440: RuntimeWarning: Mean of empty slice.\n",
      "  return _methods._mean(a, axis=axis, dtype=dtype,\n",
      "/Users/evelyn/opt/anaconda3/lib/python3.9/site-packages/numpy/core/_methods.py:189: RuntimeWarning: invalid value encountered in double_scalars\n",
      "  ret = ret.dtype.type(ret / rcount)\n"
     ]
    },
    {
     "name": "stdout",
     "output_type": "stream",
     "text": [
      "40.3826%\n",
      "40.4888%\n",
      "40.5951%\n",
      "40.7014%\n",
      "40.8077%\n",
      "40.9139%\n",
      "41.0202%\n",
      "41.1265%\n",
      "41.2327%\n",
      "41.3390%\n",
      "41.4453%\n",
      "41.5515%\n",
      "41.6578%\n"
     ]
    },
    {
     "name": "stderr",
     "output_type": "stream",
     "text": [
      "/Users/evelyn/opt/anaconda3/lib/python3.9/site-packages/numpy/core/fromnumeric.py:3440: RuntimeWarning: Mean of empty slice.\n",
      "  return _methods._mean(a, axis=axis, dtype=dtype,\n",
      "/Users/evelyn/opt/anaconda3/lib/python3.9/site-packages/numpy/core/_methods.py:189: RuntimeWarning: invalid value encountered in double_scalars\n",
      "  ret = ret.dtype.type(ret / rcount)\n",
      "/Users/evelyn/opt/anaconda3/lib/python3.9/site-packages/numpy/core/fromnumeric.py:3440: RuntimeWarning: Mean of empty slice.\n",
      "  return _methods._mean(a, axis=axis, dtype=dtype,\n",
      "/Users/evelyn/opt/anaconda3/lib/python3.9/site-packages/numpy/core/_methods.py:189: RuntimeWarning: invalid value encountered in double_scalars\n",
      "  ret = ret.dtype.type(ret / rcount)\n"
     ]
    },
    {
     "name": "stdout",
     "output_type": "stream",
     "text": [
      "41.7641%\n",
      "41.8704%\n",
      "41.9766%\n",
      "42.0829%\n",
      "42.1892%\n",
      "42.2954%\n",
      "42.4017%\n",
      "42.5080%\n"
     ]
    },
    {
     "name": "stderr",
     "output_type": "stream",
     "text": [
      "/Users/evelyn/opt/anaconda3/lib/python3.9/site-packages/numpy/core/fromnumeric.py:3440: RuntimeWarning: Mean of empty slice.\n",
      "  return _methods._mean(a, axis=axis, dtype=dtype,\n",
      "/Users/evelyn/opt/anaconda3/lib/python3.9/site-packages/numpy/core/_methods.py:189: RuntimeWarning: invalid value encountered in double_scalars\n",
      "  ret = ret.dtype.type(ret / rcount)\n"
     ]
    },
    {
     "name": "stdout",
     "output_type": "stream",
     "text": [
      "42.6142%\n",
      "42.7205%\n",
      "42.8268%\n",
      "42.9330%\n"
     ]
    },
    {
     "name": "stderr",
     "output_type": "stream",
     "text": [
      "/Users/evelyn/opt/anaconda3/lib/python3.9/site-packages/numpy/core/fromnumeric.py:3440: RuntimeWarning: Mean of empty slice.\n",
      "  return _methods._mean(a, axis=axis, dtype=dtype,\n",
      "/Users/evelyn/opt/anaconda3/lib/python3.9/site-packages/numpy/core/_methods.py:189: RuntimeWarning: invalid value encountered in double_scalars\n",
      "  ret = ret.dtype.type(ret / rcount)\n",
      "/Users/evelyn/opt/anaconda3/lib/python3.9/site-packages/numpy/core/fromnumeric.py:3440: RuntimeWarning: Mean of empty slice.\n",
      "  return _methods._mean(a, axis=axis, dtype=dtype,\n",
      "/Users/evelyn/opt/anaconda3/lib/python3.9/site-packages/numpy/core/_methods.py:189: RuntimeWarning: invalid value encountered in double_scalars\n",
      "  ret = ret.dtype.type(ret / rcount)\n"
     ]
    },
    {
     "name": "stdout",
     "output_type": "stream",
     "text": [
      "43.0393%\n",
      "43.1456%\n",
      "43.2519%\n",
      "43.3581%\n",
      "43.4644%\n",
      "43.5707%\n",
      "43.6769%\n",
      "43.7832%\n",
      "43.8895%\n",
      "43.9957%\n",
      "44.1020%\n",
      "44.2083%\n"
     ]
    },
    {
     "name": "stderr",
     "output_type": "stream",
     "text": [
      "/Users/evelyn/opt/anaconda3/lib/python3.9/site-packages/numpy/core/fromnumeric.py:3440: RuntimeWarning: Mean of empty slice.\n",
      "  return _methods._mean(a, axis=axis, dtype=dtype,\n",
      "/Users/evelyn/opt/anaconda3/lib/python3.9/site-packages/numpy/core/_methods.py:189: RuntimeWarning: invalid value encountered in double_scalars\n",
      "  ret = ret.dtype.type(ret / rcount)\n"
     ]
    },
    {
     "name": "stdout",
     "output_type": "stream",
     "text": [
      "44.3146%\n",
      "44.4208%\n",
      "44.5271%\n",
      "44.6334%\n"
     ]
    },
    {
     "name": "stderr",
     "output_type": "stream",
     "text": [
      "/Users/evelyn/opt/anaconda3/lib/python3.9/site-packages/numpy/core/fromnumeric.py:3440: RuntimeWarning: Mean of empty slice.\n",
      "  return _methods._mean(a, axis=axis, dtype=dtype,\n",
      "/Users/evelyn/opt/anaconda3/lib/python3.9/site-packages/numpy/core/_methods.py:189: RuntimeWarning: invalid value encountered in double_scalars\n",
      "  ret = ret.dtype.type(ret / rcount)\n"
     ]
    },
    {
     "name": "stdout",
     "output_type": "stream",
     "text": [
      "44.7396%\n",
      "44.8459%\n",
      "44.9522%\n",
      "45.0584%\n",
      "45.1647%\n",
      "45.2710%\n",
      "45.3773%\n"
     ]
    },
    {
     "name": "stderr",
     "output_type": "stream",
     "text": [
      "/Users/evelyn/opt/anaconda3/lib/python3.9/site-packages/numpy/core/fromnumeric.py:3440: RuntimeWarning: Mean of empty slice.\n",
      "  return _methods._mean(a, axis=axis, dtype=dtype,\n",
      "/Users/evelyn/opt/anaconda3/lib/python3.9/site-packages/numpy/core/_methods.py:189: RuntimeWarning: invalid value encountered in double_scalars\n",
      "  ret = ret.dtype.type(ret / rcount)\n"
     ]
    },
    {
     "name": "stdout",
     "output_type": "stream",
     "text": [
      "45.4835%\n",
      "45.5898%\n",
      "45.6961%\n",
      "45.8023%\n"
     ]
    },
    {
     "name": "stderr",
     "output_type": "stream",
     "text": [
      "/Users/evelyn/opt/anaconda3/lib/python3.9/site-packages/numpy/core/fromnumeric.py:3440: RuntimeWarning: Mean of empty slice.\n",
      "  return _methods._mean(a, axis=axis, dtype=dtype,\n",
      "/Users/evelyn/opt/anaconda3/lib/python3.9/site-packages/numpy/core/_methods.py:189: RuntimeWarning: invalid value encountered in double_scalars\n",
      "  ret = ret.dtype.type(ret / rcount)\n",
      "/Users/evelyn/opt/anaconda3/lib/python3.9/site-packages/numpy/core/fromnumeric.py:3440: RuntimeWarning: Mean of empty slice.\n",
      "  return _methods._mean(a, axis=axis, dtype=dtype,\n",
      "/Users/evelyn/opt/anaconda3/lib/python3.9/site-packages/numpy/core/_methods.py:189: RuntimeWarning: invalid value encountered in double_scalars\n",
      "  ret = ret.dtype.type(ret / rcount)\n"
     ]
    },
    {
     "name": "stdout",
     "output_type": "stream",
     "text": [
      "45.9086%\n",
      "46.0149%\n"
     ]
    },
    {
     "name": "stderr",
     "output_type": "stream",
     "text": [
      "/Users/evelyn/opt/anaconda3/lib/python3.9/site-packages/numpy/core/fromnumeric.py:3440: RuntimeWarning: Mean of empty slice.\n",
      "  return _methods._mean(a, axis=axis, dtype=dtype,\n",
      "/Users/evelyn/opt/anaconda3/lib/python3.9/site-packages/numpy/core/_methods.py:189: RuntimeWarning: invalid value encountered in double_scalars\n",
      "  ret = ret.dtype.type(ret / rcount)\n"
     ]
    },
    {
     "name": "stdout",
     "output_type": "stream",
     "text": [
      "46.1211%\n",
      "46.2274%\n",
      "46.3337%\n",
      "46.4400%\n"
     ]
    },
    {
     "name": "stderr",
     "output_type": "stream",
     "text": [
      "/Users/evelyn/opt/anaconda3/lib/python3.9/site-packages/numpy/core/fromnumeric.py:3440: RuntimeWarning: Mean of empty slice.\n",
      "  return _methods._mean(a, axis=axis, dtype=dtype,\n",
      "/Users/evelyn/opt/anaconda3/lib/python3.9/site-packages/numpy/core/_methods.py:189: RuntimeWarning: invalid value encountered in double_scalars\n",
      "  ret = ret.dtype.type(ret / rcount)\n"
     ]
    },
    {
     "name": "stdout",
     "output_type": "stream",
     "text": [
      "46.5462%\n",
      "46.6525%\n",
      "46.7588%\n",
      "46.8650%\n"
     ]
    },
    {
     "name": "stderr",
     "output_type": "stream",
     "text": [
      "/Users/evelyn/opt/anaconda3/lib/python3.9/site-packages/numpy/core/fromnumeric.py:3440: RuntimeWarning: Mean of empty slice.\n",
      "  return _methods._mean(a, axis=axis, dtype=dtype,\n",
      "/Users/evelyn/opt/anaconda3/lib/python3.9/site-packages/numpy/core/_methods.py:189: RuntimeWarning: invalid value encountered in double_scalars\n",
      "  ret = ret.dtype.type(ret / rcount)\n",
      "/Users/evelyn/opt/anaconda3/lib/python3.9/site-packages/numpy/core/fromnumeric.py:3440: RuntimeWarning: Mean of empty slice.\n",
      "  return _methods._mean(a, axis=axis, dtype=dtype,\n",
      "/Users/evelyn/opt/anaconda3/lib/python3.9/site-packages/numpy/core/_methods.py:189: RuntimeWarning: invalid value encountered in double_scalars\n",
      "  ret = ret.dtype.type(ret / rcount)\n"
     ]
    },
    {
     "name": "stdout",
     "output_type": "stream",
     "text": [
      "46.9713%\n",
      "47.0776%\n",
      "47.1838%\n",
      "47.2901%\n",
      "47.3964%\n",
      "47.5027%\n",
      "47.6089%\n",
      "47.7152%\n",
      "47.8215%\n",
      "47.9277%\n"
     ]
    },
    {
     "name": "stderr",
     "output_type": "stream",
     "text": [
      "/Users/evelyn/opt/anaconda3/lib/python3.9/site-packages/numpy/core/fromnumeric.py:3440: RuntimeWarning: Mean of empty slice.\n",
      "  return _methods._mean(a, axis=axis, dtype=dtype,\n",
      "/Users/evelyn/opt/anaconda3/lib/python3.9/site-packages/numpy/core/_methods.py:189: RuntimeWarning: invalid value encountered in double_scalars\n",
      "  ret = ret.dtype.type(ret / rcount)\n"
     ]
    },
    {
     "name": "stdout",
     "output_type": "stream",
     "text": [
      "48.0340%\n",
      "48.1403%\n",
      "48.2465%\n",
      "48.3528%\n",
      "48.4591%\n"
     ]
    },
    {
     "name": "stderr",
     "output_type": "stream",
     "text": [
      "/Users/evelyn/opt/anaconda3/lib/python3.9/site-packages/numpy/core/fromnumeric.py:3440: RuntimeWarning: Mean of empty slice.\n",
      "  return _methods._mean(a, axis=axis, dtype=dtype,\n",
      "/Users/evelyn/opt/anaconda3/lib/python3.9/site-packages/numpy/core/_methods.py:189: RuntimeWarning: invalid value encountered in double_scalars\n",
      "  ret = ret.dtype.type(ret / rcount)\n"
     ]
    },
    {
     "name": "stdout",
     "output_type": "stream",
     "text": [
      "48.5654%\n",
      "48.6716%\n",
      "48.7779%\n",
      "48.8842%\n",
      "48.9904%\n",
      "49.0967%\n",
      "49.2030%\n",
      "49.3092%\n",
      "49.4155%\n",
      "49.5218%\n",
      "49.6281%\n",
      "49.7343%\n",
      "49.8406%\n",
      "49.9469%\n",
      "50.0531%\n",
      "50.1594%\n"
     ]
    },
    {
     "name": "stderr",
     "output_type": "stream",
     "text": [
      "/Users/evelyn/opt/anaconda3/lib/python3.9/site-packages/numpy/core/fromnumeric.py:3440: RuntimeWarning: Mean of empty slice.\n",
      "  return _methods._mean(a, axis=axis, dtype=dtype,\n",
      "/Users/evelyn/opt/anaconda3/lib/python3.9/site-packages/numpy/core/_methods.py:189: RuntimeWarning: invalid value encountered in double_scalars\n",
      "  ret = ret.dtype.type(ret / rcount)\n"
     ]
    },
    {
     "name": "stdout",
     "output_type": "stream",
     "text": [
      "50.2657%\n",
      "50.3719%\n",
      "50.4782%\n",
      "50.5845%\n",
      "50.6908%\n",
      "50.7970%\n"
     ]
    },
    {
     "name": "stderr",
     "output_type": "stream",
     "text": [
      "/Users/evelyn/opt/anaconda3/lib/python3.9/site-packages/numpy/core/fromnumeric.py:3440: RuntimeWarning: Mean of empty slice.\n",
      "  return _methods._mean(a, axis=axis, dtype=dtype,\n",
      "/Users/evelyn/opt/anaconda3/lib/python3.9/site-packages/numpy/core/_methods.py:189: RuntimeWarning: invalid value encountered in double_scalars\n",
      "  ret = ret.dtype.type(ret / rcount)\n"
     ]
    },
    {
     "name": "stdout",
     "output_type": "stream",
     "text": [
      "50.9033%\n",
      "51.0096%\n",
      "51.1158%\n",
      "51.2221%\n"
     ]
    },
    {
     "name": "stderr",
     "output_type": "stream",
     "text": [
      "/Users/evelyn/opt/anaconda3/lib/python3.9/site-packages/numpy/core/fromnumeric.py:3440: RuntimeWarning: Mean of empty slice.\n",
      "  return _methods._mean(a, axis=axis, dtype=dtype,\n",
      "/Users/evelyn/opt/anaconda3/lib/python3.9/site-packages/numpy/core/_methods.py:189: RuntimeWarning: invalid value encountered in double_scalars\n",
      "  ret = ret.dtype.type(ret / rcount)\n"
     ]
    },
    {
     "name": "stdout",
     "output_type": "stream",
     "text": [
      "51.3284%\n",
      "51.4346%\n",
      "51.5409%\n",
      "51.6472%\n",
      "51.7535%\n"
     ]
    },
    {
     "name": "stderr",
     "output_type": "stream",
     "text": [
      "/Users/evelyn/opt/anaconda3/lib/python3.9/site-packages/numpy/core/fromnumeric.py:3440: RuntimeWarning: Mean of empty slice.\n",
      "  return _methods._mean(a, axis=axis, dtype=dtype,\n",
      "/Users/evelyn/opt/anaconda3/lib/python3.9/site-packages/numpy/core/_methods.py:189: RuntimeWarning: invalid value encountered in double_scalars\n",
      "  ret = ret.dtype.type(ret / rcount)\n"
     ]
    },
    {
     "name": "stdout",
     "output_type": "stream",
     "text": [
      "51.8597%\n",
      "51.9660%\n",
      "52.0723%\n",
      "52.1785%\n",
      "52.2848%\n",
      "52.3911%\n",
      "52.4973%\n",
      "52.6036%\n",
      "52.7099%\n",
      "52.8162%\n",
      "52.9224%\n",
      "53.0287%\n",
      "53.1350%\n",
      "53.2412%\n",
      "53.3475%\n",
      "53.4538%\n",
      "53.5600%\n",
      "53.6663%\n",
      "53.7726%\n",
      "53.8789%\n",
      "53.9851%\n"
     ]
    },
    {
     "name": "stderr",
     "output_type": "stream",
     "text": [
      "/Users/evelyn/opt/anaconda3/lib/python3.9/site-packages/numpy/core/fromnumeric.py:3440: RuntimeWarning: Mean of empty slice.\n",
      "  return _methods._mean(a, axis=axis, dtype=dtype,\n",
      "/Users/evelyn/opt/anaconda3/lib/python3.9/site-packages/numpy/core/_methods.py:189: RuntimeWarning: invalid value encountered in double_scalars\n",
      "  ret = ret.dtype.type(ret / rcount)\n",
      "/Users/evelyn/opt/anaconda3/lib/python3.9/site-packages/numpy/core/fromnumeric.py:3440: RuntimeWarning: Mean of empty slice.\n",
      "  return _methods._mean(a, axis=axis, dtype=dtype,\n",
      "/Users/evelyn/opt/anaconda3/lib/python3.9/site-packages/numpy/core/_methods.py:189: RuntimeWarning: invalid value encountered in double_scalars\n",
      "  ret = ret.dtype.type(ret / rcount)\n"
     ]
    },
    {
     "name": "stdout",
     "output_type": "stream",
     "text": [
      "54.0914%\n",
      "54.1977%\n",
      "54.3039%\n",
      "54.4102%\n",
      "54.5165%\n",
      "54.6227%\n",
      "54.7290%\n",
      "54.8353%\n",
      "54.9416%\n",
      "55.0478%\n",
      "55.1541%\n",
      "55.2604%\n",
      "55.3666%\n",
      "55.4729%\n",
      "55.5792%\n"
     ]
    },
    {
     "name": "stderr",
     "output_type": "stream",
     "text": [
      "/Users/evelyn/opt/anaconda3/lib/python3.9/site-packages/numpy/core/fromnumeric.py:3440: RuntimeWarning: Mean of empty slice.\n",
      "  return _methods._mean(a, axis=axis, dtype=dtype,\n",
      "/Users/evelyn/opt/anaconda3/lib/python3.9/site-packages/numpy/core/_methods.py:189: RuntimeWarning: invalid value encountered in double_scalars\n",
      "  ret = ret.dtype.type(ret / rcount)\n"
     ]
    },
    {
     "name": "stdout",
     "output_type": "stream",
     "text": [
      "55.6854%\n",
      "55.7917%\n",
      "55.8980%\n",
      "56.0043%\n",
      "56.1105%\n",
      "56.2168%\n"
     ]
    },
    {
     "name": "stderr",
     "output_type": "stream",
     "text": [
      "/Users/evelyn/opt/anaconda3/lib/python3.9/site-packages/numpy/core/fromnumeric.py:3440: RuntimeWarning: Mean of empty slice.\n",
      "  return _methods._mean(a, axis=axis, dtype=dtype,\n",
      "/Users/evelyn/opt/anaconda3/lib/python3.9/site-packages/numpy/core/_methods.py:189: RuntimeWarning: invalid value encountered in double_scalars\n",
      "  ret = ret.dtype.type(ret / rcount)\n"
     ]
    },
    {
     "name": "stdout",
     "output_type": "stream",
     "text": [
      "56.3231%\n",
      "56.4293%\n",
      "56.5356%\n",
      "56.6419%\n",
      "56.7481%\n",
      "56.8544%\n"
     ]
    },
    {
     "name": "stderr",
     "output_type": "stream",
     "text": [
      "/Users/evelyn/opt/anaconda3/lib/python3.9/site-packages/numpy/core/fromnumeric.py:3440: RuntimeWarning: Mean of empty slice.\n",
      "  return _methods._mean(a, axis=axis, dtype=dtype,\n",
      "/Users/evelyn/opt/anaconda3/lib/python3.9/site-packages/numpy/core/_methods.py:189: RuntimeWarning: invalid value encountered in double_scalars\n",
      "  ret = ret.dtype.type(ret / rcount)\n",
      "/Users/evelyn/opt/anaconda3/lib/python3.9/site-packages/numpy/core/fromnumeric.py:3440: RuntimeWarning: Mean of empty slice.\n",
      "  return _methods._mean(a, axis=axis, dtype=dtype,\n",
      "/Users/evelyn/opt/anaconda3/lib/python3.9/site-packages/numpy/core/_methods.py:189: RuntimeWarning: invalid value encountered in double_scalars\n",
      "  ret = ret.dtype.type(ret / rcount)\n",
      "/Users/evelyn/opt/anaconda3/lib/python3.9/site-packages/numpy/core/fromnumeric.py:3440: RuntimeWarning: Mean of empty slice.\n",
      "  return _methods._mean(a, axis=axis, dtype=dtype,\n",
      "/Users/evelyn/opt/anaconda3/lib/python3.9/site-packages/numpy/core/_methods.py:189: RuntimeWarning: invalid value encountered in double_scalars\n",
      "  ret = ret.dtype.type(ret / rcount)\n"
     ]
    },
    {
     "name": "stdout",
     "output_type": "stream",
     "text": [
      "56.9607%\n",
      "57.0670%\n",
      "57.1732%\n",
      "57.2795%\n",
      "57.3858%\n"
     ]
    },
    {
     "name": "stderr",
     "output_type": "stream",
     "text": [
      "/Users/evelyn/opt/anaconda3/lib/python3.9/site-packages/numpy/core/fromnumeric.py:3440: RuntimeWarning: Mean of empty slice.\n",
      "  return _methods._mean(a, axis=axis, dtype=dtype,\n",
      "/Users/evelyn/opt/anaconda3/lib/python3.9/site-packages/numpy/core/_methods.py:189: RuntimeWarning: invalid value encountered in double_scalars\n",
      "  ret = ret.dtype.type(ret / rcount)\n"
     ]
    },
    {
     "name": "stdout",
     "output_type": "stream",
     "text": [
      "57.4920%\n",
      "57.5983%\n",
      "57.7046%\n",
      "57.8108%\n",
      "57.9171%\n",
      "58.0234%\n",
      "58.1296%\n"
     ]
    },
    {
     "name": "stderr",
     "output_type": "stream",
     "text": [
      "/Users/evelyn/opt/anaconda3/lib/python3.9/site-packages/numpy/core/fromnumeric.py:3440: RuntimeWarning: Mean of empty slice.\n",
      "  return _methods._mean(a, axis=axis, dtype=dtype,\n",
      "/Users/evelyn/opt/anaconda3/lib/python3.9/site-packages/numpy/core/_methods.py:189: RuntimeWarning: invalid value encountered in double_scalars\n",
      "  ret = ret.dtype.type(ret / rcount)\n",
      "/Users/evelyn/opt/anaconda3/lib/python3.9/site-packages/numpy/core/fromnumeric.py:3440: RuntimeWarning: Mean of empty slice.\n",
      "  return _methods._mean(a, axis=axis, dtype=dtype,\n",
      "/Users/evelyn/opt/anaconda3/lib/python3.9/site-packages/numpy/core/_methods.py:189: RuntimeWarning: invalid value encountered in double_scalars\n",
      "  ret = ret.dtype.type(ret / rcount)\n",
      "/Users/evelyn/opt/anaconda3/lib/python3.9/site-packages/numpy/core/fromnumeric.py:3440: RuntimeWarning: Mean of empty slice.\n",
      "  return _methods._mean(a, axis=axis, dtype=dtype,\n",
      "/Users/evelyn/opt/anaconda3/lib/python3.9/site-packages/numpy/core/_methods.py:189: RuntimeWarning: invalid value encountered in double_scalars\n",
      "  ret = ret.dtype.type(ret / rcount)\n"
     ]
    },
    {
     "name": "stdout",
     "output_type": "stream",
     "text": [
      "58.2359%\n",
      "58.3422%\n",
      "58.4485%\n",
      "58.5547%\n",
      "58.6610%\n",
      "58.7673%\n",
      "58.8735%\n",
      "58.9798%\n",
      "59.0861%\n",
      "59.1923%\n"
     ]
    },
    {
     "name": "stderr",
     "output_type": "stream",
     "text": [
      "/Users/evelyn/opt/anaconda3/lib/python3.9/site-packages/numpy/core/fromnumeric.py:3440: RuntimeWarning: Mean of empty slice.\n",
      "  return _methods._mean(a, axis=axis, dtype=dtype,\n",
      "/Users/evelyn/opt/anaconda3/lib/python3.9/site-packages/numpy/core/_methods.py:189: RuntimeWarning: invalid value encountered in double_scalars\n",
      "  ret = ret.dtype.type(ret / rcount)\n",
      "/Users/evelyn/opt/anaconda3/lib/python3.9/site-packages/numpy/core/fromnumeric.py:3440: RuntimeWarning: Mean of empty slice.\n",
      "  return _methods._mean(a, axis=axis, dtype=dtype,\n",
      "/Users/evelyn/opt/anaconda3/lib/python3.9/site-packages/numpy/core/_methods.py:189: RuntimeWarning: invalid value encountered in double_scalars\n",
      "  ret = ret.dtype.type(ret / rcount)\n"
     ]
    },
    {
     "name": "stdout",
     "output_type": "stream",
     "text": [
      "59.2986%\n",
      "59.4049%\n",
      "59.5112%\n",
      "59.6174%\n"
     ]
    },
    {
     "name": "stderr",
     "output_type": "stream",
     "text": [
      "/Users/evelyn/opt/anaconda3/lib/python3.9/site-packages/numpy/core/fromnumeric.py:3440: RuntimeWarning: Mean of empty slice.\n",
      "  return _methods._mean(a, axis=axis, dtype=dtype,\n",
      "/Users/evelyn/opt/anaconda3/lib/python3.9/site-packages/numpy/core/_methods.py:189: RuntimeWarning: invalid value encountered in double_scalars\n",
      "  ret = ret.dtype.type(ret / rcount)\n",
      "/Users/evelyn/opt/anaconda3/lib/python3.9/site-packages/numpy/core/fromnumeric.py:3440: RuntimeWarning: Mean of empty slice.\n",
      "  return _methods._mean(a, axis=axis, dtype=dtype,\n",
      "/Users/evelyn/opt/anaconda3/lib/python3.9/site-packages/numpy/core/_methods.py:189: RuntimeWarning: invalid value encountered in double_scalars\n",
      "  ret = ret.dtype.type(ret / rcount)\n"
     ]
    },
    {
     "name": "stdout",
     "output_type": "stream",
     "text": [
      "59.7237%\n",
      "59.8300%\n",
      "59.9362%\n",
      "60.0425%\n",
      "60.1488%\n",
      "60.2550%\n",
      "60.3613%\n",
      "60.4676%\n",
      "60.5739%\n",
      "60.6801%\n",
      "60.7864%\n",
      "60.8927%\n",
      "60.9989%\n",
      "61.1052%\n",
      "61.2115%\n",
      "61.3177%\n",
      "61.4240%\n",
      "61.5303%\n",
      "61.6366%\n",
      "61.7428%\n",
      "61.8491%\n",
      "61.9554%\n",
      "62.0616%\n"
     ]
    },
    {
     "name": "stderr",
     "output_type": "stream",
     "text": [
      "/Users/evelyn/opt/anaconda3/lib/python3.9/site-packages/numpy/core/fromnumeric.py:3440: RuntimeWarning: Mean of empty slice.\n",
      "  return _methods._mean(a, axis=axis, dtype=dtype,\n",
      "/Users/evelyn/opt/anaconda3/lib/python3.9/site-packages/numpy/core/_methods.py:189: RuntimeWarning: invalid value encountered in double_scalars\n",
      "  ret = ret.dtype.type(ret / rcount)\n"
     ]
    },
    {
     "name": "stdout",
     "output_type": "stream",
     "text": [
      "62.1679%\n",
      "62.2742%\n",
      "62.3804%\n",
      "62.4867%\n"
     ]
    },
    {
     "name": "stderr",
     "output_type": "stream",
     "text": [
      "/Users/evelyn/opt/anaconda3/lib/python3.9/site-packages/numpy/core/fromnumeric.py:3440: RuntimeWarning: Mean of empty slice.\n",
      "  return _methods._mean(a, axis=axis, dtype=dtype,\n",
      "/Users/evelyn/opt/anaconda3/lib/python3.9/site-packages/numpy/core/_methods.py:189: RuntimeWarning: invalid value encountered in double_scalars\n",
      "  ret = ret.dtype.type(ret / rcount)\n"
     ]
    },
    {
     "name": "stdout",
     "output_type": "stream",
     "text": [
      "62.5930%\n",
      "62.6993%\n",
      "62.8055%\n",
      "62.9118%\n",
      "63.0181%\n",
      "63.1243%\n",
      "63.2306%\n",
      "63.3369%\n"
     ]
    },
    {
     "name": "stderr",
     "output_type": "stream",
     "text": [
      "/Users/evelyn/opt/anaconda3/lib/python3.9/site-packages/numpy/core/fromnumeric.py:3440: RuntimeWarning: Mean of empty slice.\n",
      "  return _methods._mean(a, axis=axis, dtype=dtype,\n",
      "/Users/evelyn/opt/anaconda3/lib/python3.9/site-packages/numpy/core/_methods.py:189: RuntimeWarning: invalid value encountered in double_scalars\n",
      "  ret = ret.dtype.type(ret / rcount)\n"
     ]
    },
    {
     "name": "stdout",
     "output_type": "stream",
     "text": [
      "63.4431%\n",
      "63.5494%\n",
      "63.6557%\n",
      "63.7620%\n",
      "63.8682%\n",
      "63.9745%\n",
      "64.0808%\n",
      "64.1870%\n",
      "64.2933%\n",
      "64.3996%\n",
      "64.5058%\n",
      "64.6121%\n",
      "64.7184%\n",
      "64.8247%\n"
     ]
    },
    {
     "name": "stderr",
     "output_type": "stream",
     "text": [
      "/Users/evelyn/opt/anaconda3/lib/python3.9/site-packages/numpy/core/fromnumeric.py:3440: RuntimeWarning: Mean of empty slice.\n",
      "  return _methods._mean(a, axis=axis, dtype=dtype,\n",
      "/Users/evelyn/opt/anaconda3/lib/python3.9/site-packages/numpy/core/_methods.py:189: RuntimeWarning: invalid value encountered in double_scalars\n",
      "  ret = ret.dtype.type(ret / rcount)\n",
      "/Users/evelyn/opt/anaconda3/lib/python3.9/site-packages/numpy/core/fromnumeric.py:3440: RuntimeWarning: Mean of empty slice.\n",
      "  return _methods._mean(a, axis=axis, dtype=dtype,\n",
      "/Users/evelyn/opt/anaconda3/lib/python3.9/site-packages/numpy/core/_methods.py:189: RuntimeWarning: invalid value encountered in double_scalars\n",
      "  ret = ret.dtype.type(ret / rcount)\n"
     ]
    },
    {
     "name": "stdout",
     "output_type": "stream",
     "text": [
      "64.9309%\n",
      "65.0372%\n",
      "65.1435%\n",
      "65.2497%\n",
      "65.3560%\n"
     ]
    },
    {
     "name": "stderr",
     "output_type": "stream",
     "text": [
      "/Users/evelyn/opt/anaconda3/lib/python3.9/site-packages/numpy/core/fromnumeric.py:3440: RuntimeWarning: Mean of empty slice.\n",
      "  return _methods._mean(a, axis=axis, dtype=dtype,\n",
      "/Users/evelyn/opt/anaconda3/lib/python3.9/site-packages/numpy/core/_methods.py:189: RuntimeWarning: invalid value encountered in double_scalars\n",
      "  ret = ret.dtype.type(ret / rcount)\n"
     ]
    },
    {
     "name": "stdout",
     "output_type": "stream",
     "text": [
      "65.4623%\n",
      "65.5685%\n",
      "65.6748%\n",
      "65.7811%\n",
      "65.8874%\n",
      "65.9936%\n",
      "66.0999%\n",
      "66.2062%\n",
      "66.3124%\n",
      "66.4187%\n",
      "66.5250%\n",
      "66.6312%\n",
      "66.7375%\n",
      "66.8438%\n",
      "66.9501%\n",
      "67.0563%\n"
     ]
    },
    {
     "name": "stderr",
     "output_type": "stream",
     "text": [
      "/Users/evelyn/opt/anaconda3/lib/python3.9/site-packages/numpy/core/fromnumeric.py:3440: RuntimeWarning: Mean of empty slice.\n",
      "  return _methods._mean(a, axis=axis, dtype=dtype,\n",
      "/Users/evelyn/opt/anaconda3/lib/python3.9/site-packages/numpy/core/_methods.py:189: RuntimeWarning: invalid value encountered in double_scalars\n",
      "  ret = ret.dtype.type(ret / rcount)\n"
     ]
    },
    {
     "name": "stdout",
     "output_type": "stream",
     "text": [
      "67.1626%\n",
      "67.2689%\n",
      "67.3751%\n"
     ]
    },
    {
     "name": "stderr",
     "output_type": "stream",
     "text": [
      "/Users/evelyn/opt/anaconda3/lib/python3.9/site-packages/numpy/core/fromnumeric.py:3440: RuntimeWarning: Mean of empty slice.\n",
      "  return _methods._mean(a, axis=axis, dtype=dtype,\n",
      "/Users/evelyn/opt/anaconda3/lib/python3.9/site-packages/numpy/core/_methods.py:189: RuntimeWarning: invalid value encountered in double_scalars\n",
      "  ret = ret.dtype.type(ret / rcount)\n"
     ]
    },
    {
     "name": "stdout",
     "output_type": "stream",
     "text": [
      "67.4814%\n",
      "67.5877%\n",
      "67.6939%\n",
      "67.8002%\n",
      "67.9065%\n",
      "68.0128%\n",
      "68.1190%\n",
      "68.2253%\n",
      "68.3316%\n",
      "68.4378%\n",
      "68.5441%\n",
      "68.6504%\n"
     ]
    },
    {
     "name": "stderr",
     "output_type": "stream",
     "text": [
      "/Users/evelyn/opt/anaconda3/lib/python3.9/site-packages/numpy/core/fromnumeric.py:3440: RuntimeWarning: Mean of empty slice.\n",
      "  return _methods._mean(a, axis=axis, dtype=dtype,\n",
      "/Users/evelyn/opt/anaconda3/lib/python3.9/site-packages/numpy/core/_methods.py:189: RuntimeWarning: invalid value encountered in double_scalars\n",
      "  ret = ret.dtype.type(ret / rcount)\n",
      "/Users/evelyn/opt/anaconda3/lib/python3.9/site-packages/numpy/core/fromnumeric.py:3440: RuntimeWarning: Mean of empty slice.\n",
      "  return _methods._mean(a, axis=axis, dtype=dtype,\n",
      "/Users/evelyn/opt/anaconda3/lib/python3.9/site-packages/numpy/core/_methods.py:189: RuntimeWarning: invalid value encountered in double_scalars\n",
      "  ret = ret.dtype.type(ret / rcount)\n"
     ]
    },
    {
     "name": "stdout",
     "output_type": "stream",
     "text": [
      "68.7566%\n",
      "68.8629%\n",
      "68.9692%\n",
      "69.0755%\n",
      "69.1817%\n",
      "69.2880%\n",
      "69.3943%\n",
      "69.5005%\n",
      "69.6068%\n",
      "69.7131%\n",
      "69.8193%\n",
      "69.9256%\n",
      "70.0319%\n",
      "70.1382%\n",
      "70.2444%\n",
      "70.3507%\n"
     ]
    },
    {
     "name": "stderr",
     "output_type": "stream",
     "text": [
      "/Users/evelyn/opt/anaconda3/lib/python3.9/site-packages/numpy/core/fromnumeric.py:3440: RuntimeWarning: Mean of empty slice.\n",
      "  return _methods._mean(a, axis=axis, dtype=dtype,\n",
      "/Users/evelyn/opt/anaconda3/lib/python3.9/site-packages/numpy/core/_methods.py:189: RuntimeWarning: invalid value encountered in double_scalars\n",
      "  ret = ret.dtype.type(ret / rcount)\n"
     ]
    },
    {
     "name": "stdout",
     "output_type": "stream",
     "text": [
      "70.4570%\n",
      "70.5632%\n",
      "70.6695%\n",
      "70.7758%\n",
      "70.8820%\n",
      "70.9883%\n"
     ]
    },
    {
     "name": "stderr",
     "output_type": "stream",
     "text": [
      "/Users/evelyn/opt/anaconda3/lib/python3.9/site-packages/numpy/core/fromnumeric.py:3440: RuntimeWarning: Mean of empty slice.\n",
      "  return _methods._mean(a, axis=axis, dtype=dtype,\n",
      "/Users/evelyn/opt/anaconda3/lib/python3.9/site-packages/numpy/core/_methods.py:189: RuntimeWarning: invalid value encountered in double_scalars\n",
      "  ret = ret.dtype.type(ret / rcount)\n"
     ]
    },
    {
     "name": "stdout",
     "output_type": "stream",
     "text": [
      "71.0946%\n",
      "71.2009%\n",
      "71.3071%\n",
      "71.4134%\n",
      "71.5197%\n",
      "71.6259%\n",
      "71.7322%\n",
      "71.8385%\n",
      "71.9447%\n",
      "72.0510%\n",
      "72.1573%\n",
      "72.2635%\n",
      "72.3698%\n",
      "72.4761%\n",
      "72.5824%\n",
      "72.6886%\n",
      "72.7949%\n",
      "72.9012%\n",
      "73.0074%\n",
      "73.1137%\n",
      "73.2200%\n",
      "73.3262%\n",
      "73.4325%\n",
      "73.5388%\n",
      "73.6451%\n",
      "73.7513%\n",
      "73.8576%\n"
     ]
    },
    {
     "name": "stderr",
     "output_type": "stream",
     "text": [
      "/Users/evelyn/opt/anaconda3/lib/python3.9/site-packages/numpy/core/fromnumeric.py:3440: RuntimeWarning: Mean of empty slice.\n",
      "  return _methods._mean(a, axis=axis, dtype=dtype,\n",
      "/Users/evelyn/opt/anaconda3/lib/python3.9/site-packages/numpy/core/_methods.py:189: RuntimeWarning: invalid value encountered in double_scalars\n",
      "  ret = ret.dtype.type(ret / rcount)\n"
     ]
    },
    {
     "name": "stdout",
     "output_type": "stream",
     "text": [
      "73.9639%\n",
      "74.0701%\n"
     ]
    },
    {
     "name": "stderr",
     "output_type": "stream",
     "text": [
      "/Users/evelyn/opt/anaconda3/lib/python3.9/site-packages/numpy/core/fromnumeric.py:3440: RuntimeWarning: Mean of empty slice.\n",
      "  return _methods._mean(a, axis=axis, dtype=dtype,\n",
      "/Users/evelyn/opt/anaconda3/lib/python3.9/site-packages/numpy/core/_methods.py:189: RuntimeWarning: invalid value encountered in double_scalars\n",
      "  ret = ret.dtype.type(ret / rcount)\n",
      "/Users/evelyn/opt/anaconda3/lib/python3.9/site-packages/numpy/core/fromnumeric.py:3440: RuntimeWarning: Mean of empty slice.\n",
      "  return _methods._mean(a, axis=axis, dtype=dtype,\n",
      "/Users/evelyn/opt/anaconda3/lib/python3.9/site-packages/numpy/core/_methods.py:189: RuntimeWarning: invalid value encountered in double_scalars\n",
      "  ret = ret.dtype.type(ret / rcount)\n"
     ]
    },
    {
     "name": "stdout",
     "output_type": "stream",
     "text": [
      "74.1764%\n",
      "74.2827%\n",
      "74.3889%\n",
      "74.4952%\n",
      "74.6015%\n",
      "74.7078%\n",
      "74.8140%\n",
      "74.9203%\n",
      "75.0266%\n",
      "75.1328%\n",
      "75.2391%\n"
     ]
    },
    {
     "name": "stderr",
     "output_type": "stream",
     "text": [
      "/Users/evelyn/opt/anaconda3/lib/python3.9/site-packages/numpy/core/fromnumeric.py:3440: RuntimeWarning: Mean of empty slice.\n",
      "  return _methods._mean(a, axis=axis, dtype=dtype,\n",
      "/Users/evelyn/opt/anaconda3/lib/python3.9/site-packages/numpy/core/_methods.py:189: RuntimeWarning: invalid value encountered in double_scalars\n",
      "  ret = ret.dtype.type(ret / rcount)\n",
      "/Users/evelyn/opt/anaconda3/lib/python3.9/site-packages/numpy/core/fromnumeric.py:3440: RuntimeWarning: Mean of empty slice.\n",
      "  return _methods._mean(a, axis=axis, dtype=dtype,\n",
      "/Users/evelyn/opt/anaconda3/lib/python3.9/site-packages/numpy/core/_methods.py:189: RuntimeWarning: invalid value encountered in double_scalars\n",
      "  ret = ret.dtype.type(ret / rcount)\n"
     ]
    },
    {
     "name": "stdout",
     "output_type": "stream",
     "text": [
      "75.3454%\n",
      "75.4516%\n",
      "75.5579%\n",
      "75.6642%\n"
     ]
    },
    {
     "name": "stderr",
     "output_type": "stream",
     "text": [
      "/Users/evelyn/opt/anaconda3/lib/python3.9/site-packages/numpy/core/fromnumeric.py:3440: RuntimeWarning: Mean of empty slice.\n",
      "  return _methods._mean(a, axis=axis, dtype=dtype,\n",
      "/Users/evelyn/opt/anaconda3/lib/python3.9/site-packages/numpy/core/_methods.py:189: RuntimeWarning: invalid value encountered in double_scalars\n",
      "  ret = ret.dtype.type(ret / rcount)\n",
      "/Users/evelyn/opt/anaconda3/lib/python3.9/site-packages/numpy/core/fromnumeric.py:3440: RuntimeWarning: Mean of empty slice.\n",
      "  return _methods._mean(a, axis=axis, dtype=dtype,\n",
      "/Users/evelyn/opt/anaconda3/lib/python3.9/site-packages/numpy/core/_methods.py:189: RuntimeWarning: invalid value encountered in double_scalars\n",
      "  ret = ret.dtype.type(ret / rcount)\n"
     ]
    },
    {
     "name": "stdout",
     "output_type": "stream",
     "text": [
      "75.7705%\n",
      "75.8767%\n",
      "75.9830%\n",
      "76.0893%\n",
      "76.1955%\n",
      "76.3018%\n",
      "76.4081%\n"
     ]
    },
    {
     "name": "stderr",
     "output_type": "stream",
     "text": [
      "/Users/evelyn/opt/anaconda3/lib/python3.9/site-packages/numpy/core/fromnumeric.py:3440: RuntimeWarning: Mean of empty slice.\n",
      "  return _methods._mean(a, axis=axis, dtype=dtype,\n",
      "/Users/evelyn/opt/anaconda3/lib/python3.9/site-packages/numpy/core/_methods.py:189: RuntimeWarning: invalid value encountered in double_scalars\n",
      "  ret = ret.dtype.type(ret / rcount)\n",
      "/Users/evelyn/opt/anaconda3/lib/python3.9/site-packages/numpy/core/fromnumeric.py:3440: RuntimeWarning: Mean of empty slice.\n",
      "  return _methods._mean(a, axis=axis, dtype=dtype,\n",
      "/Users/evelyn/opt/anaconda3/lib/python3.9/site-packages/numpy/core/_methods.py:189: RuntimeWarning: invalid value encountered in double_scalars\n",
      "  ret = ret.dtype.type(ret / rcount)\n"
     ]
    },
    {
     "name": "stdout",
     "output_type": "stream",
     "text": [
      "76.5143%\n",
      "76.6206%\n",
      "76.7269%\n",
      "76.8332%\n",
      "76.9394%\n",
      "77.0457%\n",
      "77.1520%\n",
      "77.2582%\n",
      "77.3645%\n",
      "77.4708%\n",
      "77.5770%\n",
      "77.6833%\n",
      "77.7896%\n",
      "77.8959%\n",
      "78.0021%\n",
      "78.1084%\n",
      "78.2147%\n",
      "78.3209%\n",
      "78.4272%\n",
      "78.5335%\n",
      "78.6397%\n",
      "78.7460%\n",
      "78.8523%\n",
      "78.9586%\n",
      "79.0648%\n",
      "79.1711%\n",
      "79.2774%\n",
      "79.3836%\n",
      "79.4899%\n",
      "79.5962%\n"
     ]
    },
    {
     "name": "stderr",
     "output_type": "stream",
     "text": [
      "/Users/evelyn/opt/anaconda3/lib/python3.9/site-packages/numpy/core/fromnumeric.py:3440: RuntimeWarning: Mean of empty slice.\n",
      "  return _methods._mean(a, axis=axis, dtype=dtype,\n",
      "/Users/evelyn/opt/anaconda3/lib/python3.9/site-packages/numpy/core/_methods.py:189: RuntimeWarning: invalid value encountered in double_scalars\n",
      "  ret = ret.dtype.type(ret / rcount)\n"
     ]
    },
    {
     "name": "stdout",
     "output_type": "stream",
     "text": [
      "79.7024%\n",
      "79.8087%\n",
      "79.9150%\n",
      "80.0213%\n",
      "80.1275%\n"
     ]
    },
    {
     "name": "stderr",
     "output_type": "stream",
     "text": [
      "/Users/evelyn/opt/anaconda3/lib/python3.9/site-packages/numpy/core/fromnumeric.py:3440: RuntimeWarning: Mean of empty slice.\n",
      "  return _methods._mean(a, axis=axis, dtype=dtype,\n",
      "/Users/evelyn/opt/anaconda3/lib/python3.9/site-packages/numpy/core/_methods.py:189: RuntimeWarning: invalid value encountered in double_scalars\n",
      "  ret = ret.dtype.type(ret / rcount)\n"
     ]
    },
    {
     "name": "stdout",
     "output_type": "stream",
     "text": [
      "80.2338%\n",
      "80.3401%\n",
      "80.4463%\n"
     ]
    },
    {
     "name": "stderr",
     "output_type": "stream",
     "text": [
      "/Users/evelyn/opt/anaconda3/lib/python3.9/site-packages/numpy/core/fromnumeric.py:3440: RuntimeWarning: Mean of empty slice.\n",
      "  return _methods._mean(a, axis=axis, dtype=dtype,\n",
      "/Users/evelyn/opt/anaconda3/lib/python3.9/site-packages/numpy/core/_methods.py:189: RuntimeWarning: invalid value encountered in double_scalars\n",
      "  ret = ret.dtype.type(ret / rcount)\n"
     ]
    },
    {
     "name": "stdout",
     "output_type": "stream",
     "text": [
      "80.5526%\n",
      "80.6589%\n",
      "80.7651%\n",
      "80.8714%\n",
      "80.9777%\n",
      "81.0840%\n",
      "81.1902%\n",
      "81.2965%\n",
      "81.4028%\n",
      "81.5090%\n",
      "81.6153%\n"
     ]
    },
    {
     "name": "stderr",
     "output_type": "stream",
     "text": [
      "/Users/evelyn/opt/anaconda3/lib/python3.9/site-packages/numpy/core/fromnumeric.py:3440: RuntimeWarning: Mean of empty slice.\n",
      "  return _methods._mean(a, axis=axis, dtype=dtype,\n",
      "/Users/evelyn/opt/anaconda3/lib/python3.9/site-packages/numpy/core/_methods.py:189: RuntimeWarning: invalid value encountered in double_scalars\n",
      "  ret = ret.dtype.type(ret / rcount)\n"
     ]
    },
    {
     "name": "stdout",
     "output_type": "stream",
     "text": [
      "81.7216%\n",
      "81.8278%\n",
      "81.9341%\n",
      "82.0404%\n",
      "82.1467%\n",
      "82.2529%\n",
      "82.3592%\n",
      "82.4655%\n",
      "82.5717%\n",
      "82.6780%\n"
     ]
    },
    {
     "name": "stderr",
     "output_type": "stream",
     "text": [
      "/Users/evelyn/opt/anaconda3/lib/python3.9/site-packages/numpy/core/fromnumeric.py:3440: RuntimeWarning: Mean of empty slice.\n",
      "  return _methods._mean(a, axis=axis, dtype=dtype,\n",
      "/Users/evelyn/opt/anaconda3/lib/python3.9/site-packages/numpy/core/_methods.py:189: RuntimeWarning: invalid value encountered in double_scalars\n",
      "  ret = ret.dtype.type(ret / rcount)\n",
      "/Users/evelyn/opt/anaconda3/lib/python3.9/site-packages/numpy/core/fromnumeric.py:3440: RuntimeWarning: Mean of empty slice.\n",
      "  return _methods._mean(a, axis=axis, dtype=dtype,\n",
      "/Users/evelyn/opt/anaconda3/lib/python3.9/site-packages/numpy/core/_methods.py:189: RuntimeWarning: invalid value encountered in double_scalars\n",
      "  ret = ret.dtype.type(ret / rcount)\n"
     ]
    },
    {
     "name": "stdout",
     "output_type": "stream",
     "text": [
      "82.7843%\n",
      "82.8905%\n",
      "82.9968%\n",
      "83.1031%\n",
      "83.2094%\n",
      "83.3156%\n",
      "83.4219%\n"
     ]
    },
    {
     "name": "stderr",
     "output_type": "stream",
     "text": [
      "/Users/evelyn/opt/anaconda3/lib/python3.9/site-packages/numpy/core/fromnumeric.py:3440: RuntimeWarning: Mean of empty slice.\n",
      "  return _methods._mean(a, axis=axis, dtype=dtype,\n",
      "/Users/evelyn/opt/anaconda3/lib/python3.9/site-packages/numpy/core/_methods.py:189: RuntimeWarning: invalid value encountered in double_scalars\n",
      "  ret = ret.dtype.type(ret / rcount)\n"
     ]
    },
    {
     "name": "stdout",
     "output_type": "stream",
     "text": [
      "83.5282%\n",
      "83.6344%\n",
      "83.7407%\n",
      "83.8470%\n",
      "83.9532%\n",
      "84.0595%\n",
      "84.1658%\n",
      "84.2721%\n",
      "84.3783%\n",
      "84.4846%\n",
      "84.5909%\n",
      "84.6971%\n",
      "84.8034%\n",
      "84.9097%\n",
      "85.0159%\n",
      "85.1222%\n",
      "85.2285%\n",
      "85.3348%\n",
      "85.4410%\n",
      "85.5473%\n",
      "85.6536%\n",
      "85.7598%\n",
      "85.8661%\n",
      "85.9724%\n",
      "86.0786%\n",
      "86.1849%\n",
      "86.2912%\n",
      "86.3974%\n",
      "86.5037%\n"
     ]
    },
    {
     "name": "stderr",
     "output_type": "stream",
     "text": [
      "/Users/evelyn/opt/anaconda3/lib/python3.9/site-packages/numpy/core/fromnumeric.py:3440: RuntimeWarning: Mean of empty slice.\n",
      "  return _methods._mean(a, axis=axis, dtype=dtype,\n",
      "/Users/evelyn/opt/anaconda3/lib/python3.9/site-packages/numpy/core/_methods.py:189: RuntimeWarning: invalid value encountered in double_scalars\n",
      "  ret = ret.dtype.type(ret / rcount)\n"
     ]
    },
    {
     "name": "stdout",
     "output_type": "stream",
     "text": [
      "86.6100%\n",
      "86.7163%\n",
      "86.8225%\n",
      "86.9288%\n",
      "87.0351%\n",
      "87.1413%\n"
     ]
    },
    {
     "name": "stderr",
     "output_type": "stream",
     "text": [
      "/Users/evelyn/opt/anaconda3/lib/python3.9/site-packages/numpy/core/fromnumeric.py:3440: RuntimeWarning: Mean of empty slice.\n",
      "  return _methods._mean(a, axis=axis, dtype=dtype,\n",
      "/Users/evelyn/opt/anaconda3/lib/python3.9/site-packages/numpy/core/_methods.py:189: RuntimeWarning: invalid value encountered in double_scalars\n",
      "  ret = ret.dtype.type(ret / rcount)\n",
      "/Users/evelyn/opt/anaconda3/lib/python3.9/site-packages/numpy/core/fromnumeric.py:3440: RuntimeWarning: Mean of empty slice.\n",
      "  return _methods._mean(a, axis=axis, dtype=dtype,\n",
      "/Users/evelyn/opt/anaconda3/lib/python3.9/site-packages/numpy/core/_methods.py:189: RuntimeWarning: invalid value encountered in double_scalars\n",
      "  ret = ret.dtype.type(ret / rcount)\n"
     ]
    },
    {
     "name": "stdout",
     "output_type": "stream",
     "text": [
      "87.2476%\n",
      "87.3539%\n",
      "87.4601%\n",
      "87.5664%\n",
      "87.6727%\n",
      "87.7790%\n",
      "87.8852%\n",
      "87.9915%\n",
      "88.0978%\n",
      "88.2040%\n",
      "88.3103%\n",
      "88.4166%\n",
      "88.5228%\n",
      "88.6291%\n",
      "88.7354%\n",
      "88.8417%\n",
      "88.9479%\n",
      "89.0542%\n",
      "89.1605%\n",
      "89.2667%\n",
      "89.3730%\n",
      "89.4793%\n",
      "89.5855%\n",
      "89.6918%\n",
      "89.7981%\n"
     ]
    },
    {
     "name": "stderr",
     "output_type": "stream",
     "text": [
      "/Users/evelyn/opt/anaconda3/lib/python3.9/site-packages/numpy/core/fromnumeric.py:3440: RuntimeWarning: Mean of empty slice.\n",
      "  return _methods._mean(a, axis=axis, dtype=dtype,\n",
      "/Users/evelyn/opt/anaconda3/lib/python3.9/site-packages/numpy/core/_methods.py:189: RuntimeWarning: invalid value encountered in double_scalars\n",
      "  ret = ret.dtype.type(ret / rcount)\n"
     ]
    },
    {
     "name": "stdout",
     "output_type": "stream",
     "text": [
      "89.9044%\n",
      "90.0106%\n",
      "90.1169%\n",
      "90.2232%\n",
      "90.3294%\n",
      "90.4357%\n",
      "90.5420%\n",
      "90.6482%\n",
      "90.7545%\n",
      "90.8608%\n",
      "90.9671%\n",
      "91.0733%\n",
      "91.1796%\n",
      "91.2859%\n",
      "91.3921%\n",
      "91.4984%\n",
      "91.6047%\n",
      "91.7109%\n",
      "91.8172%\n",
      "91.9235%\n",
      "92.0298%\n",
      "92.1360%\n",
      "92.2423%\n",
      "92.3486%\n"
     ]
    },
    {
     "name": "stderr",
     "output_type": "stream",
     "text": [
      "/Users/evelyn/opt/anaconda3/lib/python3.9/site-packages/numpy/core/fromnumeric.py:3440: RuntimeWarning: Mean of empty slice.\n",
      "  return _methods._mean(a, axis=axis, dtype=dtype,\n",
      "/Users/evelyn/opt/anaconda3/lib/python3.9/site-packages/numpy/core/_methods.py:189: RuntimeWarning: invalid value encountered in double_scalars\n",
      "  ret = ret.dtype.type(ret / rcount)\n"
     ]
    },
    {
     "name": "stdout",
     "output_type": "stream",
     "text": [
      "92.4548%\n",
      "92.5611%\n",
      "92.6674%\n"
     ]
    },
    {
     "name": "stderr",
     "output_type": "stream",
     "text": [
      "/Users/evelyn/opt/anaconda3/lib/python3.9/site-packages/numpy/core/fromnumeric.py:3440: RuntimeWarning: Mean of empty slice.\n",
      "  return _methods._mean(a, axis=axis, dtype=dtype,\n",
      "/Users/evelyn/opt/anaconda3/lib/python3.9/site-packages/numpy/core/_methods.py:189: RuntimeWarning: invalid value encountered in double_scalars\n",
      "  ret = ret.dtype.type(ret / rcount)\n",
      "/Users/evelyn/opt/anaconda3/lib/python3.9/site-packages/numpy/core/fromnumeric.py:3440: RuntimeWarning: Mean of empty slice.\n",
      "  return _methods._mean(a, axis=axis, dtype=dtype,\n",
      "/Users/evelyn/opt/anaconda3/lib/python3.9/site-packages/numpy/core/_methods.py:189: RuntimeWarning: invalid value encountered in double_scalars\n",
      "  ret = ret.dtype.type(ret / rcount)\n"
     ]
    },
    {
     "name": "stdout",
     "output_type": "stream",
     "text": [
      "92.7736%\n",
      "92.8799%\n",
      "92.9862%\n",
      "93.0925%\n",
      "93.1987%\n",
      "93.3050%\n"
     ]
    },
    {
     "name": "stderr",
     "output_type": "stream",
     "text": [
      "/Users/evelyn/opt/anaconda3/lib/python3.9/site-packages/numpy/core/fromnumeric.py:3440: RuntimeWarning: Mean of empty slice.\n",
      "  return _methods._mean(a, axis=axis, dtype=dtype,\n",
      "/Users/evelyn/opt/anaconda3/lib/python3.9/site-packages/numpy/core/_methods.py:189: RuntimeWarning: invalid value encountered in double_scalars\n",
      "  ret = ret.dtype.type(ret / rcount)\n"
     ]
    },
    {
     "name": "stdout",
     "output_type": "stream",
     "text": [
      "93.4113%\n",
      "93.5175%\n",
      "93.6238%\n",
      "93.7301%\n"
     ]
    },
    {
     "name": "stderr",
     "output_type": "stream",
     "text": [
      "/Users/evelyn/opt/anaconda3/lib/python3.9/site-packages/numpy/core/fromnumeric.py:3440: RuntimeWarning: Mean of empty slice.\n",
      "  return _methods._mean(a, axis=axis, dtype=dtype,\n",
      "/Users/evelyn/opt/anaconda3/lib/python3.9/site-packages/numpy/core/_methods.py:189: RuntimeWarning: invalid value encountered in double_scalars\n",
      "  ret = ret.dtype.type(ret / rcount)\n"
     ]
    },
    {
     "name": "stdout",
     "output_type": "stream",
     "text": [
      "93.8363%\n",
      "93.9426%\n",
      "94.0489%\n",
      "94.1552%\n",
      "94.2614%\n",
      "94.3677%\n"
     ]
    },
    {
     "name": "stderr",
     "output_type": "stream",
     "text": [
      "/Users/evelyn/opt/anaconda3/lib/python3.9/site-packages/numpy/core/fromnumeric.py:3440: RuntimeWarning: Mean of empty slice.\n",
      "  return _methods._mean(a, axis=axis, dtype=dtype,\n",
      "/Users/evelyn/opt/anaconda3/lib/python3.9/site-packages/numpy/core/_methods.py:189: RuntimeWarning: invalid value encountered in double_scalars\n",
      "  ret = ret.dtype.type(ret / rcount)\n"
     ]
    },
    {
     "name": "stdout",
     "output_type": "stream",
     "text": [
      "94.4740%\n",
      "94.5802%\n",
      "94.6865%\n",
      "94.7928%\n",
      "94.8990%\n"
     ]
    },
    {
     "name": "stderr",
     "output_type": "stream",
     "text": [
      "/Users/evelyn/opt/anaconda3/lib/python3.9/site-packages/numpy/core/fromnumeric.py:3440: RuntimeWarning: Mean of empty slice.\n",
      "  return _methods._mean(a, axis=axis, dtype=dtype,\n",
      "/Users/evelyn/opt/anaconda3/lib/python3.9/site-packages/numpy/core/_methods.py:189: RuntimeWarning: invalid value encountered in double_scalars\n",
      "  ret = ret.dtype.type(ret / rcount)\n"
     ]
    },
    {
     "name": "stdout",
     "output_type": "stream",
     "text": [
      "95.0053%\n",
      "95.1116%\n",
      "95.2179%\n",
      "95.3241%\n",
      "95.4304%\n",
      "95.5367%\n",
      "95.6429%\n",
      "95.7492%\n",
      "95.8555%\n"
     ]
    },
    {
     "name": "stderr",
     "output_type": "stream",
     "text": [
      "/Users/evelyn/opt/anaconda3/lib/python3.9/site-packages/numpy/core/fromnumeric.py:3440: RuntimeWarning: Mean of empty slice.\n",
      "  return _methods._mean(a, axis=axis, dtype=dtype,\n",
      "/Users/evelyn/opt/anaconda3/lib/python3.9/site-packages/numpy/core/_methods.py:189: RuntimeWarning: invalid value encountered in double_scalars\n",
      "  ret = ret.dtype.type(ret / rcount)\n"
     ]
    },
    {
     "name": "stdout",
     "output_type": "stream",
     "text": [
      "95.9617%\n"
     ]
    },
    {
     "name": "stderr",
     "output_type": "stream",
     "text": [
      "/Users/evelyn/opt/anaconda3/lib/python3.9/site-packages/numpy/core/fromnumeric.py:3440: RuntimeWarning: Mean of empty slice.\n",
      "  return _methods._mean(a, axis=axis, dtype=dtype,\n",
      "/Users/evelyn/opt/anaconda3/lib/python3.9/site-packages/numpy/core/_methods.py:189: RuntimeWarning: invalid value encountered in double_scalars\n",
      "  ret = ret.dtype.type(ret / rcount)\n",
      "/Users/evelyn/opt/anaconda3/lib/python3.9/site-packages/numpy/core/fromnumeric.py:3440: RuntimeWarning: Mean of empty slice.\n",
      "  return _methods._mean(a, axis=axis, dtype=dtype,\n",
      "/Users/evelyn/opt/anaconda3/lib/python3.9/site-packages/numpy/core/_methods.py:189: RuntimeWarning: invalid value encountered in double_scalars\n",
      "  ret = ret.dtype.type(ret / rcount)\n",
      "/Users/evelyn/opt/anaconda3/lib/python3.9/site-packages/numpy/core/fromnumeric.py:3440: RuntimeWarning: Mean of empty slice.\n",
      "  return _methods._mean(a, axis=axis, dtype=dtype,\n",
      "/Users/evelyn/opt/anaconda3/lib/python3.9/site-packages/numpy/core/_methods.py:189: RuntimeWarning: invalid value encountered in double_scalars\n",
      "  ret = ret.dtype.type(ret / rcount)\n"
     ]
    },
    {
     "name": "stdout",
     "output_type": "stream",
     "text": [
      "96.0680%\n",
      "96.1743%\n",
      "96.2806%\n",
      "96.3868%\n",
      "96.4931%\n",
      "96.5994%\n",
      "96.7056%\n",
      "96.8119%\n",
      "96.9182%\n",
      "97.0244%\n",
      "97.1307%\n",
      "97.2370%\n",
      "97.3433%\n",
      "97.4495%\n",
      "97.5558%\n",
      "97.6621%\n",
      "97.7683%\n",
      "97.8746%\n",
      "97.9809%\n"
     ]
    },
    {
     "name": "stderr",
     "output_type": "stream",
     "text": [
      "/Users/evelyn/opt/anaconda3/lib/python3.9/site-packages/numpy/core/fromnumeric.py:3440: RuntimeWarning: Mean of empty slice.\n",
      "  return _methods._mean(a, axis=axis, dtype=dtype,\n",
      "/Users/evelyn/opt/anaconda3/lib/python3.9/site-packages/numpy/core/_methods.py:189: RuntimeWarning: invalid value encountered in double_scalars\n",
      "  ret = ret.dtype.type(ret / rcount)\n"
     ]
    },
    {
     "name": "stdout",
     "output_type": "stream",
     "text": [
      "98.0871%\n",
      "98.1934%\n",
      "98.2997%\n",
      "98.4060%\n",
      "98.5122%\n"
     ]
    },
    {
     "name": "stderr",
     "output_type": "stream",
     "text": [
      "/Users/evelyn/opt/anaconda3/lib/python3.9/site-packages/numpy/core/fromnumeric.py:3440: RuntimeWarning: Mean of empty slice.\n",
      "  return _methods._mean(a, axis=axis, dtype=dtype,\n",
      "/Users/evelyn/opt/anaconda3/lib/python3.9/site-packages/numpy/core/_methods.py:189: RuntimeWarning: invalid value encountered in double_scalars\n",
      "  ret = ret.dtype.type(ret / rcount)\n",
      "/Users/evelyn/opt/anaconda3/lib/python3.9/site-packages/numpy/core/fromnumeric.py:3440: RuntimeWarning: Mean of empty slice.\n",
      "  return _methods._mean(a, axis=axis, dtype=dtype,\n",
      "/Users/evelyn/opt/anaconda3/lib/python3.9/site-packages/numpy/core/_methods.py:189: RuntimeWarning: invalid value encountered in double_scalars\n",
      "  ret = ret.dtype.type(ret / rcount)\n"
     ]
    },
    {
     "name": "stdout",
     "output_type": "stream",
     "text": [
      "98.6185%\n",
      "98.7248%\n",
      "98.8310%\n"
     ]
    },
    {
     "name": "stderr",
     "output_type": "stream",
     "text": [
      "/Users/evelyn/opt/anaconda3/lib/python3.9/site-packages/numpy/core/fromnumeric.py:3440: RuntimeWarning: Mean of empty slice.\n",
      "  return _methods._mean(a, axis=axis, dtype=dtype,\n",
      "/Users/evelyn/opt/anaconda3/lib/python3.9/site-packages/numpy/core/_methods.py:189: RuntimeWarning: invalid value encountered in double_scalars\n",
      "  ret = ret.dtype.type(ret / rcount)\n"
     ]
    },
    {
     "name": "stdout",
     "output_type": "stream",
     "text": [
      "98.9373%\n",
      "99.0436%\n",
      "99.1498%\n",
      "99.2561%\n",
      "99.3624%\n",
      "99.4687%\n",
      "99.5749%\n",
      "99.6812%\n",
      "99.7875%\n",
      "99.8937%\n"
     ]
    }
   ],
   "source": [
    "path = '/Users/evelyn/Desktop/weather information/salm-weather/'\n",
    "\n",
    "path1 = '/Users/evelyn/Desktop/weather information/salm_interpolated/'\n",
    "\n",
    "import os\n",
    "import os.path\n",
    "import numpy as np\n",
    "\n",
    "\n",
    "for i in range(len(salm)):\n",
    "    print('{:.4%}'.format(i/len(salm)))\n",
    "    \n",
    "    df_outbreak = salm_station[salm_station[\"CDCID\"] == salm.loc[i,\"CDCID\"]]\n",
    "    df_outbreak = df_outbreak.reset_index(drop = True)\n",
    "    \n",
    "    df_null = salm_null[salm_null[\"CDCID\"] == salm.loc[i,\"CDCID\"]]\n",
    "    df_null = df_null.reset_index(drop = True)\n",
    "    \n",
    "    TEMP = [] ; MAX = [] ; MIN = [] ; DEWP = [] ; SLP = [] ; STP = [] ; WDSP = [] ; MXSPD = [];\n",
    "    PRCP = [] ; SNDP = [];\n",
    "    Fog = [] ; Rain = [] ; Snow = [] ; Hail = [] ; Thunder = [] ; Tornado = [];\n",
    "    if (len(df_outbreak) > 0):\n",
    "        startdate = datetime.datetime.strptime(df_outbreak.loc[0, \"InitialExposure\"], \"%Y-%m-%d\")\n",
    "        enddate = datetime.datetime.strptime(df_outbreak.loc[0, \"LastExposure\"], \"%Y-%m-%d\")\n",
    "    elif (len(df_null) > 0):\n",
    "        startdate = datetime.datetime.strptime(df_null.loc[0, \"InitialExposure\"], \"%Y-%m-%d\")\n",
    "        enddate = datetime.datetime.strptime(df_null.loc[0, \"LastExposure\"], \"%Y-%m-%d\")\n",
    "    else:\n",
    "        continue\n",
    "        \n",
    "    delta = datetime.timedelta(days=1)\n",
    "    d = startdate\n",
    "    \n",
    "    while d <= enddate:\n",
    "        yr = int(str(d)[:4])\n",
    "        TEMP1 = [] ; MAX1 = [] ; MIN1 = [] ; DEWP1 = [] ; SLP1 = [] ; STP1 = [] ; WDSP1 = [] ; MXSPD1 = [];\n",
    "        PRCP1 = [] ; SNDP1 = [];\n",
    "        Fog1 = [] ; Rain1 = [] ; Snow1 = [] ; Hail1 = [] ; Thunder1 = [] ; Tornado1 = [];\n",
    "        \n",
    "        if (len(df_outbreak) > 0):\n",
    "            for j in range(len(df_outbreak)):\n",
    "                usaf = df_outbreak.loc[j, \"USAF\"]\n",
    "                wban = df_outbreak.loc[j, \"WBAN\"]\n",
    "                filename = str(usaf) + str(wban) + \"-\" + str(yr) + \"DAILY.csv\"\n",
    "                if not(os.path.isfile(path+filename)):\n",
    "                    continue \n",
    "                elif(sum(1 for line in open(path+filename)) < 10):\n",
    "                    continue \n",
    "                else:\n",
    "                    df = pd.read_csv(path + filename)\n",
    "                    if(df.DATE.str.contains(str(d)[:10]).any()):\n",
    "                        m = df[df.DATE == str(d)[:10]].index.tolist()[0]\n",
    "                        if(df.loc[m, \"TEMP\"] < 9999):\n",
    "                            TEMP1.append(df.loc[m, \"TEMP\"])\n",
    "                        if(df.loc[m, \"MAX\"] < 9999):\n",
    "                            MAX1.append(df.loc[m, \"MAX\"])\n",
    "                        if(df.loc[m, \"MIN\"] < 9999):\n",
    "                            MIN1.append(df.loc[m, \"MIN\"])\n",
    "                        if(df.loc[m, \"DEWP\"] < 9999):\n",
    "                            DEWP1.append(df.loc[m, \"DEWP\"])\n",
    "                        if(df.loc[m, \"SLP\"] < 9999):\n",
    "                            SLP1.append(df.loc[m, \"SLP\"])\n",
    "                        if(df.loc[m, \"STP\"] < 9999):\n",
    "                            STP1.append(df.loc[m, \"STP\"])\n",
    "                        if(df.loc[m, \"WDSP\"] < 999):\n",
    "                            WDSP1.append(df.loc[m, \"WDSP\"])\n",
    "                        if(df.loc[m, \"MXSPD\"] < 998):\n",
    "                            MXSPD1.append(df.loc[m, \"MXSPD\"])\n",
    "                        if(df.loc[m, \"PRCP\"] < 99):\n",
    "                            PRCP1.append(df.loc[m, \"PRCP\"])\n",
    "\n",
    "                        SNDP1.append(df.loc[m, \"SNDP\"]) \n",
    "                        Fog1.append(df.loc[m, \"Fog\"])\n",
    "                        Rain1.append(df.loc[m, \"Rain or Drizzle\"])\n",
    "                        Snow1.append(df.loc[m, \"Snow or Ice Pellets\"])\n",
    "                        Hail1.append(df.loc[m, \"Hail\"])\n",
    "                        Thunder1.append(df.loc[m, \"Thunder\"])\n",
    "                        Tornado1.append(df.loc[m, \"Tornado or Funnel Cloud\"])\n",
    "                    else:\n",
    "                        continue\n",
    "        if (len(df_null) > 0):\n",
    "            for k in range(len(df_null)):\n",
    "                usaf1 = df_null.loc[k, \"USAF0\"]\n",
    "                wban1 = df_null.loc[k, \"WBAN0\"]\n",
    "                filename1 = str(usaf1) + str(wban1) + \"-\" + str(yr) + \"DAILY.csv\"\n",
    "                dfn = pd.read_csv(path1 + filename1)\n",
    "                if(dfn.DATE.str.contains(str(d)[:10]).any()):\n",
    "                    a = dfn[dfn.DATE == str(d)[:10]].index.tolist()[0]\n",
    "                    if(dfn.loc[a, \"TEMP\"] < 9999):\n",
    "                        TEMP1.append(dfn.loc[a, \"TEMP\"]) \n",
    "                    if(dfn.loc[a, \"MAX\"] < 9999):\n",
    "                        MAX1.append(dfn.loc[a, \"MAX\"])\n",
    "                    if(dfn.loc[a, \"MIN\"] < 9999):\n",
    "                        MIN1.append(dfn.loc[a, \"MIN\"])\n",
    "                    if(dfn.loc[a, \"DEWP\"] < 9999):\n",
    "                        DEWP1.append(dfn.loc[a, \"DEWP\"])\n",
    "                    if(dfn.loc[a, \"SLP\"] < 9999):\n",
    "                        SLP1.append(dfn.loc[a, \"SLP\"])\n",
    "                    if(dfn.loc[a, \"STP\"] < 9999):\n",
    "                        STP1.append(dfn.loc[a, \"STP\"])\n",
    "                    if(dfn.loc[a, \"WDSP\"] < 999):\n",
    "                        WDSP1.append(dfn.loc[a, \"WDSP\"])\n",
    "                    if(dfn.loc[a, \"MXSPD\"] < 998):\n",
    "                        MXSPD1.append(dfn.loc[a, \"MXSPD\"])\n",
    "                    if(dfn.loc[a, \"PRCP\"] < 99):\n",
    "                        PRCP1.append(dfn.loc[a, \"PRCP\"])\n",
    "                        \n",
    "                    SNDP1.append(dfn.loc[a, \"SNDP\"])\n",
    "                    Fog1.append(dfn.loc[a, \"Fog\"])\n",
    "                    Rain1.append(dfn.loc[a, \"Rain or Drizzle\"])\n",
    "                    Snow1.append(dfn.loc[a, \"Snow or Ice Pellets\"])\n",
    "                    Hail1.append(dfn.loc[a, \"Hail\"])\n",
    "                    Thunder1.append(dfn.loc[a, \"Thunder\"])\n",
    "                    Tornado1.append(dfn.loc[a, \"Tornado or Funnel Cloud\"])\n",
    "                else:\n",
    "                    continue\n",
    "            \n",
    "        if not(len(TEMP1) == 0):\n",
    "            TEMP.append(np.mean(TEMP1))\n",
    "        if not(len(MAX1) == 0):\n",
    "            MAX.append(np.mean(MAX1))\n",
    "        if not (len(MIN1) == 0):\n",
    "            MIN.append(np.mean(MIN1))\n",
    "        if not (len(DEWP1) == 0):\n",
    "            DEWP.append(np.mean(DEWP1))\n",
    "        if not (len(SLP1) == 0):\n",
    "            SLP.append(np.mean(SLP1))\n",
    "        if not (len(STP1) == 0):\n",
    "            STP.append(np.mean(STP1))\n",
    "        if not (len(WDSP1) == 0):\n",
    "            WDSP.append(np.mean(WDSP1))\n",
    "        if not (len(MXSPD1) == 0):\n",
    "            MXSPD.append(np.mean(MXSPD1))\n",
    "        if not (len(PRCP1) == 0):\n",
    "            PRCP.append(np.mean(PRCP1))\n",
    "        if not (len(SNDP1) == 0):\n",
    "            SNDP.append(np.mean(SNDP1))\n",
    "        if not (len(Fog1) == 0):\n",
    "            Fog.append(np.mean(Fog1))\n",
    "        if not (len(Rain1) == 0):\n",
    "            Rain.append(np.mean(Rain1))\n",
    "        if not (len(Snow1) == 0):\n",
    "            Snow.append(np.mean(Snow1))\n",
    "        if not (len(Hail1) == 0):\n",
    "            Hail.append(np.mean(Hail1))\n",
    "        if not (len(Thunder1) == 0):\n",
    "            Thunder.append(np.mean(Thunder1))\n",
    "        if not (len(Tornado1) == 0):\n",
    "            Tornado.append(np.mean(Tornado1))\n",
    "        \n",
    "        d = d + delta\n",
    "        \n",
    "    salm.loc[i, \"TEMP\"] = np.mean(TEMP); \n",
    "    salm.loc[i, \"MAX\"] = np.mean(MAX); \n",
    "    salm.loc[i, \"MIN\"] = np.mean(MIN);\n",
    "    salm.loc[i, \"DEWP\"] = np.mean(DEWP); \n",
    "    salm.loc[i, \"SLP\"] = np.mean(SLP); \n",
    "    salm.loc[i, \"STP\"] = np.mean(STP);\n",
    "    salm.loc[i, \"WDSP\"] = np.mean(WDSP); \n",
    "    salm.loc[i, \"MXSPD\"] = np.mean(MXSPD); \n",
    "    salm.loc[i, \"PRCP\"] = np.mean(PRCP);\n",
    "    salm.loc[i, \"SNDP\"] = np.mean(SNDP); \n",
    "    salm.loc[i, \"Fog\"] = np.mean(Fog); \n",
    "    salm.loc[i, \"Rain or Drizzle\"] = np.mean(Rain);\n",
    "    salm.loc[i, \"Snow or Ice Pellets\"] = np.mean(Snow); \n",
    "    salm.loc[i, \"Hail\"] = np.mean(Hail); \n",
    "    salm.loc[i, \"Thunder\"] = np.mean(Thunder); \n",
    "    salm.loc[i, \"Tornado or Funnel Cloud\"] = np.mean(Tornado);  \n",
    "    "
   ]
  },
  {
   "cell_type": "code",
   "execution_count": 296,
   "id": "dbfd5dcf",
   "metadata": {},
   "outputs": [],
   "source": [
    "salm.to_csv('/Users/evelyn/desktop/test2.csv')"
   ]
  },
  {
   "cell_type": "code",
   "execution_count": 297,
   "id": "98ea35a0",
   "metadata": {
    "scrolled": true
   },
   "outputs": [
    {
     "data": {
      "text/plain": [
       "CDCID                        0\n",
       "GenusName                    0\n",
       "InitialExposure              0\n",
       "LastExposure                 0\n",
       "TotalCases                   0\n",
       "Exposurestate                1\n",
       "ExposureState                0\n",
       "ExposureCounty1              0\n",
       "ExposureCounty2            841\n",
       "ExposureCounty3            867\n",
       "ExposureCounty4            890\n",
       "ExposureCounty5            901\n",
       "ExposureCounty6            909\n",
       "ExposureCounty7            919\n",
       "ExposureCounty8            924\n",
       "ExposureCounty9            927\n",
       "ExposureCounty10           928\n",
       "ExposureCounty11           931\n",
       "ExposureCounty12           932\n",
       "ExposureCounty13           936\n",
       "ExposureCounty14           938\n",
       "ExposureCounty15           938\n",
       "ExposureCounty16           938\n",
       "ExposureCounty17           939\n",
       "ExposureCounty18           939\n",
       "ExposureCounty19           940\n",
       "TEMP                        10\n",
       "MAX                         10\n",
       "MIN                         10\n",
       "DEWP                        21\n",
       "SLP                        138\n",
       "STP                         10\n",
       "WDSP                        15\n",
       "MXSPD                       15\n",
       "PRCP                        25\n",
       "SNDP                        10\n",
       "Fog                         10\n",
       "Rain or Drizzle             10\n",
       "Snow or Ice Pellets         10\n",
       "Hail                        10\n",
       "Thunder                     10\n",
       "Tornado or Funnel Cloud     10\n",
       "dtype: int64"
      ]
     },
     "execution_count": 297,
     "metadata": {},
     "output_type": "execute_result"
    }
   ],
   "source": [
    "salm.isnull().sum()"
   ]
  },
  {
   "cell_type": "code",
   "execution_count": 320,
   "id": "afb2b563",
   "metadata": {},
   "outputs": [],
   "source": [
    "salm = pd.read_csv('/Users/evelyn/Desktop/Salmonella.csv')"
   ]
  },
  {
   "cell_type": "code",
   "execution_count": 321,
   "id": "0a7b1508",
   "metadata": {},
   "outputs": [],
   "source": [
    "b = [16626, 276953] #have direct usaf and wban but failed to capture data during outbreaks\n",
    "c = [2539, 16210, 16238, 16626, 20216, 274650,276953, 282670, 297118, 298455]\n",
    "path = '/Users/evelyn/Desktop/project/salm_null/'\n",
    "for i in range(len(c)):\n",
    "    TEMP2 = [] ; MAX2 = [] ; MIN2 = [] ; DEWP2 = [] ; SLP2 = [] ; STP2 = [] ; WDSP2 = [] ; MXSPD2 = [];\n",
    "    PRCP2 = [] ; SNDP2= [];\n",
    "    Fog2 = [] ; Rain2 = [] ; Snow2 = [] ; Hail2 = [] ; Thunder2 = [] ; Tornado2 = [];\n",
    "    index = salm[salm.CDCID == c[i]].index.tolist()[0]\n",
    "    k = salm_null[salm_null.CDCID == c[i]].index.tolist()[0]\n",
    "    \n",
    "    startdate = datetime.datetime.strptime(salm_null.loc[k, \"InitialExposure\"], \"%Y-%m-%d\")\n",
    "    enddate = datetime.datetime.strptime(salm_null.loc[k, \"LastExposure\"], \"%Y-%m-%d\")\n",
    "    d = startdate\n",
    "    delta = datetime.timedelta(days=1)\n",
    "    \n",
    "    \n",
    "    while d <= enddate:\n",
    "        yr = int(str(d)[:4])\n",
    "        w = [salm_null.loc[k, \"W0\"], salm_null.loc[k,\"W1\"], salm_null.loc[k,\"W2\"]]\n",
    "        usaf0 = salm_null.loc[k, \"USAF0\"]\n",
    "        wban0 = salm_null.loc[k, \"WBAN0\"]\n",
    "        filename0 = str(usaf0) + str(wban0) + \"-\" + str(yr) + \"DAILY.csv\"\n",
    "        df0 = pd.read_csv(path + filename0)\n",
    "\n",
    "        usaf1 = salm_null.loc[k, \"USAF1\"]\n",
    "        wban1 = salm_null.loc[k, \"WBAN1\"]\n",
    "        filename1 = str(usaf1) + str(wban1) + \"-\" + str(yr) + \"DAILY.csv\"\n",
    "        df1 = pd.read_csv(path + filename1)\n",
    "\n",
    "        usaf2 = salm_null.loc[k, \"USAF2\"]\n",
    "        wban2 = salm_null.loc[k, \"WBAN2\"]\n",
    "        filename2 = str(usaf2) + str(wban2) + \"-\" + str(yr) + \"DAILY.csv\"\n",
    "        df2 = pd.read_csv(path + filename2)\n",
    "        \n",
    "        TEMP3 = [] ; MAX3 = [] ; MIN3 = [] ; DEWP3 = [] ; SLP3 = [] ; STP3 = [] ; WDSP3 = [] ; MXSPD3 = [];\n",
    "        PRCP3 = [] ; SNDP3 = [];\n",
    "        Fog3 = [] ; Rain3 = [] ; Snow3 = [] ; Hail3 = [] ; Thunder3 = [] ; Tornado3 = [];\n",
    "        \n",
    "        if(df0.DATE.str.contains(str(d)[:10]).any()):\n",
    "            e = df0[df0.DATE == str(d)[:10]].index.tolist()[0]\n",
    "            if(df0.loc[e, \"TEMP\"] < 9999):\n",
    "                TEMP3.append(df0.loc[e, \"TEMP\"]) \n",
    "            if(df0.loc[e, \"MAX\"] < 9999):\n",
    "                MAX3.append(df0.loc[e, \"MAX\"])\n",
    "            if(df0.loc[e, \"MIN\"] < 9999):\n",
    "                MIN3.append(df0.loc[e, \"MIN\"])\n",
    "            if(df0.loc[e, \"DEWP\"] < 9999):\n",
    "                DEWP3.append(df0.loc[e, \"DEWP\"])\n",
    "            if(df0.loc[e, \"SLP\"] < 9999):\n",
    "                SLP3.append(df0.loc[e, \"SLP\"])\n",
    "            if(df0.loc[e, \"STP\"] < 9999):\n",
    "                STP3.append(df0.loc[e, \"STP\"])\n",
    "            if(df0.loc[e, \"WDSP\"] < 999):\n",
    "                WDSP3.append(df0.loc[e, \"WDSP\"])\n",
    "            if(df0.loc[e, \"MXSPD\"] < 998):\n",
    "                MXSPD3.append(df0.loc[e, \"MXSPD\"])\n",
    "            if(df0.loc[e, \"PRCP\"] < 99):\n",
    "                PRCP3.append(df0.loc[e, \"PRCP\"])\n",
    "            if(df0.loc[e, \"SNDP\"] == 999.9):\n",
    "                SNDP3.append(0)\n",
    "            else:\n",
    "                SNDP3.append(df0.loc[e, \"SNDP\"])\n",
    "            \n",
    "            if((df0.loc[e, \"FRSHTT\"]%10) > 0):# 个位\n",
    "                Tornado3.append(int(1))\n",
    "            else:\n",
    "                Tornado3.append(int(0))\n",
    "            if(df0.loc[e, \"FRSHTT\"]//10%10 > 0):#十位\n",
    "                Thunder3.append(int(1))       \n",
    "            else:\n",
    "                Thunder3.append(int(0))       \n",
    "            if((df0.loc[e, \"FRSHTT\"]//100%10) > 0):#百位\n",
    "                Hail3.append(int(1))\n",
    "            else:\n",
    "                Hail3.append(int(0))\n",
    "            if((df0.loc[e, \"FRSHTT\"]//1000%10) > 0):#千位\n",
    "                Snow3.append(int(1))\n",
    "            else:\n",
    "                Snow3.append(int(0))\n",
    "            if((df0.loc[e, \"FRSHTT\"]//10000 % 10) > 0):\n",
    "                Rain3.append(int(1))        \n",
    "            else:\n",
    "                Rain3.append(int(0))\n",
    "            if((df0.loc[e, \"FRSHTT\"]//100000 % 10) > 0):\n",
    "                Fog3.append(int(1))\n",
    "            else:\n",
    "                Fog3.append(int(0))\n",
    "        else:\n",
    "            w[0] = 0\n",
    "        \n",
    " #df1       \n",
    "        if(df1.DATE.str.contains(str(d)[:10]).any()):\n",
    "            a = df1[df1.DATE == str(d)[:10]].index.tolist()[0]\n",
    "            if(df1.loc[a, \"TEMP\"] < 9999):\n",
    "                TEMP3.append(df1.loc[a, \"TEMP\"]) \n",
    "            if(df1.loc[a, \"MAX\"] < 9999):\n",
    "                MAX3.append(df1.loc[a, \"MAX\"])\n",
    "            if(df1.loc[a, \"MIN\"] < 9999):\n",
    "                MIN3.append(df1.loc[a, \"MIN\"])\n",
    "            if(df1.loc[a, \"DEWP\"] < 9999):\n",
    "                DEWP3.append(df1.loc[a, \"DEWP\"])\n",
    "            if(df1.loc[a, \"SLP\"] < 9999):\n",
    "                SLP3.append(df1.loc[a, \"SLP\"])\n",
    "            if(df1.loc[a, \"STP\"] < 9999):\n",
    "                STP3.append(df1.loc[a, \"STP\"])\n",
    "            if(df1.loc[a, \"WDSP\"] < 999):\n",
    "                WDSP3.append(df1.loc[a, \"WDSP\"])\n",
    "            if(df1.loc[a, \"MXSPD\"] < 998):\n",
    "                MXSPD3.append(df1.loc[a, \"MXSPD\"])\n",
    "            if(df1.loc[a, \"PRCP\"] < 99):\n",
    "                PRCP3.append(df1.loc[a, \"PRCP\"])\n",
    "            if(df1.loc[a, \"SNDP\"] == 999.9):\n",
    "                SNDP3.append(0)\n",
    "            else:\n",
    "                SNDP3.append(df1.loc[a, \"SNDP\"])\n",
    "            if((df1.loc[a, \"FRSHTT\"]%10) > 0):# 个位\n",
    "                Tornado3.append(int(1))\n",
    "            else:\n",
    "                Tornado3.append(int(0))\n",
    "            if(df1.loc[a, \"FRSHTT\"]//10%10 > 0):#十位\n",
    "                Thunder3.append(int(1))       \n",
    "            else:\n",
    "                Thunder3.append(int(0))       \n",
    "            if((df1.loc[a, \"FRSHTT\"]//100%10) > 0):#百位\n",
    "                Hail3.append(int(1))\n",
    "            else:\n",
    "                Hail3.append(int(0))\n",
    "            if((df1.loc[a, \"FRSHTT\"]//1000%10) > 0):#千位\n",
    "                Snow3.append(int(1))\n",
    "            else:\n",
    "                Snow3.append(int(0))\n",
    "            if((df1.loc[a, \"FRSHTT\"]//10000 % 10) > 0):\n",
    "                Rain3.append(int(1))        \n",
    "            else:\n",
    "                Rain3.append(int(0))\n",
    "            if((df1.loc[a, \"FRSHTT\"]//100000 % 10) > 0):\n",
    "                Fog3.append(int(1))\n",
    "            else:\n",
    "                Fog3.append(int(0))\n",
    "        else:\n",
    "            w[1] = 0\n",
    "#df2               \n",
    "        if(df2.DATE.str.contains(str(d)[:10]).any()):\n",
    "            b = df2[df2.DATE == str(d)[:10]].index.tolist()[0]\n",
    "            if(df2.loc[b, \"TEMP\"] < 9999):\n",
    "                TEMP3.append(df2.loc[b, \"TEMP\"]) \n",
    "            if(df2.loc[b, \"MAX\"] < 9999):\n",
    "                MAX3.append(df2.loc[b, \"MAX\"])\n",
    "            if(df2.loc[b, \"MIN\"] < 9999):\n",
    "                MIN3.append(df2.loc[b, \"MIN\"])\n",
    "            if(df2.loc[b, \"DEWP\"] < 9999):\n",
    "                DEWP3.append(df2.loc[b, \"DEWP\"])\n",
    "            if(df2.loc[b, \"SLP\"] < 9999):\n",
    "                SLP3.append(df2.loc[b, \"SLP\"])\n",
    "            if(df2.loc[b, \"STP\"] < 9999):\n",
    "                STP3.append(df2.loc[b, \"STP\"])\n",
    "            if(df2.loc[b, \"WDSP\"] < 999):\n",
    "                WDSP3.append(df2.loc[b, \"WDSP\"])\n",
    "            if(df2.loc[b, \"MXSPD\"] < 998):\n",
    "                MXSPD3.append(df2.loc[b, \"MXSPD\"])\n",
    "            if(df2.loc[b, \"PRCP\"] < 99):\n",
    "                PRCP3.append(df2.loc[b, \"PRCP\"])\n",
    "            if(df2.loc[b, \"SNDP\"] == 999.9):\n",
    "                SNDP3.append(0)\n",
    "            else:\n",
    "                SNDP3.append(df2.loc[b, \"SNDP\"])\n",
    "            if((df2.loc[b, \"FRSHTT\"]%10) > 0):# 个位\n",
    "                Tornado3.append(int(1))\n",
    "            else:\n",
    "                Tornado3.append(int(0))\n",
    "            if(df2.loc[b, \"FRSHTT\"]//10%10 > 0):#十位\n",
    "                Thunder3.append(int(1))       \n",
    "            else:\n",
    "                Thunder3.append(int(0))       \n",
    "            if((df2.loc[b, \"FRSHTT\"]//100%10) > 0):#百位\n",
    "                Hail3.append(int(1))\n",
    "            else:\n",
    "                Hail3.append(int(0))\n",
    "            if((df2.loc[b, \"FRSHTT\"]//1000%10) > 0):#千位\n",
    "                Snow3.append(int(1))\n",
    "            else:\n",
    "                Snow3.append(int(0))\n",
    "            if((df2.loc[b, \"FRSHTT\"]//10000 % 10) > 0):\n",
    "                Rain3.append(int(1))        \n",
    "            else:\n",
    "                Rain3.append(int(0))\n",
    "            if((df2.loc[b, \"FRSHTT\"]//100000 % 10) > 0):\n",
    "                Fog3.append(int(1))\n",
    "            else:\n",
    "                Fog3.append(int(0))\n",
    "        else:\n",
    "            w[2] = 0\n",
    "        \n",
    "        for j in range(3):\n",
    "            w[j] = w[j]/(w[0] + w[1] + w[2])\n",
    "        w.remove(0)\n",
    "        \n",
    "        if not(len(TEMP3) == 0):\n",
    "            TEMP2.append(sum(np.multiply(w, TEMP3)))\n",
    "        if not(len(MAX3) == 0):\n",
    "            MAX2.append(sum(np.multiply(w, MAX3)))\n",
    "        if not (len(MIN3) == 0):\n",
    "            MIN2.append(sum(np.multiply(w, MIN3)))\n",
    "        if not (len(DEWP3) == 0):\n",
    "            DEWP2.append(sum(np.multiply(w, DEWP3)))\n",
    "        if not (len(SLP3) == 0):\n",
    "            SLP2.append(sum(np.multiply(w, SLP3)))\n",
    "        if not (len(STP3) == 0):\n",
    "            STP2.append(sum(np.multiply(w,STP3)))\n",
    "        if not (len(WDSP3) == 0):\n",
    "            WDSP2.append(sum(np.multiply(w, WDSP3)))\n",
    "        if not (len(MXSPD3) == 0):\n",
    "            MXSPD2.append(sum(np.multiply(w, MXSPD3)))\n",
    "        if not (len(PRCP3) == 0):\n",
    "            PRCP2.append(sum(np.multiply(w,PRCP3)))\n",
    "        if not (len(SNDP3) == 0):\n",
    "            SNDP2.append(sum(np.multiply(w, SNDP3)))\n",
    "        if not (len(Fog3) == 0):\n",
    "            Fog2.append(sum(np.multiply(w, Fog3)))\n",
    "        if not (len(Rain3) == 0):\n",
    "            Rain2.append(sum(np.multiply(w, Rain3)))\n",
    "        if not (len(Snow3) == 0):\n",
    "            Snow2.append(sum(np.multiply(w, Snow3)))\n",
    "        if not (len(Hail3) == 0):\n",
    "            Hail2.append(sum(np.multiply(w, Hail3)))\n",
    "        if not (len(Thunder3) == 0):\n",
    "            Thunder2.append(sum(np.multiply(w, Thunder3)))\n",
    "        if not (len(Tornado3) == 0):\n",
    "            Tornado2.append(sum(np.multiply(w, Tornado3)))\n",
    "        d = d + delta\n",
    "    \n",
    "    salm.loc[index, \"TEMP\"] = np.mean(TEMP2); \n",
    "    salm.loc[index, \"MAX\"] = np.mean(MAX2); \n",
    "    salm.loc[index, \"MIN\"] = np.mean(MIN2);\n",
    "    salm.loc[index, \"DEWP\"] = np.mean(DEWP2); \n",
    "    salm.loc[index, \"SLP\"] = np.mean(SLP2); \n",
    "    salm.loc[index, \"STP\"] = np.mean(STP2);\n",
    "    salm.loc[index, \"WDSP\"] = np.mean(WDSP2); \n",
    "    salm.loc[index, \"MXSPD\"] = np.mean(MXSPD2); \n",
    "    salm.loc[index, \"PRCP\"] = np.mean(PRCP2);\n",
    "    salm.loc[index, \"SNDP\"] = np.mean(SNDP2); \n",
    "    salm.loc[index, \"Fog\"] = np.mean(Fog2); \n",
    "    salm.loc[index, \"Rain or Drizzle\"] = np.mean(Rain2);\n",
    "    salm.loc[index, \"Snow or Ice Pellets\"] = np.mean(Snow2); \n",
    "    salm.loc[index, \"Hail\"] = np.mean(Hail2); \n",
    "    salm.loc[index, \"Thunder\"] = np.mean(Thunder2); \n",
    "    salm.loc[index, \"Tornado or Funnel Cloud\"] = np.mean(Tornado2); \n",
    "    \n",
    "    \n",
    "    "
   ]
  },
  {
   "cell_type": "code",
   "execution_count": 322,
   "id": "e6755efc",
   "metadata": {},
   "outputs": [
    {
     "data": {
      "text/plain": [
       "Unnamed: 0                   0\n",
       "CDCID                        0\n",
       "GenusName                    0\n",
       "InitialExposure              0\n",
       "LastExposure                 0\n",
       "TotalCases                   0\n",
       "Exposurestate                1\n",
       "ExposureState                0\n",
       "ExposureCounty1              0\n",
       "ExposureCounty2            841\n",
       "ExposureCounty3            867\n",
       "ExposureCounty4            890\n",
       "ExposureCounty5            901\n",
       "ExposureCounty6            909\n",
       "ExposureCounty7            919\n",
       "ExposureCounty8            924\n",
       "ExposureCounty9            927\n",
       "ExposureCounty10           928\n",
       "ExposureCounty11           931\n",
       "ExposureCounty12           932\n",
       "ExposureCounty13           936\n",
       "ExposureCounty14           938\n",
       "ExposureCounty15           938\n",
       "ExposureCounty16           938\n",
       "ExposureCounty17           939\n",
       "ExposureCounty18           939\n",
       "ExposureCounty19           940\n",
       "TEMP                         0\n",
       "MAX                          0\n",
       "MIN                          0\n",
       "DEWP                        11\n",
       "SLP                        128\n",
       "STP                          0\n",
       "WDSP                         5\n",
       "MXSPD                        5\n",
       "PRCP                        15\n",
       "SNDP                         0\n",
       "Fog                          0\n",
       "Rain or Drizzle              0\n",
       "Snow or Ice Pellets          0\n",
       "Hail                         0\n",
       "Thunder                      0\n",
       "Tornado or Funnel Cloud      0\n",
       "dtype: int64"
      ]
     },
     "execution_count": 322,
     "metadata": {},
     "output_type": "execute_result"
    }
   ],
   "source": [
    "salm.isnull().sum()"
   ]
  },
  {
   "cell_type": "code",
   "execution_count": 324,
   "id": "29b49e31",
   "metadata": {},
   "outputs": [],
   "source": [
    "salm.to_csv('/Users/evelyn/Desktop/S1.csv')"
   ]
  },
  {
   "cell_type": "code",
   "execution_count": 318,
   "id": "98d27647",
   "metadata": {},
   "outputs": [],
   "source": [
    "salm.to_csv('/Users/evelyn/Desktop/Salmonella.csv')"
   ]
  },
  {
   "cell_type": "code",
   "execution_count": null,
   "id": "a43168ab",
   "metadata": {},
   "outputs": [],
   "source": []
  }
 ],
 "metadata": {
  "kernelspec": {
   "display_name": "Python 3 (ipykernel)",
   "language": "python",
   "name": "python3"
  },
  "language_info": {
   "codemirror_mode": {
    "name": "ipython",
    "version": 3
   },
   "file_extension": ".py",
   "mimetype": "text/x-python",
   "name": "python",
   "nbconvert_exporter": "python",
   "pygments_lexer": "ipython3",
   "version": "3.9.12"
  }
 },
 "nbformat": 4,
 "nbformat_minor": 5
}
