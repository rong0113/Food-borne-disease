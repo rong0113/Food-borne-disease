{
 "cells": [
  {
   "cell_type": "code",
   "execution_count": null,
   "id": "e591ca58",
   "metadata": {},
   "outputs": [],
   "source": [
    "# Modification of unreasonable DEWP SLP STP data in NORO"
   ]
  },
  {
   "cell_type": "code",
   "execution_count": 1,
   "id": "0ebc53b3",
   "metadata": {},
   "outputs": [],
   "source": [
    "import pandas as pd\n",
    "import numpy as np"
   ]
  },
  {
   "cell_type": "code",
   "execution_count": 2,
   "id": "b0956bf1",
   "metadata": {},
   "outputs": [],
   "source": [
    "noro = pd.read_csv('/Users/evelyn/Desktop/Noro.csv')"
   ]
  },
  {
   "cell_type": "code",
   "execution_count": 3,
   "id": "fbcfced6",
   "metadata": {},
   "outputs": [],
   "source": [
    "#download data\n",
    "noro_station = pd.read_csv('/Users/evelyn/Desktop/weather information/noro_station.csv')\n",
    "\n",
    "noro_station = noro_station.dropna(subset = ['USAF'])\n",
    "noro_station = noro_station.reset_index(drop = True)\n",
    "\n",
    "noro_station[\"WBAN\"] = pd.to_numeric(noro_station[\"WBAN\"], errors='coerce').fillna('0').astype('int32')\n",
    "for a in range(len(noro_station)):\n",
    "    wban_unmodified = noro_station.loc[a, \"WBAN\"]\n",
    "    if 0 < wban_unmodified < 10000: \n",
    "        noro_station.loc[a, \"WBAN\"] = str(wban_unmodified).zfill(5)\n"
   ]
  },
  {
   "cell_type": "code",
   "execution_count": 4,
   "id": "099351ea",
   "metadata": {},
   "outputs": [],
   "source": [
    "#download noro_null data\n",
    "noro_null = pd.read_csv('/Users/evelyn/Desktop/weather information/noro_interpolated stations.csv')\n",
    "\n",
    "for z in range(len(noro_null)):\n",
    "    noro_null.loc[z, \"USAF0\"] = str(noro_null.loc[z, \"USAF0\"])\n",
    "    noro_null.loc[z, \"WBAN0\"] = str(int(noro_null.loc[z, \"WBAN0\"]))\n",
    "\n",
    "    if not(pd.isna(noro_null.loc[z, \"USAF1\"])):\n",
    "        noro_null.loc[z, \"USAF1\"] = str(noro_null.loc[z, \"USAF1\"])\n",
    "        noro_null.loc[z, \"WBAN1\"] = str(int(noro_null.loc[z, \"WBAN1\"]))\n",
    "        \n",
    "    if not(pd.isna(noro_null.loc[z, \"USAF2\"])):\n",
    "        noro_null.loc[z, \"USAF2\"] = str(noro_null.loc[z, \"USAF2\"])\n",
    "        noro_null.loc[z, \"WBAN2\"] = str(int(noro_null.loc[z, \"WBAN2\"]))"
   ]
  },
  {
   "cell_type": "code",
   "execution_count": null,
   "id": "b9dad4a2",
   "metadata": {},
   "outputs": [],
   "source": []
  },
  {
   "cell_type": "code",
   "execution_count": 5,
   "id": "8bbbaa5c",
   "metadata": {},
   "outputs": [
    {
     "name": "stdout",
     "output_type": "stream",
     "text": [
      "0.0000%\n",
      "0.3413%\n",
      "0.6826%\n",
      "1.0239%\n",
      "1.3652%\n",
      "1.7065%\n",
      "2.0478%\n",
      "2.3891%\n",
      "2.7304%\n",
      "3.0717%\n",
      "3.4130%\n",
      "3.7543%\n",
      "4.0956%\n",
      "4.4369%\n",
      "4.7782%\n",
      "5.1195%\n",
      "5.4608%\n",
      "5.8020%\n",
      "6.1433%\n",
      "6.4846%\n",
      "6.8259%\n",
      "7.1672%\n",
      "7.5085%\n",
      "7.8498%\n",
      "8.1911%\n",
      "8.5324%\n",
      "8.8737%\n",
      "9.2150%\n",
      "9.5563%\n",
      "9.8976%\n",
      "10.2389%\n",
      "10.5802%\n",
      "10.9215%\n",
      "11.2628%\n",
      "11.6041%\n",
      "11.9454%\n",
      "12.2867%\n",
      "12.6280%\n",
      "12.9693%\n",
      "13.3106%\n",
      "13.6519%\n",
      "13.9932%\n",
      "14.3345%\n",
      "14.6758%\n",
      "15.0171%\n",
      "15.3584%\n",
      "15.6997%\n",
      "16.0410%\n",
      "16.3823%\n",
      "16.7235%\n",
      "17.0648%\n",
      "17.4061%\n",
      "17.7474%\n",
      "18.0887%\n",
      "18.4300%\n",
      "18.7713%\n",
      "19.1126%\n",
      "19.4539%\n",
      "19.7952%\n",
      "20.1365%\n",
      "20.4778%\n",
      "20.8191%\n",
      "21.1604%\n",
      "21.5017%\n",
      "21.8430%\n",
      "22.1843%\n",
      "22.5256%\n",
      "22.8669%\n",
      "23.2082%\n",
      "23.5495%\n",
      "23.8908%\n",
      "24.2321%\n",
      "24.5734%\n",
      "24.9147%\n",
      "25.2560%\n",
      "25.5973%\n",
      "25.9386%\n",
      "26.2799%\n",
      "26.6212%\n",
      "26.9625%\n",
      "27.3038%\n",
      "27.6451%\n",
      "27.9863%\n",
      "28.3276%\n",
      "28.6689%\n",
      "29.0102%\n",
      "29.3515%\n",
      "29.6928%\n",
      "30.0341%\n",
      "30.3754%\n",
      "30.7167%\n",
      "31.0580%\n",
      "31.3993%\n",
      "31.7406%\n",
      "32.0819%\n",
      "32.4232%\n",
      "32.7645%\n",
      "33.1058%\n",
      "33.4471%\n",
      "33.7884%\n",
      "34.1297%\n",
      "34.4710%\n",
      "34.8123%\n",
      "35.1536%\n",
      "35.4949%\n",
      "35.8362%\n",
      "36.1775%\n",
      "36.5188%\n",
      "36.8601%\n",
      "37.2014%\n",
      "37.5427%\n",
      "37.8840%\n",
      "38.2253%\n",
      "38.5666%\n",
      "38.9078%\n",
      "39.2491%\n",
      "39.5904%\n",
      "39.9317%\n",
      "40.2730%\n",
      "40.6143%\n",
      "40.9556%\n",
      "41.2969%\n",
      "41.6382%\n",
      "41.9795%\n",
      "42.3208%\n",
      "42.6621%\n",
      "43.0034%\n",
      "43.3447%\n",
      "43.6860%\n",
      "44.0273%\n",
      "44.3686%\n",
      "44.7099%\n",
      "45.0512%\n",
      "45.3925%\n",
      "45.7338%\n",
      "46.0751%\n",
      "46.4164%\n",
      "46.7577%\n",
      "47.0990%\n",
      "47.4403%\n",
      "47.7816%\n",
      "48.1229%\n",
      "48.4642%\n",
      "48.8055%\n",
      "49.1468%\n",
      "49.4881%\n",
      "49.8294%\n",
      "50.1706%\n",
      "50.5119%\n",
      "50.8532%\n",
      "51.1945%\n",
      "51.5358%\n",
      "51.8771%\n",
      "52.2184%\n",
      "52.5597%\n",
      "52.9010%\n",
      "53.2423%\n",
      "53.5836%\n",
      "53.9249%\n",
      "54.2662%\n",
      "54.6075%\n",
      "54.9488%\n",
      "55.2901%\n",
      "55.6314%\n",
      "55.9727%\n",
      "56.3140%\n",
      "56.6553%\n",
      "56.9966%\n",
      "57.3379%\n",
      "57.6792%\n",
      "58.0205%\n",
      "58.3618%\n",
      "58.7031%\n",
      "59.0444%\n",
      "59.3857%\n",
      "59.7270%\n",
      "60.0683%\n",
      "60.4096%\n",
      "60.7509%\n",
      "61.0922%\n",
      "61.4334%\n",
      "61.7747%\n",
      "62.1160%\n",
      "62.4573%\n",
      "62.7986%\n",
      "63.1399%\n",
      "63.4812%\n",
      "63.8225%\n",
      "64.1638%\n",
      "64.5051%\n",
      "64.8464%\n",
      "65.1877%\n",
      "65.5290%\n",
      "65.8703%\n",
      "66.2116%\n",
      "66.5529%\n",
      "66.8942%\n",
      "67.2355%\n",
      "67.5768%\n",
      "67.9181%\n",
      "68.2594%\n",
      "68.6007%\n",
      "68.9420%\n",
      "69.2833%\n",
      "69.6246%\n",
      "69.9659%\n",
      "70.3072%\n",
      "70.6485%\n",
      "70.9898%\n",
      "71.3311%\n",
      "71.6724%\n",
      "72.0137%\n",
      "72.3549%\n",
      "72.6962%\n",
      "73.0375%\n",
      "73.3788%\n",
      "73.7201%\n",
      "74.0614%\n",
      "74.4027%\n",
      "74.7440%\n",
      "75.0853%\n",
      "75.4266%\n",
      "75.7679%\n",
      "76.1092%\n",
      "76.4505%\n",
      "76.7918%\n",
      "77.1331%\n",
      "77.4744%\n",
      "77.8157%\n",
      "78.1570%\n",
      "78.4983%\n",
      "78.8396%\n",
      "79.1809%\n",
      "79.5222%\n",
      "79.8635%\n",
      "80.2048%\n",
      "80.5461%\n",
      "80.8874%\n",
      "81.2287%\n",
      "81.5700%\n",
      "81.9113%\n",
      "82.2526%\n",
      "82.5939%\n",
      "82.9352%\n",
      "83.2765%\n",
      "83.6177%\n",
      "83.9590%\n",
      "84.3003%\n",
      "84.6416%\n",
      "84.9829%\n",
      "85.3242%\n",
      "85.6655%\n",
      "86.0068%\n",
      "86.3481%\n",
      "86.6894%\n",
      "87.0307%\n",
      "87.3720%\n",
      "87.7133%\n",
      "88.0546%\n",
      "88.3959%\n",
      "88.7372%\n",
      "89.0785%\n",
      "89.4198%\n",
      "89.7611%\n",
      "90.1024%\n",
      "90.4437%\n",
      "90.7850%\n",
      "91.1263%\n",
      "91.4676%\n",
      "91.8089%\n",
      "92.1502%\n",
      "92.4915%\n",
      "92.8328%\n",
      "93.1741%\n",
      "93.5154%\n",
      "93.8567%\n",
      "94.1980%\n",
      "94.5392%\n",
      "94.8805%\n",
      "95.2218%\n",
      "95.5631%\n",
      "95.9044%\n",
      "96.2457%\n",
      "96.5870%\n",
      "96.9283%\n",
      "97.2696%\n",
      "97.6109%\n",
      "97.9522%\n",
      "98.2935%\n",
      "98.6348%\n",
      "98.9761%\n",
      "99.3174%\n",
      "99.6587%\n"
     ]
    }
   ],
   "source": [
    "#recaculate the three interpolation data\n",
    "import numpy as np\n",
    "path = '/Users/evelyn/Desktop/project/noro_null/'\n",
    "path0 = '/Users/evelyn/Desktop/weather information/noro_interpolated/'\n",
    "\n",
    "store_path = '/Users/evelyn/Desktop/NORO/'\n",
    "variable = [\"TEMP\", \"DEWP\", \"SLP\", \"STP\", \"WDSP\", \"MXSPD\", \"MAX\", \"MIN\",\"PRCP\"]\n",
    "\n",
    "for i in range(len(noro_null)):\n",
    "    print('{:.4%}'.format(i/len(noro_null)))\n",
    "    if(pd.isna(noro_null.loc[i, \"USAF2\"])):\n",
    "        continue\n",
    "    else:\n",
    "        file = []\n",
    "        startyear = str(noro_null.loc[i , \"InitialExposure\"])[:4]\n",
    "        endyear = str(noro_null.loc[i , \"LastExposure\"])[:4]\n",
    "        \n",
    "        for yr in range(int(startyear), int(endyear)+1):\n",
    "            for k in range(3):\n",
    "                usaf = noro_null.loc[i, \"USAF\"+str(k)]\n",
    "                wban = pd.to_numeric(noro_null.loc[i, \"WBAN\"+str(k)]).astype('int32')\n",
    "                filename =  str(usaf) + str(wban) + \"-\" + str(yr) + \"DAILY.csv\" \n",
    "                file.append(filename)\n",
    "            dfw = pd.read_csv(path0 + file[0])\n",
    "            df0 = pd.read_csv(path + file[0])\n",
    "            df1 = pd.read_csv(path + file[1])\n",
    "            df2 = pd.read_csv(path + file[2])\n",
    "            \n",
    "            for n in range(len(dfw)):\n",
    "                if(len(df0[df0.DATE.str.contains(dfw.loc[n, \"DATE\"])]) == 0 or len(df1[df1.DATE == dfw.loc[n, \"DATE\"]]) == 0 or len(df2[df2.DATE == dfw.loc[n, \"DATE\"]]) == 0):\n",
    "                    dfw = dfw.drop(index = n)\n",
    "                else:\n",
    "                    index0 = df0[df0.DATE.str.contains(dfw.loc[n, \"DATE\"])].index.tolist()[0]\n",
    "                    index1 = df1[df1.DATE == dfw.loc[n, \"DATE\"]].index.tolist()[0]\n",
    "                    index2 = df2[df2.DATE == dfw.loc[n, \"DATE\"]].index.tolist()[0]\n",
    "                    #对TEMP进行修改\n",
    "                    TEMP = [float(df0.loc[index0, \"TEMP\"]), float(df1.loc[index1, \"TEMP\"]), float(df2.loc[index2, \"TEMP\"])]\n",
    "                    wt = [float(noro_null.loc[i, \"W0\"]), float(noro_null.loc[i, \"W1\"]), float(noro_null.loc[i, \"W2\"])]\n",
    "                    for temp in range(3):\n",
    "                        if(TEMP[temp] > 9999):\n",
    "                            TEMP[temp] = 0\n",
    "                            wt[temp] = 0\n",
    "                    zt = sum(wt)\n",
    "                    if(max(wt) > 0):\n",
    "                        wt[0] = wt[0]/zt\n",
    "                        wt[1] = wt[1]/zt\n",
    "                        wt[2] = wt[2]/zt\n",
    "                        dfw.loc[n, \"TEMP\"] = round(sum(np.multiply(TEMP,wt)), 2)\n",
    "                    else:\n",
    "                        dfw.loc[n, \"TEMP\"] = np.nan\n",
    "                    #DEWP\n",
    "                    DEWP = [float(df0.loc[index0, \"DEWP\"]), float(df1.loc[index1, \"DEWP\"]), float(df2.loc[index2, \"DEWP\"])]\n",
    "                    wd = [float(noro_null.loc[i, \"W0\"]), float(noro_null.loc[i, \"W1\"]), float(noro_null.loc[i, \"W2\"])]\n",
    "                    for dewp in range(3):\n",
    "                        if(DEWP[dewp] > 9999):\n",
    "                            DEWP[dewp] = 0\n",
    "                            wt[dewp] = 0\n",
    "                    zd = sum(wd)\n",
    "                    if(max(wd) > 0):\n",
    "                        wd[0] = wd[0]/zd\n",
    "                        wd[1] = wd[1]/zd\n",
    "                        wd[2] = wd[2]/zd\n",
    "                        dfw.loc[n, \"DEWP\"] = round(sum(np.multiply(DEWP,wd)), 2)\n",
    "                    else:\n",
    "                        dfw.loc[n, \"DEWP\"] = np.nan\n",
    "                    #SLP\n",
    "                    SLP = [float(df0.loc[index0, \"SLP\"]), float(df1.loc[index1, \"SLP\"]), float(df2.loc[index2, \"SLP\"])]\n",
    "                    wslp = [float(noro_null.loc[i, \"W0\"]), float(noro_null.loc[i, \"W1\"]), float(noro_null.loc[i, \"W2\"])]\n",
    "                    for slp in range(3):\n",
    "                        if(SLP[slp] > 9999):\n",
    "                            SLP[slp] = 0\n",
    "                            wslp[slp] = 0\n",
    "                    zslp = sum(wslp)\n",
    "                    if(max(wslp) > 0):\n",
    "                        wslp[0] = wslp[0]/zslp\n",
    "                        wslp[1] = wslp[1]/zslp\n",
    "                        wslp[2] = wslp[2]/zslp\n",
    "                        dfw.loc[n, \"SLP\"] = round(sum(np.multiply(SLP,wslp)), 2)\n",
    "                    else:\n",
    "                        dfw.loc[n, \"SLP\"] = np.nan\n",
    "                    #STP\n",
    "                    STP = [float(df0.loc[index0, \"STP\"]), float(df1.loc[index1, \"STP\"]), float(df2.loc[index2, \"STP\"])]\n",
    "                    STP_ATTRIBUTES = [float(df0.loc[index0, \"STP_ATTRIBUTES\"]), float(df1.loc[index1, \"STP_ATTRIBUTES\"]), float(df2.loc[index2, \"STP_ATTRIBUTES\"])]\n",
    "                    wstp = [float(noro_null.loc[i, \"W0\"]), float(noro_null.loc[i, \"W1\"]), float(noro_null.loc[i, \"W2\"])]\n",
    "                    for stp in range(3):\n",
    "                        if(STP[stp] > 9999):\n",
    "                            STP[stp] = 0\n",
    "                            wstp[stp] = 0\n",
    "                        elif(STP[stp] < 100):\n",
    "                            STP[stp] = STP[stp] + 1000\n",
    "                        elif(STP_ATTRIBUTES[stp] == 0):\n",
    "                            STP[stp] = 0\n",
    "                            wstp[stp] = 0\n",
    "                    zstp = sum(wstp)\n",
    "                    if(max(wstp) >0):\n",
    "                        wstp[0] = wstp[0]/zstp\n",
    "                        wstp[1] = wstp[1]/zstp\n",
    "                        wstp[2] = wstp[2]/zstp\n",
    "                        dfw.loc[n, \"STP\"] = round(sum(np.multiply(STP,wstp)), 2)\n",
    "                    else:\n",
    "                        dfw.loc[n, \"STP\"] = np.nan\n",
    "                    #WDSP\n",
    "                    WDSP = [float(df0.loc[index0, \"WDSP\"]), float(df1.loc[index1, \"WDSP\"]), float(df2.loc[index2, \"WDSP\"])]\n",
    "                    wwdsp = [float(noro_null.loc[i, \"W0\"]), float(noro_null.loc[i, \"W1\"]), float(noro_null.loc[i, \"W2\"])]\n",
    "                    for wdsp in range(3):\n",
    "                        if(WDSP[wdsp] > 999):\n",
    "                            WDSP[wdsp] = 0\n",
    "                            wwdsp[wdsp] = 0\n",
    "                    zwdsp = sum(wwdsp)\n",
    "                    if(max(wwdsp) > 0):\n",
    "                        wwdsp[0] = wwdsp[0]/zwdsp\n",
    "                        wwdsp[1] = wwdsp[1]/zwdsp\n",
    "                        wwdsp[2] = wwdsp[2]/zwdsp\n",
    "                        dfw.loc[n, \"WDSP\"] = round(sum(np.multiply(WDSP,wwdsp)), 2)\n",
    "                    else:\n",
    "                        dfw.loc[n, \"WDSP\"] = np.nan\n",
    "                    #MXSPD\n",
    "                    MXSPD = [float(df0.loc[index0, \"MXSPD\"]), float(df1.loc[index1, \"MXSPD\"]), float(df2.loc[index2, \"MXSPD\"])]\n",
    "                    wmx = [float(noro_null.loc[i, \"W0\"]), float(noro_null.loc[i, \"W1\"]), float(noro_null.loc[i, \"W2\"])]\n",
    "                    for mxspd in range(3):\n",
    "                        if(MXSPD[mxspd] > 999):\n",
    "                            MXSPD[mxspd] = 0\n",
    "                            wmx[mxspd] = 0\n",
    "                    zmx = sum(wmx)\n",
    "                    if(max(wmx) > 0):\n",
    "                        wmx[0] = wmx[0]/zmx\n",
    "                        wmx[1] = wmx[1]/zmx\n",
    "                        wmx[2] = wmx[2]/zmx\n",
    "                        dfw.loc[n, \"MXSPD\"] = round(sum(np.multiply(MXSPD,wmx)), 2)\n",
    "                    else:\n",
    "                        dfw.loc[n, \"MXSPD\"] = np.nan\n",
    "                    #MAX\n",
    "                    MAX = [float(df0.loc[index0, \"MAX\"]), float(df1.loc[index1, \"MAX\"]), float(df2.loc[index2, \"MAX\"])]\n",
    "                    wtm = [float(noro_null.loc[i, \"W0\"]), float(noro_null.loc[i, \"W1\"]), float(noro_null.loc[i, \"W2\"])]\n",
    "                    for tmax in range(3):\n",
    "                        if(MAX[tmax] > 9999):\n",
    "                            MAX[tmax] = 0\n",
    "                            wtm[tmax] = 0\n",
    "                    ztm = sum(wtm)\n",
    "                    if(max(wtm) > 0):\n",
    "                        wtm[0] = wtm[0]/ztm\n",
    "                        wtm[1] = wtm[1]/ztm\n",
    "                        wtm[2] = wtm[2]/ztm\n",
    "                        dfw.loc[n, \"MAX\"] = round(sum(np.multiply(MAX,wtm)), 2)\n",
    "                    else:\n",
    "                        dfw.loc[n, \"MAX\"] = np.nan\n",
    "                    #MIN\n",
    "                    MIN = [float(df0.loc[index0, \"MIN\"]), float(df1.loc[index1, \"MIN\"]), float(df2.loc[index2, \"MIN\"])]\n",
    "                    wtmi = [float(noro_null.loc[i, \"W0\"]), float(noro_null.loc[i, \"W1\"]), float(noro_null.loc[i, \"W2\"])]\n",
    "                    for tmin in range(3):\n",
    "                        if(MIN[tmin] > 9999):\n",
    "                            MIN[tmin] = 0\n",
    "                            wtmi[tmin] = 0\n",
    "                    ztmi = sum(wtmi)\n",
    "                    if(max(wtmi)>0):\n",
    "                        wtmi[0] = wtmi[0]/ztmi\n",
    "                        wtmi[1] = wtmi[1]/ztmi\n",
    "                        wtmi[2] = wtmi[2]/ztmi\n",
    "                        dfw.loc[n, \"MIN\"] = round(sum(np.multiply(MIN,wtmi)), 2)\n",
    "                    else:\n",
    "                        dfw.loc[n, \"MIN\"] = np.nan\n",
    "                    #PRCP\n",
    "                    PRCP = [float(df0.loc[index0, \"PRCP\"]), float(df1.loc[index1, \"PRCP\"]), float(df2.loc[index2, \"PRCP\"])]\n",
    "                    wp = [float(noro_null.loc[i, \"W0\"]), float(noro_null.loc[i, \"W1\"]), float(noro_null.loc[i, \"W2\"])]\n",
    "                    for temp in range(3):\n",
    "                        if(PRCP[temp] > 99):\n",
    "                            PRCP[temp] = 0\n",
    "                            wp[temp] = 0\n",
    "                    zp = sum(wp)\n",
    "                    if(max(wp) > 0):\n",
    "                        wp[0] = wp[0]/zp\n",
    "                        wp[1] = wp[1]/zp\n",
    "                        wp[2] = wp[2]/zp\n",
    "                        dfw.loc[n, \"PRCP\"] = round(sum(np.multiply(PRCP,wp)), 2)\n",
    "                    else:\n",
    "                        dfw.loc[n, \"PRCP\"] = np.nan\n",
    "                \n",
    "            new_usaf = noro_null.loc[i, \"USAF0\"]\n",
    "            new_wban = pd.to_numeric(noro_null.loc[i, \"WBAN0\"]).astype('int32')\n",
    "            new_filename = str(new_usaf)+str(new_wban) + \"-\" + str(yr) + \"DAILY.csv\"\n",
    "            dfw.to_csv(store_path + new_filename)\n",
    "                    "
   ]
  },
  {
   "cell_type": "code",
   "execution_count": 6,
   "id": "018e2abe",
   "metadata": {},
   "outputs": [
    {
     "name": "stdout",
     "output_type": "stream",
     "text": [
      "0.0000%\n",
      "0.3413%\n",
      "0.6826%\n",
      "1.0239%\n",
      "1.3652%\n",
      "1.7065%\n",
      "2.0478%\n",
      "2.3891%\n",
      "2.7304%\n",
      "3.0717%\n",
      "3.4130%\n",
      "3.7543%\n",
      "4.0956%\n",
      "4.4369%\n",
      "4.7782%\n",
      "5.1195%\n",
      "5.4608%\n",
      "5.8020%\n",
      "6.1433%\n",
      "6.4846%\n",
      "6.8259%\n",
      "7.1672%\n",
      "7.5085%\n",
      "7.8498%\n",
      "8.1911%\n",
      "8.5324%\n",
      "8.8737%\n",
      "9.2150%\n",
      "9.5563%\n",
      "9.8976%\n",
      "10.2389%\n",
      "10.5802%\n",
      "10.9215%\n",
      "11.2628%\n",
      "11.6041%\n",
      "11.9454%\n",
      "12.2867%\n",
      "12.6280%\n",
      "12.9693%\n",
      "13.3106%\n",
      "13.6519%\n",
      "13.9932%\n",
      "14.3345%\n",
      "14.6758%\n",
      "15.0171%\n",
      "15.3584%\n",
      "15.6997%\n",
      "16.0410%\n",
      "16.3823%\n",
      "16.7235%\n",
      "17.0648%\n",
      "17.4061%\n",
      "17.7474%\n",
      "18.0887%\n",
      "18.4300%\n",
      "18.7713%\n",
      "19.1126%\n",
      "19.4539%\n",
      "19.7952%\n",
      "20.1365%\n",
      "20.4778%\n",
      "20.8191%\n",
      "21.1604%\n",
      "21.5017%\n",
      "21.8430%\n",
      "22.1843%\n",
      "22.5256%\n",
      "22.8669%\n",
      "23.2082%\n",
      "23.5495%\n",
      "23.8908%\n",
      "24.2321%\n",
      "24.5734%\n",
      "24.9147%\n",
      "25.2560%\n",
      "25.5973%\n",
      "25.9386%\n",
      "26.2799%\n",
      "26.6212%\n",
      "26.9625%\n",
      "27.3038%\n",
      "27.6451%\n",
      "27.9863%\n",
      "28.3276%\n",
      "28.6689%\n",
      "29.0102%\n",
      "29.3515%\n",
      "29.6928%\n",
      "30.0341%\n",
      "30.3754%\n",
      "30.7167%\n",
      "31.0580%\n",
      "31.3993%\n",
      "31.7406%\n",
      "32.0819%\n",
      "32.4232%\n",
      "32.7645%\n",
      "33.1058%\n",
      "33.4471%\n",
      "33.7884%\n",
      "34.1297%\n",
      "34.4710%\n",
      "34.8123%\n",
      "35.1536%\n",
      "35.4949%\n",
      "35.8362%\n",
      "36.1775%\n",
      "36.5188%\n",
      "36.8601%\n",
      "37.2014%\n",
      "37.5427%\n",
      "37.8840%\n",
      "38.2253%\n",
      "38.5666%\n",
      "38.9078%\n",
      "39.2491%\n",
      "39.5904%\n",
      "39.9317%\n",
      "40.2730%\n",
      "40.6143%\n",
      "40.9556%\n",
      "41.2969%\n",
      "41.6382%\n",
      "41.9795%\n",
      "42.3208%\n",
      "42.6621%\n",
      "43.0034%\n",
      "43.3447%\n",
      "43.6860%\n",
      "44.0273%\n",
      "44.3686%\n",
      "44.7099%\n",
      "45.0512%\n",
      "45.3925%\n",
      "45.7338%\n",
      "46.0751%\n",
      "46.4164%\n",
      "46.7577%\n",
      "47.0990%\n",
      "47.4403%\n",
      "47.7816%\n",
      "48.1229%\n",
      "48.4642%\n",
      "48.8055%\n",
      "49.1468%\n",
      "49.4881%\n",
      "49.8294%\n",
      "50.1706%\n",
      "50.5119%\n",
      "50.8532%\n",
      "51.1945%\n",
      "51.5358%\n",
      "51.8771%\n",
      "52.2184%\n",
      "52.5597%\n",
      "52.9010%\n",
      "53.2423%\n",
      "53.5836%\n",
      "53.9249%\n",
      "54.2662%\n",
      "54.6075%\n",
      "54.9488%\n",
      "55.2901%\n",
      "55.6314%\n",
      "55.9727%\n",
      "56.3140%\n",
      "56.6553%\n",
      "56.9966%\n",
      "57.3379%\n",
      "57.6792%\n",
      "58.0205%\n",
      "58.3618%\n",
      "58.7031%\n",
      "59.0444%\n",
      "59.3857%\n",
      "59.7270%\n",
      "60.0683%\n",
      "60.4096%\n",
      "60.7509%\n",
      "61.0922%\n",
      "61.4334%\n",
      "61.7747%\n",
      "62.1160%\n",
      "62.4573%\n",
      "62.7986%\n",
      "63.1399%\n",
      "63.4812%\n",
      "63.8225%\n",
      "64.1638%\n",
      "64.5051%\n",
      "64.8464%\n",
      "65.1877%\n",
      "65.5290%\n",
      "65.8703%\n",
      "66.2116%\n",
      "66.5529%\n",
      "66.8942%\n",
      "67.2355%\n",
      "67.5768%\n",
      "67.9181%\n",
      "68.2594%\n",
      "68.6007%\n",
      "68.9420%\n",
      "69.2833%\n",
      "69.6246%\n",
      "69.9659%\n",
      "70.3072%\n",
      "70.6485%\n",
      "70.9898%\n",
      "71.3311%\n",
      "71.6724%\n",
      "72.0137%\n",
      "72.3549%\n",
      "72.6962%\n",
      "73.0375%\n",
      "73.3788%\n",
      "73.7201%\n",
      "74.0614%\n",
      "74.4027%\n",
      "74.7440%\n",
      "75.0853%\n",
      "75.4266%\n",
      "75.7679%\n",
      "76.1092%\n",
      "76.4505%\n",
      "76.7918%\n",
      "77.1331%\n",
      "77.4744%\n",
      "77.8157%\n",
      "78.1570%\n",
      "78.4983%\n",
      "78.8396%\n",
      "79.1809%\n",
      "79.5222%\n",
      "79.8635%\n",
      "80.2048%\n",
      "80.5461%\n",
      "80.8874%\n",
      "81.2287%\n",
      "81.5700%\n",
      "81.9113%\n",
      "82.2526%\n",
      "82.5939%\n",
      "82.9352%\n",
      "83.2765%\n",
      "83.6177%\n",
      "83.9590%\n",
      "84.3003%\n",
      "84.6416%\n",
      "84.9829%\n",
      "85.3242%\n",
      "85.6655%\n",
      "86.0068%\n",
      "86.3481%\n",
      "86.6894%\n",
      "87.0307%\n",
      "87.3720%\n",
      "87.7133%\n",
      "88.0546%\n",
      "88.3959%\n",
      "88.7372%\n",
      "89.0785%\n",
      "89.4198%\n",
      "89.7611%\n",
      "90.1024%\n",
      "90.4437%\n",
      "90.7850%\n",
      "91.1263%\n",
      "91.4676%\n",
      "91.8089%\n",
      "92.1502%\n",
      "92.4915%\n",
      "92.8328%\n",
      "93.1741%\n",
      "93.5154%\n",
      "93.8567%\n",
      "94.1980%\n",
      "94.5392%\n",
      "94.8805%\n",
      "95.2218%\n",
      "95.5631%\n",
      "95.9044%\n",
      "96.2457%\n",
      "96.5870%\n",
      "96.9283%\n",
      "97.2696%\n",
      "97.6109%\n",
      "97.9522%\n",
      "98.2935%\n",
      "98.6348%\n",
      "98.9761%\n",
      "99.3174%\n",
      "99.6587%\n"
     ]
    }
   ],
   "source": [
    "#two interpolation data\n",
    "import numpy as np\n",
    "path = '/Users/evelyn/Desktop/project/noro_null/'\n",
    "\n",
    "store_path = '/Users/evelyn/Desktop/NORO/'\n",
    "variable = [\"TEMP\", \"DEWP\", \"SLP\", \"STP\", \"WDSP\", \"MXSPD\", \"MAX\", \"MIN\",\"PRCP\"]\n",
    "\n",
    "for i in range(len(noro_null)):\n",
    "    print('{:.4%}'.format(i/len(noro_null)))\n",
    "    if(pd.isna(noro_null.loc[i, \"USAF2\"])):\n",
    "        file = []\n",
    "        startyear = str(noro_null.loc[i , \"InitialExposure\"])[:4]\n",
    "        endyear = str(noro_null.loc[i , \"LastExposure\"])[:4]\n",
    "        \n",
    "        for yr in range(int(startyear), int(endyear)+1):\n",
    "            for k in range(2):\n",
    "                usaf = noro_null.loc[i, \"USAF\"+str(k)]\n",
    "                wban = pd.to_numeric(noro_null.loc[i, \"WBAN\"+str(k)]).astype('int32')\n",
    "                filename =  str(usaf) + str(wban) + \"-\" + str(yr) + \"DAILY.csv\" \n",
    "                file.append(filename)\n",
    "            df0 = pd.read_csv(path + file[0])\n",
    "            df1 = pd.read_csv(path + file[1])\n",
    "            \n",
    "            for j in range(len(df0)):\n",
    "                date_string = df0.loc[j, \"DATE\"]\n",
    "                if not(df1.DATE.str.contains(date_string).any()):\n",
    "                    df0 = df0.drop(index = [j])\n",
    "            df0 = df0.reset_index(drop = True)\n",
    "\n",
    "            for n in range(len(df0)):\n",
    "\n",
    "                index1 = df1[df1.DATE.str.contains(df0.loc[n, \"DATE\"])].index.tolist()[0]\n",
    "\n",
    "                #对TEMP进行修改\n",
    "                TEMP = [float(df0.loc[n, \"TEMP\"]), float(df1.loc[index1, \"TEMP\"])]\n",
    "                wt = [float(noro_null.loc[i, \"W0\"]), float(noro_null.loc[i, \"W1\"])]\n",
    "                for temp in range(2):\n",
    "                    if(TEMP[temp] > 9999):\n",
    "                        TEMP[temp] = 0\n",
    "                        wt[temp] = 0\n",
    "                zt = sum(wt)\n",
    "                if(max(wt) > 0):\n",
    "                    wt[0] = wt[0]/zt\n",
    "                    wt[1] = wt[1]/zt\n",
    "                    df0.loc[n, \"TEMP\"] = round(sum(np.multiply(TEMP,wt)), 2)\n",
    "                else:\n",
    "                    df0.loc[n, \"TEMP\"] = np.nan\n",
    "\n",
    "                #DEWP\n",
    "                DEWP = [float(df0.loc[n , \"DEWP\"]), float(df1.loc[index1, \"DEWP\"])]\n",
    "                wd = [float(noro_null.loc[i, \"W0\"]), float(noro_null.loc[i, \"W1\"])]\n",
    "                for dewp in range(2):\n",
    "                    if(DEWP[dewp] > 9999):\n",
    "                        DEWP[dewp] = 0\n",
    "                        wt[dewp] = 0\n",
    "                zd = sum(wd)\n",
    "                if(max(wd) > 0):\n",
    "                    wd[0] = wd[0]/zd\n",
    "                    wd[1] = wd[1]/zd\n",
    "                    df0.loc[n, \"DEWP\"] = round(sum(np.multiply(DEWP,wd)), 2)\n",
    "                else:\n",
    "                    df0.loc[n, \"DEWP\"] = np.nan\n",
    "                #SLP\n",
    "                SLP = [float(df0.loc[n, \"SLP\"]), float(df1.loc[index1, \"SLP\"])]\n",
    "                wslp = [float(noro_null.loc[i, \"W0\"]), float(noro_null.loc[i, \"W1\"])]\n",
    "                for slp in range(2):\n",
    "                    if(SLP[slp] > 9999):\n",
    "                        SLP[slp] = 0\n",
    "                        wslp[slp] = 0\n",
    "                zslp = sum(wslp)\n",
    "                if(max(wslp) > 0):\n",
    "                    wslp[0] = wslp[0]/zslp\n",
    "                    wslp[1] = wslp[1]/zslp\n",
    "                    df0.loc[n, \"SLP\"] = round(sum(np.multiply(SLP,wslp)), 2)\n",
    "                else:\n",
    "                    df0.loc[n, \"SLP\"] = np.nan\n",
    "\n",
    "                #STP\n",
    "                STP = [float(df0.loc[n, \"STP\"]), float(df1.loc[index1, \"STP\"])]\n",
    "                STP_ATTRIBUTES = [float(df0.loc[n, \"STP_ATTRIBUTES\"]), float(df1.loc[index1, \"STP_ATTRIBUTES\"])]\n",
    "                wstp = [float(noro_null.loc[i, \"W0\"]), float(noro_null.loc[i, \"W1\"])]\n",
    "                for stp in range(2):\n",
    "                    if(STP[stp] > 9999):\n",
    "                        STP[stp] = 0\n",
    "                        wstp[stp] = 0\n",
    "                    elif(STP[stp] < 100):\n",
    "                        STP[stp] = STP[stp] + 1000\n",
    "                    elif(STP_ATTRIBUTES[stp] == 0):\n",
    "                        STP[stp] = 0\n",
    "                        wstp[stp] = 0\n",
    "                zstp = sum(wstp)\n",
    "                if(max(wstp) >0):\n",
    "                    wstp[0] = wstp[0]/zstp\n",
    "                    wstp[1] = wstp[1]/zstp\n",
    "                    df0.loc[n, \"STP\"] = round(sum(np.multiply(STP,wstp)), 2)\n",
    "                else:\n",
    "                    df0.loc[n, \"STP\"] = np.nan\n",
    "                    \n",
    "                #WDSP\n",
    "                WDSP = [float(df0.loc[n, \"WDSP\"]), float(df1.loc[index1, \"WDSP\"])]\n",
    "                wwdsp = [float(noro_null.loc[i, \"W0\"]), float(noro_null.loc[i, \"W1\"])]\n",
    "                for wdsp in range(2):\n",
    "                    if(WDSP[wdsp] > 999):\n",
    "                        WDSP[wdsp] = 0\n",
    "                        wwdsp[wdsp] = 0\n",
    "                zwdsp = sum(wwdsp)\n",
    "                if(max(wwdsp) > 0):\n",
    "                    wwdsp[0] = wwdsp[0]/zwdsp\n",
    "                    wwdsp[1] = wwdsp[1]/zwdsp\n",
    "                    df0.loc[n, \"WDSP\"] = round(sum(np.multiply(WDSP,wwdsp)), 2)\n",
    "                else:\n",
    "                    df0.loc[n, \"WDSP\"] = np.nan\n",
    "                #MXSPD\n",
    "                MXSPD = [float(df0.loc[n, \"MXSPD\"]), float(df1.loc[index1, \"MXSPD\"])]\n",
    "                wmx = [float(noro_null.loc[i, \"W0\"]), float(noro_null.loc[i, \"W1\"])]\n",
    "                for mxspd in range(2):\n",
    "                    if(MXSPD[mxspd] > 999):\n",
    "                        MXSPD[mxspd] = 0\n",
    "                        wmx[mxspd] = 0\n",
    "                zmx = sum(wmx)\n",
    "                if(max(wmx) > 0):\n",
    "                    wmx[0] = wmx[0]/zmx\n",
    "                    wmx[1] = wmx[1]/zmx\n",
    "                    df0.loc[n, \"MXSPD\"] = round(sum(np.multiply(MXSPD,wmx)), 2)\n",
    "                else:\n",
    "                    df0.loc[n, \"MXSPD\"] = np.nan\n",
    "                #MAX\n",
    "                MAX = [float(df0.loc[n, \"MAX\"]), float(df1.loc[index1, \"MAX\"])]\n",
    "                wtm = [float(noro_null.loc[i, \"W0\"]), float(noro_null.loc[i, \"W1\"])]\n",
    "                for tmax in range(2):\n",
    "                    if(MAX[tmax] > 9999):\n",
    "                        MAX[tmax] = 0\n",
    "                        wtm[tmax] = 0\n",
    "                ztm = sum(wtm)\n",
    "                if(max(wtm) > 0):\n",
    "                    wtm[0] = wtm[0]/ztm\n",
    "                    wtm[1] = wtm[1]/ztm\n",
    "                    df0.loc[n, \"MAX\"] = round(sum(np.multiply(MAX,wtm)), 2)\n",
    "                else:\n",
    "                    df0.loc[n, \"MAX\"] = np.nan\n",
    "                #MIN\n",
    "                MIN = [float(df0.loc[n, \"MIN\"]), float(df1.loc[index1, \"MIN\"])]\n",
    "                wtmi = [float(noro_null.loc[i, \"W0\"]), float(noro_null.loc[i, \"W1\"])]\n",
    "                for tmin in range(2):\n",
    "                    if(MIN[tmin] > 9999):\n",
    "                        MIN[tmin] = 0\n",
    "                        wtmi[tmin] = 0\n",
    "                ztmi = sum(wtmi)\n",
    "                if(max(wtmi)>0):\n",
    "                    wtmi[0] = wtmi[0]/ztmi\n",
    "                    wtmi[1] = wtmi[1]/ztmi\n",
    "                    df0.loc[n, \"MIN\"] = round(sum(np.multiply(MIN,wtmi)), 2)\n",
    "                else:\n",
    "                    df0.loc[n, \"MIN\"] = np.nan\n",
    "                #PRCP\n",
    "                PRCP = [float(df0.loc[n, \"PRCP\"]), float(df1.loc[index1, \"PRCP\"])]\n",
    "                wp = [float(noro_null.loc[i, \"W0\"]), float(noro_null.loc[i, \"W1\"])]\n",
    "                for temp in range(2):\n",
    "                    if(PRCP[temp] > 99):\n",
    "                        PRCP[temp] = 0\n",
    "                        wp[temp] = 0\n",
    "                zp = sum(wp)\n",
    "                if(max(wp) > 0):\n",
    "                    wp[0] = wp[0]/zp\n",
    "                    wp[1] = wp[1]/zp\n",
    "                    df0.loc[n, \"PRCP\"] = round(sum(np.multiply(PRCP,wp)), 2)\n",
    "                else:\n",
    "                    df0.loc[n, \"PRCP\"] = np.nan\n",
    "                #SNDP\n",
    "                SNDP = [float(df0.loc[n, \"SNDP\"]), float(df1.loc[index1, \"SNDP\"])]\n",
    "                wsndp = [float(noro_null.loc[i, \"W0\"]), float(noro_null.loc[i, \"W1\"])]\n",
    "                for sn in range(2):\n",
    "                    if(SNDP[sn] > 999):\n",
    "                        SNDP[sn] = 0\n",
    "                        wsndp[sn] = 0\n",
    "                zsndp = sum(wsndp)\n",
    "                if(max(wsndp) > 0):\n",
    "                    wsndp[0] = wsndp[0]/zsndp\n",
    "                    wsndp[1] = wsndp[1]/zsndp\n",
    "                    df0.loc[n, \"SNDP\"] = round(sum(np.multiply(SNDP,wsndp)), 1)\n",
    "                else:\n",
    "                    df0.loc[n, \"SNDP\"] = np.nan\n",
    "\n",
    "                #FR\n",
    "                #对FRSHTT进行修改\n",
    "                fr = [df0.loc[n, \"FRSHTT\"], df1.loc[index1, \"FRSHTT\"]]\n",
    "                if(((fr[0]%10) + (fr[1]%10)) > 1):# 个位\n",
    "                    df0.loc[n, \"Tornado or Funnel Cloud\"] = int(1)\n",
    "                else:\n",
    "                    df0.loc[n, \"Tornado or Funnel Cloud\"] = int(0)\n",
    "                if(((fr[0]//10%10) + (fr[1]//10%10)) > 1):#十位\n",
    "                    df0.loc[n, \"Thunder\"] = int(1)\n",
    "                else:\n",
    "                    df0.loc[n, \"Thunder\"] = int(0)\n",
    "                if(((fr[0]//100%10) + (fr[1]//100%10)) > 1):#百位\n",
    "                    df0.loc[n, \"Hail\"] = int(1)\n",
    "                else:\n",
    "                    df0.loc[n, \"Hail\"] = int(0)\n",
    "                if(((fr[0]//1000%10) + (fr[1]//1000%10))  > 1):#千位\n",
    "                    df0.loc[n, \"Snow or Ice Pellets\"] = int(1)\n",
    "                else:\n",
    "                    df0.loc[n, \"Snow or Ice Pellets\"] = int(0)\n",
    "                if(((fr[0]//10000 % 10) + (fr[1]//10000 % 10)) > 1):\n",
    "                    df0.loc[n, \"Rain or Drizzle\"] = int(1)\n",
    "                else:\n",
    "                    df0.loc[n, \"Rain or Drizzle\"] = int(0)\n",
    "                if(((fr[0]//100000 % 10) + (fr[1]//100000 % 10)) > 1):\n",
    "                    df0.loc[n, \"Fog\"] = int(1)\n",
    "                else:\n",
    "                    df0.loc[n, \"Fog\"] = int(0)\n",
    "\n",
    "            new_usaf = noro_null.loc[i, \"USAF0\"]\n",
    "            new_wban = pd.to_numeric(noro_null.loc[i, \"WBAN0\"]).astype('int32')\n",
    "            new_filename = str(new_usaf)+str(new_wban) + \"-\" + str(yr) + \"DAILY.csv\"\n",
    "            df0.to_csv(store_path + new_filename)\n"
   ]
  },
  {
   "cell_type": "code",
   "execution_count": 7,
   "id": "0320b104",
   "metadata": {},
   "outputs": [
    {
     "name": "stdout",
     "output_type": "stream",
     "text": [
      "0.0000%\n",
      "0.0401%\n",
      "0.0803%\n",
      "0.1204%\n",
      "0.1605%\n"
     ]
    },
    {
     "name": "stderr",
     "output_type": "stream",
     "text": [
      "/Users/evelyn/opt/anaconda3/lib/python3.9/site-packages/numpy/core/fromnumeric.py:3440: RuntimeWarning: Mean of empty slice.\n",
      "  return _methods._mean(a, axis=axis, dtype=dtype,\n",
      "/Users/evelyn/opt/anaconda3/lib/python3.9/site-packages/numpy/core/_methods.py:189: RuntimeWarning: invalid value encountered in double_scalars\n",
      "  ret = ret.dtype.type(ret / rcount)\n",
      "/Users/evelyn/opt/anaconda3/lib/python3.9/site-packages/numpy/core/fromnumeric.py:3440: RuntimeWarning: Mean of empty slice.\n",
      "  return _methods._mean(a, axis=axis, dtype=dtype,\n",
      "/Users/evelyn/opt/anaconda3/lib/python3.9/site-packages/numpy/core/_methods.py:189: RuntimeWarning: invalid value encountered in double_scalars\n",
      "  ret = ret.dtype.type(ret / rcount)\n",
      "/Users/evelyn/opt/anaconda3/lib/python3.9/site-packages/numpy/core/fromnumeric.py:3440: RuntimeWarning: Mean of empty slice.\n",
      "  return _methods._mean(a, axis=axis, dtype=dtype,\n",
      "/Users/evelyn/opt/anaconda3/lib/python3.9/site-packages/numpy/core/_methods.py:189: RuntimeWarning: invalid value encountered in double_scalars\n",
      "  ret = ret.dtype.type(ret / rcount)\n"
     ]
    },
    {
     "name": "stdout",
     "output_type": "stream",
     "text": [
      "0.2006%\n",
      "0.2408%\n",
      "0.2809%\n",
      "0.3210%\n",
      "0.3612%\n"
     ]
    },
    {
     "name": "stderr",
     "output_type": "stream",
     "text": [
      "/Users/evelyn/opt/anaconda3/lib/python3.9/site-packages/numpy/core/fromnumeric.py:3440: RuntimeWarning: Mean of empty slice.\n",
      "  return _methods._mean(a, axis=axis, dtype=dtype,\n",
      "/Users/evelyn/opt/anaconda3/lib/python3.9/site-packages/numpy/core/_methods.py:189: RuntimeWarning: invalid value encountered in double_scalars\n",
      "  ret = ret.dtype.type(ret / rcount)\n",
      "/Users/evelyn/opt/anaconda3/lib/python3.9/site-packages/numpy/core/fromnumeric.py:3440: RuntimeWarning: Mean of empty slice.\n",
      "  return _methods._mean(a, axis=axis, dtype=dtype,\n",
      "/Users/evelyn/opt/anaconda3/lib/python3.9/site-packages/numpy/core/_methods.py:189: RuntimeWarning: invalid value encountered in double_scalars\n",
      "  ret = ret.dtype.type(ret / rcount)\n",
      "/Users/evelyn/opt/anaconda3/lib/python3.9/site-packages/numpy/core/fromnumeric.py:3440: RuntimeWarning: Mean of empty slice.\n",
      "  return _methods._mean(a, axis=axis, dtype=dtype,\n",
      "/Users/evelyn/opt/anaconda3/lib/python3.9/site-packages/numpy/core/_methods.py:189: RuntimeWarning: invalid value encountered in double_scalars\n",
      "  ret = ret.dtype.type(ret / rcount)\n"
     ]
    },
    {
     "name": "stdout",
     "output_type": "stream",
     "text": [
      "0.4013%\n",
      "0.4414%\n",
      "0.4815%\n",
      "0.5217%\n",
      "0.5618%\n",
      "0.6019%\n",
      "0.6421%\n",
      "0.6822%\n"
     ]
    },
    {
     "name": "stderr",
     "output_type": "stream",
     "text": [
      "/Users/evelyn/opt/anaconda3/lib/python3.9/site-packages/numpy/core/fromnumeric.py:3440: RuntimeWarning: Mean of empty slice.\n",
      "  return _methods._mean(a, axis=axis, dtype=dtype,\n",
      "/Users/evelyn/opt/anaconda3/lib/python3.9/site-packages/numpy/core/_methods.py:189: RuntimeWarning: invalid value encountered in double_scalars\n",
      "  ret = ret.dtype.type(ret / rcount)\n",
      "/Users/evelyn/opt/anaconda3/lib/python3.9/site-packages/numpy/core/fromnumeric.py:3440: RuntimeWarning: Mean of empty slice.\n",
      "  return _methods._mean(a, axis=axis, dtype=dtype,\n",
      "/Users/evelyn/opt/anaconda3/lib/python3.9/site-packages/numpy/core/_methods.py:189: RuntimeWarning: invalid value encountered in double_scalars\n",
      "  ret = ret.dtype.type(ret / rcount)\n"
     ]
    },
    {
     "name": "stdout",
     "output_type": "stream",
     "text": [
      "0.7223%\n",
      "0.7624%\n",
      "0.8026%\n",
      "0.8427%\n",
      "0.8828%\n",
      "0.9230%\n",
      "0.9631%\n",
      "1.0032%\n",
      "1.0433%\n",
      "1.0835%\n",
      "1.1236%\n",
      "1.1637%\n",
      "1.2039%\n"
     ]
    },
    {
     "name": "stderr",
     "output_type": "stream",
     "text": [
      "/Users/evelyn/opt/anaconda3/lib/python3.9/site-packages/numpy/core/fromnumeric.py:3440: RuntimeWarning: Mean of empty slice.\n",
      "  return _methods._mean(a, axis=axis, dtype=dtype,\n",
      "/Users/evelyn/opt/anaconda3/lib/python3.9/site-packages/numpy/core/_methods.py:189: RuntimeWarning: invalid value encountered in double_scalars\n",
      "  ret = ret.dtype.type(ret / rcount)\n",
      "/Users/evelyn/opt/anaconda3/lib/python3.9/site-packages/numpy/core/fromnumeric.py:3440: RuntimeWarning: Mean of empty slice.\n",
      "  return _methods._mean(a, axis=axis, dtype=dtype,\n",
      "/Users/evelyn/opt/anaconda3/lib/python3.9/site-packages/numpy/core/_methods.py:189: RuntimeWarning: invalid value encountered in double_scalars\n",
      "  ret = ret.dtype.type(ret / rcount)\n",
      "/Users/evelyn/opt/anaconda3/lib/python3.9/site-packages/numpy/core/fromnumeric.py:3440: RuntimeWarning: Mean of empty slice.\n",
      "  return _methods._mean(a, axis=axis, dtype=dtype,\n",
      "/Users/evelyn/opt/anaconda3/lib/python3.9/site-packages/numpy/core/_methods.py:189: RuntimeWarning: invalid value encountered in double_scalars\n",
      "  ret = ret.dtype.type(ret / rcount)\n",
      "/Users/evelyn/opt/anaconda3/lib/python3.9/site-packages/numpy/core/fromnumeric.py:3440: RuntimeWarning: Mean of empty slice.\n",
      "  return _methods._mean(a, axis=axis, dtype=dtype,\n",
      "/Users/evelyn/opt/anaconda3/lib/python3.9/site-packages/numpy/core/_methods.py:189: RuntimeWarning: invalid value encountered in double_scalars\n",
      "  ret = ret.dtype.type(ret / rcount)\n"
     ]
    },
    {
     "name": "stdout",
     "output_type": "stream",
     "text": [
      "1.2440%\n",
      "1.2841%\n",
      "1.3242%\n",
      "1.3644%\n",
      "1.4045%\n",
      "1.4446%\n",
      "1.4848%\n",
      "1.5249%\n",
      "1.5650%\n"
     ]
    },
    {
     "name": "stderr",
     "output_type": "stream",
     "text": [
      "/Users/evelyn/opt/anaconda3/lib/python3.9/site-packages/numpy/core/fromnumeric.py:3440: RuntimeWarning: Mean of empty slice.\n",
      "  return _methods._mean(a, axis=axis, dtype=dtype,\n",
      "/Users/evelyn/opt/anaconda3/lib/python3.9/site-packages/numpy/core/_methods.py:189: RuntimeWarning: invalid value encountered in double_scalars\n",
      "  ret = ret.dtype.type(ret / rcount)\n",
      "/Users/evelyn/opt/anaconda3/lib/python3.9/site-packages/numpy/core/fromnumeric.py:3440: RuntimeWarning: Mean of empty slice.\n",
      "  return _methods._mean(a, axis=axis, dtype=dtype,\n",
      "/Users/evelyn/opt/anaconda3/lib/python3.9/site-packages/numpy/core/_methods.py:189: RuntimeWarning: invalid value encountered in double_scalars\n",
      "  ret = ret.dtype.type(ret / rcount)\n"
     ]
    },
    {
     "name": "stdout",
     "output_type": "stream",
     "text": [
      "1.6051%\n",
      "1.6453%\n",
      "1.6854%\n",
      "1.7255%\n",
      "1.7657%\n",
      "1.8058%\n",
      "1.8459%\n",
      "1.8860%\n",
      "1.9262%\n",
      "1.9663%\n",
      "2.0064%\n",
      "2.0465%\n",
      "2.0867%\n"
     ]
    },
    {
     "name": "stderr",
     "output_type": "stream",
     "text": [
      "/Users/evelyn/opt/anaconda3/lib/python3.9/site-packages/numpy/core/fromnumeric.py:3440: RuntimeWarning: Mean of empty slice.\n",
      "  return _methods._mean(a, axis=axis, dtype=dtype,\n",
      "/Users/evelyn/opt/anaconda3/lib/python3.9/site-packages/numpy/core/_methods.py:189: RuntimeWarning: invalid value encountered in double_scalars\n",
      "  ret = ret.dtype.type(ret / rcount)\n",
      "/Users/evelyn/opt/anaconda3/lib/python3.9/site-packages/numpy/core/fromnumeric.py:3440: RuntimeWarning: Mean of empty slice.\n",
      "  return _methods._mean(a, axis=axis, dtype=dtype,\n",
      "/Users/evelyn/opt/anaconda3/lib/python3.9/site-packages/numpy/core/_methods.py:189: RuntimeWarning: invalid value encountered in double_scalars\n",
      "  ret = ret.dtype.type(ret / rcount)\n"
     ]
    },
    {
     "name": "stdout",
     "output_type": "stream",
     "text": [
      "2.1268%\n",
      "2.1669%\n",
      "2.2071%\n",
      "2.2472%\n",
      "2.2873%\n",
      "2.3274%\n",
      "2.3676%\n",
      "2.4077%\n",
      "2.4478%\n",
      "2.4880%\n"
     ]
    },
    {
     "name": "stderr",
     "output_type": "stream",
     "text": [
      "/Users/evelyn/opt/anaconda3/lib/python3.9/site-packages/numpy/core/fromnumeric.py:3440: RuntimeWarning: Mean of empty slice.\n",
      "  return _methods._mean(a, axis=axis, dtype=dtype,\n",
      "/Users/evelyn/opt/anaconda3/lib/python3.9/site-packages/numpy/core/_methods.py:189: RuntimeWarning: invalid value encountered in double_scalars\n",
      "  ret = ret.dtype.type(ret / rcount)\n"
     ]
    },
    {
     "name": "stdout",
     "output_type": "stream",
     "text": [
      "2.5281%\n",
      "2.5682%\n",
      "2.6083%\n",
      "2.6485%\n",
      "2.6886%\n",
      "2.7287%\n",
      "2.7689%\n",
      "2.8090%\n",
      "2.8491%\n"
     ]
    },
    {
     "name": "stderr",
     "output_type": "stream",
     "text": [
      "/Users/evelyn/opt/anaconda3/lib/python3.9/site-packages/numpy/core/fromnumeric.py:3440: RuntimeWarning: Mean of empty slice.\n",
      "  return _methods._mean(a, axis=axis, dtype=dtype,\n",
      "/Users/evelyn/opt/anaconda3/lib/python3.9/site-packages/numpy/core/_methods.py:189: RuntimeWarning: invalid value encountered in double_scalars\n",
      "  ret = ret.dtype.type(ret / rcount)\n",
      "/Users/evelyn/opt/anaconda3/lib/python3.9/site-packages/numpy/core/fromnumeric.py:3440: RuntimeWarning: Mean of empty slice.\n",
      "  return _methods._mean(a, axis=axis, dtype=dtype,\n",
      "/Users/evelyn/opt/anaconda3/lib/python3.9/site-packages/numpy/core/_methods.py:189: RuntimeWarning: invalid value encountered in double_scalars\n",
      "  ret = ret.dtype.type(ret / rcount)\n"
     ]
    },
    {
     "name": "stdout",
     "output_type": "stream",
     "text": [
      "2.8892%\n",
      "2.9294%\n",
      "2.9695%\n",
      "3.0096%\n"
     ]
    },
    {
     "name": "stderr",
     "output_type": "stream",
     "text": [
      "/Users/evelyn/opt/anaconda3/lib/python3.9/site-packages/numpy/core/fromnumeric.py:3440: RuntimeWarning: Mean of empty slice.\n",
      "  return _methods._mean(a, axis=axis, dtype=dtype,\n",
      "/Users/evelyn/opt/anaconda3/lib/python3.9/site-packages/numpy/core/_methods.py:189: RuntimeWarning: invalid value encountered in double_scalars\n",
      "  ret = ret.dtype.type(ret / rcount)\n",
      "/Users/evelyn/opt/anaconda3/lib/python3.9/site-packages/numpy/core/fromnumeric.py:3440: RuntimeWarning: Mean of empty slice.\n",
      "  return _methods._mean(a, axis=axis, dtype=dtype,\n",
      "/Users/evelyn/opt/anaconda3/lib/python3.9/site-packages/numpy/core/_methods.py:189: RuntimeWarning: invalid value encountered in double_scalars\n",
      "  ret = ret.dtype.type(ret / rcount)\n",
      "/Users/evelyn/opt/anaconda3/lib/python3.9/site-packages/numpy/core/fromnumeric.py:3440: RuntimeWarning: Mean of empty slice.\n",
      "  return _methods._mean(a, axis=axis, dtype=dtype,\n",
      "/Users/evelyn/opt/anaconda3/lib/python3.9/site-packages/numpy/core/_methods.py:189: RuntimeWarning: invalid value encountered in double_scalars\n",
      "  ret = ret.dtype.type(ret / rcount)\n",
      "/Users/evelyn/opt/anaconda3/lib/python3.9/site-packages/numpy/core/fromnumeric.py:3440: RuntimeWarning: Mean of empty slice.\n",
      "  return _methods._mean(a, axis=axis, dtype=dtype,\n",
      "/Users/evelyn/opt/anaconda3/lib/python3.9/site-packages/numpy/core/_methods.py:189: RuntimeWarning: invalid value encountered in double_scalars\n",
      "  ret = ret.dtype.type(ret / rcount)\n",
      "/Users/evelyn/opt/anaconda3/lib/python3.9/site-packages/numpy/core/fromnumeric.py:3440: RuntimeWarning: Mean of empty slice.\n",
      "  return _methods._mean(a, axis=axis, dtype=dtype,\n",
      "/Users/evelyn/opt/anaconda3/lib/python3.9/site-packages/numpy/core/_methods.py:189: RuntimeWarning: invalid value encountered in double_scalars\n",
      "  ret = ret.dtype.type(ret / rcount)\n"
     ]
    },
    {
     "name": "stdout",
     "output_type": "stream",
     "text": [
      "3.0498%\n",
      "3.0899%\n",
      "3.1300%\n",
      "3.1701%\n",
      "3.2103%\n",
      "3.2504%\n",
      "3.2905%\n",
      "3.3307%\n",
      "3.3708%\n",
      "3.4109%\n",
      "3.4510%\n",
      "3.4912%\n",
      "3.5313%\n",
      "3.5714%\n",
      "3.6116%\n",
      "3.6517%\n"
     ]
    },
    {
     "name": "stderr",
     "output_type": "stream",
     "text": [
      "/Users/evelyn/opt/anaconda3/lib/python3.9/site-packages/numpy/core/fromnumeric.py:3440: RuntimeWarning: Mean of empty slice.\n",
      "  return _methods._mean(a, axis=axis, dtype=dtype,\n",
      "/Users/evelyn/opt/anaconda3/lib/python3.9/site-packages/numpy/core/_methods.py:189: RuntimeWarning: invalid value encountered in double_scalars\n",
      "  ret = ret.dtype.type(ret / rcount)\n"
     ]
    },
    {
     "name": "stdout",
     "output_type": "stream",
     "text": [
      "3.6918%\n",
      "3.7319%\n",
      "3.7721%\n",
      "3.8122%\n",
      "3.8523%\n",
      "3.8925%\n",
      "3.9326%\n",
      "3.9727%\n",
      "4.0128%\n",
      "4.0530%\n",
      "4.0931%\n",
      "4.1332%\n",
      "4.1734%\n",
      "4.2135%\n",
      "4.2536%\n",
      "4.2937%\n",
      "4.3339%\n"
     ]
    },
    {
     "name": "stderr",
     "output_type": "stream",
     "text": [
      "/Users/evelyn/opt/anaconda3/lib/python3.9/site-packages/numpy/core/fromnumeric.py:3440: RuntimeWarning: Mean of empty slice.\n",
      "  return _methods._mean(a, axis=axis, dtype=dtype,\n",
      "/Users/evelyn/opt/anaconda3/lib/python3.9/site-packages/numpy/core/_methods.py:189: RuntimeWarning: invalid value encountered in double_scalars\n",
      "  ret = ret.dtype.type(ret / rcount)\n",
      "/Users/evelyn/opt/anaconda3/lib/python3.9/site-packages/numpy/core/fromnumeric.py:3440: RuntimeWarning: Mean of empty slice.\n",
      "  return _methods._mean(a, axis=axis, dtype=dtype,\n",
      "/Users/evelyn/opt/anaconda3/lib/python3.9/site-packages/numpy/core/_methods.py:189: RuntimeWarning: invalid value encountered in double_scalars\n",
      "  ret = ret.dtype.type(ret / rcount)\n"
     ]
    },
    {
     "name": "stdout",
     "output_type": "stream",
     "text": [
      "4.3740%\n",
      "4.4141%\n",
      "4.4543%\n",
      "4.4944%\n"
     ]
    },
    {
     "name": "stderr",
     "output_type": "stream",
     "text": [
      "/Users/evelyn/opt/anaconda3/lib/python3.9/site-packages/numpy/core/fromnumeric.py:3440: RuntimeWarning: Mean of empty slice.\n",
      "  return _methods._mean(a, axis=axis, dtype=dtype,\n",
      "/Users/evelyn/opt/anaconda3/lib/python3.9/site-packages/numpy/core/_methods.py:189: RuntimeWarning: invalid value encountered in double_scalars\n",
      "  ret = ret.dtype.type(ret / rcount)\n",
      "/Users/evelyn/opt/anaconda3/lib/python3.9/site-packages/numpy/core/fromnumeric.py:3440: RuntimeWarning: Mean of empty slice.\n",
      "  return _methods._mean(a, axis=axis, dtype=dtype,\n",
      "/Users/evelyn/opt/anaconda3/lib/python3.9/site-packages/numpy/core/_methods.py:189: RuntimeWarning: invalid value encountered in double_scalars\n",
      "  ret = ret.dtype.type(ret / rcount)\n"
     ]
    },
    {
     "name": "stdout",
     "output_type": "stream",
     "text": [
      "4.5345%\n",
      "4.5746%\n",
      "4.6148%\n",
      "4.6549%\n",
      "4.6950%\n",
      "4.7352%\n",
      "4.7753%\n",
      "4.8154%\n",
      "4.8555%\n",
      "4.8957%\n",
      "4.9358%\n",
      "4.9759%\n",
      "5.0161%\n",
      "5.0562%\n",
      "5.0963%\n",
      "5.1364%\n",
      "5.1766%\n"
     ]
    },
    {
     "name": "stderr",
     "output_type": "stream",
     "text": [
      "/Users/evelyn/opt/anaconda3/lib/python3.9/site-packages/numpy/core/fromnumeric.py:3440: RuntimeWarning: Mean of empty slice.\n",
      "  return _methods._mean(a, axis=axis, dtype=dtype,\n",
      "/Users/evelyn/opt/anaconda3/lib/python3.9/site-packages/numpy/core/_methods.py:189: RuntimeWarning: invalid value encountered in double_scalars\n",
      "  ret = ret.dtype.type(ret / rcount)\n",
      "/Users/evelyn/opt/anaconda3/lib/python3.9/site-packages/numpy/core/fromnumeric.py:3440: RuntimeWarning: Mean of empty slice.\n",
      "  return _methods._mean(a, axis=axis, dtype=dtype,\n",
      "/Users/evelyn/opt/anaconda3/lib/python3.9/site-packages/numpy/core/_methods.py:189: RuntimeWarning: invalid value encountered in double_scalars\n",
      "  ret = ret.dtype.type(ret / rcount)\n",
      "/Users/evelyn/opt/anaconda3/lib/python3.9/site-packages/numpy/core/fromnumeric.py:3440: RuntimeWarning: Mean of empty slice.\n",
      "  return _methods._mean(a, axis=axis, dtype=dtype,\n",
      "/Users/evelyn/opt/anaconda3/lib/python3.9/site-packages/numpy/core/_methods.py:189: RuntimeWarning: invalid value encountered in double_scalars\n",
      "  ret = ret.dtype.type(ret / rcount)\n"
     ]
    },
    {
     "name": "stdout",
     "output_type": "stream",
     "text": [
      "5.2167%\n",
      "5.2568%\n",
      "5.2970%\n",
      "5.3371%\n",
      "5.3772%\n",
      "5.4173%\n",
      "5.4575%\n",
      "5.4976%\n",
      "5.5377%\n",
      "5.5778%\n",
      "5.6180%\n",
      "5.6581%\n",
      "5.6982%\n",
      "5.7384%\n",
      "5.7785%\n"
     ]
    },
    {
     "name": "stderr",
     "output_type": "stream",
     "text": [
      "/Users/evelyn/opt/anaconda3/lib/python3.9/site-packages/numpy/core/fromnumeric.py:3440: RuntimeWarning: Mean of empty slice.\n",
      "  return _methods._mean(a, axis=axis, dtype=dtype,\n",
      "/Users/evelyn/opt/anaconda3/lib/python3.9/site-packages/numpy/core/_methods.py:189: RuntimeWarning: invalid value encountered in double_scalars\n",
      "  ret = ret.dtype.type(ret / rcount)\n"
     ]
    },
    {
     "name": "stdout",
     "output_type": "stream",
     "text": [
      "5.8186%\n",
      "5.8587%\n",
      "5.8989%\n",
      "5.9390%\n",
      "5.9791%\n",
      "6.0193%\n",
      "6.0594%\n",
      "6.0995%\n"
     ]
    },
    {
     "name": "stderr",
     "output_type": "stream",
     "text": [
      "/Users/evelyn/opt/anaconda3/lib/python3.9/site-packages/numpy/core/fromnumeric.py:3440: RuntimeWarning: Mean of empty slice.\n",
      "  return _methods._mean(a, axis=axis, dtype=dtype,\n",
      "/Users/evelyn/opt/anaconda3/lib/python3.9/site-packages/numpy/core/_methods.py:189: RuntimeWarning: invalid value encountered in double_scalars\n",
      "  ret = ret.dtype.type(ret / rcount)\n"
     ]
    },
    {
     "name": "stdout",
     "output_type": "stream",
     "text": [
      "6.1396%\n",
      "6.1798%\n",
      "6.2199%\n",
      "6.2600%\n",
      "6.3002%\n",
      "6.3403%\n",
      "6.3804%\n",
      "6.4205%\n",
      "6.4607%\n"
     ]
    },
    {
     "name": "stderr",
     "output_type": "stream",
     "text": [
      "/Users/evelyn/opt/anaconda3/lib/python3.9/site-packages/numpy/core/fromnumeric.py:3440: RuntimeWarning: Mean of empty slice.\n",
      "  return _methods._mean(a, axis=axis, dtype=dtype,\n",
      "/Users/evelyn/opt/anaconda3/lib/python3.9/site-packages/numpy/core/_methods.py:189: RuntimeWarning: invalid value encountered in double_scalars\n",
      "  ret = ret.dtype.type(ret / rcount)\n",
      "/Users/evelyn/opt/anaconda3/lib/python3.9/site-packages/numpy/core/fromnumeric.py:3440: RuntimeWarning: Mean of empty slice.\n",
      "  return _methods._mean(a, axis=axis, dtype=dtype,\n",
      "/Users/evelyn/opt/anaconda3/lib/python3.9/site-packages/numpy/core/_methods.py:189: RuntimeWarning: invalid value encountered in double_scalars\n",
      "  ret = ret.dtype.type(ret / rcount)\n"
     ]
    },
    {
     "name": "stdout",
     "output_type": "stream",
     "text": [
      "6.5008%\n",
      "6.5409%\n",
      "6.5811%\n",
      "6.6212%\n"
     ]
    },
    {
     "name": "stderr",
     "output_type": "stream",
     "text": [
      "/Users/evelyn/opt/anaconda3/lib/python3.9/site-packages/numpy/core/fromnumeric.py:3440: RuntimeWarning: Mean of empty slice.\n",
      "  return _methods._mean(a, axis=axis, dtype=dtype,\n",
      "/Users/evelyn/opt/anaconda3/lib/python3.9/site-packages/numpy/core/_methods.py:189: RuntimeWarning: invalid value encountered in double_scalars\n",
      "  ret = ret.dtype.type(ret / rcount)\n"
     ]
    },
    {
     "name": "stdout",
     "output_type": "stream",
     "text": [
      "6.6613%\n",
      "6.7014%\n",
      "6.7416%\n",
      "6.7817%\n",
      "6.8218%\n",
      "6.8620%\n",
      "6.9021%\n",
      "6.9422%\n"
     ]
    },
    {
     "name": "stderr",
     "output_type": "stream",
     "text": [
      "/Users/evelyn/opt/anaconda3/lib/python3.9/site-packages/numpy/core/fromnumeric.py:3440: RuntimeWarning: Mean of empty slice.\n",
      "  return _methods._mean(a, axis=axis, dtype=dtype,\n",
      "/Users/evelyn/opt/anaconda3/lib/python3.9/site-packages/numpy/core/_methods.py:189: RuntimeWarning: invalid value encountered in double_scalars\n",
      "  ret = ret.dtype.type(ret / rcount)\n",
      "/Users/evelyn/opt/anaconda3/lib/python3.9/site-packages/numpy/core/fromnumeric.py:3440: RuntimeWarning: Mean of empty slice.\n",
      "  return _methods._mean(a, axis=axis, dtype=dtype,\n",
      "/Users/evelyn/opt/anaconda3/lib/python3.9/site-packages/numpy/core/_methods.py:189: RuntimeWarning: invalid value encountered in double_scalars\n",
      "  ret = ret.dtype.type(ret / rcount)\n"
     ]
    },
    {
     "name": "stdout",
     "output_type": "stream",
     "text": [
      "6.9823%\n",
      "7.0225%\n",
      "7.0626%\n",
      "7.1027%\n",
      "7.1429%\n",
      "7.1830%\n"
     ]
    },
    {
     "name": "stderr",
     "output_type": "stream",
     "text": [
      "/Users/evelyn/opt/anaconda3/lib/python3.9/site-packages/numpy/core/fromnumeric.py:3440: RuntimeWarning: Mean of empty slice.\n",
      "  return _methods._mean(a, axis=axis, dtype=dtype,\n",
      "/Users/evelyn/opt/anaconda3/lib/python3.9/site-packages/numpy/core/_methods.py:189: RuntimeWarning: invalid value encountered in double_scalars\n",
      "  ret = ret.dtype.type(ret / rcount)\n",
      "/Users/evelyn/opt/anaconda3/lib/python3.9/site-packages/numpy/core/fromnumeric.py:3440: RuntimeWarning: Mean of empty slice.\n",
      "  return _methods._mean(a, axis=axis, dtype=dtype,\n",
      "/Users/evelyn/opt/anaconda3/lib/python3.9/site-packages/numpy/core/_methods.py:189: RuntimeWarning: invalid value encountered in double_scalars\n",
      "  ret = ret.dtype.type(ret / rcount)\n"
     ]
    },
    {
     "name": "stdout",
     "output_type": "stream",
     "text": [
      "7.2231%\n",
      "7.2632%\n",
      "7.3034%\n",
      "7.3435%\n",
      "7.3836%\n",
      "7.4238%\n",
      "7.4639%\n",
      "7.5040%\n",
      "7.5441%\n",
      "7.5843%\n",
      "7.6244%\n"
     ]
    },
    {
     "name": "stderr",
     "output_type": "stream",
     "text": [
      "/Users/evelyn/opt/anaconda3/lib/python3.9/site-packages/numpy/core/fromnumeric.py:3440: RuntimeWarning: Mean of empty slice.\n",
      "  return _methods._mean(a, axis=axis, dtype=dtype,\n",
      "/Users/evelyn/opt/anaconda3/lib/python3.9/site-packages/numpy/core/_methods.py:189: RuntimeWarning: invalid value encountered in double_scalars\n",
      "  ret = ret.dtype.type(ret / rcount)\n"
     ]
    },
    {
     "name": "stdout",
     "output_type": "stream",
     "text": [
      "7.6645%\n",
      "7.7047%\n",
      "7.7448%\n",
      "7.7849%\n",
      "7.8250%\n",
      "7.8652%\n",
      "7.9053%\n",
      "7.9454%\n",
      "7.9856%\n",
      "8.0257%\n",
      "8.0658%\n",
      "8.1059%\n",
      "8.1461%\n",
      "8.1862%\n",
      "8.2263%\n"
     ]
    },
    {
     "name": "stderr",
     "output_type": "stream",
     "text": [
      "/Users/evelyn/opt/anaconda3/lib/python3.9/site-packages/numpy/core/fromnumeric.py:3440: RuntimeWarning: Mean of empty slice.\n",
      "  return _methods._mean(a, axis=axis, dtype=dtype,\n",
      "/Users/evelyn/opt/anaconda3/lib/python3.9/site-packages/numpy/core/_methods.py:189: RuntimeWarning: invalid value encountered in double_scalars\n",
      "  ret = ret.dtype.type(ret / rcount)\n",
      "/Users/evelyn/opt/anaconda3/lib/python3.9/site-packages/numpy/core/fromnumeric.py:3440: RuntimeWarning: Mean of empty slice.\n",
      "  return _methods._mean(a, axis=axis, dtype=dtype,\n",
      "/Users/evelyn/opt/anaconda3/lib/python3.9/site-packages/numpy/core/_methods.py:189: RuntimeWarning: invalid value encountered in double_scalars\n",
      "  ret = ret.dtype.type(ret / rcount)\n"
     ]
    },
    {
     "name": "stdout",
     "output_type": "stream",
     "text": [
      "8.2665%\n",
      "8.3066%\n",
      "8.3467%\n",
      "8.3868%\n",
      "8.4270%\n",
      "8.4671%\n",
      "8.5072%\n",
      "8.5474%\n",
      "8.5875%\n",
      "8.6276%\n",
      "8.6677%\n",
      "8.7079%\n"
     ]
    },
    {
     "name": "stderr",
     "output_type": "stream",
     "text": [
      "/Users/evelyn/opt/anaconda3/lib/python3.9/site-packages/numpy/core/fromnumeric.py:3440: RuntimeWarning: Mean of empty slice.\n",
      "  return _methods._mean(a, axis=axis, dtype=dtype,\n",
      "/Users/evelyn/opt/anaconda3/lib/python3.9/site-packages/numpy/core/_methods.py:189: RuntimeWarning: invalid value encountered in double_scalars\n",
      "  ret = ret.dtype.type(ret / rcount)\n",
      "/Users/evelyn/opt/anaconda3/lib/python3.9/site-packages/numpy/core/fromnumeric.py:3440: RuntimeWarning: Mean of empty slice.\n",
      "  return _methods._mean(a, axis=axis, dtype=dtype,\n",
      "/Users/evelyn/opt/anaconda3/lib/python3.9/site-packages/numpy/core/_methods.py:189: RuntimeWarning: invalid value encountered in double_scalars\n",
      "  ret = ret.dtype.type(ret / rcount)\n",
      "/Users/evelyn/opt/anaconda3/lib/python3.9/site-packages/numpy/core/fromnumeric.py:3440: RuntimeWarning: Mean of empty slice.\n",
      "  return _methods._mean(a, axis=axis, dtype=dtype,\n",
      "/Users/evelyn/opt/anaconda3/lib/python3.9/site-packages/numpy/core/_methods.py:189: RuntimeWarning: invalid value encountered in double_scalars\n",
      "  ret = ret.dtype.type(ret / rcount)\n",
      "/Users/evelyn/opt/anaconda3/lib/python3.9/site-packages/numpy/core/fromnumeric.py:3440: RuntimeWarning: Mean of empty slice.\n",
      "  return _methods._mean(a, axis=axis, dtype=dtype,\n",
      "/Users/evelyn/opt/anaconda3/lib/python3.9/site-packages/numpy/core/_methods.py:189: RuntimeWarning: invalid value encountered in double_scalars\n",
      "  ret = ret.dtype.type(ret / rcount)\n",
      "/Users/evelyn/opt/anaconda3/lib/python3.9/site-packages/numpy/core/fromnumeric.py:3440: RuntimeWarning: Mean of empty slice.\n",
      "  return _methods._mean(a, axis=axis, dtype=dtype,\n",
      "/Users/evelyn/opt/anaconda3/lib/python3.9/site-packages/numpy/core/_methods.py:189: RuntimeWarning: invalid value encountered in double_scalars\n",
      "  ret = ret.dtype.type(ret / rcount)\n"
     ]
    },
    {
     "name": "stdout",
     "output_type": "stream",
     "text": [
      "8.7480%\n",
      "8.7881%\n",
      "8.8283%\n",
      "8.8684%\n",
      "8.9085%\n",
      "8.9486%\n",
      "8.9888%\n",
      "9.0289%\n"
     ]
    },
    {
     "name": "stderr",
     "output_type": "stream",
     "text": [
      "/Users/evelyn/opt/anaconda3/lib/python3.9/site-packages/numpy/core/fromnumeric.py:3440: RuntimeWarning: Mean of empty slice.\n",
      "  return _methods._mean(a, axis=axis, dtype=dtype,\n",
      "/Users/evelyn/opt/anaconda3/lib/python3.9/site-packages/numpy/core/_methods.py:189: RuntimeWarning: invalid value encountered in double_scalars\n",
      "  ret = ret.dtype.type(ret / rcount)\n",
      "/Users/evelyn/opt/anaconda3/lib/python3.9/site-packages/numpy/core/fromnumeric.py:3440: RuntimeWarning: Mean of empty slice.\n",
      "  return _methods._mean(a, axis=axis, dtype=dtype,\n",
      "/Users/evelyn/opt/anaconda3/lib/python3.9/site-packages/numpy/core/_methods.py:189: RuntimeWarning: invalid value encountered in double_scalars\n",
      "  ret = ret.dtype.type(ret / rcount)\n"
     ]
    },
    {
     "name": "stdout",
     "output_type": "stream",
     "text": [
      "9.0690%\n",
      "9.1091%\n",
      "9.1493%\n",
      "9.1894%\n",
      "9.2295%\n",
      "9.2697%\n",
      "9.3098%\n",
      "9.3499%\n",
      "9.3900%\n",
      "9.4302%\n",
      "9.4703%\n",
      "9.5104%\n"
     ]
    },
    {
     "name": "stderr",
     "output_type": "stream",
     "text": [
      "/Users/evelyn/opt/anaconda3/lib/python3.9/site-packages/numpy/core/fromnumeric.py:3440: RuntimeWarning: Mean of empty slice.\n",
      "  return _methods._mean(a, axis=axis, dtype=dtype,\n",
      "/Users/evelyn/opt/anaconda3/lib/python3.9/site-packages/numpy/core/_methods.py:189: RuntimeWarning: invalid value encountered in double_scalars\n",
      "  ret = ret.dtype.type(ret / rcount)\n"
     ]
    },
    {
     "name": "stdout",
     "output_type": "stream",
     "text": [
      "9.5506%\n",
      "9.5907%\n",
      "9.6308%\n",
      "9.6709%\n",
      "9.7111%\n",
      "9.7512%\n",
      "9.7913%\n",
      "9.8315%\n",
      "9.8716%\n",
      "9.9117%\n"
     ]
    },
    {
     "name": "stderr",
     "output_type": "stream",
     "text": [
      "/Users/evelyn/opt/anaconda3/lib/python3.9/site-packages/numpy/core/fromnumeric.py:3440: RuntimeWarning: Mean of empty slice.\n",
      "  return _methods._mean(a, axis=axis, dtype=dtype,\n",
      "/Users/evelyn/opt/anaconda3/lib/python3.9/site-packages/numpy/core/_methods.py:189: RuntimeWarning: invalid value encountered in double_scalars\n",
      "  ret = ret.dtype.type(ret / rcount)\n",
      "/Users/evelyn/opt/anaconda3/lib/python3.9/site-packages/numpy/core/fromnumeric.py:3440: RuntimeWarning: Mean of empty slice.\n",
      "  return _methods._mean(a, axis=axis, dtype=dtype,\n",
      "/Users/evelyn/opt/anaconda3/lib/python3.9/site-packages/numpy/core/_methods.py:189: RuntimeWarning: invalid value encountered in double_scalars\n",
      "  ret = ret.dtype.type(ret / rcount)\n"
     ]
    },
    {
     "name": "stdout",
     "output_type": "stream",
     "text": [
      "9.9518%\n",
      "9.9920%\n",
      "10.0321%\n",
      "10.0722%\n",
      "10.1124%\n",
      "10.1525%\n",
      "10.1926%\n",
      "10.2327%\n",
      "10.2729%\n",
      "10.3130%\n"
     ]
    },
    {
     "name": "stderr",
     "output_type": "stream",
     "text": [
      "/Users/evelyn/opt/anaconda3/lib/python3.9/site-packages/numpy/core/fromnumeric.py:3440: RuntimeWarning: Mean of empty slice.\n",
      "  return _methods._mean(a, axis=axis, dtype=dtype,\n",
      "/Users/evelyn/opt/anaconda3/lib/python3.9/site-packages/numpy/core/_methods.py:189: RuntimeWarning: invalid value encountered in double_scalars\n",
      "  ret = ret.dtype.type(ret / rcount)\n",
      "/Users/evelyn/opt/anaconda3/lib/python3.9/site-packages/numpy/core/fromnumeric.py:3440: RuntimeWarning: Mean of empty slice.\n",
      "  return _methods._mean(a, axis=axis, dtype=dtype,\n",
      "/Users/evelyn/opt/anaconda3/lib/python3.9/site-packages/numpy/core/_methods.py:189: RuntimeWarning: invalid value encountered in double_scalars\n",
      "  ret = ret.dtype.type(ret / rcount)\n"
     ]
    },
    {
     "name": "stdout",
     "output_type": "stream",
     "text": [
      "10.3531%\n",
      "10.3933%\n",
      "10.4334%\n",
      "10.4735%\n",
      "10.5136%\n",
      "10.5538%\n",
      "10.5939%\n"
     ]
    },
    {
     "name": "stderr",
     "output_type": "stream",
     "text": [
      "/Users/evelyn/opt/anaconda3/lib/python3.9/site-packages/numpy/core/fromnumeric.py:3440: RuntimeWarning: Mean of empty slice.\n",
      "  return _methods._mean(a, axis=axis, dtype=dtype,\n",
      "/Users/evelyn/opt/anaconda3/lib/python3.9/site-packages/numpy/core/_methods.py:189: RuntimeWarning: invalid value encountered in double_scalars\n",
      "  ret = ret.dtype.type(ret / rcount)\n",
      "/Users/evelyn/opt/anaconda3/lib/python3.9/site-packages/numpy/core/fromnumeric.py:3440: RuntimeWarning: Mean of empty slice.\n",
      "  return _methods._mean(a, axis=axis, dtype=dtype,\n",
      "/Users/evelyn/opt/anaconda3/lib/python3.9/site-packages/numpy/core/_methods.py:189: RuntimeWarning: invalid value encountered in double_scalars\n",
      "  ret = ret.dtype.type(ret / rcount)\n"
     ]
    },
    {
     "name": "stdout",
     "output_type": "stream",
     "text": [
      "10.6340%\n",
      "10.6742%\n",
      "10.7143%\n",
      "10.7544%\n",
      "10.7945%\n",
      "10.8347%\n",
      "10.8748%\n",
      "10.9149%\n",
      "10.9551%\n",
      "10.9952%\n",
      "11.0353%\n",
      "11.0754%\n",
      "11.1156%\n",
      "11.1557%\n",
      "11.1958%\n"
     ]
    },
    {
     "name": "stderr",
     "output_type": "stream",
     "text": [
      "/Users/evelyn/opt/anaconda3/lib/python3.9/site-packages/numpy/core/fromnumeric.py:3440: RuntimeWarning: Mean of empty slice.\n",
      "  return _methods._mean(a, axis=axis, dtype=dtype,\n",
      "/Users/evelyn/opt/anaconda3/lib/python3.9/site-packages/numpy/core/_methods.py:189: RuntimeWarning: invalid value encountered in double_scalars\n",
      "  ret = ret.dtype.type(ret / rcount)\n",
      "/Users/evelyn/opt/anaconda3/lib/python3.9/site-packages/numpy/core/fromnumeric.py:3440: RuntimeWarning: Mean of empty slice.\n",
      "  return _methods._mean(a, axis=axis, dtype=dtype,\n",
      "/Users/evelyn/opt/anaconda3/lib/python3.9/site-packages/numpy/core/_methods.py:189: RuntimeWarning: invalid value encountered in double_scalars\n",
      "  ret = ret.dtype.type(ret / rcount)\n",
      "/Users/evelyn/opt/anaconda3/lib/python3.9/site-packages/numpy/core/fromnumeric.py:3440: RuntimeWarning: Mean of empty slice.\n",
      "  return _methods._mean(a, axis=axis, dtype=dtype,\n",
      "/Users/evelyn/opt/anaconda3/lib/python3.9/site-packages/numpy/core/_methods.py:189: RuntimeWarning: invalid value encountered in double_scalars\n",
      "  ret = ret.dtype.type(ret / rcount)\n",
      "/Users/evelyn/opt/anaconda3/lib/python3.9/site-packages/numpy/core/fromnumeric.py:3440: RuntimeWarning: Mean of empty slice.\n",
      "  return _methods._mean(a, axis=axis, dtype=dtype,\n",
      "/Users/evelyn/opt/anaconda3/lib/python3.9/site-packages/numpy/core/_methods.py:189: RuntimeWarning: invalid value encountered in double_scalars\n",
      "  ret = ret.dtype.type(ret / rcount)\n"
     ]
    },
    {
     "name": "stdout",
     "output_type": "stream",
     "text": [
      "11.2360%\n",
      "11.2761%\n",
      "11.3162%\n",
      "11.3563%\n",
      "11.3965%\n",
      "11.4366%\n",
      "11.4767%\n",
      "11.5169%\n",
      "11.5570%\n",
      "11.5971%\n",
      "11.6372%\n",
      "11.6774%\n",
      "11.7175%\n",
      "11.7576%\n",
      "11.7978%\n",
      "11.8379%\n",
      "11.8780%\n",
      "11.9181%\n",
      "11.9583%\n",
      "11.9984%\n",
      "12.0385%\n",
      "12.0787%\n",
      "12.1188%\n",
      "12.1589%\n"
     ]
    },
    {
     "name": "stderr",
     "output_type": "stream",
     "text": [
      "/Users/evelyn/opt/anaconda3/lib/python3.9/site-packages/numpy/core/fromnumeric.py:3440: RuntimeWarning: Mean of empty slice.\n",
      "  return _methods._mean(a, axis=axis, dtype=dtype,\n",
      "/Users/evelyn/opt/anaconda3/lib/python3.9/site-packages/numpy/core/_methods.py:189: RuntimeWarning: invalid value encountered in double_scalars\n",
      "  ret = ret.dtype.type(ret / rcount)\n",
      "/Users/evelyn/opt/anaconda3/lib/python3.9/site-packages/numpy/core/fromnumeric.py:3440: RuntimeWarning: Mean of empty slice.\n",
      "  return _methods._mean(a, axis=axis, dtype=dtype,\n",
      "/Users/evelyn/opt/anaconda3/lib/python3.9/site-packages/numpy/core/_methods.py:189: RuntimeWarning: invalid value encountered in double_scalars\n",
      "  ret = ret.dtype.type(ret / rcount)\n",
      "/Users/evelyn/opt/anaconda3/lib/python3.9/site-packages/numpy/core/fromnumeric.py:3440: RuntimeWarning: Mean of empty slice.\n",
      "  return _methods._mean(a, axis=axis, dtype=dtype,\n",
      "/Users/evelyn/opt/anaconda3/lib/python3.9/site-packages/numpy/core/_methods.py:189: RuntimeWarning: invalid value encountered in double_scalars\n",
      "  ret = ret.dtype.type(ret / rcount)\n"
     ]
    },
    {
     "name": "stdout",
     "output_type": "stream",
     "text": [
      "12.1990%\n",
      "12.2392%\n",
      "12.2793%\n",
      "12.3194%\n",
      "12.3596%\n",
      "12.3997%\n",
      "12.4398%\n",
      "12.4799%\n",
      "12.5201%\n",
      "12.5602%\n",
      "12.6003%\n"
     ]
    },
    {
     "name": "stderr",
     "output_type": "stream",
     "text": [
      "/Users/evelyn/opt/anaconda3/lib/python3.9/site-packages/numpy/core/fromnumeric.py:3440: RuntimeWarning: Mean of empty slice.\n",
      "  return _methods._mean(a, axis=axis, dtype=dtype,\n",
      "/Users/evelyn/opt/anaconda3/lib/python3.9/site-packages/numpy/core/_methods.py:189: RuntimeWarning: invalid value encountered in double_scalars\n",
      "  ret = ret.dtype.type(ret / rcount)\n",
      "/Users/evelyn/opt/anaconda3/lib/python3.9/site-packages/numpy/core/fromnumeric.py:3440: RuntimeWarning: Mean of empty slice.\n",
      "  return _methods._mean(a, axis=axis, dtype=dtype,\n",
      "/Users/evelyn/opt/anaconda3/lib/python3.9/site-packages/numpy/core/_methods.py:189: RuntimeWarning: invalid value encountered in double_scalars\n",
      "  ret = ret.dtype.type(ret / rcount)\n",
      "/Users/evelyn/opt/anaconda3/lib/python3.9/site-packages/numpy/core/fromnumeric.py:3440: RuntimeWarning: Mean of empty slice.\n",
      "  return _methods._mean(a, axis=axis, dtype=dtype,\n",
      "/Users/evelyn/opt/anaconda3/lib/python3.9/site-packages/numpy/core/_methods.py:189: RuntimeWarning: invalid value encountered in double_scalars\n",
      "  ret = ret.dtype.type(ret / rcount)\n",
      "/Users/evelyn/opt/anaconda3/lib/python3.9/site-packages/numpy/core/fromnumeric.py:3440: RuntimeWarning: Mean of empty slice.\n",
      "  return _methods._mean(a, axis=axis, dtype=dtype,\n",
      "/Users/evelyn/opt/anaconda3/lib/python3.9/site-packages/numpy/core/_methods.py:189: RuntimeWarning: invalid value encountered in double_scalars\n",
      "  ret = ret.dtype.type(ret / rcount)\n"
     ]
    },
    {
     "name": "stdout",
     "output_type": "stream",
     "text": [
      "12.6404%\n",
      "12.6806%\n",
      "12.7207%\n",
      "12.7608%\n",
      "12.8010%\n",
      "12.8411%\n",
      "12.8812%\n",
      "12.9213%\n"
     ]
    },
    {
     "name": "stderr",
     "output_type": "stream",
     "text": [
      "/Users/evelyn/opt/anaconda3/lib/python3.9/site-packages/numpy/core/fromnumeric.py:3440: RuntimeWarning: Mean of empty slice.\n",
      "  return _methods._mean(a, axis=axis, dtype=dtype,\n",
      "/Users/evelyn/opt/anaconda3/lib/python3.9/site-packages/numpy/core/_methods.py:189: RuntimeWarning: invalid value encountered in double_scalars\n",
      "  ret = ret.dtype.type(ret / rcount)\n",
      "/Users/evelyn/opt/anaconda3/lib/python3.9/site-packages/numpy/core/fromnumeric.py:3440: RuntimeWarning: Mean of empty slice.\n",
      "  return _methods._mean(a, axis=axis, dtype=dtype,\n",
      "/Users/evelyn/opt/anaconda3/lib/python3.9/site-packages/numpy/core/_methods.py:189: RuntimeWarning: invalid value encountered in double_scalars\n",
      "  ret = ret.dtype.type(ret / rcount)\n"
     ]
    },
    {
     "name": "stdout",
     "output_type": "stream",
     "text": [
      "12.9615%\n",
      "13.0016%\n",
      "13.0417%\n",
      "13.0819%\n",
      "13.1220%\n",
      "13.1621%\n",
      "13.2022%\n",
      "13.2424%\n",
      "13.2825%\n",
      "13.3226%\n",
      "13.3628%\n",
      "13.4029%\n",
      "13.4430%\n",
      "13.4831%\n",
      "13.5233%\n"
     ]
    },
    {
     "name": "stderr",
     "output_type": "stream",
     "text": [
      "/Users/evelyn/opt/anaconda3/lib/python3.9/site-packages/numpy/core/fromnumeric.py:3440: RuntimeWarning: Mean of empty slice.\n",
      "  return _methods._mean(a, axis=axis, dtype=dtype,\n",
      "/Users/evelyn/opt/anaconda3/lib/python3.9/site-packages/numpy/core/_methods.py:189: RuntimeWarning: invalid value encountered in double_scalars\n",
      "  ret = ret.dtype.type(ret / rcount)\n",
      "/Users/evelyn/opt/anaconda3/lib/python3.9/site-packages/numpy/core/fromnumeric.py:3440: RuntimeWarning: Mean of empty slice.\n",
      "  return _methods._mean(a, axis=axis, dtype=dtype,\n",
      "/Users/evelyn/opt/anaconda3/lib/python3.9/site-packages/numpy/core/_methods.py:189: RuntimeWarning: invalid value encountered in double_scalars\n",
      "  ret = ret.dtype.type(ret / rcount)\n",
      "/Users/evelyn/opt/anaconda3/lib/python3.9/site-packages/numpy/core/fromnumeric.py:3440: RuntimeWarning: Mean of empty slice.\n",
      "  return _methods._mean(a, axis=axis, dtype=dtype,\n",
      "/Users/evelyn/opt/anaconda3/lib/python3.9/site-packages/numpy/core/_methods.py:189: RuntimeWarning: invalid value encountered in double_scalars\n",
      "  ret = ret.dtype.type(ret / rcount)\n"
     ]
    },
    {
     "name": "stdout",
     "output_type": "stream",
     "text": [
      "13.5634%\n",
      "13.6035%\n",
      "13.6437%\n",
      "13.6838%\n",
      "13.7239%\n"
     ]
    },
    {
     "name": "stderr",
     "output_type": "stream",
     "text": [
      "/Users/evelyn/opt/anaconda3/lib/python3.9/site-packages/numpy/core/fromnumeric.py:3440: RuntimeWarning: Mean of empty slice.\n",
      "  return _methods._mean(a, axis=axis, dtype=dtype,\n",
      "/Users/evelyn/opt/anaconda3/lib/python3.9/site-packages/numpy/core/_methods.py:189: RuntimeWarning: invalid value encountered in double_scalars\n",
      "  ret = ret.dtype.type(ret / rcount)\n",
      "/Users/evelyn/opt/anaconda3/lib/python3.9/site-packages/numpy/core/fromnumeric.py:3440: RuntimeWarning: Mean of empty slice.\n",
      "  return _methods._mean(a, axis=axis, dtype=dtype,\n",
      "/Users/evelyn/opt/anaconda3/lib/python3.9/site-packages/numpy/core/_methods.py:189: RuntimeWarning: invalid value encountered in double_scalars\n",
      "  ret = ret.dtype.type(ret / rcount)\n",
      "/Users/evelyn/opt/anaconda3/lib/python3.9/site-packages/numpy/core/fromnumeric.py:3440: RuntimeWarning: Mean of empty slice.\n",
      "  return _methods._mean(a, axis=axis, dtype=dtype,\n",
      "/Users/evelyn/opt/anaconda3/lib/python3.9/site-packages/numpy/core/_methods.py:189: RuntimeWarning: invalid value encountered in double_scalars\n",
      "  ret = ret.dtype.type(ret / rcount)\n"
     ]
    },
    {
     "name": "stdout",
     "output_type": "stream",
     "text": [
      "13.7640%\n",
      "13.8042%\n",
      "13.8443%\n",
      "13.8844%\n",
      "13.9246%\n",
      "13.9647%\n",
      "14.0048%\n",
      "14.0449%\n",
      "14.0851%\n",
      "14.1252%\n",
      "14.1653%\n",
      "14.2055%\n",
      "14.2456%\n",
      "14.2857%\n"
     ]
    },
    {
     "name": "stderr",
     "output_type": "stream",
     "text": [
      "/Users/evelyn/opt/anaconda3/lib/python3.9/site-packages/numpy/core/fromnumeric.py:3440: RuntimeWarning: Mean of empty slice.\n",
      "  return _methods._mean(a, axis=axis, dtype=dtype,\n",
      "/Users/evelyn/opt/anaconda3/lib/python3.9/site-packages/numpy/core/_methods.py:189: RuntimeWarning: invalid value encountered in double_scalars\n",
      "  ret = ret.dtype.type(ret / rcount)\n",
      "/Users/evelyn/opt/anaconda3/lib/python3.9/site-packages/numpy/core/fromnumeric.py:3440: RuntimeWarning: Mean of empty slice.\n",
      "  return _methods._mean(a, axis=axis, dtype=dtype,\n",
      "/Users/evelyn/opt/anaconda3/lib/python3.9/site-packages/numpy/core/_methods.py:189: RuntimeWarning: invalid value encountered in double_scalars\n",
      "  ret = ret.dtype.type(ret / rcount)\n"
     ]
    },
    {
     "name": "stdout",
     "output_type": "stream",
     "text": [
      "14.3258%\n",
      "14.3660%\n",
      "14.4061%\n",
      "14.4462%\n",
      "14.4864%\n",
      "14.5265%\n",
      "14.5666%\n",
      "14.6067%\n",
      "14.6469%\n",
      "14.6870%\n"
     ]
    },
    {
     "name": "stderr",
     "output_type": "stream",
     "text": [
      "/Users/evelyn/opt/anaconda3/lib/python3.9/site-packages/numpy/core/fromnumeric.py:3440: RuntimeWarning: Mean of empty slice.\n",
      "  return _methods._mean(a, axis=axis, dtype=dtype,\n",
      "/Users/evelyn/opt/anaconda3/lib/python3.9/site-packages/numpy/core/_methods.py:189: RuntimeWarning: invalid value encountered in double_scalars\n",
      "  ret = ret.dtype.type(ret / rcount)\n"
     ]
    },
    {
     "name": "stdout",
     "output_type": "stream",
     "text": [
      "14.7271%\n",
      "14.7673%\n",
      "14.8074%\n",
      "14.8475%\n",
      "14.8876%\n",
      "14.9278%\n"
     ]
    },
    {
     "name": "stderr",
     "output_type": "stream",
     "text": [
      "/Users/evelyn/opt/anaconda3/lib/python3.9/site-packages/numpy/core/fromnumeric.py:3440: RuntimeWarning: Mean of empty slice.\n",
      "  return _methods._mean(a, axis=axis, dtype=dtype,\n",
      "/Users/evelyn/opt/anaconda3/lib/python3.9/site-packages/numpy/core/_methods.py:189: RuntimeWarning: invalid value encountered in double_scalars\n",
      "  ret = ret.dtype.type(ret / rcount)\n"
     ]
    },
    {
     "name": "stdout",
     "output_type": "stream",
     "text": [
      "14.9679%\n"
     ]
    },
    {
     "name": "stderr",
     "output_type": "stream",
     "text": [
      "/Users/evelyn/opt/anaconda3/lib/python3.9/site-packages/numpy/core/fromnumeric.py:3440: RuntimeWarning: Mean of empty slice.\n",
      "  return _methods._mean(a, axis=axis, dtype=dtype,\n",
      "/Users/evelyn/opt/anaconda3/lib/python3.9/site-packages/numpy/core/_methods.py:189: RuntimeWarning: invalid value encountered in double_scalars\n",
      "  ret = ret.dtype.type(ret / rcount)\n",
      "/Users/evelyn/opt/anaconda3/lib/python3.9/site-packages/numpy/core/fromnumeric.py:3440: RuntimeWarning: Mean of empty slice.\n",
      "  return _methods._mean(a, axis=axis, dtype=dtype,\n",
      "/Users/evelyn/opt/anaconda3/lib/python3.9/site-packages/numpy/core/_methods.py:189: RuntimeWarning: invalid value encountered in double_scalars\n",
      "  ret = ret.dtype.type(ret / rcount)\n"
     ]
    },
    {
     "name": "stdout",
     "output_type": "stream",
     "text": [
      "15.0080%\n",
      "15.0482%\n",
      "15.0883%\n",
      "15.1284%\n",
      "15.1685%\n",
      "15.2087%\n",
      "15.2488%\n",
      "15.2889%\n",
      "15.3291%\n",
      "15.3692%\n",
      "15.4093%\n",
      "15.4494%\n",
      "15.4896%\n",
      "15.5297%\n"
     ]
    },
    {
     "name": "stderr",
     "output_type": "stream",
     "text": [
      "/Users/evelyn/opt/anaconda3/lib/python3.9/site-packages/numpy/core/fromnumeric.py:3440: RuntimeWarning: Mean of empty slice.\n",
      "  return _methods._mean(a, axis=axis, dtype=dtype,\n",
      "/Users/evelyn/opt/anaconda3/lib/python3.9/site-packages/numpy/core/_methods.py:189: RuntimeWarning: invalid value encountered in double_scalars\n",
      "  ret = ret.dtype.type(ret / rcount)\n"
     ]
    },
    {
     "name": "stdout",
     "output_type": "stream",
     "text": [
      "15.5698%\n",
      "15.6100%\n",
      "15.6501%\n",
      "15.6902%\n",
      "15.7303%\n",
      "15.7705%\n"
     ]
    },
    {
     "name": "stderr",
     "output_type": "stream",
     "text": [
      "/Users/evelyn/opt/anaconda3/lib/python3.9/site-packages/numpy/core/fromnumeric.py:3440: RuntimeWarning: Mean of empty slice.\n",
      "  return _methods._mean(a, axis=axis, dtype=dtype,\n",
      "/Users/evelyn/opt/anaconda3/lib/python3.9/site-packages/numpy/core/_methods.py:189: RuntimeWarning: invalid value encountered in double_scalars\n",
      "  ret = ret.dtype.type(ret / rcount)\n",
      "/Users/evelyn/opt/anaconda3/lib/python3.9/site-packages/numpy/core/fromnumeric.py:3440: RuntimeWarning: Mean of empty slice.\n",
      "  return _methods._mean(a, axis=axis, dtype=dtype,\n",
      "/Users/evelyn/opt/anaconda3/lib/python3.9/site-packages/numpy/core/_methods.py:189: RuntimeWarning: invalid value encountered in double_scalars\n",
      "  ret = ret.dtype.type(ret / rcount)\n"
     ]
    },
    {
     "name": "stdout",
     "output_type": "stream",
     "text": [
      "15.8106%\n",
      "15.8507%\n",
      "15.8909%\n",
      "15.9310%\n",
      "15.9711%\n",
      "16.0112%\n",
      "16.0514%\n",
      "16.0915%\n",
      "16.1316%\n",
      "16.1717%\n",
      "16.2119%\n",
      "16.2520%\n",
      "16.2921%\n",
      "16.3323%\n",
      "16.3724%\n",
      "16.4125%\n",
      "16.4526%\n",
      "16.4928%\n",
      "16.5329%\n"
     ]
    },
    {
     "name": "stderr",
     "output_type": "stream",
     "text": [
      "/Users/evelyn/opt/anaconda3/lib/python3.9/site-packages/numpy/core/fromnumeric.py:3440: RuntimeWarning: Mean of empty slice.\n",
      "  return _methods._mean(a, axis=axis, dtype=dtype,\n",
      "/Users/evelyn/opt/anaconda3/lib/python3.9/site-packages/numpy/core/_methods.py:189: RuntimeWarning: invalid value encountered in double_scalars\n",
      "  ret = ret.dtype.type(ret / rcount)\n",
      "/Users/evelyn/opt/anaconda3/lib/python3.9/site-packages/numpy/core/fromnumeric.py:3440: RuntimeWarning: Mean of empty slice.\n",
      "  return _methods._mean(a, axis=axis, dtype=dtype,\n",
      "/Users/evelyn/opt/anaconda3/lib/python3.9/site-packages/numpy/core/_methods.py:189: RuntimeWarning: invalid value encountered in double_scalars\n",
      "  ret = ret.dtype.type(ret / rcount)\n"
     ]
    },
    {
     "name": "stdout",
     "output_type": "stream",
     "text": [
      "16.5730%\n",
      "16.6132%\n",
      "16.6533%\n"
     ]
    },
    {
     "name": "stderr",
     "output_type": "stream",
     "text": [
      "/Users/evelyn/opt/anaconda3/lib/python3.9/site-packages/numpy/core/fromnumeric.py:3440: RuntimeWarning: Mean of empty slice.\n",
      "  return _methods._mean(a, axis=axis, dtype=dtype,\n",
      "/Users/evelyn/opt/anaconda3/lib/python3.9/site-packages/numpy/core/_methods.py:189: RuntimeWarning: invalid value encountered in double_scalars\n",
      "  ret = ret.dtype.type(ret / rcount)\n",
      "/Users/evelyn/opt/anaconda3/lib/python3.9/site-packages/numpy/core/fromnumeric.py:3440: RuntimeWarning: Mean of empty slice.\n",
      "  return _methods._mean(a, axis=axis, dtype=dtype,\n",
      "/Users/evelyn/opt/anaconda3/lib/python3.9/site-packages/numpy/core/_methods.py:189: RuntimeWarning: invalid value encountered in double_scalars\n",
      "  ret = ret.dtype.type(ret / rcount)\n"
     ]
    },
    {
     "name": "stdout",
     "output_type": "stream",
     "text": [
      "16.6934%\n",
      "16.7335%\n",
      "16.7737%\n",
      "16.8138%\n",
      "16.8539%\n",
      "16.8941%\n",
      "16.9342%\n",
      "16.9743%\n"
     ]
    },
    {
     "name": "stderr",
     "output_type": "stream",
     "text": [
      "/Users/evelyn/opt/anaconda3/lib/python3.9/site-packages/numpy/core/fromnumeric.py:3440: RuntimeWarning: Mean of empty slice.\n",
      "  return _methods._mean(a, axis=axis, dtype=dtype,\n",
      "/Users/evelyn/opt/anaconda3/lib/python3.9/site-packages/numpy/core/_methods.py:189: RuntimeWarning: invalid value encountered in double_scalars\n",
      "  ret = ret.dtype.type(ret / rcount)\n"
     ]
    },
    {
     "name": "stdout",
     "output_type": "stream",
     "text": [
      "17.0144%\n",
      "17.0546%\n",
      "17.0947%\n",
      "17.1348%\n",
      "17.1750%\n",
      "17.2151%\n",
      "17.2552%\n",
      "17.2953%\n",
      "17.3355%\n",
      "17.3756%\n",
      "17.4157%\n",
      "17.4559%\n",
      "17.4960%\n",
      "17.5361%\n",
      "17.5762%\n"
     ]
    },
    {
     "name": "stderr",
     "output_type": "stream",
     "text": [
      "/Users/evelyn/opt/anaconda3/lib/python3.9/site-packages/numpy/core/fromnumeric.py:3440: RuntimeWarning: Mean of empty slice.\n",
      "  return _methods._mean(a, axis=axis, dtype=dtype,\n",
      "/Users/evelyn/opt/anaconda3/lib/python3.9/site-packages/numpy/core/_methods.py:189: RuntimeWarning: invalid value encountered in double_scalars\n",
      "  ret = ret.dtype.type(ret / rcount)\n",
      "/Users/evelyn/opt/anaconda3/lib/python3.9/site-packages/numpy/core/fromnumeric.py:3440: RuntimeWarning: Mean of empty slice.\n",
      "  return _methods._mean(a, axis=axis, dtype=dtype,\n",
      "/Users/evelyn/opt/anaconda3/lib/python3.9/site-packages/numpy/core/_methods.py:189: RuntimeWarning: invalid value encountered in double_scalars\n",
      "  ret = ret.dtype.type(ret / rcount)\n"
     ]
    },
    {
     "name": "stdout",
     "output_type": "stream",
     "text": [
      "17.6164%\n",
      "17.6565%\n",
      "17.6966%\n",
      "17.7368%\n",
      "17.7769%\n",
      "17.8170%\n",
      "17.8571%\n",
      "17.8973%\n",
      "17.9374%\n",
      "17.9775%\n",
      "18.0177%\n",
      "18.0578%\n"
     ]
    },
    {
     "name": "stderr",
     "output_type": "stream",
     "text": [
      "/Users/evelyn/opt/anaconda3/lib/python3.9/site-packages/numpy/core/fromnumeric.py:3440: RuntimeWarning: Mean of empty slice.\n",
      "  return _methods._mean(a, axis=axis, dtype=dtype,\n",
      "/Users/evelyn/opt/anaconda3/lib/python3.9/site-packages/numpy/core/_methods.py:189: RuntimeWarning: invalid value encountered in double_scalars\n",
      "  ret = ret.dtype.type(ret / rcount)\n",
      "/Users/evelyn/opt/anaconda3/lib/python3.9/site-packages/numpy/core/fromnumeric.py:3440: RuntimeWarning: Mean of empty slice.\n",
      "  return _methods._mean(a, axis=axis, dtype=dtype,\n",
      "/Users/evelyn/opt/anaconda3/lib/python3.9/site-packages/numpy/core/_methods.py:189: RuntimeWarning: invalid value encountered in double_scalars\n",
      "  ret = ret.dtype.type(ret / rcount)\n",
      "/Users/evelyn/opt/anaconda3/lib/python3.9/site-packages/numpy/core/fromnumeric.py:3440: RuntimeWarning: Mean of empty slice.\n",
      "  return _methods._mean(a, axis=axis, dtype=dtype,\n",
      "/Users/evelyn/opt/anaconda3/lib/python3.9/site-packages/numpy/core/_methods.py:189: RuntimeWarning: invalid value encountered in double_scalars\n",
      "  ret = ret.dtype.type(ret / rcount)\n",
      "/Users/evelyn/opt/anaconda3/lib/python3.9/site-packages/numpy/core/fromnumeric.py:3440: RuntimeWarning: Mean of empty slice.\n",
      "  return _methods._mean(a, axis=axis, dtype=dtype,\n",
      "/Users/evelyn/opt/anaconda3/lib/python3.9/site-packages/numpy/core/_methods.py:189: RuntimeWarning: invalid value encountered in double_scalars\n",
      "  ret = ret.dtype.type(ret / rcount)\n"
     ]
    },
    {
     "name": "stdout",
     "output_type": "stream",
     "text": [
      "18.0979%\n",
      "18.1380%\n",
      "18.1782%\n",
      "18.2183%\n",
      "18.2584%\n",
      "18.2986%\n",
      "18.3387%\n",
      "18.3788%\n",
      "18.4189%\n",
      "18.4591%\n",
      "18.4992%\n"
     ]
    },
    {
     "name": "stderr",
     "output_type": "stream",
     "text": [
      "/Users/evelyn/opt/anaconda3/lib/python3.9/site-packages/numpy/core/fromnumeric.py:3440: RuntimeWarning: Mean of empty slice.\n",
      "  return _methods._mean(a, axis=axis, dtype=dtype,\n",
      "/Users/evelyn/opt/anaconda3/lib/python3.9/site-packages/numpy/core/_methods.py:189: RuntimeWarning: invalid value encountered in double_scalars\n",
      "  ret = ret.dtype.type(ret / rcount)\n"
     ]
    },
    {
     "name": "stdout",
     "output_type": "stream",
     "text": [
      "18.5393%\n",
      "18.5795%\n",
      "18.6196%\n",
      "18.6597%\n",
      "18.6998%\n",
      "18.7400%\n",
      "18.7801%\n",
      "18.8202%\n",
      "18.8604%\n",
      "18.9005%\n",
      "18.9406%\n",
      "18.9807%\n",
      "19.0209%\n",
      "19.0610%\n",
      "19.1011%\n",
      "19.1413%\n",
      "19.1814%\n"
     ]
    },
    {
     "name": "stderr",
     "output_type": "stream",
     "text": [
      "/Users/evelyn/opt/anaconda3/lib/python3.9/site-packages/numpy/core/fromnumeric.py:3440: RuntimeWarning: Mean of empty slice.\n",
      "  return _methods._mean(a, axis=axis, dtype=dtype,\n",
      "/Users/evelyn/opt/anaconda3/lib/python3.9/site-packages/numpy/core/_methods.py:189: RuntimeWarning: invalid value encountered in double_scalars\n",
      "  ret = ret.dtype.type(ret / rcount)\n"
     ]
    },
    {
     "name": "stdout",
     "output_type": "stream",
     "text": [
      "19.2215%\n",
      "19.2616%\n",
      "19.3018%\n",
      "19.3419%\n"
     ]
    },
    {
     "name": "stderr",
     "output_type": "stream",
     "text": [
      "/Users/evelyn/opt/anaconda3/lib/python3.9/site-packages/numpy/core/fromnumeric.py:3440: RuntimeWarning: Mean of empty slice.\n",
      "  return _methods._mean(a, axis=axis, dtype=dtype,\n",
      "/Users/evelyn/opt/anaconda3/lib/python3.9/site-packages/numpy/core/_methods.py:189: RuntimeWarning: invalid value encountered in double_scalars\n",
      "  ret = ret.dtype.type(ret / rcount)\n",
      "/Users/evelyn/opt/anaconda3/lib/python3.9/site-packages/numpy/core/fromnumeric.py:3440: RuntimeWarning: Mean of empty slice.\n",
      "  return _methods._mean(a, axis=axis, dtype=dtype,\n",
      "/Users/evelyn/opt/anaconda3/lib/python3.9/site-packages/numpy/core/_methods.py:189: RuntimeWarning: invalid value encountered in double_scalars\n",
      "  ret = ret.dtype.type(ret / rcount)\n"
     ]
    },
    {
     "name": "stdout",
     "output_type": "stream",
     "text": [
      "19.3820%\n",
      "19.4222%\n",
      "19.4623%\n",
      "19.5024%\n"
     ]
    },
    {
     "name": "stderr",
     "output_type": "stream",
     "text": [
      "/Users/evelyn/opt/anaconda3/lib/python3.9/site-packages/numpy/core/fromnumeric.py:3440: RuntimeWarning: Mean of empty slice.\n",
      "  return _methods._mean(a, axis=axis, dtype=dtype,\n",
      "/Users/evelyn/opt/anaconda3/lib/python3.9/site-packages/numpy/core/_methods.py:189: RuntimeWarning: invalid value encountered in double_scalars\n",
      "  ret = ret.dtype.type(ret / rcount)\n"
     ]
    },
    {
     "name": "stdout",
     "output_type": "stream",
     "text": [
      "19.5425%\n",
      "19.5827%\n",
      "19.6228%\n",
      "19.6629%\n"
     ]
    },
    {
     "name": "stderr",
     "output_type": "stream",
     "text": [
      "/Users/evelyn/opt/anaconda3/lib/python3.9/site-packages/numpy/core/fromnumeric.py:3440: RuntimeWarning: Mean of empty slice.\n",
      "  return _methods._mean(a, axis=axis, dtype=dtype,\n",
      "/Users/evelyn/opt/anaconda3/lib/python3.9/site-packages/numpy/core/_methods.py:189: RuntimeWarning: invalid value encountered in double_scalars\n",
      "  ret = ret.dtype.type(ret / rcount)\n"
     ]
    },
    {
     "name": "stdout",
     "output_type": "stream",
     "text": [
      "19.7030%\n",
      "19.7432%\n",
      "19.7833%\n",
      "19.8234%\n",
      "19.8636%\n",
      "19.9037%\n",
      "19.9438%\n",
      "19.9839%\n"
     ]
    },
    {
     "name": "stderr",
     "output_type": "stream",
     "text": [
      "/Users/evelyn/opt/anaconda3/lib/python3.9/site-packages/numpy/core/fromnumeric.py:3440: RuntimeWarning: Mean of empty slice.\n",
      "  return _methods._mean(a, axis=axis, dtype=dtype,\n",
      "/Users/evelyn/opt/anaconda3/lib/python3.9/site-packages/numpy/core/_methods.py:189: RuntimeWarning: invalid value encountered in double_scalars\n",
      "  ret = ret.dtype.type(ret / rcount)\n",
      "/Users/evelyn/opt/anaconda3/lib/python3.9/site-packages/numpy/core/fromnumeric.py:3440: RuntimeWarning: Mean of empty slice.\n",
      "  return _methods._mean(a, axis=axis, dtype=dtype,\n",
      "/Users/evelyn/opt/anaconda3/lib/python3.9/site-packages/numpy/core/_methods.py:189: RuntimeWarning: invalid value encountered in double_scalars\n",
      "  ret = ret.dtype.type(ret / rcount)\n",
      "/Users/evelyn/opt/anaconda3/lib/python3.9/site-packages/numpy/core/fromnumeric.py:3440: RuntimeWarning: Mean of empty slice.\n",
      "  return _methods._mean(a, axis=axis, dtype=dtype,\n",
      "/Users/evelyn/opt/anaconda3/lib/python3.9/site-packages/numpy/core/_methods.py:189: RuntimeWarning: invalid value encountered in double_scalars\n",
      "  ret = ret.dtype.type(ret / rcount)\n"
     ]
    },
    {
     "name": "stdout",
     "output_type": "stream",
     "text": [
      "20.0241%\n",
      "20.0642%\n",
      "20.1043%\n",
      "20.1445%\n",
      "20.1846%\n",
      "20.2247%\n",
      "20.2648%\n",
      "20.3050%\n",
      "20.3451%\n"
     ]
    },
    {
     "name": "stderr",
     "output_type": "stream",
     "text": [
      "/Users/evelyn/opt/anaconda3/lib/python3.9/site-packages/numpy/core/fromnumeric.py:3440: RuntimeWarning: Mean of empty slice.\n",
      "  return _methods._mean(a, axis=axis, dtype=dtype,\n",
      "/Users/evelyn/opt/anaconda3/lib/python3.9/site-packages/numpy/core/_methods.py:189: RuntimeWarning: invalid value encountered in double_scalars\n",
      "  ret = ret.dtype.type(ret / rcount)\n",
      "/Users/evelyn/opt/anaconda3/lib/python3.9/site-packages/numpy/core/fromnumeric.py:3440: RuntimeWarning: Mean of empty slice.\n",
      "  return _methods._mean(a, axis=axis, dtype=dtype,\n",
      "/Users/evelyn/opt/anaconda3/lib/python3.9/site-packages/numpy/core/_methods.py:189: RuntimeWarning: invalid value encountered in double_scalars\n",
      "  ret = ret.dtype.type(ret / rcount)\n"
     ]
    },
    {
     "name": "stdout",
     "output_type": "stream",
     "text": [
      "20.3852%\n",
      "20.4254%\n",
      "20.4655%\n",
      "20.5056%\n",
      "20.5457%\n",
      "20.5859%\n",
      "20.6260%\n",
      "20.6661%\n",
      "20.7063%\n",
      "20.7464%\n",
      "20.7865%\n",
      "20.8266%\n",
      "20.8668%\n",
      "20.9069%\n",
      "20.9470%\n",
      "20.9872%\n"
     ]
    },
    {
     "name": "stderr",
     "output_type": "stream",
     "text": [
      "/Users/evelyn/opt/anaconda3/lib/python3.9/site-packages/numpy/core/fromnumeric.py:3440: RuntimeWarning: Mean of empty slice.\n",
      "  return _methods._mean(a, axis=axis, dtype=dtype,\n",
      "/Users/evelyn/opt/anaconda3/lib/python3.9/site-packages/numpy/core/_methods.py:189: RuntimeWarning: invalid value encountered in double_scalars\n",
      "  ret = ret.dtype.type(ret / rcount)\n",
      "/Users/evelyn/opt/anaconda3/lib/python3.9/site-packages/numpy/core/fromnumeric.py:3440: RuntimeWarning: Mean of empty slice.\n",
      "  return _methods._mean(a, axis=axis, dtype=dtype,\n",
      "/Users/evelyn/opt/anaconda3/lib/python3.9/site-packages/numpy/core/_methods.py:189: RuntimeWarning: invalid value encountered in double_scalars\n",
      "  ret = ret.dtype.type(ret / rcount)\n"
     ]
    },
    {
     "name": "stdout",
     "output_type": "stream",
     "text": [
      "21.0273%\n",
      "21.0674%\n",
      "21.1075%\n",
      "21.1477%\n",
      "21.1878%\n"
     ]
    },
    {
     "name": "stderr",
     "output_type": "stream",
     "text": [
      "/Users/evelyn/opt/anaconda3/lib/python3.9/site-packages/numpy/core/fromnumeric.py:3440: RuntimeWarning: Mean of empty slice.\n",
      "  return _methods._mean(a, axis=axis, dtype=dtype,\n",
      "/Users/evelyn/opt/anaconda3/lib/python3.9/site-packages/numpy/core/_methods.py:189: RuntimeWarning: invalid value encountered in double_scalars\n",
      "  ret = ret.dtype.type(ret / rcount)\n"
     ]
    },
    {
     "name": "stdout",
     "output_type": "stream",
     "text": [
      "21.2279%\n",
      "21.2681%\n",
      "21.3082%\n",
      "21.3483%\n",
      "21.3884%\n"
     ]
    },
    {
     "name": "stderr",
     "output_type": "stream",
     "text": [
      "/Users/evelyn/opt/anaconda3/lib/python3.9/site-packages/numpy/core/fromnumeric.py:3440: RuntimeWarning: Mean of empty slice.\n",
      "  return _methods._mean(a, axis=axis, dtype=dtype,\n",
      "/Users/evelyn/opt/anaconda3/lib/python3.9/site-packages/numpy/core/_methods.py:189: RuntimeWarning: invalid value encountered in double_scalars\n",
      "  ret = ret.dtype.type(ret / rcount)\n"
     ]
    },
    {
     "name": "stdout",
     "output_type": "stream",
     "text": [
      "21.4286%\n",
      "21.4687%\n",
      "21.5088%\n",
      "21.5490%\n",
      "21.5891%\n",
      "21.6292%\n",
      "21.6693%\n",
      "21.7095%\n",
      "21.7496%\n",
      "21.7897%\n"
     ]
    },
    {
     "name": "stderr",
     "output_type": "stream",
     "text": [
      "/Users/evelyn/opt/anaconda3/lib/python3.9/site-packages/numpy/core/fromnumeric.py:3440: RuntimeWarning: Mean of empty slice.\n",
      "  return _methods._mean(a, axis=axis, dtype=dtype,\n",
      "/Users/evelyn/opt/anaconda3/lib/python3.9/site-packages/numpy/core/_methods.py:189: RuntimeWarning: invalid value encountered in double_scalars\n",
      "  ret = ret.dtype.type(ret / rcount)\n"
     ]
    },
    {
     "name": "stdout",
     "output_type": "stream",
     "text": [
      "21.8299%\n",
      "21.8700%\n",
      "21.9101%\n",
      "21.9502%\n",
      "21.9904%\n"
     ]
    },
    {
     "name": "stderr",
     "output_type": "stream",
     "text": [
      "/Users/evelyn/opt/anaconda3/lib/python3.9/site-packages/numpy/core/fromnumeric.py:3440: RuntimeWarning: Mean of empty slice.\n",
      "  return _methods._mean(a, axis=axis, dtype=dtype,\n",
      "/Users/evelyn/opt/anaconda3/lib/python3.9/site-packages/numpy/core/_methods.py:189: RuntimeWarning: invalid value encountered in double_scalars\n",
      "  ret = ret.dtype.type(ret / rcount)\n"
     ]
    },
    {
     "name": "stdout",
     "output_type": "stream",
     "text": [
      "22.0305%\n",
      "22.0706%\n",
      "22.1108%\n",
      "22.1509%\n",
      "22.1910%\n",
      "22.2311%\n",
      "22.2713%\n",
      "22.3114%\n",
      "22.3515%\n",
      "22.3917%\n",
      "22.4318%\n",
      "22.4719%\n",
      "22.5120%\n"
     ]
    },
    {
     "name": "stderr",
     "output_type": "stream",
     "text": [
      "/Users/evelyn/opt/anaconda3/lib/python3.9/site-packages/numpy/core/fromnumeric.py:3440: RuntimeWarning: Mean of empty slice.\n",
      "  return _methods._mean(a, axis=axis, dtype=dtype,\n",
      "/Users/evelyn/opt/anaconda3/lib/python3.9/site-packages/numpy/core/_methods.py:189: RuntimeWarning: invalid value encountered in double_scalars\n",
      "  ret = ret.dtype.type(ret / rcount)\n"
     ]
    },
    {
     "name": "stdout",
     "output_type": "stream",
     "text": [
      "22.5522%\n",
      "22.5923%\n",
      "22.6324%\n",
      "22.6726%\n",
      "22.7127%\n",
      "22.7528%\n",
      "22.7929%\n"
     ]
    },
    {
     "name": "stderr",
     "output_type": "stream",
     "text": [
      "/Users/evelyn/opt/anaconda3/lib/python3.9/site-packages/numpy/core/fromnumeric.py:3440: RuntimeWarning: Mean of empty slice.\n",
      "  return _methods._mean(a, axis=axis, dtype=dtype,\n",
      "/Users/evelyn/opt/anaconda3/lib/python3.9/site-packages/numpy/core/_methods.py:189: RuntimeWarning: invalid value encountered in double_scalars\n",
      "  ret = ret.dtype.type(ret / rcount)\n",
      "/Users/evelyn/opt/anaconda3/lib/python3.9/site-packages/numpy/core/fromnumeric.py:3440: RuntimeWarning: Mean of empty slice.\n",
      "  return _methods._mean(a, axis=axis, dtype=dtype,\n",
      "/Users/evelyn/opt/anaconda3/lib/python3.9/site-packages/numpy/core/_methods.py:189: RuntimeWarning: invalid value encountered in double_scalars\n",
      "  ret = ret.dtype.type(ret / rcount)\n",
      "/Users/evelyn/opt/anaconda3/lib/python3.9/site-packages/numpy/core/fromnumeric.py:3440: RuntimeWarning: Mean of empty slice.\n",
      "  return _methods._mean(a, axis=axis, dtype=dtype,\n",
      "/Users/evelyn/opt/anaconda3/lib/python3.9/site-packages/numpy/core/_methods.py:189: RuntimeWarning: invalid value encountered in double_scalars\n",
      "  ret = ret.dtype.type(ret / rcount)\n",
      "/Users/evelyn/opt/anaconda3/lib/python3.9/site-packages/numpy/core/fromnumeric.py:3440: RuntimeWarning: Mean of empty slice.\n",
      "  return _methods._mean(a, axis=axis, dtype=dtype,\n",
      "/Users/evelyn/opt/anaconda3/lib/python3.9/site-packages/numpy/core/_methods.py:189: RuntimeWarning: invalid value encountered in double_scalars\n",
      "  ret = ret.dtype.type(ret / rcount)\n"
     ]
    },
    {
     "name": "stdout",
     "output_type": "stream",
     "text": [
      "22.8331%\n",
      "22.8732%\n",
      "22.9133%\n",
      "22.9535%\n",
      "22.9936%\n",
      "23.0337%\n"
     ]
    },
    {
     "name": "stderr",
     "output_type": "stream",
     "text": [
      "/Users/evelyn/opt/anaconda3/lib/python3.9/site-packages/numpy/core/fromnumeric.py:3440: RuntimeWarning: Mean of empty slice.\n",
      "  return _methods._mean(a, axis=axis, dtype=dtype,\n",
      "/Users/evelyn/opt/anaconda3/lib/python3.9/site-packages/numpy/core/_methods.py:189: RuntimeWarning: invalid value encountered in double_scalars\n",
      "  ret = ret.dtype.type(ret / rcount)\n",
      "/Users/evelyn/opt/anaconda3/lib/python3.9/site-packages/numpy/core/fromnumeric.py:3440: RuntimeWarning: Mean of empty slice.\n",
      "  return _methods._mean(a, axis=axis, dtype=dtype,\n",
      "/Users/evelyn/opt/anaconda3/lib/python3.9/site-packages/numpy/core/_methods.py:189: RuntimeWarning: invalid value encountered in double_scalars\n",
      "  ret = ret.dtype.type(ret / rcount)\n"
     ]
    },
    {
     "name": "stdout",
     "output_type": "stream",
     "text": [
      "23.0738%\n",
      "23.1140%\n",
      "23.1541%\n",
      "23.1942%\n",
      "23.2343%\n",
      "23.2745%\n",
      "23.3146%\n"
     ]
    },
    {
     "name": "stderr",
     "output_type": "stream",
     "text": [
      "/Users/evelyn/opt/anaconda3/lib/python3.9/site-packages/numpy/core/fromnumeric.py:3440: RuntimeWarning: Mean of empty slice.\n",
      "  return _methods._mean(a, axis=axis, dtype=dtype,\n",
      "/Users/evelyn/opt/anaconda3/lib/python3.9/site-packages/numpy/core/_methods.py:189: RuntimeWarning: invalid value encountered in double_scalars\n",
      "  ret = ret.dtype.type(ret / rcount)\n"
     ]
    },
    {
     "name": "stdout",
     "output_type": "stream",
     "text": [
      "23.3547%\n",
      "23.3949%\n",
      "23.4350%\n",
      "23.4751%\n",
      "23.5152%\n",
      "23.5554%\n",
      "23.5955%\n",
      "23.6356%\n",
      "23.6758%\n",
      "23.7159%\n",
      "23.7560%\n",
      "23.7961%\n",
      "23.8363%\n",
      "23.8764%\n",
      "23.9165%\n"
     ]
    },
    {
     "name": "stderr",
     "output_type": "stream",
     "text": [
      "/Users/evelyn/opt/anaconda3/lib/python3.9/site-packages/numpy/core/fromnumeric.py:3440: RuntimeWarning: Mean of empty slice.\n",
      "  return _methods._mean(a, axis=axis, dtype=dtype,\n",
      "/Users/evelyn/opt/anaconda3/lib/python3.9/site-packages/numpy/core/_methods.py:189: RuntimeWarning: invalid value encountered in double_scalars\n",
      "  ret = ret.dtype.type(ret / rcount)\n"
     ]
    },
    {
     "name": "stdout",
     "output_type": "stream",
     "text": [
      "23.9567%\n",
      "23.9968%\n",
      "24.0369%\n",
      "24.0770%\n",
      "24.1172%\n"
     ]
    },
    {
     "name": "stderr",
     "output_type": "stream",
     "text": [
      "/Users/evelyn/opt/anaconda3/lib/python3.9/site-packages/numpy/core/fromnumeric.py:3440: RuntimeWarning: Mean of empty slice.\n",
      "  return _methods._mean(a, axis=axis, dtype=dtype,\n",
      "/Users/evelyn/opt/anaconda3/lib/python3.9/site-packages/numpy/core/_methods.py:189: RuntimeWarning: invalid value encountered in double_scalars\n",
      "  ret = ret.dtype.type(ret / rcount)\n",
      "/Users/evelyn/opt/anaconda3/lib/python3.9/site-packages/numpy/core/fromnumeric.py:3440: RuntimeWarning: Mean of empty slice.\n",
      "  return _methods._mean(a, axis=axis, dtype=dtype,\n",
      "/Users/evelyn/opt/anaconda3/lib/python3.9/site-packages/numpy/core/_methods.py:189: RuntimeWarning: invalid value encountered in double_scalars\n",
      "  ret = ret.dtype.type(ret / rcount)\n"
     ]
    },
    {
     "name": "stdout",
     "output_type": "stream",
     "text": [
      "24.1573%\n",
      "24.1974%\n",
      "24.2376%\n",
      "24.2777%\n",
      "24.3178%\n",
      "24.3579%\n"
     ]
    },
    {
     "name": "stderr",
     "output_type": "stream",
     "text": [
      "/Users/evelyn/opt/anaconda3/lib/python3.9/site-packages/numpy/core/fromnumeric.py:3440: RuntimeWarning: Mean of empty slice.\n",
      "  return _methods._mean(a, axis=axis, dtype=dtype,\n",
      "/Users/evelyn/opt/anaconda3/lib/python3.9/site-packages/numpy/core/_methods.py:189: RuntimeWarning: invalid value encountered in double_scalars\n",
      "  ret = ret.dtype.type(ret / rcount)\n"
     ]
    },
    {
     "name": "stdout",
     "output_type": "stream",
     "text": [
      "24.3981%\n",
      "24.4382%\n",
      "24.4783%\n",
      "24.5185%\n",
      "24.5586%\n",
      "24.5987%\n",
      "24.6388%\n",
      "24.6790%\n",
      "24.7191%\n",
      "24.7592%\n"
     ]
    },
    {
     "name": "stderr",
     "output_type": "stream",
     "text": [
      "/Users/evelyn/opt/anaconda3/lib/python3.9/site-packages/numpy/core/fromnumeric.py:3440: RuntimeWarning: Mean of empty slice.\n",
      "  return _methods._mean(a, axis=axis, dtype=dtype,\n",
      "/Users/evelyn/opt/anaconda3/lib/python3.9/site-packages/numpy/core/_methods.py:189: RuntimeWarning: invalid value encountered in double_scalars\n",
      "  ret = ret.dtype.type(ret / rcount)\n",
      "/Users/evelyn/opt/anaconda3/lib/python3.9/site-packages/numpy/core/fromnumeric.py:3440: RuntimeWarning: Mean of empty slice.\n",
      "  return _methods._mean(a, axis=axis, dtype=dtype,\n",
      "/Users/evelyn/opt/anaconda3/lib/python3.9/site-packages/numpy/core/_methods.py:189: RuntimeWarning: invalid value encountered in double_scalars\n",
      "  ret = ret.dtype.type(ret / rcount)\n",
      "/Users/evelyn/opt/anaconda3/lib/python3.9/site-packages/numpy/core/fromnumeric.py:3440: RuntimeWarning: Mean of empty slice.\n",
      "  return _methods._mean(a, axis=axis, dtype=dtype,\n",
      "/Users/evelyn/opt/anaconda3/lib/python3.9/site-packages/numpy/core/_methods.py:189: RuntimeWarning: invalid value encountered in double_scalars\n",
      "  ret = ret.dtype.type(ret / rcount)\n",
      "/Users/evelyn/opt/anaconda3/lib/python3.9/site-packages/numpy/core/fromnumeric.py:3440: RuntimeWarning: Mean of empty slice.\n",
      "  return _methods._mean(a, axis=axis, dtype=dtype,\n",
      "/Users/evelyn/opt/anaconda3/lib/python3.9/site-packages/numpy/core/_methods.py:189: RuntimeWarning: invalid value encountered in double_scalars\n",
      "  ret = ret.dtype.type(ret / rcount)\n",
      "/Users/evelyn/opt/anaconda3/lib/python3.9/site-packages/numpy/core/fromnumeric.py:3440: RuntimeWarning: Mean of empty slice.\n",
      "  return _methods._mean(a, axis=axis, dtype=dtype,\n",
      "/Users/evelyn/opt/anaconda3/lib/python3.9/site-packages/numpy/core/_methods.py:189: RuntimeWarning: invalid value encountered in double_scalars\n",
      "  ret = ret.dtype.type(ret / rcount)\n"
     ]
    },
    {
     "name": "stdout",
     "output_type": "stream",
     "text": [
      "24.7994%\n",
      "24.8395%\n",
      "24.8796%\n",
      "24.9197%\n",
      "24.9599%\n",
      "25.0000%\n",
      "25.0401%\n",
      "25.0803%\n",
      "25.1204%\n",
      "25.1605%\n",
      "25.2006%\n"
     ]
    },
    {
     "name": "stderr",
     "output_type": "stream",
     "text": [
      "/Users/evelyn/opt/anaconda3/lib/python3.9/site-packages/numpy/core/fromnumeric.py:3440: RuntimeWarning: Mean of empty slice.\n",
      "  return _methods._mean(a, axis=axis, dtype=dtype,\n",
      "/Users/evelyn/opt/anaconda3/lib/python3.9/site-packages/numpy/core/_methods.py:189: RuntimeWarning: invalid value encountered in double_scalars\n",
      "  ret = ret.dtype.type(ret / rcount)\n"
     ]
    },
    {
     "name": "stdout",
     "output_type": "stream",
     "text": [
      "25.2408%\n",
      "25.2809%\n",
      "25.3210%\n",
      "25.3612%\n",
      "25.4013%\n",
      "25.4414%\n",
      "25.4815%\n",
      "25.5217%\n",
      "25.5618%\n"
     ]
    },
    {
     "name": "stderr",
     "output_type": "stream",
     "text": [
      "/Users/evelyn/opt/anaconda3/lib/python3.9/site-packages/numpy/core/fromnumeric.py:3440: RuntimeWarning: Mean of empty slice.\n",
      "  return _methods._mean(a, axis=axis, dtype=dtype,\n",
      "/Users/evelyn/opt/anaconda3/lib/python3.9/site-packages/numpy/core/_methods.py:189: RuntimeWarning: invalid value encountered in double_scalars\n",
      "  ret = ret.dtype.type(ret / rcount)\n",
      "/Users/evelyn/opt/anaconda3/lib/python3.9/site-packages/numpy/core/fromnumeric.py:3440: RuntimeWarning: Mean of empty slice.\n",
      "  return _methods._mean(a, axis=axis, dtype=dtype,\n",
      "/Users/evelyn/opt/anaconda3/lib/python3.9/site-packages/numpy/core/_methods.py:189: RuntimeWarning: invalid value encountered in double_scalars\n",
      "  ret = ret.dtype.type(ret / rcount)\n",
      "/Users/evelyn/opt/anaconda3/lib/python3.9/site-packages/numpy/core/fromnumeric.py:3440: RuntimeWarning: Mean of empty slice.\n",
      "  return _methods._mean(a, axis=axis, dtype=dtype,\n",
      "/Users/evelyn/opt/anaconda3/lib/python3.9/site-packages/numpy/core/_methods.py:189: RuntimeWarning: invalid value encountered in double_scalars\n",
      "  ret = ret.dtype.type(ret / rcount)\n"
     ]
    },
    {
     "name": "stdout",
     "output_type": "stream",
     "text": [
      "25.6019%\n",
      "25.6421%\n",
      "25.6822%\n",
      "25.7223%\n",
      "25.7624%\n",
      "25.8026%\n",
      "25.8427%\n",
      "25.8828%\n",
      "25.9230%\n",
      "25.9631%\n"
     ]
    },
    {
     "name": "stderr",
     "output_type": "stream",
     "text": [
      "/Users/evelyn/opt/anaconda3/lib/python3.9/site-packages/numpy/core/fromnumeric.py:3440: RuntimeWarning: Mean of empty slice.\n",
      "  return _methods._mean(a, axis=axis, dtype=dtype,\n",
      "/Users/evelyn/opt/anaconda3/lib/python3.9/site-packages/numpy/core/_methods.py:189: RuntimeWarning: invalid value encountered in double_scalars\n",
      "  ret = ret.dtype.type(ret / rcount)\n"
     ]
    },
    {
     "name": "stdout",
     "output_type": "stream",
     "text": [
      "26.0032%\n",
      "26.0433%\n",
      "26.0835%\n",
      "26.1236%\n",
      "26.1637%\n",
      "26.2039%\n",
      "26.2440%\n",
      "26.2841%\n",
      "26.3242%\n",
      "26.3644%\n",
      "26.4045%\n",
      "26.4446%\n",
      "26.4848%\n",
      "26.5249%\n",
      "26.5650%\n",
      "26.6051%\n",
      "26.6453%\n",
      "26.6854%\n",
      "26.7255%\n",
      "26.7657%\n",
      "26.8058%\n",
      "26.8459%\n",
      "26.8860%\n",
      "26.9262%\n",
      "26.9663%\n",
      "27.0064%\n",
      "27.0465%\n",
      "27.0867%\n",
      "27.1268%\n",
      "27.1669%\n"
     ]
    },
    {
     "name": "stderr",
     "output_type": "stream",
     "text": [
      "/Users/evelyn/opt/anaconda3/lib/python3.9/site-packages/numpy/core/fromnumeric.py:3440: RuntimeWarning: Mean of empty slice.\n",
      "  return _methods._mean(a, axis=axis, dtype=dtype,\n",
      "/Users/evelyn/opt/anaconda3/lib/python3.9/site-packages/numpy/core/_methods.py:189: RuntimeWarning: invalid value encountered in double_scalars\n",
      "  ret = ret.dtype.type(ret / rcount)\n"
     ]
    },
    {
     "name": "stdout",
     "output_type": "stream",
     "text": [
      "27.2071%\n",
      "27.2472%\n",
      "27.2873%\n",
      "27.3274%\n",
      "27.3676%\n",
      "27.4077%\n",
      "27.4478%\n",
      "27.4880%\n"
     ]
    },
    {
     "name": "stderr",
     "output_type": "stream",
     "text": [
      "/Users/evelyn/opt/anaconda3/lib/python3.9/site-packages/numpy/core/fromnumeric.py:3440: RuntimeWarning: Mean of empty slice.\n",
      "  return _methods._mean(a, axis=axis, dtype=dtype,\n",
      "/Users/evelyn/opt/anaconda3/lib/python3.9/site-packages/numpy/core/_methods.py:189: RuntimeWarning: invalid value encountered in double_scalars\n",
      "  ret = ret.dtype.type(ret / rcount)\n"
     ]
    },
    {
     "name": "stdout",
     "output_type": "stream",
     "text": [
      "27.5281%\n",
      "27.5682%\n",
      "27.6083%\n",
      "27.6485%\n",
      "27.6886%\n",
      "27.7287%\n",
      "27.7689%\n"
     ]
    },
    {
     "name": "stderr",
     "output_type": "stream",
     "text": [
      "/Users/evelyn/opt/anaconda3/lib/python3.9/site-packages/numpy/core/fromnumeric.py:3440: RuntimeWarning: Mean of empty slice.\n",
      "  return _methods._mean(a, axis=axis, dtype=dtype,\n",
      "/Users/evelyn/opt/anaconda3/lib/python3.9/site-packages/numpy/core/_methods.py:189: RuntimeWarning: invalid value encountered in double_scalars\n",
      "  ret = ret.dtype.type(ret / rcount)\n"
     ]
    },
    {
     "name": "stdout",
     "output_type": "stream",
     "text": [
      "27.8090%\n",
      "27.8491%\n",
      "27.8892%\n",
      "27.9294%\n",
      "27.9695%\n",
      "28.0096%\n",
      "28.0498%\n",
      "28.0899%\n",
      "28.1300%\n"
     ]
    },
    {
     "name": "stderr",
     "output_type": "stream",
     "text": [
      "/Users/evelyn/opt/anaconda3/lib/python3.9/site-packages/numpy/core/fromnumeric.py:3440: RuntimeWarning: Mean of empty slice.\n",
      "  return _methods._mean(a, axis=axis, dtype=dtype,\n",
      "/Users/evelyn/opt/anaconda3/lib/python3.9/site-packages/numpy/core/_methods.py:189: RuntimeWarning: invalid value encountered in double_scalars\n",
      "  ret = ret.dtype.type(ret / rcount)\n"
     ]
    },
    {
     "name": "stdout",
     "output_type": "stream",
     "text": [
      "28.1701%\n",
      "28.2103%\n",
      "28.2504%\n",
      "28.2905%\n",
      "28.3307%\n"
     ]
    },
    {
     "name": "stderr",
     "output_type": "stream",
     "text": [
      "/Users/evelyn/opt/anaconda3/lib/python3.9/site-packages/numpy/core/fromnumeric.py:3440: RuntimeWarning: Mean of empty slice.\n",
      "  return _methods._mean(a, axis=axis, dtype=dtype,\n",
      "/Users/evelyn/opt/anaconda3/lib/python3.9/site-packages/numpy/core/_methods.py:189: RuntimeWarning: invalid value encountered in double_scalars\n",
      "  ret = ret.dtype.type(ret / rcount)\n"
     ]
    },
    {
     "name": "stdout",
     "output_type": "stream",
     "text": [
      "28.3708%\n",
      "28.4109%\n",
      "28.4510%\n",
      "28.4912%\n",
      "28.5313%\n",
      "28.5714%\n",
      "28.6116%\n",
      "28.6517%\n",
      "28.6918%\n",
      "28.7319%\n"
     ]
    },
    {
     "name": "stderr",
     "output_type": "stream",
     "text": [
      "/Users/evelyn/opt/anaconda3/lib/python3.9/site-packages/numpy/core/fromnumeric.py:3440: RuntimeWarning: Mean of empty slice.\n",
      "  return _methods._mean(a, axis=axis, dtype=dtype,\n",
      "/Users/evelyn/opt/anaconda3/lib/python3.9/site-packages/numpy/core/_methods.py:189: RuntimeWarning: invalid value encountered in double_scalars\n",
      "  ret = ret.dtype.type(ret / rcount)\n"
     ]
    },
    {
     "name": "stdout",
     "output_type": "stream",
     "text": [
      "28.7721%\n",
      "28.8122%\n",
      "28.8523%\n",
      "28.8925%\n",
      "28.9326%\n",
      "28.9727%\n",
      "29.0128%\n",
      "29.0530%\n",
      "29.0931%\n",
      "29.1332%\n",
      "29.1734%\n",
      "29.2135%\n",
      "29.2536%\n",
      "29.2937%\n",
      "29.3339%\n",
      "29.3740%\n",
      "29.4141%\n",
      "29.4543%\n",
      "29.4944%\n",
      "29.5345%\n",
      "29.5746%\n",
      "29.6148%\n"
     ]
    },
    {
     "name": "stderr",
     "output_type": "stream",
     "text": [
      "/Users/evelyn/opt/anaconda3/lib/python3.9/site-packages/numpy/core/fromnumeric.py:3440: RuntimeWarning: Mean of empty slice.\n",
      "  return _methods._mean(a, axis=axis, dtype=dtype,\n",
      "/Users/evelyn/opt/anaconda3/lib/python3.9/site-packages/numpy/core/_methods.py:189: RuntimeWarning: invalid value encountered in double_scalars\n",
      "  ret = ret.dtype.type(ret / rcount)\n"
     ]
    },
    {
     "name": "stdout",
     "output_type": "stream",
     "text": [
      "29.6549%\n",
      "29.6950%\n",
      "29.7352%\n",
      "29.7753%\n",
      "29.8154%\n",
      "29.8555%\n",
      "29.8957%\n",
      "29.9358%\n"
     ]
    },
    {
     "name": "stderr",
     "output_type": "stream",
     "text": [
      "/Users/evelyn/opt/anaconda3/lib/python3.9/site-packages/numpy/core/fromnumeric.py:3440: RuntimeWarning: Mean of empty slice.\n",
      "  return _methods._mean(a, axis=axis, dtype=dtype,\n",
      "/Users/evelyn/opt/anaconda3/lib/python3.9/site-packages/numpy/core/_methods.py:189: RuntimeWarning: invalid value encountered in double_scalars\n",
      "  ret = ret.dtype.type(ret / rcount)\n",
      "/Users/evelyn/opt/anaconda3/lib/python3.9/site-packages/numpy/core/fromnumeric.py:3440: RuntimeWarning: Mean of empty slice.\n",
      "  return _methods._mean(a, axis=axis, dtype=dtype,\n",
      "/Users/evelyn/opt/anaconda3/lib/python3.9/site-packages/numpy/core/_methods.py:189: RuntimeWarning: invalid value encountered in double_scalars\n",
      "  ret = ret.dtype.type(ret / rcount)\n"
     ]
    },
    {
     "name": "stdout",
     "output_type": "stream",
     "text": [
      "29.9759%\n",
      "30.0161%\n",
      "30.0562%\n",
      "30.0963%\n",
      "30.1364%\n",
      "30.1766%\n",
      "30.2167%\n",
      "30.2568%\n",
      "30.2970%\n",
      "30.3371%\n"
     ]
    },
    {
     "name": "stderr",
     "output_type": "stream",
     "text": [
      "/Users/evelyn/opt/anaconda3/lib/python3.9/site-packages/numpy/core/fromnumeric.py:3440: RuntimeWarning: Mean of empty slice.\n",
      "  return _methods._mean(a, axis=axis, dtype=dtype,\n",
      "/Users/evelyn/opt/anaconda3/lib/python3.9/site-packages/numpy/core/_methods.py:189: RuntimeWarning: invalid value encountered in double_scalars\n",
      "  ret = ret.dtype.type(ret / rcount)\n",
      "/Users/evelyn/opt/anaconda3/lib/python3.9/site-packages/numpy/core/fromnumeric.py:3440: RuntimeWarning: Mean of empty slice.\n",
      "  return _methods._mean(a, axis=axis, dtype=dtype,\n",
      "/Users/evelyn/opt/anaconda3/lib/python3.9/site-packages/numpy/core/_methods.py:189: RuntimeWarning: invalid value encountered in double_scalars\n",
      "  ret = ret.dtype.type(ret / rcount)\n",
      "/Users/evelyn/opt/anaconda3/lib/python3.9/site-packages/numpy/core/fromnumeric.py:3440: RuntimeWarning: Mean of empty slice.\n",
      "  return _methods._mean(a, axis=axis, dtype=dtype,\n",
      "/Users/evelyn/opt/anaconda3/lib/python3.9/site-packages/numpy/core/_methods.py:189: RuntimeWarning: invalid value encountered in double_scalars\n",
      "  ret = ret.dtype.type(ret / rcount)\n",
      "/Users/evelyn/opt/anaconda3/lib/python3.9/site-packages/numpy/core/fromnumeric.py:3440: RuntimeWarning: Mean of empty slice.\n",
      "  return _methods._mean(a, axis=axis, dtype=dtype,\n",
      "/Users/evelyn/opt/anaconda3/lib/python3.9/site-packages/numpy/core/_methods.py:189: RuntimeWarning: invalid value encountered in double_scalars\n",
      "  ret = ret.dtype.type(ret / rcount)\n"
     ]
    },
    {
     "name": "stdout",
     "output_type": "stream",
     "text": [
      "30.3772%\n",
      "30.4173%\n",
      "30.4575%\n",
      "30.4976%\n",
      "30.5377%\n",
      "30.5778%\n",
      "30.6180%\n",
      "30.6581%\n",
      "30.6982%\n",
      "30.7384%\n",
      "30.7785%\n",
      "30.8186%\n",
      "30.8587%\n",
      "30.8989%\n",
      "30.9390%\n",
      "30.9791%\n",
      "31.0193%\n",
      "31.0594%\n",
      "31.0995%\n",
      "31.1396%\n"
     ]
    },
    {
     "name": "stderr",
     "output_type": "stream",
     "text": [
      "/Users/evelyn/opt/anaconda3/lib/python3.9/site-packages/numpy/core/fromnumeric.py:3440: RuntimeWarning: Mean of empty slice.\n",
      "  return _methods._mean(a, axis=axis, dtype=dtype,\n",
      "/Users/evelyn/opt/anaconda3/lib/python3.9/site-packages/numpy/core/_methods.py:189: RuntimeWarning: invalid value encountered in double_scalars\n",
      "  ret = ret.dtype.type(ret / rcount)\n",
      "/Users/evelyn/opt/anaconda3/lib/python3.9/site-packages/numpy/core/fromnumeric.py:3440: RuntimeWarning: Mean of empty slice.\n",
      "  return _methods._mean(a, axis=axis, dtype=dtype,\n",
      "/Users/evelyn/opt/anaconda3/lib/python3.9/site-packages/numpy/core/_methods.py:189: RuntimeWarning: invalid value encountered in double_scalars\n",
      "  ret = ret.dtype.type(ret / rcount)\n"
     ]
    },
    {
     "name": "stdout",
     "output_type": "stream",
     "text": [
      "31.1798%\n",
      "31.2199%\n",
      "31.2600%\n",
      "31.3002%\n",
      "31.3403%\n",
      "31.3804%\n"
     ]
    },
    {
     "name": "stderr",
     "output_type": "stream",
     "text": [
      "/Users/evelyn/opt/anaconda3/lib/python3.9/site-packages/numpy/core/fromnumeric.py:3440: RuntimeWarning: Mean of empty slice.\n",
      "  return _methods._mean(a, axis=axis, dtype=dtype,\n",
      "/Users/evelyn/opt/anaconda3/lib/python3.9/site-packages/numpy/core/_methods.py:189: RuntimeWarning: invalid value encountered in double_scalars\n",
      "  ret = ret.dtype.type(ret / rcount)\n",
      "/Users/evelyn/opt/anaconda3/lib/python3.9/site-packages/numpy/core/fromnumeric.py:3440: RuntimeWarning: Mean of empty slice.\n",
      "  return _methods._mean(a, axis=axis, dtype=dtype,\n",
      "/Users/evelyn/opt/anaconda3/lib/python3.9/site-packages/numpy/core/_methods.py:189: RuntimeWarning: invalid value encountered in double_scalars\n",
      "  ret = ret.dtype.type(ret / rcount)\n",
      "/Users/evelyn/opt/anaconda3/lib/python3.9/site-packages/numpy/core/fromnumeric.py:3440: RuntimeWarning: Mean of empty slice.\n",
      "  return _methods._mean(a, axis=axis, dtype=dtype,\n",
      "/Users/evelyn/opt/anaconda3/lib/python3.9/site-packages/numpy/core/_methods.py:189: RuntimeWarning: invalid value encountered in double_scalars\n",
      "  ret = ret.dtype.type(ret / rcount)\n"
     ]
    },
    {
     "name": "stdout",
     "output_type": "stream",
     "text": [
      "31.4205%\n",
      "31.4607%\n",
      "31.5008%\n",
      "31.5409%\n",
      "31.5811%\n",
      "31.6212%\n",
      "31.6613%\n",
      "31.7014%\n"
     ]
    },
    {
     "name": "stderr",
     "output_type": "stream",
     "text": [
      "/Users/evelyn/opt/anaconda3/lib/python3.9/site-packages/numpy/core/fromnumeric.py:3440: RuntimeWarning: Mean of empty slice.\n",
      "  return _methods._mean(a, axis=axis, dtype=dtype,\n",
      "/Users/evelyn/opt/anaconda3/lib/python3.9/site-packages/numpy/core/_methods.py:189: RuntimeWarning: invalid value encountered in double_scalars\n",
      "  ret = ret.dtype.type(ret / rcount)\n"
     ]
    },
    {
     "name": "stdout",
     "output_type": "stream",
     "text": [
      "31.7416%\n",
      "31.7817%\n",
      "31.8218%\n",
      "31.8620%\n",
      "31.9021%\n",
      "31.9422%\n",
      "31.9823%\n"
     ]
    },
    {
     "name": "stderr",
     "output_type": "stream",
     "text": [
      "/Users/evelyn/opt/anaconda3/lib/python3.9/site-packages/numpy/core/fromnumeric.py:3440: RuntimeWarning: Mean of empty slice.\n",
      "  return _methods._mean(a, axis=axis, dtype=dtype,\n",
      "/Users/evelyn/opt/anaconda3/lib/python3.9/site-packages/numpy/core/_methods.py:189: RuntimeWarning: invalid value encountered in double_scalars\n",
      "  ret = ret.dtype.type(ret / rcount)\n"
     ]
    },
    {
     "name": "stdout",
     "output_type": "stream",
     "text": [
      "32.0225%\n",
      "32.0626%\n",
      "32.1027%\n",
      "32.1429%\n",
      "32.1830%\n",
      "32.2231%\n",
      "32.2632%\n",
      "32.3034%\n",
      "32.3435%\n",
      "32.3836%\n",
      "32.4238%\n",
      "32.4639%\n",
      "32.5040%\n",
      "32.5441%\n",
      "32.5843%\n",
      "32.6244%\n",
      "32.6645%\n",
      "32.7047%\n",
      "32.7448%\n",
      "32.7849%\n",
      "32.8250%\n"
     ]
    },
    {
     "name": "stderr",
     "output_type": "stream",
     "text": [
      "/Users/evelyn/opt/anaconda3/lib/python3.9/site-packages/numpy/core/fromnumeric.py:3440: RuntimeWarning: Mean of empty slice.\n",
      "  return _methods._mean(a, axis=axis, dtype=dtype,\n",
      "/Users/evelyn/opt/anaconda3/lib/python3.9/site-packages/numpy/core/_methods.py:189: RuntimeWarning: invalid value encountered in double_scalars\n",
      "  ret = ret.dtype.type(ret / rcount)\n"
     ]
    },
    {
     "name": "stdout",
     "output_type": "stream",
     "text": [
      "32.8652%\n",
      "32.9053%\n",
      "32.9454%\n",
      "32.9856%\n",
      "33.0257%\n",
      "33.0658%\n",
      "33.1059%\n"
     ]
    },
    {
     "name": "stderr",
     "output_type": "stream",
     "text": [
      "/Users/evelyn/opt/anaconda3/lib/python3.9/site-packages/numpy/core/fromnumeric.py:3440: RuntimeWarning: Mean of empty slice.\n",
      "  return _methods._mean(a, axis=axis, dtype=dtype,\n",
      "/Users/evelyn/opt/anaconda3/lib/python3.9/site-packages/numpy/core/_methods.py:189: RuntimeWarning: invalid value encountered in double_scalars\n",
      "  ret = ret.dtype.type(ret / rcount)\n",
      "/Users/evelyn/opt/anaconda3/lib/python3.9/site-packages/numpy/core/fromnumeric.py:3440: RuntimeWarning: Mean of empty slice.\n",
      "  return _methods._mean(a, axis=axis, dtype=dtype,\n",
      "/Users/evelyn/opt/anaconda3/lib/python3.9/site-packages/numpy/core/_methods.py:189: RuntimeWarning: invalid value encountered in double_scalars\n",
      "  ret = ret.dtype.type(ret / rcount)\n",
      "/Users/evelyn/opt/anaconda3/lib/python3.9/site-packages/numpy/core/fromnumeric.py:3440: RuntimeWarning: Mean of empty slice.\n",
      "  return _methods._mean(a, axis=axis, dtype=dtype,\n",
      "/Users/evelyn/opt/anaconda3/lib/python3.9/site-packages/numpy/core/_methods.py:189: RuntimeWarning: invalid value encountered in double_scalars\n",
      "  ret = ret.dtype.type(ret / rcount)\n"
     ]
    },
    {
     "name": "stdout",
     "output_type": "stream",
     "text": [
      "33.1461%\n",
      "33.1862%\n",
      "33.2263%\n",
      "33.2665%\n"
     ]
    },
    {
     "name": "stderr",
     "output_type": "stream",
     "text": [
      "/Users/evelyn/opt/anaconda3/lib/python3.9/site-packages/numpy/core/fromnumeric.py:3440: RuntimeWarning: Mean of empty slice.\n",
      "  return _methods._mean(a, axis=axis, dtype=dtype,\n",
      "/Users/evelyn/opt/anaconda3/lib/python3.9/site-packages/numpy/core/_methods.py:189: RuntimeWarning: invalid value encountered in double_scalars\n",
      "  ret = ret.dtype.type(ret / rcount)\n"
     ]
    },
    {
     "name": "stdout",
     "output_type": "stream",
     "text": [
      "33.3066%\n",
      "33.3467%\n",
      "33.3868%\n",
      "33.4270%\n",
      "33.4671%\n",
      "33.5072%\n",
      "33.5474%\n",
      "33.5875%\n",
      "33.6276%\n",
      "33.6677%\n",
      "33.7079%\n",
      "33.7480%\n",
      "33.7881%\n",
      "33.8283%\n",
      "33.8684%\n"
     ]
    },
    {
     "name": "stderr",
     "output_type": "stream",
     "text": [
      "/Users/evelyn/opt/anaconda3/lib/python3.9/site-packages/numpy/core/fromnumeric.py:3440: RuntimeWarning: Mean of empty slice.\n",
      "  return _methods._mean(a, axis=axis, dtype=dtype,\n",
      "/Users/evelyn/opt/anaconda3/lib/python3.9/site-packages/numpy/core/_methods.py:189: RuntimeWarning: invalid value encountered in double_scalars\n",
      "  ret = ret.dtype.type(ret / rcount)\n"
     ]
    },
    {
     "name": "stdout",
     "output_type": "stream",
     "text": [
      "33.9085%\n",
      "33.9486%\n",
      "33.9888%\n",
      "34.0289%\n",
      "34.0690%\n",
      "34.1091%\n",
      "34.1493%\n",
      "34.1894%\n",
      "34.2295%\n",
      "34.2697%\n",
      "34.3098%\n",
      "34.3499%\n",
      "34.3900%\n",
      "34.4302%\n"
     ]
    },
    {
     "name": "stderr",
     "output_type": "stream",
     "text": [
      "/Users/evelyn/opt/anaconda3/lib/python3.9/site-packages/numpy/core/fromnumeric.py:3440: RuntimeWarning: Mean of empty slice.\n",
      "  return _methods._mean(a, axis=axis, dtype=dtype,\n",
      "/Users/evelyn/opt/anaconda3/lib/python3.9/site-packages/numpy/core/_methods.py:189: RuntimeWarning: invalid value encountered in double_scalars\n",
      "  ret = ret.dtype.type(ret / rcount)\n"
     ]
    },
    {
     "name": "stdout",
     "output_type": "stream",
     "text": [
      "34.4703%\n",
      "34.5104%\n",
      "34.5506%\n",
      "34.5907%\n",
      "34.6308%\n",
      "34.6709%\n"
     ]
    },
    {
     "name": "stderr",
     "output_type": "stream",
     "text": [
      "/Users/evelyn/opt/anaconda3/lib/python3.9/site-packages/numpy/core/fromnumeric.py:3440: RuntimeWarning: Mean of empty slice.\n",
      "  return _methods._mean(a, axis=axis, dtype=dtype,\n",
      "/Users/evelyn/opt/anaconda3/lib/python3.9/site-packages/numpy/core/_methods.py:189: RuntimeWarning: invalid value encountered in double_scalars\n",
      "  ret = ret.dtype.type(ret / rcount)\n",
      "/Users/evelyn/opt/anaconda3/lib/python3.9/site-packages/numpy/core/fromnumeric.py:3440: RuntimeWarning: Mean of empty slice.\n",
      "  return _methods._mean(a, axis=axis, dtype=dtype,\n",
      "/Users/evelyn/opt/anaconda3/lib/python3.9/site-packages/numpy/core/_methods.py:189: RuntimeWarning: invalid value encountered in double_scalars\n",
      "  ret = ret.dtype.type(ret / rcount)\n"
     ]
    },
    {
     "name": "stdout",
     "output_type": "stream",
     "text": [
      "34.7111%\n",
      "34.7512%\n",
      "34.7913%\n",
      "34.8315%\n"
     ]
    },
    {
     "name": "stderr",
     "output_type": "stream",
     "text": [
      "/Users/evelyn/opt/anaconda3/lib/python3.9/site-packages/numpy/core/fromnumeric.py:3440: RuntimeWarning: Mean of empty slice.\n",
      "  return _methods._mean(a, axis=axis, dtype=dtype,\n",
      "/Users/evelyn/opt/anaconda3/lib/python3.9/site-packages/numpy/core/_methods.py:189: RuntimeWarning: invalid value encountered in double_scalars\n",
      "  ret = ret.dtype.type(ret / rcount)\n",
      "/Users/evelyn/opt/anaconda3/lib/python3.9/site-packages/numpy/core/fromnumeric.py:3440: RuntimeWarning: Mean of empty slice.\n",
      "  return _methods._mean(a, axis=axis, dtype=dtype,\n",
      "/Users/evelyn/opt/anaconda3/lib/python3.9/site-packages/numpy/core/_methods.py:189: RuntimeWarning: invalid value encountered in double_scalars\n",
      "  ret = ret.dtype.type(ret / rcount)\n"
     ]
    },
    {
     "name": "stdout",
     "output_type": "stream",
     "text": [
      "34.8716%\n",
      "34.9117%\n",
      "34.9518%\n",
      "34.9920%\n",
      "35.0321%\n",
      "35.0722%\n",
      "35.1124%\n",
      "35.1525%\n",
      "35.1926%\n",
      "35.2327%\n",
      "35.2729%\n",
      "35.3130%\n",
      "35.3531%\n",
      "35.3933%\n",
      "35.4334%\n",
      "35.4735%\n",
      "35.5136%\n",
      "35.5538%\n",
      "35.5939%\n",
      "35.6340%\n",
      "35.6742%\n"
     ]
    },
    {
     "name": "stderr",
     "output_type": "stream",
     "text": [
      "/Users/evelyn/opt/anaconda3/lib/python3.9/site-packages/numpy/core/fromnumeric.py:3440: RuntimeWarning: Mean of empty slice.\n",
      "  return _methods._mean(a, axis=axis, dtype=dtype,\n",
      "/Users/evelyn/opt/anaconda3/lib/python3.9/site-packages/numpy/core/_methods.py:189: RuntimeWarning: invalid value encountered in double_scalars\n",
      "  ret = ret.dtype.type(ret / rcount)\n",
      "/Users/evelyn/opt/anaconda3/lib/python3.9/site-packages/numpy/core/fromnumeric.py:3440: RuntimeWarning: Mean of empty slice.\n",
      "  return _methods._mean(a, axis=axis, dtype=dtype,\n",
      "/Users/evelyn/opt/anaconda3/lib/python3.9/site-packages/numpy/core/_methods.py:189: RuntimeWarning: invalid value encountered in double_scalars\n",
      "  ret = ret.dtype.type(ret / rcount)\n"
     ]
    },
    {
     "name": "stdout",
     "output_type": "stream",
     "text": [
      "35.7143%\n",
      "35.7544%\n",
      "35.7945%\n",
      "35.8347%\n",
      "35.8748%\n"
     ]
    },
    {
     "name": "stderr",
     "output_type": "stream",
     "text": [
      "/Users/evelyn/opt/anaconda3/lib/python3.9/site-packages/numpy/core/fromnumeric.py:3440: RuntimeWarning: Mean of empty slice.\n",
      "  return _methods._mean(a, axis=axis, dtype=dtype,\n",
      "/Users/evelyn/opt/anaconda3/lib/python3.9/site-packages/numpy/core/_methods.py:189: RuntimeWarning: invalid value encountered in double_scalars\n",
      "  ret = ret.dtype.type(ret / rcount)\n"
     ]
    },
    {
     "name": "stdout",
     "output_type": "stream",
     "text": [
      "35.9149%\n",
      "35.9551%\n",
      "35.9952%\n",
      "36.0353%\n",
      "36.0754%\n",
      "36.1156%\n",
      "36.1557%\n",
      "36.1958%\n",
      "36.2360%\n",
      "36.2761%\n",
      "36.3162%\n",
      "36.3563%\n",
      "36.3965%\n",
      "36.4366%\n"
     ]
    },
    {
     "name": "stderr",
     "output_type": "stream",
     "text": [
      "/Users/evelyn/opt/anaconda3/lib/python3.9/site-packages/numpy/core/fromnumeric.py:3440: RuntimeWarning: Mean of empty slice.\n",
      "  return _methods._mean(a, axis=axis, dtype=dtype,\n",
      "/Users/evelyn/opt/anaconda3/lib/python3.9/site-packages/numpy/core/_methods.py:189: RuntimeWarning: invalid value encountered in double_scalars\n",
      "  ret = ret.dtype.type(ret / rcount)\n",
      "/Users/evelyn/opt/anaconda3/lib/python3.9/site-packages/numpy/core/fromnumeric.py:3440: RuntimeWarning: Mean of empty slice.\n",
      "  return _methods._mean(a, axis=axis, dtype=dtype,\n",
      "/Users/evelyn/opt/anaconda3/lib/python3.9/site-packages/numpy/core/_methods.py:189: RuntimeWarning: invalid value encountered in double_scalars\n",
      "  ret = ret.dtype.type(ret / rcount)\n"
     ]
    },
    {
     "name": "stdout",
     "output_type": "stream",
     "text": [
      "36.4767%\n",
      "36.5169%\n",
      "36.5570%\n",
      "36.5971%\n",
      "36.6372%\n",
      "36.6774%\n",
      "36.7175%\n",
      "36.7576%\n",
      "36.7978%\n",
      "36.8379%\n"
     ]
    },
    {
     "name": "stderr",
     "output_type": "stream",
     "text": [
      "/Users/evelyn/opt/anaconda3/lib/python3.9/site-packages/numpy/core/fromnumeric.py:3440: RuntimeWarning: Mean of empty slice.\n",
      "  return _methods._mean(a, axis=axis, dtype=dtype,\n",
      "/Users/evelyn/opt/anaconda3/lib/python3.9/site-packages/numpy/core/_methods.py:189: RuntimeWarning: invalid value encountered in double_scalars\n",
      "  ret = ret.dtype.type(ret / rcount)\n"
     ]
    },
    {
     "name": "stdout",
     "output_type": "stream",
     "text": [
      "36.8780%\n",
      "36.9181%\n",
      "36.9583%\n",
      "36.9984%\n",
      "37.0385%\n",
      "37.0787%\n",
      "37.1188%\n",
      "37.1589%\n"
     ]
    },
    {
     "name": "stderr",
     "output_type": "stream",
     "text": [
      "/Users/evelyn/opt/anaconda3/lib/python3.9/site-packages/numpy/core/fromnumeric.py:3440: RuntimeWarning: Mean of empty slice.\n",
      "  return _methods._mean(a, axis=axis, dtype=dtype,\n",
      "/Users/evelyn/opt/anaconda3/lib/python3.9/site-packages/numpy/core/_methods.py:189: RuntimeWarning: invalid value encountered in double_scalars\n",
      "  ret = ret.dtype.type(ret / rcount)\n"
     ]
    },
    {
     "name": "stdout",
     "output_type": "stream",
     "text": [
      "37.1990%\n",
      "37.2392%\n",
      "37.2793%\n",
      "37.3194%\n",
      "37.3596%\n",
      "37.3997%\n",
      "37.4398%\n",
      "37.4799%\n",
      "37.5201%\n",
      "37.5602%\n",
      "37.6003%\n",
      "37.6404%\n",
      "37.6806%\n",
      "37.7207%\n"
     ]
    },
    {
     "name": "stderr",
     "output_type": "stream",
     "text": [
      "/Users/evelyn/opt/anaconda3/lib/python3.9/site-packages/numpy/core/fromnumeric.py:3440: RuntimeWarning: Mean of empty slice.\n",
      "  return _methods._mean(a, axis=axis, dtype=dtype,\n",
      "/Users/evelyn/opt/anaconda3/lib/python3.9/site-packages/numpy/core/_methods.py:189: RuntimeWarning: invalid value encountered in double_scalars\n",
      "  ret = ret.dtype.type(ret / rcount)\n",
      "/Users/evelyn/opt/anaconda3/lib/python3.9/site-packages/numpy/core/fromnumeric.py:3440: RuntimeWarning: Mean of empty slice.\n",
      "  return _methods._mean(a, axis=axis, dtype=dtype,\n",
      "/Users/evelyn/opt/anaconda3/lib/python3.9/site-packages/numpy/core/_methods.py:189: RuntimeWarning: invalid value encountered in double_scalars\n",
      "  ret = ret.dtype.type(ret / rcount)\n"
     ]
    },
    {
     "name": "stdout",
     "output_type": "stream",
     "text": [
      "37.7608%\n",
      "37.8010%\n",
      "37.8411%\n",
      "37.8812%\n",
      "37.9213%\n"
     ]
    },
    {
     "name": "stderr",
     "output_type": "stream",
     "text": [
      "/Users/evelyn/opt/anaconda3/lib/python3.9/site-packages/numpy/core/fromnumeric.py:3440: RuntimeWarning: Mean of empty slice.\n",
      "  return _methods._mean(a, axis=axis, dtype=dtype,\n",
      "/Users/evelyn/opt/anaconda3/lib/python3.9/site-packages/numpy/core/_methods.py:189: RuntimeWarning: invalid value encountered in double_scalars\n",
      "  ret = ret.dtype.type(ret / rcount)\n",
      "/Users/evelyn/opt/anaconda3/lib/python3.9/site-packages/numpy/core/fromnumeric.py:3440: RuntimeWarning: Mean of empty slice.\n",
      "  return _methods._mean(a, axis=axis, dtype=dtype,\n",
      "/Users/evelyn/opt/anaconda3/lib/python3.9/site-packages/numpy/core/_methods.py:189: RuntimeWarning: invalid value encountered in double_scalars\n",
      "  ret = ret.dtype.type(ret / rcount)\n"
     ]
    },
    {
     "name": "stdout",
     "output_type": "stream",
     "text": [
      "37.9615%\n",
      "38.0016%\n",
      "38.0417%\n",
      "38.0819%\n",
      "38.1220%\n",
      "38.1621%\n",
      "38.2022%\n",
      "38.2424%\n",
      "38.2825%\n",
      "38.3226%\n",
      "38.3628%\n",
      "38.4029%\n",
      "38.4430%\n",
      "38.4831%\n",
      "38.5233%\n",
      "38.5634%\n",
      "38.6035%\n",
      "38.6437%\n",
      "38.6838%\n",
      "38.7239%\n",
      "38.7640%\n",
      "38.8042%\n",
      "38.8443%\n",
      "38.8844%\n",
      "38.9246%\n",
      "38.9647%\n",
      "39.0048%\n",
      "39.0449%\n",
      "39.0851%\n",
      "39.1252%\n",
      "39.1653%\n"
     ]
    },
    {
     "name": "stderr",
     "output_type": "stream",
     "text": [
      "/Users/evelyn/opt/anaconda3/lib/python3.9/site-packages/numpy/core/fromnumeric.py:3440: RuntimeWarning: Mean of empty slice.\n",
      "  return _methods._mean(a, axis=axis, dtype=dtype,\n",
      "/Users/evelyn/opt/anaconda3/lib/python3.9/site-packages/numpy/core/_methods.py:189: RuntimeWarning: invalid value encountered in double_scalars\n",
      "  ret = ret.dtype.type(ret / rcount)\n"
     ]
    },
    {
     "name": "stdout",
     "output_type": "stream",
     "text": [
      "39.2055%\n",
      "39.2456%\n"
     ]
    },
    {
     "name": "stderr",
     "output_type": "stream",
     "text": [
      "/Users/evelyn/opt/anaconda3/lib/python3.9/site-packages/numpy/core/fromnumeric.py:3440: RuntimeWarning: Mean of empty slice.\n",
      "  return _methods._mean(a, axis=axis, dtype=dtype,\n",
      "/Users/evelyn/opt/anaconda3/lib/python3.9/site-packages/numpy/core/_methods.py:189: RuntimeWarning: invalid value encountered in double_scalars\n",
      "  ret = ret.dtype.type(ret / rcount)\n"
     ]
    },
    {
     "name": "stdout",
     "output_type": "stream",
     "text": [
      "39.2857%\n",
      "39.3258%\n",
      "39.3660%\n",
      "39.4061%\n",
      "39.4462%\n",
      "39.4864%\n",
      "39.5265%\n",
      "39.5666%\n",
      "39.6067%\n",
      "39.6469%\n",
      "39.6870%\n",
      "39.7271%\n",
      "39.7673%\n",
      "39.8074%\n",
      "39.8475%\n"
     ]
    },
    {
     "name": "stderr",
     "output_type": "stream",
     "text": [
      "/Users/evelyn/opt/anaconda3/lib/python3.9/site-packages/numpy/core/fromnumeric.py:3440: RuntimeWarning: Mean of empty slice.\n",
      "  return _methods._mean(a, axis=axis, dtype=dtype,\n",
      "/Users/evelyn/opt/anaconda3/lib/python3.9/site-packages/numpy/core/_methods.py:189: RuntimeWarning: invalid value encountered in double_scalars\n",
      "  ret = ret.dtype.type(ret / rcount)\n"
     ]
    },
    {
     "name": "stdout",
     "output_type": "stream",
     "text": [
      "39.8876%\n",
      "39.9278%\n",
      "39.9679%\n",
      "40.0080%\n",
      "40.0482%\n",
      "40.0883%\n",
      "40.1284%\n",
      "40.1685%\n",
      "40.2087%\n",
      "40.2488%\n",
      "40.2889%\n"
     ]
    },
    {
     "name": "stderr",
     "output_type": "stream",
     "text": [
      "/Users/evelyn/opt/anaconda3/lib/python3.9/site-packages/numpy/core/fromnumeric.py:3440: RuntimeWarning: Mean of empty slice.\n",
      "  return _methods._mean(a, axis=axis, dtype=dtype,\n",
      "/Users/evelyn/opt/anaconda3/lib/python3.9/site-packages/numpy/core/_methods.py:189: RuntimeWarning: invalid value encountered in double_scalars\n",
      "  ret = ret.dtype.type(ret / rcount)\n",
      "/Users/evelyn/opt/anaconda3/lib/python3.9/site-packages/numpy/core/fromnumeric.py:3440: RuntimeWarning: Mean of empty slice.\n",
      "  return _methods._mean(a, axis=axis, dtype=dtype,\n",
      "/Users/evelyn/opt/anaconda3/lib/python3.9/site-packages/numpy/core/_methods.py:189: RuntimeWarning: invalid value encountered in double_scalars\n",
      "  ret = ret.dtype.type(ret / rcount)\n"
     ]
    },
    {
     "name": "stdout",
     "output_type": "stream",
     "text": [
      "40.3291%\n",
      "40.3692%\n",
      "40.4093%\n",
      "40.4494%\n",
      "40.4896%\n",
      "40.5297%\n",
      "40.5698%\n"
     ]
    },
    {
     "name": "stderr",
     "output_type": "stream",
     "text": [
      "/Users/evelyn/opt/anaconda3/lib/python3.9/site-packages/numpy/core/fromnumeric.py:3440: RuntimeWarning: Mean of empty slice.\n",
      "  return _methods._mean(a, axis=axis, dtype=dtype,\n",
      "/Users/evelyn/opt/anaconda3/lib/python3.9/site-packages/numpy/core/_methods.py:189: RuntimeWarning: invalid value encountered in double_scalars\n",
      "  ret = ret.dtype.type(ret / rcount)\n"
     ]
    },
    {
     "name": "stdout",
     "output_type": "stream",
     "text": [
      "40.6100%\n",
      "40.6501%\n",
      "40.6902%\n",
      "40.7303%\n",
      "40.7705%\n",
      "40.8106%\n"
     ]
    },
    {
     "name": "stderr",
     "output_type": "stream",
     "text": [
      "/Users/evelyn/opt/anaconda3/lib/python3.9/site-packages/numpy/core/fromnumeric.py:3440: RuntimeWarning: Mean of empty slice.\n",
      "  return _methods._mean(a, axis=axis, dtype=dtype,\n",
      "/Users/evelyn/opt/anaconda3/lib/python3.9/site-packages/numpy/core/_methods.py:189: RuntimeWarning: invalid value encountered in double_scalars\n",
      "  ret = ret.dtype.type(ret / rcount)\n"
     ]
    },
    {
     "name": "stdout",
     "output_type": "stream",
     "text": [
      "40.8507%\n",
      "40.8909%\n",
      "40.9310%\n",
      "40.9711%\n",
      "41.0112%\n",
      "41.0514%\n",
      "41.0915%\n",
      "41.1316%\n",
      "41.1717%\n",
      "41.2119%\n",
      "41.2520%\n"
     ]
    },
    {
     "name": "stderr",
     "output_type": "stream",
     "text": [
      "/Users/evelyn/opt/anaconda3/lib/python3.9/site-packages/numpy/core/fromnumeric.py:3440: RuntimeWarning: Mean of empty slice.\n",
      "  return _methods._mean(a, axis=axis, dtype=dtype,\n",
      "/Users/evelyn/opt/anaconda3/lib/python3.9/site-packages/numpy/core/_methods.py:189: RuntimeWarning: invalid value encountered in double_scalars\n",
      "  ret = ret.dtype.type(ret / rcount)\n",
      "/Users/evelyn/opt/anaconda3/lib/python3.9/site-packages/numpy/core/fromnumeric.py:3440: RuntimeWarning: Mean of empty slice.\n",
      "  return _methods._mean(a, axis=axis, dtype=dtype,\n",
      "/Users/evelyn/opt/anaconda3/lib/python3.9/site-packages/numpy/core/_methods.py:189: RuntimeWarning: invalid value encountered in double_scalars\n",
      "  ret = ret.dtype.type(ret / rcount)\n"
     ]
    },
    {
     "name": "stdout",
     "output_type": "stream",
     "text": [
      "41.2921%\n",
      "41.3323%\n",
      "41.3724%\n",
      "41.4125%\n",
      "41.4526%\n"
     ]
    },
    {
     "name": "stderr",
     "output_type": "stream",
     "text": [
      "/Users/evelyn/opt/anaconda3/lib/python3.9/site-packages/numpy/core/fromnumeric.py:3440: RuntimeWarning: Mean of empty slice.\n",
      "  return _methods._mean(a, axis=axis, dtype=dtype,\n",
      "/Users/evelyn/opt/anaconda3/lib/python3.9/site-packages/numpy/core/_methods.py:189: RuntimeWarning: invalid value encountered in double_scalars\n",
      "  ret = ret.dtype.type(ret / rcount)\n"
     ]
    },
    {
     "name": "stdout",
     "output_type": "stream",
     "text": [
      "41.4928%\n",
      "41.5329%\n",
      "41.5730%\n"
     ]
    },
    {
     "name": "stderr",
     "output_type": "stream",
     "text": [
      "/Users/evelyn/opt/anaconda3/lib/python3.9/site-packages/numpy/core/fromnumeric.py:3440: RuntimeWarning: Mean of empty slice.\n",
      "  return _methods._mean(a, axis=axis, dtype=dtype,\n",
      "/Users/evelyn/opt/anaconda3/lib/python3.9/site-packages/numpy/core/_methods.py:189: RuntimeWarning: invalid value encountered in double_scalars\n",
      "  ret = ret.dtype.type(ret / rcount)\n"
     ]
    },
    {
     "name": "stdout",
     "output_type": "stream",
     "text": [
      "41.6132%\n",
      "41.6533%\n",
      "41.6934%\n",
      "41.7335%\n",
      "41.7737%\n",
      "41.8138%\n",
      "41.8539%\n",
      "41.8941%\n",
      "41.9342%\n",
      "41.9743%\n",
      "42.0144%\n",
      "42.0546%\n",
      "42.0947%\n",
      "42.1348%\n",
      "42.1750%\n",
      "42.2151%\n",
      "42.2552%\n",
      "42.2953%\n",
      "42.3355%\n",
      "42.3756%\n",
      "42.4157%\n",
      "42.4559%\n",
      "42.4960%\n",
      "42.5361%\n",
      "42.5762%\n",
      "42.6164%\n",
      "42.6565%\n"
     ]
    },
    {
     "name": "stderr",
     "output_type": "stream",
     "text": [
      "/Users/evelyn/opt/anaconda3/lib/python3.9/site-packages/numpy/core/fromnumeric.py:3440: RuntimeWarning: Mean of empty slice.\n",
      "  return _methods._mean(a, axis=axis, dtype=dtype,\n",
      "/Users/evelyn/opt/anaconda3/lib/python3.9/site-packages/numpy/core/_methods.py:189: RuntimeWarning: invalid value encountered in double_scalars\n",
      "  ret = ret.dtype.type(ret / rcount)\n",
      "/Users/evelyn/opt/anaconda3/lib/python3.9/site-packages/numpy/core/fromnumeric.py:3440: RuntimeWarning: Mean of empty slice.\n",
      "  return _methods._mean(a, axis=axis, dtype=dtype,\n",
      "/Users/evelyn/opt/anaconda3/lib/python3.9/site-packages/numpy/core/_methods.py:189: RuntimeWarning: invalid value encountered in double_scalars\n",
      "  ret = ret.dtype.type(ret / rcount)\n",
      "/Users/evelyn/opt/anaconda3/lib/python3.9/site-packages/numpy/core/fromnumeric.py:3440: RuntimeWarning: Mean of empty slice.\n",
      "  return _methods._mean(a, axis=axis, dtype=dtype,\n",
      "/Users/evelyn/opt/anaconda3/lib/python3.9/site-packages/numpy/core/_methods.py:189: RuntimeWarning: invalid value encountered in double_scalars\n",
      "  ret = ret.dtype.type(ret / rcount)\n"
     ]
    },
    {
     "name": "stdout",
     "output_type": "stream",
     "text": [
      "42.6966%\n",
      "42.7368%\n",
      "42.7769%\n",
      "42.8170%\n",
      "42.8571%\n",
      "42.8973%\n",
      "42.9374%\n",
      "42.9775%\n",
      "43.0177%\n",
      "43.0578%\n",
      "43.0979%\n",
      "43.1380%\n",
      "43.1782%\n",
      "43.2183%\n",
      "43.2584%\n",
      "43.2986%\n"
     ]
    },
    {
     "name": "stderr",
     "output_type": "stream",
     "text": [
      "/Users/evelyn/opt/anaconda3/lib/python3.9/site-packages/numpy/core/fromnumeric.py:3440: RuntimeWarning: Mean of empty slice.\n",
      "  return _methods._mean(a, axis=axis, dtype=dtype,\n",
      "/Users/evelyn/opt/anaconda3/lib/python3.9/site-packages/numpy/core/_methods.py:189: RuntimeWarning: invalid value encountered in double_scalars\n",
      "  ret = ret.dtype.type(ret / rcount)\n",
      "/Users/evelyn/opt/anaconda3/lib/python3.9/site-packages/numpy/core/fromnumeric.py:3440: RuntimeWarning: Mean of empty slice.\n",
      "  return _methods._mean(a, axis=axis, dtype=dtype,\n",
      "/Users/evelyn/opt/anaconda3/lib/python3.9/site-packages/numpy/core/_methods.py:189: RuntimeWarning: invalid value encountered in double_scalars\n",
      "  ret = ret.dtype.type(ret / rcount)\n",
      "/Users/evelyn/opt/anaconda3/lib/python3.9/site-packages/numpy/core/fromnumeric.py:3440: RuntimeWarning: Mean of empty slice.\n",
      "  return _methods._mean(a, axis=axis, dtype=dtype,\n",
      "/Users/evelyn/opt/anaconda3/lib/python3.9/site-packages/numpy/core/_methods.py:189: RuntimeWarning: invalid value encountered in double_scalars\n",
      "  ret = ret.dtype.type(ret / rcount)\n"
     ]
    },
    {
     "name": "stdout",
     "output_type": "stream",
     "text": [
      "43.3387%\n",
      "43.3788%\n",
      "43.4189%\n",
      "43.4591%\n",
      "43.4992%\n",
      "43.5393%\n",
      "43.5795%\n",
      "43.6196%\n"
     ]
    },
    {
     "name": "stderr",
     "output_type": "stream",
     "text": [
      "/Users/evelyn/opt/anaconda3/lib/python3.9/site-packages/numpy/core/fromnumeric.py:3440: RuntimeWarning: Mean of empty slice.\n",
      "  return _methods._mean(a, axis=axis, dtype=dtype,\n",
      "/Users/evelyn/opt/anaconda3/lib/python3.9/site-packages/numpy/core/_methods.py:189: RuntimeWarning: invalid value encountered in double_scalars\n",
      "  ret = ret.dtype.type(ret / rcount)\n",
      "/Users/evelyn/opt/anaconda3/lib/python3.9/site-packages/numpy/core/fromnumeric.py:3440: RuntimeWarning: Mean of empty slice.\n",
      "  return _methods._mean(a, axis=axis, dtype=dtype,\n",
      "/Users/evelyn/opt/anaconda3/lib/python3.9/site-packages/numpy/core/_methods.py:189: RuntimeWarning: invalid value encountered in double_scalars\n",
      "  ret = ret.dtype.type(ret / rcount)\n"
     ]
    },
    {
     "name": "stdout",
     "output_type": "stream",
     "text": [
      "43.6597%\n",
      "43.6998%\n",
      "43.7400%\n",
      "43.7801%\n",
      "43.8202%\n",
      "43.8604%\n",
      "43.9005%\n",
      "43.9406%\n",
      "43.9807%\n",
      "44.0209%\n",
      "44.0610%\n",
      "44.1011%\n",
      "44.1413%\n",
      "44.1814%\n",
      "44.2215%\n",
      "44.2616%\n",
      "44.3018%\n"
     ]
    },
    {
     "name": "stderr",
     "output_type": "stream",
     "text": [
      "/Users/evelyn/opt/anaconda3/lib/python3.9/site-packages/numpy/core/fromnumeric.py:3440: RuntimeWarning: Mean of empty slice.\n",
      "  return _methods._mean(a, axis=axis, dtype=dtype,\n",
      "/Users/evelyn/opt/anaconda3/lib/python3.9/site-packages/numpy/core/_methods.py:189: RuntimeWarning: invalid value encountered in double_scalars\n",
      "  ret = ret.dtype.type(ret / rcount)\n"
     ]
    },
    {
     "name": "stdout",
     "output_type": "stream",
     "text": [
      "44.3419%\n",
      "44.3820%\n",
      "44.4222%\n",
      "44.4623%\n",
      "44.5024%\n",
      "44.5425%\n"
     ]
    },
    {
     "name": "stderr",
     "output_type": "stream",
     "text": [
      "/Users/evelyn/opt/anaconda3/lib/python3.9/site-packages/numpy/core/fromnumeric.py:3440: RuntimeWarning: Mean of empty slice.\n",
      "  return _methods._mean(a, axis=axis, dtype=dtype,\n",
      "/Users/evelyn/opt/anaconda3/lib/python3.9/site-packages/numpy/core/_methods.py:189: RuntimeWarning: invalid value encountered in double_scalars\n",
      "  ret = ret.dtype.type(ret / rcount)\n",
      "/Users/evelyn/opt/anaconda3/lib/python3.9/site-packages/numpy/core/fromnumeric.py:3440: RuntimeWarning: Mean of empty slice.\n",
      "  return _methods._mean(a, axis=axis, dtype=dtype,\n",
      "/Users/evelyn/opt/anaconda3/lib/python3.9/site-packages/numpy/core/_methods.py:189: RuntimeWarning: invalid value encountered in double_scalars\n",
      "  ret = ret.dtype.type(ret / rcount)\n",
      "/Users/evelyn/opt/anaconda3/lib/python3.9/site-packages/numpy/core/fromnumeric.py:3440: RuntimeWarning: Mean of empty slice.\n",
      "  return _methods._mean(a, axis=axis, dtype=dtype,\n",
      "/Users/evelyn/opt/anaconda3/lib/python3.9/site-packages/numpy/core/_methods.py:189: RuntimeWarning: invalid value encountered in double_scalars\n",
      "  ret = ret.dtype.type(ret / rcount)\n"
     ]
    },
    {
     "name": "stdout",
     "output_type": "stream",
     "text": [
      "44.5827%\n",
      "44.6228%\n",
      "44.6629%\n",
      "44.7030%\n",
      "44.7432%\n",
      "44.7833%\n",
      "44.8234%\n",
      "44.8636%\n",
      "44.9037%\n",
      "44.9438%\n",
      "44.9839%\n",
      "45.0241%\n",
      "45.0642%\n",
      "45.1043%\n",
      "45.1445%\n",
      "45.1846%\n",
      "45.2247%\n",
      "45.2648%\n"
     ]
    },
    {
     "name": "stderr",
     "output_type": "stream",
     "text": [
      "/Users/evelyn/opt/anaconda3/lib/python3.9/site-packages/numpy/core/fromnumeric.py:3440: RuntimeWarning: Mean of empty slice.\n",
      "  return _methods._mean(a, axis=axis, dtype=dtype,\n",
      "/Users/evelyn/opt/anaconda3/lib/python3.9/site-packages/numpy/core/_methods.py:189: RuntimeWarning: invalid value encountered in double_scalars\n",
      "  ret = ret.dtype.type(ret / rcount)\n",
      "/Users/evelyn/opt/anaconda3/lib/python3.9/site-packages/numpy/core/fromnumeric.py:3440: RuntimeWarning: Mean of empty slice.\n",
      "  return _methods._mean(a, axis=axis, dtype=dtype,\n",
      "/Users/evelyn/opt/anaconda3/lib/python3.9/site-packages/numpy/core/_methods.py:189: RuntimeWarning: invalid value encountered in double_scalars\n",
      "  ret = ret.dtype.type(ret / rcount)\n"
     ]
    },
    {
     "name": "stdout",
     "output_type": "stream",
     "text": [
      "45.3050%\n",
      "45.3451%\n",
      "45.3852%\n",
      "45.4254%\n",
      "45.4655%\n",
      "45.5056%\n",
      "45.5457%\n",
      "45.5859%\n"
     ]
    },
    {
     "name": "stderr",
     "output_type": "stream",
     "text": [
      "/Users/evelyn/opt/anaconda3/lib/python3.9/site-packages/numpy/core/fromnumeric.py:3440: RuntimeWarning: Mean of empty slice.\n",
      "  return _methods._mean(a, axis=axis, dtype=dtype,\n",
      "/Users/evelyn/opt/anaconda3/lib/python3.9/site-packages/numpy/core/_methods.py:189: RuntimeWarning: invalid value encountered in double_scalars\n",
      "  ret = ret.dtype.type(ret / rcount)\n"
     ]
    },
    {
     "name": "stdout",
     "output_type": "stream",
     "text": [
      "45.6260%\n",
      "45.6661%\n",
      "45.7063%\n",
      "45.7464%\n",
      "45.7865%\n",
      "45.8266%\n",
      "45.8668%\n",
      "45.9069%\n",
      "45.9470%\n",
      "45.9872%\n",
      "46.0273%\n",
      "46.0674%\n",
      "46.1075%\n",
      "46.1477%\n",
      "46.1878%\n",
      "46.2279%\n",
      "46.2681%\n",
      "46.3082%\n",
      "46.3483%\n",
      "46.3884%\n",
      "46.4286%\n",
      "46.4687%\n"
     ]
    },
    {
     "name": "stderr",
     "output_type": "stream",
     "text": [
      "/Users/evelyn/opt/anaconda3/lib/python3.9/site-packages/numpy/core/fromnumeric.py:3440: RuntimeWarning: Mean of empty slice.\n",
      "  return _methods._mean(a, axis=axis, dtype=dtype,\n",
      "/Users/evelyn/opt/anaconda3/lib/python3.9/site-packages/numpy/core/_methods.py:189: RuntimeWarning: invalid value encountered in double_scalars\n",
      "  ret = ret.dtype.type(ret / rcount)\n",
      "/Users/evelyn/opt/anaconda3/lib/python3.9/site-packages/numpy/core/fromnumeric.py:3440: RuntimeWarning: Mean of empty slice.\n",
      "  return _methods._mean(a, axis=axis, dtype=dtype,\n",
      "/Users/evelyn/opt/anaconda3/lib/python3.9/site-packages/numpy/core/_methods.py:189: RuntimeWarning: invalid value encountered in double_scalars\n",
      "  ret = ret.dtype.type(ret / rcount)\n"
     ]
    },
    {
     "name": "stdout",
     "output_type": "stream",
     "text": [
      "46.5088%\n",
      "46.5490%\n",
      "46.5891%\n",
      "46.6292%\n",
      "46.6693%\n"
     ]
    },
    {
     "name": "stderr",
     "output_type": "stream",
     "text": [
      "/Users/evelyn/opt/anaconda3/lib/python3.9/site-packages/numpy/core/fromnumeric.py:3440: RuntimeWarning: Mean of empty slice.\n",
      "  return _methods._mean(a, axis=axis, dtype=dtype,\n",
      "/Users/evelyn/opt/anaconda3/lib/python3.9/site-packages/numpy/core/_methods.py:189: RuntimeWarning: invalid value encountered in double_scalars\n",
      "  ret = ret.dtype.type(ret / rcount)\n",
      "/Users/evelyn/opt/anaconda3/lib/python3.9/site-packages/numpy/core/fromnumeric.py:3440: RuntimeWarning: Mean of empty slice.\n",
      "  return _methods._mean(a, axis=axis, dtype=dtype,\n",
      "/Users/evelyn/opt/anaconda3/lib/python3.9/site-packages/numpy/core/_methods.py:189: RuntimeWarning: invalid value encountered in double_scalars\n",
      "  ret = ret.dtype.type(ret / rcount)\n"
     ]
    },
    {
     "name": "stdout",
     "output_type": "stream",
     "text": [
      "46.7095%\n",
      "46.7496%\n",
      "46.7897%\n",
      "46.8299%\n",
      "46.8700%\n",
      "46.9101%\n",
      "46.9502%\n",
      "46.9904%\n",
      "47.0305%\n"
     ]
    },
    {
     "name": "stderr",
     "output_type": "stream",
     "text": [
      "/Users/evelyn/opt/anaconda3/lib/python3.9/site-packages/numpy/core/fromnumeric.py:3440: RuntimeWarning: Mean of empty slice.\n",
      "  return _methods._mean(a, axis=axis, dtype=dtype,\n",
      "/Users/evelyn/opt/anaconda3/lib/python3.9/site-packages/numpy/core/_methods.py:189: RuntimeWarning: invalid value encountered in double_scalars\n",
      "  ret = ret.dtype.type(ret / rcount)\n",
      "/Users/evelyn/opt/anaconda3/lib/python3.9/site-packages/numpy/core/fromnumeric.py:3440: RuntimeWarning: Mean of empty slice.\n",
      "  return _methods._mean(a, axis=axis, dtype=dtype,\n",
      "/Users/evelyn/opt/anaconda3/lib/python3.9/site-packages/numpy/core/_methods.py:189: RuntimeWarning: invalid value encountered in double_scalars\n",
      "  ret = ret.dtype.type(ret / rcount)\n",
      "/Users/evelyn/opt/anaconda3/lib/python3.9/site-packages/numpy/core/fromnumeric.py:3440: RuntimeWarning: Mean of empty slice.\n",
      "  return _methods._mean(a, axis=axis, dtype=dtype,\n",
      "/Users/evelyn/opt/anaconda3/lib/python3.9/site-packages/numpy/core/_methods.py:189: RuntimeWarning: invalid value encountered in double_scalars\n",
      "  ret = ret.dtype.type(ret / rcount)\n",
      "/Users/evelyn/opt/anaconda3/lib/python3.9/site-packages/numpy/core/fromnumeric.py:3440: RuntimeWarning: Mean of empty slice.\n",
      "  return _methods._mean(a, axis=axis, dtype=dtype,\n",
      "/Users/evelyn/opt/anaconda3/lib/python3.9/site-packages/numpy/core/_methods.py:189: RuntimeWarning: invalid value encountered in double_scalars\n",
      "  ret = ret.dtype.type(ret / rcount)\n"
     ]
    },
    {
     "name": "stdout",
     "output_type": "stream",
     "text": [
      "47.0706%\n",
      "47.1108%\n",
      "47.1509%\n",
      "47.1910%\n",
      "47.2311%\n",
      "47.2713%\n",
      "47.3114%\n",
      "47.3515%\n",
      "47.3917%\n",
      "47.4318%\n",
      "47.4719%\n",
      "47.5120%\n",
      "47.5522%\n",
      "47.5923%\n",
      "47.6324%\n",
      "47.6726%\n",
      "47.7127%\n"
     ]
    },
    {
     "name": "stderr",
     "output_type": "stream",
     "text": [
      "/Users/evelyn/opt/anaconda3/lib/python3.9/site-packages/numpy/core/fromnumeric.py:3440: RuntimeWarning: Mean of empty slice.\n",
      "  return _methods._mean(a, axis=axis, dtype=dtype,\n",
      "/Users/evelyn/opt/anaconda3/lib/python3.9/site-packages/numpy/core/_methods.py:189: RuntimeWarning: invalid value encountered in double_scalars\n",
      "  ret = ret.dtype.type(ret / rcount)\n"
     ]
    },
    {
     "name": "stdout",
     "output_type": "stream",
     "text": [
      "47.7528%\n",
      "47.7929%\n",
      "47.8331%\n",
      "47.8732%\n",
      "47.9133%\n",
      "47.9535%\n",
      "47.9936%\n",
      "48.0337%\n",
      "48.0738%\n"
     ]
    },
    {
     "name": "stderr",
     "output_type": "stream",
     "text": [
      "/Users/evelyn/opt/anaconda3/lib/python3.9/site-packages/numpy/core/fromnumeric.py:3440: RuntimeWarning: Mean of empty slice.\n",
      "  return _methods._mean(a, axis=axis, dtype=dtype,\n",
      "/Users/evelyn/opt/anaconda3/lib/python3.9/site-packages/numpy/core/_methods.py:189: RuntimeWarning: invalid value encountered in double_scalars\n",
      "  ret = ret.dtype.type(ret / rcount)\n",
      "/Users/evelyn/opt/anaconda3/lib/python3.9/site-packages/numpy/core/fromnumeric.py:3440: RuntimeWarning: Mean of empty slice.\n",
      "  return _methods._mean(a, axis=axis, dtype=dtype,\n",
      "/Users/evelyn/opt/anaconda3/lib/python3.9/site-packages/numpy/core/_methods.py:189: RuntimeWarning: invalid value encountered in double_scalars\n",
      "  ret = ret.dtype.type(ret / rcount)\n"
     ]
    },
    {
     "name": "stdout",
     "output_type": "stream",
     "text": [
      "48.1140%\n",
      "48.1541%\n",
      "48.1942%\n",
      "48.2343%\n",
      "48.2745%\n",
      "48.3146%\n",
      "48.3547%\n",
      "48.3949%\n",
      "48.4350%\n",
      "48.4751%\n",
      "48.5152%\n",
      "48.5554%\n",
      "48.5955%\n",
      "48.6356%\n",
      "48.6758%\n",
      "48.7159%\n",
      "48.7560%\n",
      "48.7961%\n",
      "48.8363%\n",
      "48.8764%\n",
      "48.9165%\n",
      "48.9567%\n"
     ]
    },
    {
     "name": "stderr",
     "output_type": "stream",
     "text": [
      "/Users/evelyn/opt/anaconda3/lib/python3.9/site-packages/numpy/core/fromnumeric.py:3440: RuntimeWarning: Mean of empty slice.\n",
      "  return _methods._mean(a, axis=axis, dtype=dtype,\n",
      "/Users/evelyn/opt/anaconda3/lib/python3.9/site-packages/numpy/core/_methods.py:189: RuntimeWarning: invalid value encountered in double_scalars\n",
      "  ret = ret.dtype.type(ret / rcount)\n",
      "/Users/evelyn/opt/anaconda3/lib/python3.9/site-packages/numpy/core/fromnumeric.py:3440: RuntimeWarning: Mean of empty slice.\n",
      "  return _methods._mean(a, axis=axis, dtype=dtype,\n",
      "/Users/evelyn/opt/anaconda3/lib/python3.9/site-packages/numpy/core/_methods.py:189: RuntimeWarning: invalid value encountered in double_scalars\n",
      "  ret = ret.dtype.type(ret / rcount)\n"
     ]
    },
    {
     "name": "stdout",
     "output_type": "stream",
     "text": [
      "48.9968%\n",
      "49.0369%\n",
      "49.0770%\n",
      "49.1172%\n",
      "49.1573%\n",
      "49.1974%\n",
      "49.2376%\n",
      "49.2777%\n",
      "49.3178%\n"
     ]
    },
    {
     "name": "stderr",
     "output_type": "stream",
     "text": [
      "/Users/evelyn/opt/anaconda3/lib/python3.9/site-packages/numpy/core/fromnumeric.py:3440: RuntimeWarning: Mean of empty slice.\n",
      "  return _methods._mean(a, axis=axis, dtype=dtype,\n",
      "/Users/evelyn/opt/anaconda3/lib/python3.9/site-packages/numpy/core/_methods.py:189: RuntimeWarning: invalid value encountered in double_scalars\n",
      "  ret = ret.dtype.type(ret / rcount)\n"
     ]
    },
    {
     "name": "stdout",
     "output_type": "stream",
     "text": [
      "49.3579%\n",
      "49.3981%\n",
      "49.4382%\n",
      "49.4783%\n",
      "49.5185%\n",
      "49.5586%\n",
      "49.5987%\n",
      "49.6388%\n",
      "49.6790%\n",
      "49.7191%\n",
      "49.7592%\n",
      "49.7994%\n",
      "49.8395%\n",
      "49.8796%\n",
      "49.9197%\n"
     ]
    },
    {
     "name": "stderr",
     "output_type": "stream",
     "text": [
      "/Users/evelyn/opt/anaconda3/lib/python3.9/site-packages/numpy/core/fromnumeric.py:3440: RuntimeWarning: Mean of empty slice.\n",
      "  return _methods._mean(a, axis=axis, dtype=dtype,\n",
      "/Users/evelyn/opt/anaconda3/lib/python3.9/site-packages/numpy/core/_methods.py:189: RuntimeWarning: invalid value encountered in double_scalars\n",
      "  ret = ret.dtype.type(ret / rcount)\n"
     ]
    },
    {
     "name": "stdout",
     "output_type": "stream",
     "text": [
      "49.9599%\n",
      "50.0000%\n",
      "50.0401%\n",
      "50.0803%\n",
      "50.1204%\n",
      "50.1605%\n"
     ]
    },
    {
     "name": "stderr",
     "output_type": "stream",
     "text": [
      "/Users/evelyn/opt/anaconda3/lib/python3.9/site-packages/numpy/core/fromnumeric.py:3440: RuntimeWarning: Mean of empty slice.\n",
      "  return _methods._mean(a, axis=axis, dtype=dtype,\n",
      "/Users/evelyn/opt/anaconda3/lib/python3.9/site-packages/numpy/core/_methods.py:189: RuntimeWarning: invalid value encountered in double_scalars\n",
      "  ret = ret.dtype.type(ret / rcount)\n"
     ]
    },
    {
     "name": "stdout",
     "output_type": "stream",
     "text": [
      "50.2006%\n",
      "50.2408%\n",
      "50.2809%\n",
      "50.3210%\n",
      "50.3612%\n",
      "50.4013%\n",
      "50.4414%\n",
      "50.4815%\n",
      "50.5217%\n",
      "50.5618%\n",
      "50.6019%\n",
      "50.6421%\n",
      "50.6822%\n",
      "50.7223%\n",
      "50.7624%\n",
      "50.8026%\n",
      "50.8427%\n"
     ]
    },
    {
     "name": "stderr",
     "output_type": "stream",
     "text": [
      "/Users/evelyn/opt/anaconda3/lib/python3.9/site-packages/numpy/core/fromnumeric.py:3440: RuntimeWarning: Mean of empty slice.\n",
      "  return _methods._mean(a, axis=axis, dtype=dtype,\n",
      "/Users/evelyn/opt/anaconda3/lib/python3.9/site-packages/numpy/core/_methods.py:189: RuntimeWarning: invalid value encountered in double_scalars\n",
      "  ret = ret.dtype.type(ret / rcount)\n",
      "/Users/evelyn/opt/anaconda3/lib/python3.9/site-packages/numpy/core/fromnumeric.py:3440: RuntimeWarning: Mean of empty slice.\n",
      "  return _methods._mean(a, axis=axis, dtype=dtype,\n",
      "/Users/evelyn/opt/anaconda3/lib/python3.9/site-packages/numpy/core/_methods.py:189: RuntimeWarning: invalid value encountered in double_scalars\n",
      "  ret = ret.dtype.type(ret / rcount)\n"
     ]
    },
    {
     "name": "stdout",
     "output_type": "stream",
     "text": [
      "50.8828%\n",
      "50.9230%\n",
      "50.9631%\n",
      "51.0032%\n",
      "51.0433%\n",
      "51.0835%\n",
      "51.1236%\n",
      "51.1637%\n",
      "51.2039%\n"
     ]
    },
    {
     "name": "stderr",
     "output_type": "stream",
     "text": [
      "/Users/evelyn/opt/anaconda3/lib/python3.9/site-packages/numpy/core/fromnumeric.py:3440: RuntimeWarning: Mean of empty slice.\n",
      "  return _methods._mean(a, axis=axis, dtype=dtype,\n",
      "/Users/evelyn/opt/anaconda3/lib/python3.9/site-packages/numpy/core/_methods.py:189: RuntimeWarning: invalid value encountered in double_scalars\n",
      "  ret = ret.dtype.type(ret / rcount)\n",
      "/Users/evelyn/opt/anaconda3/lib/python3.9/site-packages/numpy/core/fromnumeric.py:3440: RuntimeWarning: Mean of empty slice.\n",
      "  return _methods._mean(a, axis=axis, dtype=dtype,\n",
      "/Users/evelyn/opt/anaconda3/lib/python3.9/site-packages/numpy/core/_methods.py:189: RuntimeWarning: invalid value encountered in double_scalars\n",
      "  ret = ret.dtype.type(ret / rcount)\n",
      "/Users/evelyn/opt/anaconda3/lib/python3.9/site-packages/numpy/core/fromnumeric.py:3440: RuntimeWarning: Mean of empty slice.\n",
      "  return _methods._mean(a, axis=axis, dtype=dtype,\n",
      "/Users/evelyn/opt/anaconda3/lib/python3.9/site-packages/numpy/core/_methods.py:189: RuntimeWarning: invalid value encountered in double_scalars\n",
      "  ret = ret.dtype.type(ret / rcount)\n"
     ]
    },
    {
     "name": "stdout",
     "output_type": "stream",
     "text": [
      "51.2440%\n",
      "51.2841%\n",
      "51.3242%\n",
      "51.3644%\n",
      "51.4045%\n",
      "51.4446%\n"
     ]
    },
    {
     "name": "stderr",
     "output_type": "stream",
     "text": [
      "/Users/evelyn/opt/anaconda3/lib/python3.9/site-packages/numpy/core/fromnumeric.py:3440: RuntimeWarning: Mean of empty slice.\n",
      "  return _methods._mean(a, axis=axis, dtype=dtype,\n",
      "/Users/evelyn/opt/anaconda3/lib/python3.9/site-packages/numpy/core/_methods.py:189: RuntimeWarning: invalid value encountered in double_scalars\n",
      "  ret = ret.dtype.type(ret / rcount)\n"
     ]
    },
    {
     "name": "stdout",
     "output_type": "stream",
     "text": [
      "51.4848%\n",
      "51.5249%\n",
      "51.5650%\n",
      "51.6051%\n",
      "51.6453%\n",
      "51.6854%\n",
      "51.7255%\n",
      "51.7657%\n",
      "51.8058%\n",
      "51.8459%\n",
      "51.8860%\n"
     ]
    },
    {
     "name": "stderr",
     "output_type": "stream",
     "text": [
      "/Users/evelyn/opt/anaconda3/lib/python3.9/site-packages/numpy/core/fromnumeric.py:3440: RuntimeWarning: Mean of empty slice.\n",
      "  return _methods._mean(a, axis=axis, dtype=dtype,\n",
      "/Users/evelyn/opt/anaconda3/lib/python3.9/site-packages/numpy/core/_methods.py:189: RuntimeWarning: invalid value encountered in double_scalars\n",
      "  ret = ret.dtype.type(ret / rcount)\n",
      "/Users/evelyn/opt/anaconda3/lib/python3.9/site-packages/numpy/core/fromnumeric.py:3440: RuntimeWarning: Mean of empty slice.\n",
      "  return _methods._mean(a, axis=axis, dtype=dtype,\n",
      "/Users/evelyn/opt/anaconda3/lib/python3.9/site-packages/numpy/core/_methods.py:189: RuntimeWarning: invalid value encountered in double_scalars\n",
      "  ret = ret.dtype.type(ret / rcount)\n"
     ]
    },
    {
     "name": "stdout",
     "output_type": "stream",
     "text": [
      "51.9262%\n",
      "51.9663%\n",
      "52.0064%\n",
      "52.0465%\n",
      "52.0867%\n"
     ]
    },
    {
     "name": "stderr",
     "output_type": "stream",
     "text": [
      "/Users/evelyn/opt/anaconda3/lib/python3.9/site-packages/numpy/core/fromnumeric.py:3440: RuntimeWarning: Mean of empty slice.\n",
      "  return _methods._mean(a, axis=axis, dtype=dtype,\n",
      "/Users/evelyn/opt/anaconda3/lib/python3.9/site-packages/numpy/core/_methods.py:189: RuntimeWarning: invalid value encountered in double_scalars\n",
      "  ret = ret.dtype.type(ret / rcount)\n",
      "/Users/evelyn/opt/anaconda3/lib/python3.9/site-packages/numpy/core/fromnumeric.py:3440: RuntimeWarning: Mean of empty slice.\n",
      "  return _methods._mean(a, axis=axis, dtype=dtype,\n",
      "/Users/evelyn/opt/anaconda3/lib/python3.9/site-packages/numpy/core/_methods.py:189: RuntimeWarning: invalid value encountered in double_scalars\n",
      "  ret = ret.dtype.type(ret / rcount)\n"
     ]
    },
    {
     "name": "stdout",
     "output_type": "stream",
     "text": [
      "52.1268%\n",
      "52.1669%\n",
      "52.2071%\n",
      "52.2472%\n",
      "52.2873%\n",
      "52.3274%\n",
      "52.3676%\n",
      "52.4077%\n",
      "52.4478%\n",
      "52.4880%\n",
      "52.5281%\n",
      "52.5682%\n",
      "52.6083%\n",
      "52.6485%\n",
      "52.6886%\n",
      "52.7287%\n",
      "52.7689%\n"
     ]
    },
    {
     "name": "stderr",
     "output_type": "stream",
     "text": [
      "/Users/evelyn/opt/anaconda3/lib/python3.9/site-packages/numpy/core/fromnumeric.py:3440: RuntimeWarning: Mean of empty slice.\n",
      "  return _methods._mean(a, axis=axis, dtype=dtype,\n",
      "/Users/evelyn/opt/anaconda3/lib/python3.9/site-packages/numpy/core/_methods.py:189: RuntimeWarning: invalid value encountered in double_scalars\n",
      "  ret = ret.dtype.type(ret / rcount)\n",
      "/Users/evelyn/opt/anaconda3/lib/python3.9/site-packages/numpy/core/fromnumeric.py:3440: RuntimeWarning: Mean of empty slice.\n",
      "  return _methods._mean(a, axis=axis, dtype=dtype,\n",
      "/Users/evelyn/opt/anaconda3/lib/python3.9/site-packages/numpy/core/_methods.py:189: RuntimeWarning: invalid value encountered in double_scalars\n",
      "  ret = ret.dtype.type(ret / rcount)\n",
      "/Users/evelyn/opt/anaconda3/lib/python3.9/site-packages/numpy/core/fromnumeric.py:3440: RuntimeWarning: Mean of empty slice.\n",
      "  return _methods._mean(a, axis=axis, dtype=dtype,\n",
      "/Users/evelyn/opt/anaconda3/lib/python3.9/site-packages/numpy/core/_methods.py:189: RuntimeWarning: invalid value encountered in double_scalars\n",
      "  ret = ret.dtype.type(ret / rcount)\n"
     ]
    },
    {
     "name": "stdout",
     "output_type": "stream",
     "text": [
      "52.8090%\n",
      "52.8491%\n",
      "52.8892%\n",
      "52.9294%\n",
      "52.9695%\n",
      "53.0096%\n"
     ]
    },
    {
     "name": "stderr",
     "output_type": "stream",
     "text": [
      "/Users/evelyn/opt/anaconda3/lib/python3.9/site-packages/numpy/core/fromnumeric.py:3440: RuntimeWarning: Mean of empty slice.\n",
      "  return _methods._mean(a, axis=axis, dtype=dtype,\n",
      "/Users/evelyn/opt/anaconda3/lib/python3.9/site-packages/numpy/core/_methods.py:189: RuntimeWarning: invalid value encountered in double_scalars\n",
      "  ret = ret.dtype.type(ret / rcount)\n"
     ]
    },
    {
     "name": "stdout",
     "output_type": "stream",
     "text": [
      "53.0498%\n",
      "53.0899%\n",
      "53.1300%\n",
      "53.1701%\n",
      "53.2103%\n",
      "53.2504%\n",
      "53.2905%\n",
      "53.3307%\n",
      "53.3708%\n",
      "53.4109%\n",
      "53.4510%\n",
      "53.4912%\n",
      "53.5313%\n",
      "53.5714%\n",
      "53.6116%\n",
      "53.6517%\n",
      "53.6918%\n",
      "53.7319%\n",
      "53.7721%\n",
      "53.8122%\n"
     ]
    },
    {
     "name": "stderr",
     "output_type": "stream",
     "text": [
      "/Users/evelyn/opt/anaconda3/lib/python3.9/site-packages/numpy/core/fromnumeric.py:3440: RuntimeWarning: Mean of empty slice.\n",
      "  return _methods._mean(a, axis=axis, dtype=dtype,\n",
      "/Users/evelyn/opt/anaconda3/lib/python3.9/site-packages/numpy/core/_methods.py:189: RuntimeWarning: invalid value encountered in double_scalars\n",
      "  ret = ret.dtype.type(ret / rcount)\n",
      "/Users/evelyn/opt/anaconda3/lib/python3.9/site-packages/numpy/core/fromnumeric.py:3440: RuntimeWarning: Mean of empty slice.\n",
      "  return _methods._mean(a, axis=axis, dtype=dtype,\n",
      "/Users/evelyn/opt/anaconda3/lib/python3.9/site-packages/numpy/core/_methods.py:189: RuntimeWarning: invalid value encountered in double_scalars\n",
      "  ret = ret.dtype.type(ret / rcount)\n"
     ]
    },
    {
     "name": "stdout",
     "output_type": "stream",
     "text": [
      "53.8523%\n",
      "53.8925%\n",
      "53.9326%\n",
      "53.9727%\n",
      "54.0128%\n",
      "54.0530%\n",
      "54.0931%\n",
      "54.1332%\n"
     ]
    },
    {
     "name": "stderr",
     "output_type": "stream",
     "text": [
      "/Users/evelyn/opt/anaconda3/lib/python3.9/site-packages/numpy/core/fromnumeric.py:3440: RuntimeWarning: Mean of empty slice.\n",
      "  return _methods._mean(a, axis=axis, dtype=dtype,\n",
      "/Users/evelyn/opt/anaconda3/lib/python3.9/site-packages/numpy/core/_methods.py:189: RuntimeWarning: invalid value encountered in double_scalars\n",
      "  ret = ret.dtype.type(ret / rcount)\n",
      "/Users/evelyn/opt/anaconda3/lib/python3.9/site-packages/numpy/core/fromnumeric.py:3440: RuntimeWarning: Mean of empty slice.\n",
      "  return _methods._mean(a, axis=axis, dtype=dtype,\n",
      "/Users/evelyn/opt/anaconda3/lib/python3.9/site-packages/numpy/core/_methods.py:189: RuntimeWarning: invalid value encountered in double_scalars\n",
      "  ret = ret.dtype.type(ret / rcount)\n",
      "/Users/evelyn/opt/anaconda3/lib/python3.9/site-packages/numpy/core/fromnumeric.py:3440: RuntimeWarning: Mean of empty slice.\n",
      "  return _methods._mean(a, axis=axis, dtype=dtype,\n",
      "/Users/evelyn/opt/anaconda3/lib/python3.9/site-packages/numpy/core/_methods.py:189: RuntimeWarning: invalid value encountered in double_scalars\n",
      "  ret = ret.dtype.type(ret / rcount)\n"
     ]
    },
    {
     "name": "stdout",
     "output_type": "stream",
     "text": [
      "54.1734%\n",
      "54.2135%\n",
      "54.2536%\n",
      "54.2937%\n",
      "54.3339%\n",
      "54.3740%\n",
      "54.4141%\n",
      "54.4543%\n",
      "54.4944%\n",
      "54.5345%\n",
      "54.5746%\n",
      "54.6148%\n"
     ]
    },
    {
     "name": "stderr",
     "output_type": "stream",
     "text": [
      "/Users/evelyn/opt/anaconda3/lib/python3.9/site-packages/numpy/core/fromnumeric.py:3440: RuntimeWarning: Mean of empty slice.\n",
      "  return _methods._mean(a, axis=axis, dtype=dtype,\n",
      "/Users/evelyn/opt/anaconda3/lib/python3.9/site-packages/numpy/core/_methods.py:189: RuntimeWarning: invalid value encountered in double_scalars\n",
      "  ret = ret.dtype.type(ret / rcount)\n"
     ]
    },
    {
     "name": "stdout",
     "output_type": "stream",
     "text": [
      "54.6549%\n",
      "54.6950%\n",
      "54.7352%\n",
      "54.7753%\n",
      "54.8154%\n",
      "54.8555%\n",
      "54.8957%\n",
      "54.9358%\n",
      "54.9759%\n",
      "55.0161%\n",
      "55.0562%\n",
      "55.0963%\n",
      "55.1364%\n",
      "55.1766%\n",
      "55.2167%\n",
      "55.2568%\n",
      "55.2970%\n",
      "55.3371%\n",
      "55.3772%\n",
      "55.4173%\n",
      "55.4575%\n"
     ]
    },
    {
     "name": "stderr",
     "output_type": "stream",
     "text": [
      "/Users/evelyn/opt/anaconda3/lib/python3.9/site-packages/numpy/core/fromnumeric.py:3440: RuntimeWarning: Mean of empty slice.\n",
      "  return _methods._mean(a, axis=axis, dtype=dtype,\n",
      "/Users/evelyn/opt/anaconda3/lib/python3.9/site-packages/numpy/core/_methods.py:189: RuntimeWarning: invalid value encountered in double_scalars\n",
      "  ret = ret.dtype.type(ret / rcount)\n"
     ]
    },
    {
     "name": "stdout",
     "output_type": "stream",
     "text": [
      "55.4976%\n",
      "55.5377%\n",
      "55.5778%\n",
      "55.6180%\n",
      "55.6581%\n",
      "55.6982%\n",
      "55.7384%\n",
      "55.7785%\n",
      "55.8186%\n",
      "55.8587%\n",
      "55.8989%\n",
      "55.9390%\n",
      "55.9791%\n",
      "56.0193%\n",
      "56.0594%\n",
      "56.0995%\n",
      "56.1396%\n",
      "56.1798%\n",
      "56.2199%\n"
     ]
    },
    {
     "name": "stderr",
     "output_type": "stream",
     "text": [
      "/Users/evelyn/opt/anaconda3/lib/python3.9/site-packages/numpy/core/fromnumeric.py:3440: RuntimeWarning: Mean of empty slice.\n",
      "  return _methods._mean(a, axis=axis, dtype=dtype,\n",
      "/Users/evelyn/opt/anaconda3/lib/python3.9/site-packages/numpy/core/_methods.py:189: RuntimeWarning: invalid value encountered in double_scalars\n",
      "  ret = ret.dtype.type(ret / rcount)\n",
      "/Users/evelyn/opt/anaconda3/lib/python3.9/site-packages/numpy/core/fromnumeric.py:3440: RuntimeWarning: Mean of empty slice.\n",
      "  return _methods._mean(a, axis=axis, dtype=dtype,\n",
      "/Users/evelyn/opt/anaconda3/lib/python3.9/site-packages/numpy/core/_methods.py:189: RuntimeWarning: invalid value encountered in double_scalars\n",
      "  ret = ret.dtype.type(ret / rcount)\n",
      "/Users/evelyn/opt/anaconda3/lib/python3.9/site-packages/numpy/core/fromnumeric.py:3440: RuntimeWarning: Mean of empty slice.\n",
      "  return _methods._mean(a, axis=axis, dtype=dtype,\n",
      "/Users/evelyn/opt/anaconda3/lib/python3.9/site-packages/numpy/core/_methods.py:189: RuntimeWarning: invalid value encountered in double_scalars\n",
      "  ret = ret.dtype.type(ret / rcount)\n",
      "/Users/evelyn/opt/anaconda3/lib/python3.9/site-packages/numpy/core/fromnumeric.py:3440: RuntimeWarning: Mean of empty slice.\n",
      "  return _methods._mean(a, axis=axis, dtype=dtype,\n",
      "/Users/evelyn/opt/anaconda3/lib/python3.9/site-packages/numpy/core/_methods.py:189: RuntimeWarning: invalid value encountered in double_scalars\n",
      "  ret = ret.dtype.type(ret / rcount)\n"
     ]
    },
    {
     "name": "stdout",
     "output_type": "stream",
     "text": [
      "56.2600%\n",
      "56.3002%\n",
      "56.3403%\n",
      "56.3804%\n",
      "56.4205%\n",
      "56.4607%\n",
      "56.5008%\n"
     ]
    },
    {
     "name": "stderr",
     "output_type": "stream",
     "text": [
      "/Users/evelyn/opt/anaconda3/lib/python3.9/site-packages/numpy/core/fromnumeric.py:3440: RuntimeWarning: Mean of empty slice.\n",
      "  return _methods._mean(a, axis=axis, dtype=dtype,\n",
      "/Users/evelyn/opt/anaconda3/lib/python3.9/site-packages/numpy/core/_methods.py:189: RuntimeWarning: invalid value encountered in double_scalars\n",
      "  ret = ret.dtype.type(ret / rcount)\n"
     ]
    },
    {
     "name": "stdout",
     "output_type": "stream",
     "text": [
      "56.5409%\n",
      "56.5811%\n",
      "56.6212%\n",
      "56.6613%\n",
      "56.7014%\n",
      "56.7416%\n",
      "56.7817%\n",
      "56.8218%\n",
      "56.8620%\n",
      "56.9021%\n",
      "56.9422%\n",
      "56.9823%\n",
      "57.0225%\n",
      "57.0626%\n",
      "57.1027%\n",
      "57.1429%\n",
      "57.1830%\n",
      "57.2231%\n",
      "57.2632%\n",
      "57.3034%\n",
      "57.3435%\n",
      "57.3836%\n",
      "57.4238%\n"
     ]
    },
    {
     "name": "stderr",
     "output_type": "stream",
     "text": [
      "/Users/evelyn/opt/anaconda3/lib/python3.9/site-packages/numpy/core/fromnumeric.py:3440: RuntimeWarning: Mean of empty slice.\n",
      "  return _methods._mean(a, axis=axis, dtype=dtype,\n",
      "/Users/evelyn/opt/anaconda3/lib/python3.9/site-packages/numpy/core/_methods.py:189: RuntimeWarning: invalid value encountered in double_scalars\n",
      "  ret = ret.dtype.type(ret / rcount)\n",
      "/Users/evelyn/opt/anaconda3/lib/python3.9/site-packages/numpy/core/fromnumeric.py:3440: RuntimeWarning: Mean of empty slice.\n",
      "  return _methods._mean(a, axis=axis, dtype=dtype,\n",
      "/Users/evelyn/opt/anaconda3/lib/python3.9/site-packages/numpy/core/_methods.py:189: RuntimeWarning: invalid value encountered in double_scalars\n",
      "  ret = ret.dtype.type(ret / rcount)\n"
     ]
    },
    {
     "name": "stdout",
     "output_type": "stream",
     "text": [
      "57.4639%\n",
      "57.5040%\n",
      "57.5441%\n",
      "57.5843%\n",
      "57.6244%\n",
      "57.6645%\n",
      "57.7047%\n",
      "57.7448%\n",
      "57.7849%\n",
      "57.8250%\n",
      "57.8652%\n",
      "57.9053%\n",
      "57.9454%\n",
      "57.9856%\n",
      "58.0257%\n",
      "58.0658%\n",
      "58.1059%\n",
      "58.1461%\n"
     ]
    },
    {
     "name": "stderr",
     "output_type": "stream",
     "text": [
      "/Users/evelyn/opt/anaconda3/lib/python3.9/site-packages/numpy/core/fromnumeric.py:3440: RuntimeWarning: Mean of empty slice.\n",
      "  return _methods._mean(a, axis=axis, dtype=dtype,\n",
      "/Users/evelyn/opt/anaconda3/lib/python3.9/site-packages/numpy/core/_methods.py:189: RuntimeWarning: invalid value encountered in double_scalars\n",
      "  ret = ret.dtype.type(ret / rcount)\n"
     ]
    },
    {
     "name": "stdout",
     "output_type": "stream",
     "text": [
      "58.1862%\n",
      "58.2263%\n",
      "58.2665%\n",
      "58.3066%\n",
      "58.3467%\n",
      "58.3868%\n",
      "58.4270%\n",
      "58.4671%\n",
      "58.5072%\n"
     ]
    },
    {
     "name": "stderr",
     "output_type": "stream",
     "text": [
      "/Users/evelyn/opt/anaconda3/lib/python3.9/site-packages/numpy/core/fromnumeric.py:3440: RuntimeWarning: Mean of empty slice.\n",
      "  return _methods._mean(a, axis=axis, dtype=dtype,\n",
      "/Users/evelyn/opt/anaconda3/lib/python3.9/site-packages/numpy/core/_methods.py:189: RuntimeWarning: invalid value encountered in double_scalars\n",
      "  ret = ret.dtype.type(ret / rcount)\n"
     ]
    },
    {
     "name": "stdout",
     "output_type": "stream",
     "text": [
      "58.5474%\n",
      "58.5875%\n",
      "58.6276%\n",
      "58.6677%\n",
      "58.7079%\n",
      "58.7480%\n",
      "58.7881%\n",
      "58.8283%\n",
      "58.8684%\n",
      "58.9085%\n",
      "58.9486%\n",
      "58.9888%\n",
      "59.0289%\n",
      "59.0690%\n",
      "59.1091%\n",
      "59.1493%\n",
      "59.1894%\n",
      "59.2295%\n",
      "59.2697%\n",
      "59.3098%\n"
     ]
    },
    {
     "name": "stderr",
     "output_type": "stream",
     "text": [
      "/Users/evelyn/opt/anaconda3/lib/python3.9/site-packages/numpy/core/fromnumeric.py:3440: RuntimeWarning: Mean of empty slice.\n",
      "  return _methods._mean(a, axis=axis, dtype=dtype,\n",
      "/Users/evelyn/opt/anaconda3/lib/python3.9/site-packages/numpy/core/_methods.py:189: RuntimeWarning: invalid value encountered in double_scalars\n",
      "  ret = ret.dtype.type(ret / rcount)\n"
     ]
    },
    {
     "name": "stdout",
     "output_type": "stream",
     "text": [
      "59.3499%\n",
      "59.3900%\n",
      "59.4302%\n",
      "59.4703%\n",
      "59.5104%\n",
      "59.5506%\n",
      "59.5907%\n",
      "59.6308%\n",
      "59.6709%\n"
     ]
    },
    {
     "name": "stderr",
     "output_type": "stream",
     "text": [
      "/Users/evelyn/opt/anaconda3/lib/python3.9/site-packages/numpy/core/fromnumeric.py:3440: RuntimeWarning: Mean of empty slice.\n",
      "  return _methods._mean(a, axis=axis, dtype=dtype,\n",
      "/Users/evelyn/opt/anaconda3/lib/python3.9/site-packages/numpy/core/_methods.py:189: RuntimeWarning: invalid value encountered in double_scalars\n",
      "  ret = ret.dtype.type(ret / rcount)\n",
      "/Users/evelyn/opt/anaconda3/lib/python3.9/site-packages/numpy/core/fromnumeric.py:3440: RuntimeWarning: Mean of empty slice.\n",
      "  return _methods._mean(a, axis=axis, dtype=dtype,\n",
      "/Users/evelyn/opt/anaconda3/lib/python3.9/site-packages/numpy/core/_methods.py:189: RuntimeWarning: invalid value encountered in double_scalars\n",
      "  ret = ret.dtype.type(ret / rcount)\n"
     ]
    },
    {
     "name": "stdout",
     "output_type": "stream",
     "text": [
      "59.7111%\n",
      "59.7512%\n",
      "59.7913%\n",
      "59.8315%\n",
      "59.8716%\n",
      "59.9117%\n",
      "59.9518%\n"
     ]
    },
    {
     "name": "stderr",
     "output_type": "stream",
     "text": [
      "/Users/evelyn/opt/anaconda3/lib/python3.9/site-packages/numpy/core/fromnumeric.py:3440: RuntimeWarning: Mean of empty slice.\n",
      "  return _methods._mean(a, axis=axis, dtype=dtype,\n",
      "/Users/evelyn/opt/anaconda3/lib/python3.9/site-packages/numpy/core/_methods.py:189: RuntimeWarning: invalid value encountered in double_scalars\n",
      "  ret = ret.dtype.type(ret / rcount)\n"
     ]
    },
    {
     "name": "stdout",
     "output_type": "stream",
     "text": [
      "59.9920%\n",
      "60.0321%\n",
      "60.0722%\n",
      "60.1124%\n",
      "60.1525%\n",
      "60.1926%\n",
      "60.2327%\n",
      "60.2729%\n",
      "60.3130%\n",
      "60.3531%\n",
      "60.3933%\n",
      "60.4334%\n",
      "60.4735%\n",
      "60.5136%\n",
      "60.5538%\n",
      "60.5939%\n",
      "60.6340%\n",
      "60.6742%\n"
     ]
    },
    {
     "name": "stderr",
     "output_type": "stream",
     "text": [
      "/Users/evelyn/opt/anaconda3/lib/python3.9/site-packages/numpy/core/fromnumeric.py:3440: RuntimeWarning: Mean of empty slice.\n",
      "  return _methods._mean(a, axis=axis, dtype=dtype,\n",
      "/Users/evelyn/opt/anaconda3/lib/python3.9/site-packages/numpy/core/_methods.py:189: RuntimeWarning: invalid value encountered in double_scalars\n",
      "  ret = ret.dtype.type(ret / rcount)\n"
     ]
    },
    {
     "name": "stdout",
     "output_type": "stream",
     "text": [
      "60.7143%\n",
      "60.7544%\n",
      "60.7945%\n",
      "60.8347%\n",
      "60.8748%\n",
      "60.9149%\n"
     ]
    },
    {
     "name": "stderr",
     "output_type": "stream",
     "text": [
      "/Users/evelyn/opt/anaconda3/lib/python3.9/site-packages/numpy/core/fromnumeric.py:3440: RuntimeWarning: Mean of empty slice.\n",
      "  return _methods._mean(a, axis=axis, dtype=dtype,\n",
      "/Users/evelyn/opt/anaconda3/lib/python3.9/site-packages/numpy/core/_methods.py:189: RuntimeWarning: invalid value encountered in double_scalars\n",
      "  ret = ret.dtype.type(ret / rcount)\n"
     ]
    },
    {
     "name": "stdout",
     "output_type": "stream",
     "text": [
      "60.9551%\n",
      "60.9952%\n",
      "61.0353%\n",
      "61.0754%\n",
      "61.1156%\n"
     ]
    },
    {
     "name": "stderr",
     "output_type": "stream",
     "text": [
      "/Users/evelyn/opt/anaconda3/lib/python3.9/site-packages/numpy/core/fromnumeric.py:3440: RuntimeWarning: Mean of empty slice.\n",
      "  return _methods._mean(a, axis=axis, dtype=dtype,\n",
      "/Users/evelyn/opt/anaconda3/lib/python3.9/site-packages/numpy/core/_methods.py:189: RuntimeWarning: invalid value encountered in double_scalars\n",
      "  ret = ret.dtype.type(ret / rcount)\n",
      "/Users/evelyn/opt/anaconda3/lib/python3.9/site-packages/numpy/core/fromnumeric.py:3440: RuntimeWarning: Mean of empty slice.\n",
      "  return _methods._mean(a, axis=axis, dtype=dtype,\n",
      "/Users/evelyn/opt/anaconda3/lib/python3.9/site-packages/numpy/core/_methods.py:189: RuntimeWarning: invalid value encountered in double_scalars\n",
      "  ret = ret.dtype.type(ret / rcount)\n"
     ]
    },
    {
     "name": "stdout",
     "output_type": "stream",
     "text": [
      "61.1557%\n",
      "61.1958%\n",
      "61.2360%\n",
      "61.2761%\n",
      "61.3162%\n",
      "61.3563%\n",
      "61.3965%\n",
      "61.4366%\n",
      "61.4767%\n",
      "61.5169%\n",
      "61.5570%\n",
      "61.5971%\n",
      "61.6372%\n",
      "61.6774%\n",
      "61.7175%\n",
      "61.7576%\n",
      "61.7978%\n",
      "61.8379%\n",
      "61.8780%\n",
      "61.9181%\n",
      "61.9583%\n",
      "61.9984%\n"
     ]
    },
    {
     "name": "stderr",
     "output_type": "stream",
     "text": [
      "/Users/evelyn/opt/anaconda3/lib/python3.9/site-packages/numpy/core/fromnumeric.py:3440: RuntimeWarning: Mean of empty slice.\n",
      "  return _methods._mean(a, axis=axis, dtype=dtype,\n",
      "/Users/evelyn/opt/anaconda3/lib/python3.9/site-packages/numpy/core/_methods.py:189: RuntimeWarning: invalid value encountered in double_scalars\n",
      "  ret = ret.dtype.type(ret / rcount)\n"
     ]
    },
    {
     "name": "stdout",
     "output_type": "stream",
     "text": [
      "62.0385%\n",
      "62.0787%\n",
      "62.1188%\n",
      "62.1589%\n",
      "62.1990%\n",
      "62.2392%\n",
      "62.2793%\n",
      "62.3194%\n",
      "62.3596%\n",
      "62.3997%\n",
      "62.4398%\n",
      "62.4799%\n",
      "62.5201%\n",
      "62.5602%\n",
      "62.6003%\n",
      "62.6404%\n",
      "62.6806%\n",
      "62.7207%\n",
      "62.7608%\n",
      "62.8010%\n",
      "62.8411%\n",
      "62.8812%\n",
      "62.9213%\n",
      "62.9615%\n",
      "63.0016%\n",
      "63.0417%\n"
     ]
    },
    {
     "name": "stderr",
     "output_type": "stream",
     "text": [
      "/Users/evelyn/opt/anaconda3/lib/python3.9/site-packages/numpy/core/fromnumeric.py:3440: RuntimeWarning: Mean of empty slice.\n",
      "  return _methods._mean(a, axis=axis, dtype=dtype,\n",
      "/Users/evelyn/opt/anaconda3/lib/python3.9/site-packages/numpy/core/_methods.py:189: RuntimeWarning: invalid value encountered in double_scalars\n",
      "  ret = ret.dtype.type(ret / rcount)\n",
      "/Users/evelyn/opt/anaconda3/lib/python3.9/site-packages/numpy/core/fromnumeric.py:3440: RuntimeWarning: Mean of empty slice.\n",
      "  return _methods._mean(a, axis=axis, dtype=dtype,\n",
      "/Users/evelyn/opt/anaconda3/lib/python3.9/site-packages/numpy/core/_methods.py:189: RuntimeWarning: invalid value encountered in double_scalars\n",
      "  ret = ret.dtype.type(ret / rcount)\n",
      "/Users/evelyn/opt/anaconda3/lib/python3.9/site-packages/numpy/core/fromnumeric.py:3440: RuntimeWarning: Mean of empty slice.\n",
      "  return _methods._mean(a, axis=axis, dtype=dtype,\n",
      "/Users/evelyn/opt/anaconda3/lib/python3.9/site-packages/numpy/core/_methods.py:189: RuntimeWarning: invalid value encountered in double_scalars\n",
      "  ret = ret.dtype.type(ret / rcount)\n"
     ]
    },
    {
     "name": "stdout",
     "output_type": "stream",
     "text": [
      "63.0819%\n",
      "63.1220%\n",
      "63.1621%\n"
     ]
    },
    {
     "name": "stderr",
     "output_type": "stream",
     "text": [
      "/Users/evelyn/opt/anaconda3/lib/python3.9/site-packages/numpy/core/fromnumeric.py:3440: RuntimeWarning: Mean of empty slice.\n",
      "  return _methods._mean(a, axis=axis, dtype=dtype,\n",
      "/Users/evelyn/opt/anaconda3/lib/python3.9/site-packages/numpy/core/_methods.py:189: RuntimeWarning: invalid value encountered in double_scalars\n",
      "  ret = ret.dtype.type(ret / rcount)\n"
     ]
    },
    {
     "name": "stdout",
     "output_type": "stream",
     "text": [
      "63.2022%\n",
      "63.2424%\n",
      "63.2825%\n",
      "63.3226%\n",
      "63.3628%\n",
      "63.4029%\n",
      "63.4430%\n",
      "63.4831%\n",
      "63.5233%\n"
     ]
    },
    {
     "name": "stderr",
     "output_type": "stream",
     "text": [
      "/Users/evelyn/opt/anaconda3/lib/python3.9/site-packages/numpy/core/fromnumeric.py:3440: RuntimeWarning: Mean of empty slice.\n",
      "  return _methods._mean(a, axis=axis, dtype=dtype,\n",
      "/Users/evelyn/opt/anaconda3/lib/python3.9/site-packages/numpy/core/_methods.py:189: RuntimeWarning: invalid value encountered in double_scalars\n",
      "  ret = ret.dtype.type(ret / rcount)\n"
     ]
    },
    {
     "name": "stdout",
     "output_type": "stream",
     "text": [
      "63.5634%\n",
      "63.6035%\n",
      "63.6437%\n",
      "63.6838%\n",
      "63.7239%\n",
      "63.7640%\n"
     ]
    },
    {
     "name": "stderr",
     "output_type": "stream",
     "text": [
      "/Users/evelyn/opt/anaconda3/lib/python3.9/site-packages/numpy/core/fromnumeric.py:3440: RuntimeWarning: Mean of empty slice.\n",
      "  return _methods._mean(a, axis=axis, dtype=dtype,\n",
      "/Users/evelyn/opt/anaconda3/lib/python3.9/site-packages/numpy/core/_methods.py:189: RuntimeWarning: invalid value encountered in double_scalars\n",
      "  ret = ret.dtype.type(ret / rcount)\n"
     ]
    },
    {
     "name": "stdout",
     "output_type": "stream",
     "text": [
      "63.8042%\n",
      "63.8443%\n",
      "63.8844%\n",
      "63.9246%\n",
      "63.9647%\n",
      "64.0048%\n",
      "64.0449%\n",
      "64.0851%\n",
      "64.1252%\n",
      "64.1653%\n",
      "64.2055%\n",
      "64.2456%\n",
      "64.2857%\n",
      "64.3258%\n",
      "64.3660%\n",
      "64.4061%\n",
      "64.4462%\n"
     ]
    },
    {
     "name": "stderr",
     "output_type": "stream",
     "text": [
      "/Users/evelyn/opt/anaconda3/lib/python3.9/site-packages/numpy/core/fromnumeric.py:3440: RuntimeWarning: Mean of empty slice.\n",
      "  return _methods._mean(a, axis=axis, dtype=dtype,\n",
      "/Users/evelyn/opt/anaconda3/lib/python3.9/site-packages/numpy/core/_methods.py:189: RuntimeWarning: invalid value encountered in double_scalars\n",
      "  ret = ret.dtype.type(ret / rcount)\n"
     ]
    },
    {
     "name": "stdout",
     "output_type": "stream",
     "text": [
      "64.4864%\n",
      "64.5265%\n",
      "64.5666%\n",
      "64.6067%\n",
      "64.6469%\n",
      "64.6870%\n",
      "64.7271%\n",
      "64.7673%\n",
      "64.8074%\n",
      "64.8475%\n",
      "64.8876%\n",
      "64.9278%\n",
      "64.9679%\n",
      "65.0080%\n"
     ]
    },
    {
     "name": "stderr",
     "output_type": "stream",
     "text": [
      "/Users/evelyn/opt/anaconda3/lib/python3.9/site-packages/numpy/core/fromnumeric.py:3440: RuntimeWarning: Mean of empty slice.\n",
      "  return _methods._mean(a, axis=axis, dtype=dtype,\n",
      "/Users/evelyn/opt/anaconda3/lib/python3.9/site-packages/numpy/core/_methods.py:189: RuntimeWarning: invalid value encountered in double_scalars\n",
      "  ret = ret.dtype.type(ret / rcount)\n"
     ]
    },
    {
     "name": "stdout",
     "output_type": "stream",
     "text": [
      "65.0482%\n",
      "65.0883%\n",
      "65.1284%\n",
      "65.1685%\n",
      "65.2087%\n",
      "65.2488%\n"
     ]
    },
    {
     "name": "stderr",
     "output_type": "stream",
     "text": [
      "/Users/evelyn/opt/anaconda3/lib/python3.9/site-packages/numpy/core/fromnumeric.py:3440: RuntimeWarning: Mean of empty slice.\n",
      "  return _methods._mean(a, axis=axis, dtype=dtype,\n",
      "/Users/evelyn/opt/anaconda3/lib/python3.9/site-packages/numpy/core/_methods.py:189: RuntimeWarning: invalid value encountered in double_scalars\n",
      "  ret = ret.dtype.type(ret / rcount)\n",
      "/Users/evelyn/opt/anaconda3/lib/python3.9/site-packages/numpy/core/fromnumeric.py:3440: RuntimeWarning: Mean of empty slice.\n",
      "  return _methods._mean(a, axis=axis, dtype=dtype,\n",
      "/Users/evelyn/opt/anaconda3/lib/python3.9/site-packages/numpy/core/_methods.py:189: RuntimeWarning: invalid value encountered in double_scalars\n",
      "  ret = ret.dtype.type(ret / rcount)\n"
     ]
    },
    {
     "name": "stdout",
     "output_type": "stream",
     "text": [
      "65.2889%\n",
      "65.3291%\n",
      "65.3692%\n",
      "65.4093%\n",
      "65.4494%\n",
      "65.4896%\n",
      "65.5297%\n",
      "65.5698%\n",
      "65.6100%\n",
      "65.6501%\n",
      "65.6902%\n",
      "65.7303%\n",
      "65.7705%\n",
      "65.8106%\n",
      "65.8507%\n"
     ]
    },
    {
     "name": "stderr",
     "output_type": "stream",
     "text": [
      "/Users/evelyn/opt/anaconda3/lib/python3.9/site-packages/numpy/core/fromnumeric.py:3440: RuntimeWarning: Mean of empty slice.\n",
      "  return _methods._mean(a, axis=axis, dtype=dtype,\n",
      "/Users/evelyn/opt/anaconda3/lib/python3.9/site-packages/numpy/core/_methods.py:189: RuntimeWarning: invalid value encountered in double_scalars\n",
      "  ret = ret.dtype.type(ret / rcount)\n",
      "/Users/evelyn/opt/anaconda3/lib/python3.9/site-packages/numpy/core/fromnumeric.py:3440: RuntimeWarning: Mean of empty slice.\n",
      "  return _methods._mean(a, axis=axis, dtype=dtype,\n",
      "/Users/evelyn/opt/anaconda3/lib/python3.9/site-packages/numpy/core/_methods.py:189: RuntimeWarning: invalid value encountered in double_scalars\n",
      "  ret = ret.dtype.type(ret / rcount)\n"
     ]
    },
    {
     "name": "stdout",
     "output_type": "stream",
     "text": [
      "65.8909%\n",
      "65.9310%\n",
      "65.9711%\n",
      "66.0112%\n",
      "66.0514%\n",
      "66.0915%\n"
     ]
    },
    {
     "name": "stderr",
     "output_type": "stream",
     "text": [
      "/Users/evelyn/opt/anaconda3/lib/python3.9/site-packages/numpy/core/fromnumeric.py:3440: RuntimeWarning: Mean of empty slice.\n",
      "  return _methods._mean(a, axis=axis, dtype=dtype,\n",
      "/Users/evelyn/opt/anaconda3/lib/python3.9/site-packages/numpy/core/_methods.py:189: RuntimeWarning: invalid value encountered in double_scalars\n",
      "  ret = ret.dtype.type(ret / rcount)\n",
      "/Users/evelyn/opt/anaconda3/lib/python3.9/site-packages/numpy/core/fromnumeric.py:3440: RuntimeWarning: Mean of empty slice.\n",
      "  return _methods._mean(a, axis=axis, dtype=dtype,\n",
      "/Users/evelyn/opt/anaconda3/lib/python3.9/site-packages/numpy/core/_methods.py:189: RuntimeWarning: invalid value encountered in double_scalars\n",
      "  ret = ret.dtype.type(ret / rcount)\n"
     ]
    },
    {
     "name": "stdout",
     "output_type": "stream",
     "text": [
      "66.1316%\n",
      "66.1717%\n",
      "66.2119%\n",
      "66.2520%\n",
      "66.2921%\n",
      "66.3323%\n",
      "66.3724%\n",
      "66.4125%\n",
      "66.4526%\n",
      "66.4928%\n",
      "66.5329%\n",
      "66.5730%\n"
     ]
    },
    {
     "name": "stderr",
     "output_type": "stream",
     "text": [
      "/Users/evelyn/opt/anaconda3/lib/python3.9/site-packages/numpy/core/fromnumeric.py:3440: RuntimeWarning: Mean of empty slice.\n",
      "  return _methods._mean(a, axis=axis, dtype=dtype,\n",
      "/Users/evelyn/opt/anaconda3/lib/python3.9/site-packages/numpy/core/_methods.py:189: RuntimeWarning: invalid value encountered in double_scalars\n",
      "  ret = ret.dtype.type(ret / rcount)\n",
      "/Users/evelyn/opt/anaconda3/lib/python3.9/site-packages/numpy/core/fromnumeric.py:3440: RuntimeWarning: Mean of empty slice.\n",
      "  return _methods._mean(a, axis=axis, dtype=dtype,\n",
      "/Users/evelyn/opt/anaconda3/lib/python3.9/site-packages/numpy/core/_methods.py:189: RuntimeWarning: invalid value encountered in double_scalars\n",
      "  ret = ret.dtype.type(ret / rcount)\n"
     ]
    },
    {
     "name": "stdout",
     "output_type": "stream",
     "text": [
      "66.6132%\n",
      "66.6533%\n",
      "66.6934%\n",
      "66.7335%\n",
      "66.7737%\n"
     ]
    },
    {
     "name": "stderr",
     "output_type": "stream",
     "text": [
      "/Users/evelyn/opt/anaconda3/lib/python3.9/site-packages/numpy/core/fromnumeric.py:3440: RuntimeWarning: Mean of empty slice.\n",
      "  return _methods._mean(a, axis=axis, dtype=dtype,\n",
      "/Users/evelyn/opt/anaconda3/lib/python3.9/site-packages/numpy/core/_methods.py:189: RuntimeWarning: invalid value encountered in double_scalars\n",
      "  ret = ret.dtype.type(ret / rcount)\n",
      "/Users/evelyn/opt/anaconda3/lib/python3.9/site-packages/numpy/core/fromnumeric.py:3440: RuntimeWarning: Mean of empty slice.\n",
      "  return _methods._mean(a, axis=axis, dtype=dtype,\n",
      "/Users/evelyn/opt/anaconda3/lib/python3.9/site-packages/numpy/core/_methods.py:189: RuntimeWarning: invalid value encountered in double_scalars\n",
      "  ret = ret.dtype.type(ret / rcount)\n",
      "/Users/evelyn/opt/anaconda3/lib/python3.9/site-packages/numpy/core/fromnumeric.py:3440: RuntimeWarning: Mean of empty slice.\n",
      "  return _methods._mean(a, axis=axis, dtype=dtype,\n",
      "/Users/evelyn/opt/anaconda3/lib/python3.9/site-packages/numpy/core/_methods.py:189: RuntimeWarning: invalid value encountered in double_scalars\n",
      "  ret = ret.dtype.type(ret / rcount)\n",
      "/Users/evelyn/opt/anaconda3/lib/python3.9/site-packages/numpy/core/fromnumeric.py:3440: RuntimeWarning: Mean of empty slice.\n",
      "  return _methods._mean(a, axis=axis, dtype=dtype,\n",
      "/Users/evelyn/opt/anaconda3/lib/python3.9/site-packages/numpy/core/_methods.py:189: RuntimeWarning: invalid value encountered in double_scalars\n",
      "  ret = ret.dtype.type(ret / rcount)\n",
      "/Users/evelyn/opt/anaconda3/lib/python3.9/site-packages/numpy/core/fromnumeric.py:3440: RuntimeWarning: Mean of empty slice.\n",
      "  return _methods._mean(a, axis=axis, dtype=dtype,\n",
      "/Users/evelyn/opt/anaconda3/lib/python3.9/site-packages/numpy/core/_methods.py:189: RuntimeWarning: invalid value encountered in double_scalars\n",
      "  ret = ret.dtype.type(ret / rcount)\n"
     ]
    },
    {
     "name": "stdout",
     "output_type": "stream",
     "text": [
      "66.8138%\n",
      "66.8539%\n",
      "66.8941%\n",
      "66.9342%\n",
      "66.9743%\n",
      "67.0144%\n",
      "67.0546%\n",
      "67.0947%\n",
      "67.1348%\n"
     ]
    },
    {
     "name": "stderr",
     "output_type": "stream",
     "text": [
      "/Users/evelyn/opt/anaconda3/lib/python3.9/site-packages/numpy/core/fromnumeric.py:3440: RuntimeWarning: Mean of empty slice.\n",
      "  return _methods._mean(a, axis=axis, dtype=dtype,\n",
      "/Users/evelyn/opt/anaconda3/lib/python3.9/site-packages/numpy/core/_methods.py:189: RuntimeWarning: invalid value encountered in double_scalars\n",
      "  ret = ret.dtype.type(ret / rcount)\n"
     ]
    },
    {
     "name": "stdout",
     "output_type": "stream",
     "text": [
      "67.1750%\n",
      "67.2151%\n",
      "67.2552%\n",
      "67.2953%\n",
      "67.3355%\n",
      "67.3756%\n",
      "67.4157%\n",
      "67.4559%\n",
      "67.4960%\n",
      "67.5361%\n",
      "67.5762%\n",
      "67.6164%\n",
      "67.6565%\n",
      "67.6966%\n",
      "67.7368%\n",
      "67.7769%\n",
      "67.8170%\n",
      "67.8571%\n",
      "67.8973%\n"
     ]
    },
    {
     "name": "stderr",
     "output_type": "stream",
     "text": [
      "/Users/evelyn/opt/anaconda3/lib/python3.9/site-packages/numpy/core/fromnumeric.py:3440: RuntimeWarning: Mean of empty slice.\n",
      "  return _methods._mean(a, axis=axis, dtype=dtype,\n",
      "/Users/evelyn/opt/anaconda3/lib/python3.9/site-packages/numpy/core/_methods.py:189: RuntimeWarning: invalid value encountered in double_scalars\n",
      "  ret = ret.dtype.type(ret / rcount)\n",
      "/Users/evelyn/opt/anaconda3/lib/python3.9/site-packages/numpy/core/fromnumeric.py:3440: RuntimeWarning: Mean of empty slice.\n",
      "  return _methods._mean(a, axis=axis, dtype=dtype,\n",
      "/Users/evelyn/opt/anaconda3/lib/python3.9/site-packages/numpy/core/_methods.py:189: RuntimeWarning: invalid value encountered in double_scalars\n",
      "  ret = ret.dtype.type(ret / rcount)\n"
     ]
    },
    {
     "name": "stdout",
     "output_type": "stream",
     "text": [
      "67.9374%\n",
      "67.9775%\n",
      "68.0177%\n",
      "68.0578%\n",
      "68.0979%\n",
      "68.1380%\n",
      "68.1782%\n",
      "68.2183%\n",
      "68.2584%\n",
      "68.2986%\n",
      "68.3387%\n"
     ]
    },
    {
     "name": "stderr",
     "output_type": "stream",
     "text": [
      "/Users/evelyn/opt/anaconda3/lib/python3.9/site-packages/numpy/core/fromnumeric.py:3440: RuntimeWarning: Mean of empty slice.\n",
      "  return _methods._mean(a, axis=axis, dtype=dtype,\n",
      "/Users/evelyn/opt/anaconda3/lib/python3.9/site-packages/numpy/core/_methods.py:189: RuntimeWarning: invalid value encountered in double_scalars\n",
      "  ret = ret.dtype.type(ret / rcount)\n"
     ]
    },
    {
     "name": "stdout",
     "output_type": "stream",
     "text": [
      "68.3788%\n",
      "68.4189%\n",
      "68.4591%\n",
      "68.4992%\n",
      "68.5393%\n",
      "68.5795%\n"
     ]
    },
    {
     "name": "stderr",
     "output_type": "stream",
     "text": [
      "/Users/evelyn/opt/anaconda3/lib/python3.9/site-packages/numpy/core/fromnumeric.py:3440: RuntimeWarning: Mean of empty slice.\n",
      "  return _methods._mean(a, axis=axis, dtype=dtype,\n",
      "/Users/evelyn/opt/anaconda3/lib/python3.9/site-packages/numpy/core/_methods.py:189: RuntimeWarning: invalid value encountered in double_scalars\n",
      "  ret = ret.dtype.type(ret / rcount)\n",
      "/Users/evelyn/opt/anaconda3/lib/python3.9/site-packages/numpy/core/fromnumeric.py:3440: RuntimeWarning: Mean of empty slice.\n",
      "  return _methods._mean(a, axis=axis, dtype=dtype,\n",
      "/Users/evelyn/opt/anaconda3/lib/python3.9/site-packages/numpy/core/_methods.py:189: RuntimeWarning: invalid value encountered in double_scalars\n",
      "  ret = ret.dtype.type(ret / rcount)\n"
     ]
    },
    {
     "name": "stdout",
     "output_type": "stream",
     "text": [
      "68.6196%\n",
      "68.6597%\n",
      "68.6998%\n",
      "68.7400%\n",
      "68.7801%\n",
      "68.8202%\n",
      "68.8604%\n",
      "68.9005%\n"
     ]
    },
    {
     "name": "stderr",
     "output_type": "stream",
     "text": [
      "/Users/evelyn/opt/anaconda3/lib/python3.9/site-packages/numpy/core/fromnumeric.py:3440: RuntimeWarning: Mean of empty slice.\n",
      "  return _methods._mean(a, axis=axis, dtype=dtype,\n",
      "/Users/evelyn/opt/anaconda3/lib/python3.9/site-packages/numpy/core/_methods.py:189: RuntimeWarning: invalid value encountered in double_scalars\n",
      "  ret = ret.dtype.type(ret / rcount)\n",
      "/Users/evelyn/opt/anaconda3/lib/python3.9/site-packages/numpy/core/fromnumeric.py:3440: RuntimeWarning: Mean of empty slice.\n",
      "  return _methods._mean(a, axis=axis, dtype=dtype,\n",
      "/Users/evelyn/opt/anaconda3/lib/python3.9/site-packages/numpy/core/_methods.py:189: RuntimeWarning: invalid value encountered in double_scalars\n",
      "  ret = ret.dtype.type(ret / rcount)\n",
      "/Users/evelyn/opt/anaconda3/lib/python3.9/site-packages/numpy/core/fromnumeric.py:3440: RuntimeWarning: Mean of empty slice.\n",
      "  return _methods._mean(a, axis=axis, dtype=dtype,\n",
      "/Users/evelyn/opt/anaconda3/lib/python3.9/site-packages/numpy/core/_methods.py:189: RuntimeWarning: invalid value encountered in double_scalars\n",
      "  ret = ret.dtype.type(ret / rcount)\n"
     ]
    },
    {
     "name": "stdout",
     "output_type": "stream",
     "text": [
      "68.9406%\n",
      "68.9807%\n",
      "69.0209%\n",
      "69.0610%\n",
      "69.1011%\n"
     ]
    },
    {
     "name": "stderr",
     "output_type": "stream",
     "text": [
      "/Users/evelyn/opt/anaconda3/lib/python3.9/site-packages/numpy/core/fromnumeric.py:3440: RuntimeWarning: Mean of empty slice.\n",
      "  return _methods._mean(a, axis=axis, dtype=dtype,\n",
      "/Users/evelyn/opt/anaconda3/lib/python3.9/site-packages/numpy/core/_methods.py:189: RuntimeWarning: invalid value encountered in double_scalars\n",
      "  ret = ret.dtype.type(ret / rcount)\n"
     ]
    },
    {
     "name": "stdout",
     "output_type": "stream",
     "text": [
      "69.1413%\n",
      "69.1814%\n",
      "69.2215%\n",
      "69.2616%\n",
      "69.3018%\n",
      "69.3419%\n",
      "69.3820%\n",
      "69.4222%\n",
      "69.4623%\n",
      "69.5024%\n",
      "69.5425%\n",
      "69.5827%\n",
      "69.6228%\n"
     ]
    },
    {
     "name": "stderr",
     "output_type": "stream",
     "text": [
      "/Users/evelyn/opt/anaconda3/lib/python3.9/site-packages/numpy/core/fromnumeric.py:3440: RuntimeWarning: Mean of empty slice.\n",
      "  return _methods._mean(a, axis=axis, dtype=dtype,\n",
      "/Users/evelyn/opt/anaconda3/lib/python3.9/site-packages/numpy/core/_methods.py:189: RuntimeWarning: invalid value encountered in double_scalars\n",
      "  ret = ret.dtype.type(ret / rcount)\n",
      "/Users/evelyn/opt/anaconda3/lib/python3.9/site-packages/numpy/core/fromnumeric.py:3440: RuntimeWarning: Mean of empty slice.\n",
      "  return _methods._mean(a, axis=axis, dtype=dtype,\n",
      "/Users/evelyn/opt/anaconda3/lib/python3.9/site-packages/numpy/core/_methods.py:189: RuntimeWarning: invalid value encountered in double_scalars\n",
      "  ret = ret.dtype.type(ret / rcount)\n",
      "/Users/evelyn/opt/anaconda3/lib/python3.9/site-packages/numpy/core/fromnumeric.py:3440: RuntimeWarning: Mean of empty slice.\n",
      "  return _methods._mean(a, axis=axis, dtype=dtype,\n",
      "/Users/evelyn/opt/anaconda3/lib/python3.9/site-packages/numpy/core/_methods.py:189: RuntimeWarning: invalid value encountered in double_scalars\n",
      "  ret = ret.dtype.type(ret / rcount)\n",
      "/Users/evelyn/opt/anaconda3/lib/python3.9/site-packages/numpy/core/fromnumeric.py:3440: RuntimeWarning: Mean of empty slice.\n",
      "  return _methods._mean(a, axis=axis, dtype=dtype,\n",
      "/Users/evelyn/opt/anaconda3/lib/python3.9/site-packages/numpy/core/_methods.py:189: RuntimeWarning: invalid value encountered in double_scalars\n",
      "  ret = ret.dtype.type(ret / rcount)\n"
     ]
    },
    {
     "name": "stdout",
     "output_type": "stream",
     "text": [
      "69.6629%\n",
      "69.7030%\n",
      "69.7432%\n",
      "69.7833%\n",
      "69.8234%\n",
      "69.8636%\n",
      "69.9037%\n",
      "69.9438%\n",
      "69.9839%\n",
      "70.0241%\n",
      "70.0642%\n",
      "70.1043%\n",
      "70.1445%\n",
      "70.1846%\n",
      "70.2247%\n",
      "70.2648%\n",
      "70.3050%\n",
      "70.3451%\n",
      "70.3852%\n",
      "70.4254%\n"
     ]
    },
    {
     "name": "stderr",
     "output_type": "stream",
     "text": [
      "/Users/evelyn/opt/anaconda3/lib/python3.9/site-packages/numpy/core/fromnumeric.py:3440: RuntimeWarning: Mean of empty slice.\n",
      "  return _methods._mean(a, axis=axis, dtype=dtype,\n",
      "/Users/evelyn/opt/anaconda3/lib/python3.9/site-packages/numpy/core/_methods.py:189: RuntimeWarning: invalid value encountered in double_scalars\n",
      "  ret = ret.dtype.type(ret / rcount)\n"
     ]
    },
    {
     "name": "stdout",
     "output_type": "stream",
     "text": [
      "70.4655%\n",
      "70.5056%\n",
      "70.5457%\n",
      "70.5859%\n",
      "70.6260%\n",
      "70.6661%\n",
      "70.7063%\n",
      "70.7464%\n"
     ]
    },
    {
     "name": "stderr",
     "output_type": "stream",
     "text": [
      "/Users/evelyn/opt/anaconda3/lib/python3.9/site-packages/numpy/core/fromnumeric.py:3440: RuntimeWarning: Mean of empty slice.\n",
      "  return _methods._mean(a, axis=axis, dtype=dtype,\n",
      "/Users/evelyn/opt/anaconda3/lib/python3.9/site-packages/numpy/core/_methods.py:189: RuntimeWarning: invalid value encountered in double_scalars\n",
      "  ret = ret.dtype.type(ret / rcount)\n",
      "/Users/evelyn/opt/anaconda3/lib/python3.9/site-packages/numpy/core/fromnumeric.py:3440: RuntimeWarning: Mean of empty slice.\n",
      "  return _methods._mean(a, axis=axis, dtype=dtype,\n",
      "/Users/evelyn/opt/anaconda3/lib/python3.9/site-packages/numpy/core/_methods.py:189: RuntimeWarning: invalid value encountered in double_scalars\n",
      "  ret = ret.dtype.type(ret / rcount)\n",
      "/Users/evelyn/opt/anaconda3/lib/python3.9/site-packages/numpy/core/fromnumeric.py:3440: RuntimeWarning: Mean of empty slice.\n",
      "  return _methods._mean(a, axis=axis, dtype=dtype,\n",
      "/Users/evelyn/opt/anaconda3/lib/python3.9/site-packages/numpy/core/_methods.py:189: RuntimeWarning: invalid value encountered in double_scalars\n",
      "  ret = ret.dtype.type(ret / rcount)\n"
     ]
    },
    {
     "name": "stdout",
     "output_type": "stream",
     "text": [
      "70.7865%\n",
      "70.8266%\n",
      "70.8668%\n",
      "70.9069%\n",
      "70.9470%\n",
      "70.9872%\n",
      "71.0273%\n"
     ]
    },
    {
     "name": "stderr",
     "output_type": "stream",
     "text": [
      "/Users/evelyn/opt/anaconda3/lib/python3.9/site-packages/numpy/core/fromnumeric.py:3440: RuntimeWarning: Mean of empty slice.\n",
      "  return _methods._mean(a, axis=axis, dtype=dtype,\n",
      "/Users/evelyn/opt/anaconda3/lib/python3.9/site-packages/numpy/core/_methods.py:189: RuntimeWarning: invalid value encountered in double_scalars\n",
      "  ret = ret.dtype.type(ret / rcount)\n",
      "/Users/evelyn/opt/anaconda3/lib/python3.9/site-packages/numpy/core/fromnumeric.py:3440: RuntimeWarning: Mean of empty slice.\n",
      "  return _methods._mean(a, axis=axis, dtype=dtype,\n",
      "/Users/evelyn/opt/anaconda3/lib/python3.9/site-packages/numpy/core/_methods.py:189: RuntimeWarning: invalid value encountered in double_scalars\n",
      "  ret = ret.dtype.type(ret / rcount)\n"
     ]
    },
    {
     "name": "stdout",
     "output_type": "stream",
     "text": [
      "71.0674%\n",
      "71.1075%\n",
      "71.1477%\n",
      "71.1878%\n",
      "71.2279%\n",
      "71.2681%\n",
      "71.3082%\n",
      "71.3483%\n",
      "71.3884%\n",
      "71.4286%\n",
      "71.4687%\n",
      "71.5088%\n",
      "71.5490%\n",
      "71.5891%\n",
      "71.6292%\n",
      "71.6693%\n",
      "71.7095%\n",
      "71.7496%\n",
      "71.7897%\n",
      "71.8299%\n",
      "71.8700%\n",
      "71.9101%\n",
      "71.9502%\n",
      "71.9904%\n"
     ]
    },
    {
     "name": "stderr",
     "output_type": "stream",
     "text": [
      "/Users/evelyn/opt/anaconda3/lib/python3.9/site-packages/numpy/core/fromnumeric.py:3440: RuntimeWarning: Mean of empty slice.\n",
      "  return _methods._mean(a, axis=axis, dtype=dtype,\n",
      "/Users/evelyn/opt/anaconda3/lib/python3.9/site-packages/numpy/core/_methods.py:189: RuntimeWarning: invalid value encountered in double_scalars\n",
      "  ret = ret.dtype.type(ret / rcount)\n"
     ]
    },
    {
     "name": "stdout",
     "output_type": "stream",
     "text": [
      "72.0305%\n",
      "72.0706%\n",
      "72.1108%\n",
      "72.1509%\n",
      "72.1910%\n",
      "72.2311%\n",
      "72.2713%\n",
      "72.3114%\n",
      "72.3515%\n",
      "72.3917%\n",
      "72.4318%\n",
      "72.4719%\n",
      "72.5120%\n",
      "72.5522%\n"
     ]
    },
    {
     "name": "stderr",
     "output_type": "stream",
     "text": [
      "/Users/evelyn/opt/anaconda3/lib/python3.9/site-packages/numpy/core/fromnumeric.py:3440: RuntimeWarning: Mean of empty slice.\n",
      "  return _methods._mean(a, axis=axis, dtype=dtype,\n",
      "/Users/evelyn/opt/anaconda3/lib/python3.9/site-packages/numpy/core/_methods.py:189: RuntimeWarning: invalid value encountered in double_scalars\n",
      "  ret = ret.dtype.type(ret / rcount)\n",
      "/Users/evelyn/opt/anaconda3/lib/python3.9/site-packages/numpy/core/fromnumeric.py:3440: RuntimeWarning: Mean of empty slice.\n",
      "  return _methods._mean(a, axis=axis, dtype=dtype,\n",
      "/Users/evelyn/opt/anaconda3/lib/python3.9/site-packages/numpy/core/_methods.py:189: RuntimeWarning: invalid value encountered in double_scalars\n",
      "  ret = ret.dtype.type(ret / rcount)\n",
      "/Users/evelyn/opt/anaconda3/lib/python3.9/site-packages/numpy/core/fromnumeric.py:3440: RuntimeWarning: Mean of empty slice.\n",
      "  return _methods._mean(a, axis=axis, dtype=dtype,\n",
      "/Users/evelyn/opt/anaconda3/lib/python3.9/site-packages/numpy/core/_methods.py:189: RuntimeWarning: invalid value encountered in double_scalars\n",
      "  ret = ret.dtype.type(ret / rcount)\n"
     ]
    },
    {
     "name": "stdout",
     "output_type": "stream",
     "text": [
      "72.5923%\n",
      "72.6324%\n",
      "72.6726%\n",
      "72.7127%\n",
      "72.7528%\n",
      "72.7929%\n",
      "72.8331%\n",
      "72.8732%\n",
      "72.9133%\n",
      "72.9535%\n",
      "72.9936%\n",
      "73.0337%\n",
      "73.0738%\n",
      "73.1140%\n",
      "73.1541%\n"
     ]
    },
    {
     "name": "stderr",
     "output_type": "stream",
     "text": [
      "/Users/evelyn/opt/anaconda3/lib/python3.9/site-packages/numpy/core/fromnumeric.py:3440: RuntimeWarning: Mean of empty slice.\n",
      "  return _methods._mean(a, axis=axis, dtype=dtype,\n",
      "/Users/evelyn/opt/anaconda3/lib/python3.9/site-packages/numpy/core/_methods.py:189: RuntimeWarning: invalid value encountered in double_scalars\n",
      "  ret = ret.dtype.type(ret / rcount)\n",
      "/Users/evelyn/opt/anaconda3/lib/python3.9/site-packages/numpy/core/fromnumeric.py:3440: RuntimeWarning: Mean of empty slice.\n",
      "  return _methods._mean(a, axis=axis, dtype=dtype,\n",
      "/Users/evelyn/opt/anaconda3/lib/python3.9/site-packages/numpy/core/_methods.py:189: RuntimeWarning: invalid value encountered in double_scalars\n",
      "  ret = ret.dtype.type(ret / rcount)\n",
      "/Users/evelyn/opt/anaconda3/lib/python3.9/site-packages/numpy/core/fromnumeric.py:3440: RuntimeWarning: Mean of empty slice.\n",
      "  return _methods._mean(a, axis=axis, dtype=dtype,\n",
      "/Users/evelyn/opt/anaconda3/lib/python3.9/site-packages/numpy/core/_methods.py:189: RuntimeWarning: invalid value encountered in double_scalars\n",
      "  ret = ret.dtype.type(ret / rcount)\n"
     ]
    },
    {
     "name": "stdout",
     "output_type": "stream",
     "text": [
      "73.1942%\n",
      "73.2343%\n",
      "73.2745%\n",
      "73.3146%\n",
      "73.3547%\n",
      "73.3949%\n",
      "73.4350%\n",
      "73.4751%\n",
      "73.5152%\n",
      "73.5554%\n",
      "73.5955%\n",
      "73.6356%\n",
      "73.6758%\n",
      "73.7159%\n",
      "73.7560%\n",
      "73.7961%\n",
      "73.8363%\n",
      "73.8764%\n",
      "73.9165%\n",
      "73.9567%\n",
      "73.9968%\n",
      "74.0369%\n",
      "74.0770%\n",
      "74.1172%\n",
      "74.1573%\n",
      "74.1974%\n",
      "74.2376%\n",
      "74.2777%\n",
      "74.3178%\n",
      "74.3579%\n"
     ]
    },
    {
     "name": "stderr",
     "output_type": "stream",
     "text": [
      "/Users/evelyn/opt/anaconda3/lib/python3.9/site-packages/numpy/core/fromnumeric.py:3440: RuntimeWarning: Mean of empty slice.\n",
      "  return _methods._mean(a, axis=axis, dtype=dtype,\n",
      "/Users/evelyn/opt/anaconda3/lib/python3.9/site-packages/numpy/core/_methods.py:189: RuntimeWarning: invalid value encountered in double_scalars\n",
      "  ret = ret.dtype.type(ret / rcount)\n",
      "/Users/evelyn/opt/anaconda3/lib/python3.9/site-packages/numpy/core/fromnumeric.py:3440: RuntimeWarning: Mean of empty slice.\n",
      "  return _methods._mean(a, axis=axis, dtype=dtype,\n",
      "/Users/evelyn/opt/anaconda3/lib/python3.9/site-packages/numpy/core/_methods.py:189: RuntimeWarning: invalid value encountered in double_scalars\n",
      "  ret = ret.dtype.type(ret / rcount)\n",
      "/Users/evelyn/opt/anaconda3/lib/python3.9/site-packages/numpy/core/fromnumeric.py:3440: RuntimeWarning: Mean of empty slice.\n",
      "  return _methods._mean(a, axis=axis, dtype=dtype,\n",
      "/Users/evelyn/opt/anaconda3/lib/python3.9/site-packages/numpy/core/_methods.py:189: RuntimeWarning: invalid value encountered in double_scalars\n",
      "  ret = ret.dtype.type(ret / rcount)\n"
     ]
    },
    {
     "name": "stdout",
     "output_type": "stream",
     "text": [
      "74.3981%\n",
      "74.4382%\n",
      "74.4783%\n"
     ]
    },
    {
     "name": "stderr",
     "output_type": "stream",
     "text": [
      "/Users/evelyn/opt/anaconda3/lib/python3.9/site-packages/numpy/core/fromnumeric.py:3440: RuntimeWarning: Mean of empty slice.\n",
      "  return _methods._mean(a, axis=axis, dtype=dtype,\n",
      "/Users/evelyn/opt/anaconda3/lib/python3.9/site-packages/numpy/core/_methods.py:189: RuntimeWarning: invalid value encountered in double_scalars\n",
      "  ret = ret.dtype.type(ret / rcount)\n"
     ]
    },
    {
     "name": "stdout",
     "output_type": "stream",
     "text": [
      "74.5185%\n",
      "74.5586%\n",
      "74.5987%\n",
      "74.6388%\n",
      "74.6790%\n"
     ]
    },
    {
     "name": "stderr",
     "output_type": "stream",
     "text": [
      "/Users/evelyn/opt/anaconda3/lib/python3.9/site-packages/numpy/core/fromnumeric.py:3440: RuntimeWarning: Mean of empty slice.\n",
      "  return _methods._mean(a, axis=axis, dtype=dtype,\n",
      "/Users/evelyn/opt/anaconda3/lib/python3.9/site-packages/numpy/core/_methods.py:189: RuntimeWarning: invalid value encountered in double_scalars\n",
      "  ret = ret.dtype.type(ret / rcount)\n",
      "/Users/evelyn/opt/anaconda3/lib/python3.9/site-packages/numpy/core/fromnumeric.py:3440: RuntimeWarning: Mean of empty slice.\n",
      "  return _methods._mean(a, axis=axis, dtype=dtype,\n",
      "/Users/evelyn/opt/anaconda3/lib/python3.9/site-packages/numpy/core/_methods.py:189: RuntimeWarning: invalid value encountered in double_scalars\n",
      "  ret = ret.dtype.type(ret / rcount)\n"
     ]
    },
    {
     "name": "stdout",
     "output_type": "stream",
     "text": [
      "74.7191%\n",
      "74.7592%\n",
      "74.7994%\n",
      "74.8395%\n",
      "74.8796%\n",
      "74.9197%\n",
      "74.9599%\n",
      "75.0000%\n",
      "75.0401%\n",
      "75.0803%\n",
      "75.1204%\n"
     ]
    },
    {
     "name": "stderr",
     "output_type": "stream",
     "text": [
      "/Users/evelyn/opt/anaconda3/lib/python3.9/site-packages/numpy/core/fromnumeric.py:3440: RuntimeWarning: Mean of empty slice.\n",
      "  return _methods._mean(a, axis=axis, dtype=dtype,\n",
      "/Users/evelyn/opt/anaconda3/lib/python3.9/site-packages/numpy/core/_methods.py:189: RuntimeWarning: invalid value encountered in double_scalars\n",
      "  ret = ret.dtype.type(ret / rcount)\n",
      "/Users/evelyn/opt/anaconda3/lib/python3.9/site-packages/numpy/core/fromnumeric.py:3440: RuntimeWarning: Mean of empty slice.\n",
      "  return _methods._mean(a, axis=axis, dtype=dtype,\n",
      "/Users/evelyn/opt/anaconda3/lib/python3.9/site-packages/numpy/core/_methods.py:189: RuntimeWarning: invalid value encountered in double_scalars\n",
      "  ret = ret.dtype.type(ret / rcount)\n"
     ]
    },
    {
     "name": "stdout",
     "output_type": "stream",
     "text": [
      "75.1605%\n",
      "75.2006%\n",
      "75.2408%\n",
      "75.2809%\n",
      "75.3210%\n",
      "75.3612%\n",
      "75.4013%\n",
      "75.4414%\n",
      "75.4815%\n",
      "75.5217%\n",
      "75.5618%\n",
      "75.6019%\n",
      "75.6421%\n",
      "75.6822%\n",
      "75.7223%\n",
      "75.7624%\n",
      "75.8026%\n",
      "75.8427%\n",
      "75.8828%\n",
      "75.9230%\n",
      "75.9631%\n",
      "76.0032%\n",
      "76.0433%\n",
      "76.0835%\n",
      "76.1236%\n",
      "76.1637%\n",
      "76.2039%\n",
      "76.2440%\n",
      "76.2841%\n"
     ]
    },
    {
     "name": "stderr",
     "output_type": "stream",
     "text": [
      "/Users/evelyn/opt/anaconda3/lib/python3.9/site-packages/numpy/core/fromnumeric.py:3440: RuntimeWarning: Mean of empty slice.\n",
      "  return _methods._mean(a, axis=axis, dtype=dtype,\n",
      "/Users/evelyn/opt/anaconda3/lib/python3.9/site-packages/numpy/core/_methods.py:189: RuntimeWarning: invalid value encountered in double_scalars\n",
      "  ret = ret.dtype.type(ret / rcount)\n"
     ]
    },
    {
     "name": "stdout",
     "output_type": "stream",
     "text": [
      "76.3242%\n",
      "76.3644%\n",
      "76.4045%\n",
      "76.4446%\n",
      "76.4848%\n",
      "76.5249%\n",
      "76.5650%\n",
      "76.6051%\n",
      "76.6453%\n",
      "76.6854%\n",
      "76.7255%\n",
      "76.7657%\n",
      "76.8058%\n",
      "76.8459%\n",
      "76.8860%\n",
      "76.9262%\n"
     ]
    },
    {
     "name": "stderr",
     "output_type": "stream",
     "text": [
      "/Users/evelyn/opt/anaconda3/lib/python3.9/site-packages/numpy/core/fromnumeric.py:3440: RuntimeWarning: Mean of empty slice.\n",
      "  return _methods._mean(a, axis=axis, dtype=dtype,\n",
      "/Users/evelyn/opt/anaconda3/lib/python3.9/site-packages/numpy/core/_methods.py:189: RuntimeWarning: invalid value encountered in double_scalars\n",
      "  ret = ret.dtype.type(ret / rcount)\n",
      "/Users/evelyn/opt/anaconda3/lib/python3.9/site-packages/numpy/core/fromnumeric.py:3440: RuntimeWarning: Mean of empty slice.\n",
      "  return _methods._mean(a, axis=axis, dtype=dtype,\n",
      "/Users/evelyn/opt/anaconda3/lib/python3.9/site-packages/numpy/core/_methods.py:189: RuntimeWarning: invalid value encountered in double_scalars\n",
      "  ret = ret.dtype.type(ret / rcount)\n"
     ]
    },
    {
     "name": "stdout",
     "output_type": "stream",
     "text": [
      "76.9663%\n",
      "77.0064%\n",
      "77.0465%\n",
      "77.0867%\n",
      "77.1268%\n",
      "77.1669%\n",
      "77.2071%\n",
      "77.2472%\n",
      "77.2873%\n",
      "77.3274%\n",
      "77.3676%\n"
     ]
    },
    {
     "name": "stderr",
     "output_type": "stream",
     "text": [
      "/Users/evelyn/opt/anaconda3/lib/python3.9/site-packages/numpy/core/fromnumeric.py:3440: RuntimeWarning: Mean of empty slice.\n",
      "  return _methods._mean(a, axis=axis, dtype=dtype,\n",
      "/Users/evelyn/opt/anaconda3/lib/python3.9/site-packages/numpy/core/_methods.py:189: RuntimeWarning: invalid value encountered in double_scalars\n",
      "  ret = ret.dtype.type(ret / rcount)\n",
      "/Users/evelyn/opt/anaconda3/lib/python3.9/site-packages/numpy/core/fromnumeric.py:3440: RuntimeWarning: Mean of empty slice.\n",
      "  return _methods._mean(a, axis=axis, dtype=dtype,\n",
      "/Users/evelyn/opt/anaconda3/lib/python3.9/site-packages/numpy/core/_methods.py:189: RuntimeWarning: invalid value encountered in double_scalars\n",
      "  ret = ret.dtype.type(ret / rcount)\n"
     ]
    },
    {
     "name": "stdout",
     "output_type": "stream",
     "text": [
      "77.4077%\n",
      "77.4478%\n",
      "77.4880%\n",
      "77.5281%\n",
      "77.5682%\n",
      "77.6083%\n",
      "77.6485%\n",
      "77.6886%\n",
      "77.7287%\n",
      "77.7689%\n",
      "77.8090%\n",
      "77.8491%\n",
      "77.8892%\n",
      "77.9294%\n",
      "77.9695%\n",
      "78.0096%\n",
      "78.0498%\n",
      "78.0899%\n",
      "78.1300%\n",
      "78.1701%\n",
      "78.2103%\n",
      "78.2504%\n",
      "78.2905%\n",
      "78.3307%\n",
      "78.3708%\n",
      "78.4109%\n",
      "78.4510%\n",
      "78.4912%\n",
      "78.5313%\n",
      "78.5714%\n",
      "78.6116%\n",
      "78.6517%\n",
      "78.6918%\n",
      "78.7319%\n",
      "78.7721%\n",
      "78.8122%\n",
      "78.8523%\n",
      "78.8925%\n"
     ]
    },
    {
     "name": "stderr",
     "output_type": "stream",
     "text": [
      "/Users/evelyn/opt/anaconda3/lib/python3.9/site-packages/numpy/core/fromnumeric.py:3440: RuntimeWarning: Mean of empty slice.\n",
      "  return _methods._mean(a, axis=axis, dtype=dtype,\n",
      "/Users/evelyn/opt/anaconda3/lib/python3.9/site-packages/numpy/core/_methods.py:189: RuntimeWarning: invalid value encountered in double_scalars\n",
      "  ret = ret.dtype.type(ret / rcount)\n"
     ]
    },
    {
     "name": "stdout",
     "output_type": "stream",
     "text": [
      "78.9326%\n",
      "78.9727%\n",
      "79.0128%\n",
      "79.0530%\n",
      "79.0931%\n",
      "79.1332%\n",
      "79.1734%\n",
      "79.2135%\n",
      "79.2536%\n",
      "79.2937%\n"
     ]
    },
    {
     "name": "stderr",
     "output_type": "stream",
     "text": [
      "/Users/evelyn/opt/anaconda3/lib/python3.9/site-packages/numpy/core/fromnumeric.py:3440: RuntimeWarning: Mean of empty slice.\n",
      "  return _methods._mean(a, axis=axis, dtype=dtype,\n",
      "/Users/evelyn/opt/anaconda3/lib/python3.9/site-packages/numpy/core/_methods.py:189: RuntimeWarning: invalid value encountered in double_scalars\n",
      "  ret = ret.dtype.type(ret / rcount)\n"
     ]
    },
    {
     "name": "stdout",
     "output_type": "stream",
     "text": [
      "79.3339%\n",
      "79.3740%\n",
      "79.4141%\n",
      "79.4543%\n",
      "79.4944%\n",
      "79.5345%\n"
     ]
    },
    {
     "name": "stderr",
     "output_type": "stream",
     "text": [
      "/Users/evelyn/opt/anaconda3/lib/python3.9/site-packages/numpy/core/fromnumeric.py:3440: RuntimeWarning: Mean of empty slice.\n",
      "  return _methods._mean(a, axis=axis, dtype=dtype,\n",
      "/Users/evelyn/opt/anaconda3/lib/python3.9/site-packages/numpy/core/_methods.py:189: RuntimeWarning: invalid value encountered in double_scalars\n",
      "  ret = ret.dtype.type(ret / rcount)\n"
     ]
    },
    {
     "name": "stdout",
     "output_type": "stream",
     "text": [
      "79.5746%\n",
      "79.6148%\n",
      "79.6549%\n",
      "79.6950%\n",
      "79.7352%\n",
      "79.7753%\n",
      "79.8154%\n",
      "79.8555%\n",
      "79.8957%\n",
      "79.9358%\n",
      "79.9759%\n",
      "80.0161%\n",
      "80.0562%\n",
      "80.0963%\n",
      "80.1364%\n",
      "80.1766%\n",
      "80.2167%\n",
      "80.2568%\n",
      "80.2970%\n",
      "80.3371%\n",
      "80.3772%\n"
     ]
    },
    {
     "name": "stderr",
     "output_type": "stream",
     "text": [
      "/Users/evelyn/opt/anaconda3/lib/python3.9/site-packages/numpy/core/fromnumeric.py:3440: RuntimeWarning: Mean of empty slice.\n",
      "  return _methods._mean(a, axis=axis, dtype=dtype,\n",
      "/Users/evelyn/opt/anaconda3/lib/python3.9/site-packages/numpy/core/_methods.py:189: RuntimeWarning: invalid value encountered in double_scalars\n",
      "  ret = ret.dtype.type(ret / rcount)\n",
      "/Users/evelyn/opt/anaconda3/lib/python3.9/site-packages/numpy/core/fromnumeric.py:3440: RuntimeWarning: Mean of empty slice.\n",
      "  return _methods._mean(a, axis=axis, dtype=dtype,\n",
      "/Users/evelyn/opt/anaconda3/lib/python3.9/site-packages/numpy/core/_methods.py:189: RuntimeWarning: invalid value encountered in double_scalars\n",
      "  ret = ret.dtype.type(ret / rcount)\n",
      "/Users/evelyn/opt/anaconda3/lib/python3.9/site-packages/numpy/core/fromnumeric.py:3440: RuntimeWarning: Mean of empty slice.\n",
      "  return _methods._mean(a, axis=axis, dtype=dtype,\n",
      "/Users/evelyn/opt/anaconda3/lib/python3.9/site-packages/numpy/core/_methods.py:189: RuntimeWarning: invalid value encountered in double_scalars\n",
      "  ret = ret.dtype.type(ret / rcount)\n"
     ]
    },
    {
     "name": "stdout",
     "output_type": "stream",
     "text": [
      "80.4173%\n",
      "80.4575%\n",
      "80.4976%\n",
      "80.5377%\n",
      "80.5778%\n"
     ]
    },
    {
     "name": "stderr",
     "output_type": "stream",
     "text": [
      "/Users/evelyn/opt/anaconda3/lib/python3.9/site-packages/numpy/core/fromnumeric.py:3440: RuntimeWarning: Mean of empty slice.\n",
      "  return _methods._mean(a, axis=axis, dtype=dtype,\n",
      "/Users/evelyn/opt/anaconda3/lib/python3.9/site-packages/numpy/core/_methods.py:189: RuntimeWarning: invalid value encountered in double_scalars\n",
      "  ret = ret.dtype.type(ret / rcount)\n"
     ]
    },
    {
     "name": "stdout",
     "output_type": "stream",
     "text": [
      "80.6180%\n",
      "80.6581%\n",
      "80.6982%\n",
      "80.7384%\n",
      "80.7785%\n",
      "80.8186%\n",
      "80.8587%\n",
      "80.8989%\n",
      "80.9390%\n"
     ]
    },
    {
     "name": "stderr",
     "output_type": "stream",
     "text": [
      "/Users/evelyn/opt/anaconda3/lib/python3.9/site-packages/numpy/core/fromnumeric.py:3440: RuntimeWarning: Mean of empty slice.\n",
      "  return _methods._mean(a, axis=axis, dtype=dtype,\n",
      "/Users/evelyn/opt/anaconda3/lib/python3.9/site-packages/numpy/core/_methods.py:189: RuntimeWarning: invalid value encountered in double_scalars\n",
      "  ret = ret.dtype.type(ret / rcount)\n"
     ]
    },
    {
     "name": "stdout",
     "output_type": "stream",
     "text": [
      "80.9791%\n",
      "81.0193%\n",
      "81.0594%\n",
      "81.0995%\n",
      "81.1396%\n",
      "81.1798%\n",
      "81.2199%\n",
      "81.2600%\n",
      "81.3002%\n",
      "81.3403%\n"
     ]
    },
    {
     "name": "stderr",
     "output_type": "stream",
     "text": [
      "/Users/evelyn/opt/anaconda3/lib/python3.9/site-packages/numpy/core/fromnumeric.py:3440: RuntimeWarning: Mean of empty slice.\n",
      "  return _methods._mean(a, axis=axis, dtype=dtype,\n",
      "/Users/evelyn/opt/anaconda3/lib/python3.9/site-packages/numpy/core/_methods.py:189: RuntimeWarning: invalid value encountered in double_scalars\n",
      "  ret = ret.dtype.type(ret / rcount)\n",
      "/Users/evelyn/opt/anaconda3/lib/python3.9/site-packages/numpy/core/fromnumeric.py:3440: RuntimeWarning: Mean of empty slice.\n",
      "  return _methods._mean(a, axis=axis, dtype=dtype,\n",
      "/Users/evelyn/opt/anaconda3/lib/python3.9/site-packages/numpy/core/_methods.py:189: RuntimeWarning: invalid value encountered in double_scalars\n",
      "  ret = ret.dtype.type(ret / rcount)\n"
     ]
    },
    {
     "name": "stdout",
     "output_type": "stream",
     "text": [
      "81.3804%\n",
      "81.4205%\n",
      "81.4607%\n"
     ]
    },
    {
     "name": "stderr",
     "output_type": "stream",
     "text": [
      "/Users/evelyn/opt/anaconda3/lib/python3.9/site-packages/numpy/core/fromnumeric.py:3440: RuntimeWarning: Mean of empty slice.\n",
      "  return _methods._mean(a, axis=axis, dtype=dtype,\n",
      "/Users/evelyn/opt/anaconda3/lib/python3.9/site-packages/numpy/core/_methods.py:189: RuntimeWarning: invalid value encountered in double_scalars\n",
      "  ret = ret.dtype.type(ret / rcount)\n"
     ]
    },
    {
     "name": "stdout",
     "output_type": "stream",
     "text": [
      "81.5008%\n",
      "81.5409%\n",
      "81.5811%\n",
      "81.6212%\n",
      "81.6613%\n"
     ]
    },
    {
     "name": "stderr",
     "output_type": "stream",
     "text": [
      "/Users/evelyn/opt/anaconda3/lib/python3.9/site-packages/numpy/core/fromnumeric.py:3440: RuntimeWarning: Mean of empty slice.\n",
      "  return _methods._mean(a, axis=axis, dtype=dtype,\n",
      "/Users/evelyn/opt/anaconda3/lib/python3.9/site-packages/numpy/core/_methods.py:189: RuntimeWarning: invalid value encountered in double_scalars\n",
      "  ret = ret.dtype.type(ret / rcount)\n"
     ]
    },
    {
     "name": "stdout",
     "output_type": "stream",
     "text": [
      "81.7014%\n",
      "81.7416%\n",
      "81.7817%\n",
      "81.8218%\n",
      "81.8620%\n",
      "81.9021%\n",
      "81.9422%\n"
     ]
    },
    {
     "name": "stderr",
     "output_type": "stream",
     "text": [
      "/Users/evelyn/opt/anaconda3/lib/python3.9/site-packages/numpy/core/fromnumeric.py:3440: RuntimeWarning: Mean of empty slice.\n",
      "  return _methods._mean(a, axis=axis, dtype=dtype,\n",
      "/Users/evelyn/opt/anaconda3/lib/python3.9/site-packages/numpy/core/_methods.py:189: RuntimeWarning: invalid value encountered in double_scalars\n",
      "  ret = ret.dtype.type(ret / rcount)\n"
     ]
    },
    {
     "name": "stdout",
     "output_type": "stream",
     "text": [
      "81.9823%\n",
      "82.0225%\n",
      "82.0626%\n",
      "82.1027%\n",
      "82.1429%\n",
      "82.1830%\n",
      "82.2231%\n"
     ]
    },
    {
     "name": "stderr",
     "output_type": "stream",
     "text": [
      "/Users/evelyn/opt/anaconda3/lib/python3.9/site-packages/numpy/core/fromnumeric.py:3440: RuntimeWarning: Mean of empty slice.\n",
      "  return _methods._mean(a, axis=axis, dtype=dtype,\n",
      "/Users/evelyn/opt/anaconda3/lib/python3.9/site-packages/numpy/core/_methods.py:189: RuntimeWarning: invalid value encountered in double_scalars\n",
      "  ret = ret.dtype.type(ret / rcount)\n",
      "/Users/evelyn/opt/anaconda3/lib/python3.9/site-packages/numpy/core/fromnumeric.py:3440: RuntimeWarning: Mean of empty slice.\n",
      "  return _methods._mean(a, axis=axis, dtype=dtype,\n",
      "/Users/evelyn/opt/anaconda3/lib/python3.9/site-packages/numpy/core/_methods.py:189: RuntimeWarning: invalid value encountered in double_scalars\n",
      "  ret = ret.dtype.type(ret / rcount)\n",
      "/Users/evelyn/opt/anaconda3/lib/python3.9/site-packages/numpy/core/fromnumeric.py:3440: RuntimeWarning: Mean of empty slice.\n",
      "  return _methods._mean(a, axis=axis, dtype=dtype,\n",
      "/Users/evelyn/opt/anaconda3/lib/python3.9/site-packages/numpy/core/_methods.py:189: RuntimeWarning: invalid value encountered in double_scalars\n",
      "  ret = ret.dtype.type(ret / rcount)\n"
     ]
    },
    {
     "name": "stdout",
     "output_type": "stream",
     "text": [
      "82.2632%\n",
      "82.3034%\n",
      "82.3435%\n",
      "82.3836%\n",
      "82.4238%\n",
      "82.4639%\n",
      "82.5040%\n",
      "82.5441%\n",
      "82.5843%\n"
     ]
    },
    {
     "name": "stderr",
     "output_type": "stream",
     "text": [
      "/Users/evelyn/opt/anaconda3/lib/python3.9/site-packages/numpy/core/fromnumeric.py:3440: RuntimeWarning: Mean of empty slice.\n",
      "  return _methods._mean(a, axis=axis, dtype=dtype,\n",
      "/Users/evelyn/opt/anaconda3/lib/python3.9/site-packages/numpy/core/_methods.py:189: RuntimeWarning: invalid value encountered in double_scalars\n",
      "  ret = ret.dtype.type(ret / rcount)\n"
     ]
    },
    {
     "name": "stdout",
     "output_type": "stream",
     "text": [
      "82.6244%\n"
     ]
    },
    {
     "name": "stderr",
     "output_type": "stream",
     "text": [
      "/Users/evelyn/opt/anaconda3/lib/python3.9/site-packages/numpy/core/fromnumeric.py:3440: RuntimeWarning: Mean of empty slice.\n",
      "  return _methods._mean(a, axis=axis, dtype=dtype,\n",
      "/Users/evelyn/opt/anaconda3/lib/python3.9/site-packages/numpy/core/_methods.py:189: RuntimeWarning: invalid value encountered in double_scalars\n",
      "  ret = ret.dtype.type(ret / rcount)\n",
      "/Users/evelyn/opt/anaconda3/lib/python3.9/site-packages/numpy/core/fromnumeric.py:3440: RuntimeWarning: Mean of empty slice.\n",
      "  return _methods._mean(a, axis=axis, dtype=dtype,\n",
      "/Users/evelyn/opt/anaconda3/lib/python3.9/site-packages/numpy/core/_methods.py:189: RuntimeWarning: invalid value encountered in double_scalars\n",
      "  ret = ret.dtype.type(ret / rcount)\n"
     ]
    },
    {
     "name": "stdout",
     "output_type": "stream",
     "text": [
      "82.6645%\n",
      "82.7047%\n",
      "82.7448%\n",
      "82.7849%\n",
      "82.8250%\n",
      "82.8652%\n",
      "82.9053%\n",
      "82.9454%\n",
      "82.9856%\n",
      "83.0257%\n",
      "83.0658%\n",
      "83.1059%\n",
      "83.1461%\n"
     ]
    },
    {
     "name": "stderr",
     "output_type": "stream",
     "text": [
      "/Users/evelyn/opt/anaconda3/lib/python3.9/site-packages/numpy/core/fromnumeric.py:3440: RuntimeWarning: Mean of empty slice.\n",
      "  return _methods._mean(a, axis=axis, dtype=dtype,\n",
      "/Users/evelyn/opt/anaconda3/lib/python3.9/site-packages/numpy/core/_methods.py:189: RuntimeWarning: invalid value encountered in double_scalars\n",
      "  ret = ret.dtype.type(ret / rcount)\n",
      "/Users/evelyn/opt/anaconda3/lib/python3.9/site-packages/numpy/core/fromnumeric.py:3440: RuntimeWarning: Mean of empty slice.\n",
      "  return _methods._mean(a, axis=axis, dtype=dtype,\n",
      "/Users/evelyn/opt/anaconda3/lib/python3.9/site-packages/numpy/core/_methods.py:189: RuntimeWarning: invalid value encountered in double_scalars\n",
      "  ret = ret.dtype.type(ret / rcount)\n",
      "/Users/evelyn/opt/anaconda3/lib/python3.9/site-packages/numpy/core/fromnumeric.py:3440: RuntimeWarning: Mean of empty slice.\n",
      "  return _methods._mean(a, axis=axis, dtype=dtype,\n",
      "/Users/evelyn/opt/anaconda3/lib/python3.9/site-packages/numpy/core/_methods.py:189: RuntimeWarning: invalid value encountered in double_scalars\n",
      "  ret = ret.dtype.type(ret / rcount)\n",
      "/Users/evelyn/opt/anaconda3/lib/python3.9/site-packages/numpy/core/fromnumeric.py:3440: RuntimeWarning: Mean of empty slice.\n",
      "  return _methods._mean(a, axis=axis, dtype=dtype,\n",
      "/Users/evelyn/opt/anaconda3/lib/python3.9/site-packages/numpy/core/_methods.py:189: RuntimeWarning: invalid value encountered in double_scalars\n",
      "  ret = ret.dtype.type(ret / rcount)\n",
      "/Users/evelyn/opt/anaconda3/lib/python3.9/site-packages/numpy/core/fromnumeric.py:3440: RuntimeWarning: Mean of empty slice.\n",
      "  return _methods._mean(a, axis=axis, dtype=dtype,\n",
      "/Users/evelyn/opt/anaconda3/lib/python3.9/site-packages/numpy/core/_methods.py:189: RuntimeWarning: invalid value encountered in double_scalars\n",
      "  ret = ret.dtype.type(ret / rcount)\n"
     ]
    },
    {
     "name": "stdout",
     "output_type": "stream",
     "text": [
      "83.1862%\n",
      "83.2263%\n",
      "83.2665%\n",
      "83.3066%\n",
      "83.3467%\n",
      "83.3868%\n",
      "83.4270%\n",
      "83.4671%\n",
      "83.5072%\n",
      "83.5474%\n",
      "83.5875%\n",
      "83.6276%\n",
      "83.6677%\n",
      "83.7079%\n",
      "83.7480%\n",
      "83.7881%\n",
      "83.8283%\n",
      "83.8684%\n",
      "83.9085%\n"
     ]
    },
    {
     "name": "stderr",
     "output_type": "stream",
     "text": [
      "/Users/evelyn/opt/anaconda3/lib/python3.9/site-packages/numpy/core/fromnumeric.py:3440: RuntimeWarning: Mean of empty slice.\n",
      "  return _methods._mean(a, axis=axis, dtype=dtype,\n",
      "/Users/evelyn/opt/anaconda3/lib/python3.9/site-packages/numpy/core/_methods.py:189: RuntimeWarning: invalid value encountered in double_scalars\n",
      "  ret = ret.dtype.type(ret / rcount)\n",
      "/Users/evelyn/opt/anaconda3/lib/python3.9/site-packages/numpy/core/fromnumeric.py:3440: RuntimeWarning: Mean of empty slice.\n",
      "  return _methods._mean(a, axis=axis, dtype=dtype,\n",
      "/Users/evelyn/opt/anaconda3/lib/python3.9/site-packages/numpy/core/_methods.py:189: RuntimeWarning: invalid value encountered in double_scalars\n",
      "  ret = ret.dtype.type(ret / rcount)\n"
     ]
    },
    {
     "name": "stdout",
     "output_type": "stream",
     "text": [
      "83.9486%\n",
      "83.9888%\n",
      "84.0289%\n",
      "84.0690%\n",
      "84.1091%\n",
      "84.1493%\n"
     ]
    },
    {
     "name": "stderr",
     "output_type": "stream",
     "text": [
      "/Users/evelyn/opt/anaconda3/lib/python3.9/site-packages/numpy/core/fromnumeric.py:3440: RuntimeWarning: Mean of empty slice.\n",
      "  return _methods._mean(a, axis=axis, dtype=dtype,\n",
      "/Users/evelyn/opt/anaconda3/lib/python3.9/site-packages/numpy/core/_methods.py:189: RuntimeWarning: invalid value encountered in double_scalars\n",
      "  ret = ret.dtype.type(ret / rcount)\n"
     ]
    },
    {
     "name": "stdout",
     "output_type": "stream",
     "text": [
      "84.1894%\n",
      "84.2295%\n",
      "84.2697%\n",
      "84.3098%\n",
      "84.3499%\n",
      "84.3900%\n",
      "84.4302%\n",
      "84.4703%\n",
      "84.5104%\n",
      "84.5506%\n",
      "84.5907%\n",
      "84.6308%\n",
      "84.6709%\n",
      "84.7111%\n",
      "84.7512%\n",
      "84.7913%\n",
      "84.8315%\n",
      "84.8716%\n",
      "84.9117%\n",
      "84.9518%\n"
     ]
    },
    {
     "name": "stderr",
     "output_type": "stream",
     "text": [
      "/Users/evelyn/opt/anaconda3/lib/python3.9/site-packages/numpy/core/fromnumeric.py:3440: RuntimeWarning: Mean of empty slice.\n",
      "  return _methods._mean(a, axis=axis, dtype=dtype,\n",
      "/Users/evelyn/opt/anaconda3/lib/python3.9/site-packages/numpy/core/_methods.py:189: RuntimeWarning: invalid value encountered in double_scalars\n",
      "  ret = ret.dtype.type(ret / rcount)\n"
     ]
    },
    {
     "name": "stdout",
     "output_type": "stream",
     "text": [
      "84.9920%\n",
      "85.0321%\n",
      "85.0722%\n",
      "85.1124%\n",
      "85.1525%\n",
      "85.1926%\n",
      "85.2327%\n",
      "85.2729%\n",
      "85.3130%\n"
     ]
    },
    {
     "name": "stderr",
     "output_type": "stream",
     "text": [
      "/Users/evelyn/opt/anaconda3/lib/python3.9/site-packages/numpy/core/fromnumeric.py:3440: RuntimeWarning: Mean of empty slice.\n",
      "  return _methods._mean(a, axis=axis, dtype=dtype,\n",
      "/Users/evelyn/opt/anaconda3/lib/python3.9/site-packages/numpy/core/_methods.py:189: RuntimeWarning: invalid value encountered in double_scalars\n",
      "  ret = ret.dtype.type(ret / rcount)\n"
     ]
    },
    {
     "name": "stdout",
     "output_type": "stream",
     "text": [
      "85.3531%\n",
      "85.3933%\n",
      "85.4334%\n",
      "85.4735%\n"
     ]
    },
    {
     "name": "stderr",
     "output_type": "stream",
     "text": [
      "/Users/evelyn/opt/anaconda3/lib/python3.9/site-packages/numpy/core/fromnumeric.py:3440: RuntimeWarning: Mean of empty slice.\n",
      "  return _methods._mean(a, axis=axis, dtype=dtype,\n",
      "/Users/evelyn/opt/anaconda3/lib/python3.9/site-packages/numpy/core/_methods.py:189: RuntimeWarning: invalid value encountered in double_scalars\n",
      "  ret = ret.dtype.type(ret / rcount)\n",
      "/Users/evelyn/opt/anaconda3/lib/python3.9/site-packages/numpy/core/fromnumeric.py:3440: RuntimeWarning: Mean of empty slice.\n",
      "  return _methods._mean(a, axis=axis, dtype=dtype,\n",
      "/Users/evelyn/opt/anaconda3/lib/python3.9/site-packages/numpy/core/_methods.py:189: RuntimeWarning: invalid value encountered in double_scalars\n",
      "  ret = ret.dtype.type(ret / rcount)\n"
     ]
    },
    {
     "name": "stdout",
     "output_type": "stream",
     "text": [
      "85.5136%\n",
      "85.5538%\n",
      "85.5939%\n",
      "85.6340%\n",
      "85.6742%\n",
      "85.7143%\n",
      "85.7544%\n"
     ]
    },
    {
     "name": "stderr",
     "output_type": "stream",
     "text": [
      "/Users/evelyn/opt/anaconda3/lib/python3.9/site-packages/numpy/core/fromnumeric.py:3440: RuntimeWarning: Mean of empty slice.\n",
      "  return _methods._mean(a, axis=axis, dtype=dtype,\n",
      "/Users/evelyn/opt/anaconda3/lib/python3.9/site-packages/numpy/core/_methods.py:189: RuntimeWarning: invalid value encountered in double_scalars\n",
      "  ret = ret.dtype.type(ret / rcount)\n",
      "/Users/evelyn/opt/anaconda3/lib/python3.9/site-packages/numpy/core/fromnumeric.py:3440: RuntimeWarning: Mean of empty slice.\n",
      "  return _methods._mean(a, axis=axis, dtype=dtype,\n",
      "/Users/evelyn/opt/anaconda3/lib/python3.9/site-packages/numpy/core/_methods.py:189: RuntimeWarning: invalid value encountered in double_scalars\n",
      "  ret = ret.dtype.type(ret / rcount)\n",
      "/Users/evelyn/opt/anaconda3/lib/python3.9/site-packages/numpy/core/fromnumeric.py:3440: RuntimeWarning: Mean of empty slice.\n",
      "  return _methods._mean(a, axis=axis, dtype=dtype,\n",
      "/Users/evelyn/opt/anaconda3/lib/python3.9/site-packages/numpy/core/_methods.py:189: RuntimeWarning: invalid value encountered in double_scalars\n",
      "  ret = ret.dtype.type(ret / rcount)\n"
     ]
    },
    {
     "name": "stdout",
     "output_type": "stream",
     "text": [
      "85.7945%\n",
      "85.8347%\n",
      "85.8748%\n",
      "85.9149%\n",
      "85.9551%\n",
      "85.9952%\n",
      "86.0353%\n",
      "86.0754%\n",
      "86.1156%\n",
      "86.1557%\n",
      "86.1958%\n",
      "86.2360%\n",
      "86.2761%\n",
      "86.3162%\n",
      "86.3563%\n",
      "86.3965%\n",
      "86.4366%\n",
      "86.4767%\n",
      "86.5169%\n",
      "86.5570%\n",
      "86.5971%\n",
      "86.6372%\n",
      "86.6774%\n",
      "86.7175%\n",
      "86.7576%\n",
      "86.7978%\n",
      "86.8379%\n"
     ]
    },
    {
     "name": "stderr",
     "output_type": "stream",
     "text": [
      "/Users/evelyn/opt/anaconda3/lib/python3.9/site-packages/numpy/core/fromnumeric.py:3440: RuntimeWarning: Mean of empty slice.\n",
      "  return _methods._mean(a, axis=axis, dtype=dtype,\n",
      "/Users/evelyn/opt/anaconda3/lib/python3.9/site-packages/numpy/core/_methods.py:189: RuntimeWarning: invalid value encountered in double_scalars\n",
      "  ret = ret.dtype.type(ret / rcount)\n",
      "/Users/evelyn/opt/anaconda3/lib/python3.9/site-packages/numpy/core/fromnumeric.py:3440: RuntimeWarning: Mean of empty slice.\n",
      "  return _methods._mean(a, axis=axis, dtype=dtype,\n",
      "/Users/evelyn/opt/anaconda3/lib/python3.9/site-packages/numpy/core/_methods.py:189: RuntimeWarning: invalid value encountered in double_scalars\n",
      "  ret = ret.dtype.type(ret / rcount)\n",
      "/Users/evelyn/opt/anaconda3/lib/python3.9/site-packages/numpy/core/fromnumeric.py:3440: RuntimeWarning: Mean of empty slice.\n",
      "  return _methods._mean(a, axis=axis, dtype=dtype,\n",
      "/Users/evelyn/opt/anaconda3/lib/python3.9/site-packages/numpy/core/_methods.py:189: RuntimeWarning: invalid value encountered in double_scalars\n",
      "  ret = ret.dtype.type(ret / rcount)\n"
     ]
    },
    {
     "name": "stdout",
     "output_type": "stream",
     "text": [
      "86.8780%\n",
      "86.9181%\n",
      "86.9583%\n",
      "86.9984%\n",
      "87.0385%\n",
      "87.0787%\n",
      "87.1188%\n",
      "87.1589%\n",
      "87.1990%\n",
      "87.2392%\n",
      "87.2793%\n",
      "87.3194%\n",
      "87.3596%\n",
      "87.3997%\n",
      "87.4398%\n",
      "87.4799%\n",
      "87.5201%\n",
      "87.5602%\n"
     ]
    },
    {
     "name": "stderr",
     "output_type": "stream",
     "text": [
      "/Users/evelyn/opt/anaconda3/lib/python3.9/site-packages/numpy/core/fromnumeric.py:3440: RuntimeWarning: Mean of empty slice.\n",
      "  return _methods._mean(a, axis=axis, dtype=dtype,\n",
      "/Users/evelyn/opt/anaconda3/lib/python3.9/site-packages/numpy/core/_methods.py:189: RuntimeWarning: invalid value encountered in double_scalars\n",
      "  ret = ret.dtype.type(ret / rcount)\n"
     ]
    },
    {
     "name": "stdout",
     "output_type": "stream",
     "text": [
      "87.6003%\n",
      "87.6404%\n",
      "87.6806%\n",
      "87.7207%\n",
      "87.7608%\n",
      "87.8010%\n",
      "87.8411%\n",
      "87.8812%\n",
      "87.9213%\n",
      "87.9615%\n",
      "88.0016%\n",
      "88.0417%\n",
      "88.0819%\n"
     ]
    },
    {
     "name": "stderr",
     "output_type": "stream",
     "text": [
      "/Users/evelyn/opt/anaconda3/lib/python3.9/site-packages/numpy/core/fromnumeric.py:3440: RuntimeWarning: Mean of empty slice.\n",
      "  return _methods._mean(a, axis=axis, dtype=dtype,\n",
      "/Users/evelyn/opt/anaconda3/lib/python3.9/site-packages/numpy/core/_methods.py:189: RuntimeWarning: invalid value encountered in double_scalars\n",
      "  ret = ret.dtype.type(ret / rcount)\n"
     ]
    },
    {
     "name": "stdout",
     "output_type": "stream",
     "text": [
      "88.1220%\n",
      "88.1621%\n",
      "88.2022%\n",
      "88.2424%\n",
      "88.2825%\n",
      "88.3226%\n"
     ]
    },
    {
     "name": "stderr",
     "output_type": "stream",
     "text": [
      "/Users/evelyn/opt/anaconda3/lib/python3.9/site-packages/numpy/core/fromnumeric.py:3440: RuntimeWarning: Mean of empty slice.\n",
      "  return _methods._mean(a, axis=axis, dtype=dtype,\n",
      "/Users/evelyn/opt/anaconda3/lib/python3.9/site-packages/numpy/core/_methods.py:189: RuntimeWarning: invalid value encountered in double_scalars\n",
      "  ret = ret.dtype.type(ret / rcount)\n",
      "/Users/evelyn/opt/anaconda3/lib/python3.9/site-packages/numpy/core/fromnumeric.py:3440: RuntimeWarning: Mean of empty slice.\n",
      "  return _methods._mean(a, axis=axis, dtype=dtype,\n",
      "/Users/evelyn/opt/anaconda3/lib/python3.9/site-packages/numpy/core/_methods.py:189: RuntimeWarning: invalid value encountered in double_scalars\n",
      "  ret = ret.dtype.type(ret / rcount)\n",
      "/Users/evelyn/opt/anaconda3/lib/python3.9/site-packages/numpy/core/fromnumeric.py:3440: RuntimeWarning: Mean of empty slice.\n",
      "  return _methods._mean(a, axis=axis, dtype=dtype,\n",
      "/Users/evelyn/opt/anaconda3/lib/python3.9/site-packages/numpy/core/_methods.py:189: RuntimeWarning: invalid value encountered in double_scalars\n",
      "  ret = ret.dtype.type(ret / rcount)\n"
     ]
    },
    {
     "name": "stdout",
     "output_type": "stream",
     "text": [
      "88.3628%\n",
      "88.4029%\n",
      "88.4430%\n",
      "88.4831%\n",
      "88.5233%\n",
      "88.5634%\n",
      "88.6035%\n",
      "88.6437%\n",
      "88.6838%\n",
      "88.7239%\n",
      "88.7640%\n"
     ]
    },
    {
     "name": "stderr",
     "output_type": "stream",
     "text": [
      "/Users/evelyn/opt/anaconda3/lib/python3.9/site-packages/numpy/core/fromnumeric.py:3440: RuntimeWarning: Mean of empty slice.\n",
      "  return _methods._mean(a, axis=axis, dtype=dtype,\n",
      "/Users/evelyn/opt/anaconda3/lib/python3.9/site-packages/numpy/core/_methods.py:189: RuntimeWarning: invalid value encountered in double_scalars\n",
      "  ret = ret.dtype.type(ret / rcount)\n"
     ]
    },
    {
     "name": "stdout",
     "output_type": "stream",
     "text": [
      "88.8042%\n",
      "88.8443%\n",
      "88.8844%\n",
      "88.9246%\n"
     ]
    },
    {
     "name": "stderr",
     "output_type": "stream",
     "text": [
      "/Users/evelyn/opt/anaconda3/lib/python3.9/site-packages/numpy/core/fromnumeric.py:3440: RuntimeWarning: Mean of empty slice.\n",
      "  return _methods._mean(a, axis=axis, dtype=dtype,\n",
      "/Users/evelyn/opt/anaconda3/lib/python3.9/site-packages/numpy/core/_methods.py:189: RuntimeWarning: invalid value encountered in double_scalars\n",
      "  ret = ret.dtype.type(ret / rcount)\n"
     ]
    },
    {
     "name": "stdout",
     "output_type": "stream",
     "text": [
      "88.9647%\n",
      "89.0048%\n",
      "89.0449%\n",
      "89.0851%\n",
      "89.1252%\n",
      "89.1653%\n",
      "89.2055%\n",
      "89.2456%\n",
      "89.2857%\n",
      "89.3258%\n",
      "89.3660%\n",
      "89.4061%\n"
     ]
    },
    {
     "name": "stderr",
     "output_type": "stream",
     "text": [
      "/Users/evelyn/opt/anaconda3/lib/python3.9/site-packages/numpy/core/fromnumeric.py:3440: RuntimeWarning: Mean of empty slice.\n",
      "  return _methods._mean(a, axis=axis, dtype=dtype,\n",
      "/Users/evelyn/opt/anaconda3/lib/python3.9/site-packages/numpy/core/_methods.py:189: RuntimeWarning: invalid value encountered in double_scalars\n",
      "  ret = ret.dtype.type(ret / rcount)\n",
      "/Users/evelyn/opt/anaconda3/lib/python3.9/site-packages/numpy/core/fromnumeric.py:3440: RuntimeWarning: Mean of empty slice.\n",
      "  return _methods._mean(a, axis=axis, dtype=dtype,\n",
      "/Users/evelyn/opt/anaconda3/lib/python3.9/site-packages/numpy/core/_methods.py:189: RuntimeWarning: invalid value encountered in double_scalars\n",
      "  ret = ret.dtype.type(ret / rcount)\n",
      "/Users/evelyn/opt/anaconda3/lib/python3.9/site-packages/numpy/core/fromnumeric.py:3440: RuntimeWarning: Mean of empty slice.\n",
      "  return _methods._mean(a, axis=axis, dtype=dtype,\n",
      "/Users/evelyn/opt/anaconda3/lib/python3.9/site-packages/numpy/core/_methods.py:189: RuntimeWarning: invalid value encountered in double_scalars\n",
      "  ret = ret.dtype.type(ret / rcount)\n"
     ]
    },
    {
     "name": "stdout",
     "output_type": "stream",
     "text": [
      "89.4462%\n",
      "89.4864%\n",
      "89.5265%\n",
      "89.5666%\n",
      "89.6067%\n",
      "89.6469%\n",
      "89.6870%\n",
      "89.7271%\n",
      "89.7673%\n",
      "89.8074%\n",
      "89.8475%\n",
      "89.8876%\n",
      "89.9278%\n",
      "89.9679%\n"
     ]
    },
    {
     "name": "stderr",
     "output_type": "stream",
     "text": [
      "/Users/evelyn/opt/anaconda3/lib/python3.9/site-packages/numpy/core/fromnumeric.py:3440: RuntimeWarning: Mean of empty slice.\n",
      "  return _methods._mean(a, axis=axis, dtype=dtype,\n",
      "/Users/evelyn/opt/anaconda3/lib/python3.9/site-packages/numpy/core/_methods.py:189: RuntimeWarning: invalid value encountered in double_scalars\n",
      "  ret = ret.dtype.type(ret / rcount)\n"
     ]
    },
    {
     "name": "stdout",
     "output_type": "stream",
     "text": [
      "90.0080%\n",
      "90.0482%\n",
      "90.0883%\n",
      "90.1284%\n",
      "90.1685%\n"
     ]
    },
    {
     "name": "stderr",
     "output_type": "stream",
     "text": [
      "/Users/evelyn/opt/anaconda3/lib/python3.9/site-packages/numpy/core/fromnumeric.py:3440: RuntimeWarning: Mean of empty slice.\n",
      "  return _methods._mean(a, axis=axis, dtype=dtype,\n",
      "/Users/evelyn/opt/anaconda3/lib/python3.9/site-packages/numpy/core/_methods.py:189: RuntimeWarning: invalid value encountered in double_scalars\n",
      "  ret = ret.dtype.type(ret / rcount)\n"
     ]
    },
    {
     "name": "stdout",
     "output_type": "stream",
     "text": [
      "90.2087%\n",
      "90.2488%\n",
      "90.2889%\n",
      "90.3291%\n",
      "90.3692%\n",
      "90.4093%\n",
      "90.4494%\n"
     ]
    },
    {
     "name": "stderr",
     "output_type": "stream",
     "text": [
      "/Users/evelyn/opt/anaconda3/lib/python3.9/site-packages/numpy/core/fromnumeric.py:3440: RuntimeWarning: Mean of empty slice.\n",
      "  return _methods._mean(a, axis=axis, dtype=dtype,\n",
      "/Users/evelyn/opt/anaconda3/lib/python3.9/site-packages/numpy/core/_methods.py:189: RuntimeWarning: invalid value encountered in double_scalars\n",
      "  ret = ret.dtype.type(ret / rcount)\n"
     ]
    },
    {
     "name": "stdout",
     "output_type": "stream",
     "text": [
      "90.4896%\n",
      "90.5297%\n",
      "90.5698%\n",
      "90.6100%\n",
      "90.6501%\n",
      "90.6902%\n",
      "90.7303%\n"
     ]
    },
    {
     "name": "stderr",
     "output_type": "stream",
     "text": [
      "/Users/evelyn/opt/anaconda3/lib/python3.9/site-packages/numpy/core/fromnumeric.py:3440: RuntimeWarning: Mean of empty slice.\n",
      "  return _methods._mean(a, axis=axis, dtype=dtype,\n",
      "/Users/evelyn/opt/anaconda3/lib/python3.9/site-packages/numpy/core/_methods.py:189: RuntimeWarning: invalid value encountered in double_scalars\n",
      "  ret = ret.dtype.type(ret / rcount)\n"
     ]
    },
    {
     "name": "stdout",
     "output_type": "stream",
     "text": [
      "90.7705%\n",
      "90.8106%\n",
      "90.8507%\n",
      "90.8909%\n",
      "90.9310%\n",
      "90.9711%\n",
      "91.0112%\n",
      "91.0514%\n",
      "91.0915%\n",
      "91.1316%\n",
      "91.1717%\n",
      "91.2119%\n",
      "91.2520%\n",
      "91.2921%\n",
      "91.3323%\n",
      "91.3724%\n",
      "91.4125%\n",
      "91.4526%\n",
      "91.4928%\n",
      "91.5329%\n",
      "91.5730%\n",
      "91.6132%\n",
      "91.6533%\n",
      "91.6934%\n",
      "91.7335%\n"
     ]
    },
    {
     "name": "stderr",
     "output_type": "stream",
     "text": [
      "/Users/evelyn/opt/anaconda3/lib/python3.9/site-packages/numpy/core/fromnumeric.py:3440: RuntimeWarning: Mean of empty slice.\n",
      "  return _methods._mean(a, axis=axis, dtype=dtype,\n",
      "/Users/evelyn/opt/anaconda3/lib/python3.9/site-packages/numpy/core/_methods.py:189: RuntimeWarning: invalid value encountered in double_scalars\n",
      "  ret = ret.dtype.type(ret / rcount)\n"
     ]
    },
    {
     "name": "stdout",
     "output_type": "stream",
     "text": [
      "91.7737%\n",
      "91.8138%\n",
      "91.8539%\n",
      "91.8941%\n",
      "91.9342%\n",
      "91.9743%\n",
      "92.0144%\n",
      "92.0546%\n",
      "92.0947%\n",
      "92.1348%\n",
      "92.1750%\n",
      "92.2151%\n",
      "92.2552%\n",
      "92.2953%\n",
      "92.3355%\n"
     ]
    },
    {
     "name": "stderr",
     "output_type": "stream",
     "text": [
      "/Users/evelyn/opt/anaconda3/lib/python3.9/site-packages/numpy/core/fromnumeric.py:3440: RuntimeWarning: Mean of empty slice.\n",
      "  return _methods._mean(a, axis=axis, dtype=dtype,\n",
      "/Users/evelyn/opt/anaconda3/lib/python3.9/site-packages/numpy/core/_methods.py:189: RuntimeWarning: invalid value encountered in double_scalars\n",
      "  ret = ret.dtype.type(ret / rcount)\n",
      "/Users/evelyn/opt/anaconda3/lib/python3.9/site-packages/numpy/core/fromnumeric.py:3440: RuntimeWarning: Mean of empty slice.\n",
      "  return _methods._mean(a, axis=axis, dtype=dtype,\n",
      "/Users/evelyn/opt/anaconda3/lib/python3.9/site-packages/numpy/core/_methods.py:189: RuntimeWarning: invalid value encountered in double_scalars\n",
      "  ret = ret.dtype.type(ret / rcount)\n"
     ]
    },
    {
     "name": "stdout",
     "output_type": "stream",
     "text": [
      "92.3756%\n",
      "92.4157%\n",
      "92.4559%\n",
      "92.4960%\n",
      "92.5361%\n",
      "92.5762%\n",
      "92.6164%\n",
      "92.6565%\n",
      "92.6966%\n"
     ]
    },
    {
     "name": "stderr",
     "output_type": "stream",
     "text": [
      "/Users/evelyn/opt/anaconda3/lib/python3.9/site-packages/numpy/core/fromnumeric.py:3440: RuntimeWarning: Mean of empty slice.\n",
      "  return _methods._mean(a, axis=axis, dtype=dtype,\n",
      "/Users/evelyn/opt/anaconda3/lib/python3.9/site-packages/numpy/core/_methods.py:189: RuntimeWarning: invalid value encountered in double_scalars\n",
      "  ret = ret.dtype.type(ret / rcount)\n",
      "/Users/evelyn/opt/anaconda3/lib/python3.9/site-packages/numpy/core/fromnumeric.py:3440: RuntimeWarning: Mean of empty slice.\n",
      "  return _methods._mean(a, axis=axis, dtype=dtype,\n",
      "/Users/evelyn/opt/anaconda3/lib/python3.9/site-packages/numpy/core/_methods.py:189: RuntimeWarning: invalid value encountered in double_scalars\n",
      "  ret = ret.dtype.type(ret / rcount)\n"
     ]
    },
    {
     "name": "stdout",
     "output_type": "stream",
     "text": [
      "92.7368%\n",
      "92.7769%\n",
      "92.8170%\n",
      "92.8571%\n",
      "92.8973%\n",
      "92.9374%\n"
     ]
    },
    {
     "name": "stderr",
     "output_type": "stream",
     "text": [
      "/Users/evelyn/opt/anaconda3/lib/python3.9/site-packages/numpy/core/fromnumeric.py:3440: RuntimeWarning: Mean of empty slice.\n",
      "  return _methods._mean(a, axis=axis, dtype=dtype,\n",
      "/Users/evelyn/opt/anaconda3/lib/python3.9/site-packages/numpy/core/_methods.py:189: RuntimeWarning: invalid value encountered in double_scalars\n",
      "  ret = ret.dtype.type(ret / rcount)\n"
     ]
    },
    {
     "name": "stdout",
     "output_type": "stream",
     "text": [
      "92.9775%\n",
      "93.0177%\n",
      "93.0578%\n",
      "93.0979%\n",
      "93.1380%\n",
      "93.1782%\n",
      "93.2183%\n",
      "93.2584%\n"
     ]
    },
    {
     "name": "stderr",
     "output_type": "stream",
     "text": [
      "/Users/evelyn/opt/anaconda3/lib/python3.9/site-packages/numpy/core/fromnumeric.py:3440: RuntimeWarning: Mean of empty slice.\n",
      "  return _methods._mean(a, axis=axis, dtype=dtype,\n",
      "/Users/evelyn/opt/anaconda3/lib/python3.9/site-packages/numpy/core/_methods.py:189: RuntimeWarning: invalid value encountered in double_scalars\n",
      "  ret = ret.dtype.type(ret / rcount)\n"
     ]
    },
    {
     "name": "stdout",
     "output_type": "stream",
     "text": [
      "93.2986%\n",
      "93.3387%\n",
      "93.3788%\n",
      "93.4189%\n",
      "93.4591%\n"
     ]
    },
    {
     "name": "stderr",
     "output_type": "stream",
     "text": [
      "/Users/evelyn/opt/anaconda3/lib/python3.9/site-packages/numpy/core/fromnumeric.py:3440: RuntimeWarning: Mean of empty slice.\n",
      "  return _methods._mean(a, axis=axis, dtype=dtype,\n",
      "/Users/evelyn/opt/anaconda3/lib/python3.9/site-packages/numpy/core/_methods.py:189: RuntimeWarning: invalid value encountered in double_scalars\n",
      "  ret = ret.dtype.type(ret / rcount)\n"
     ]
    },
    {
     "name": "stdout",
     "output_type": "stream",
     "text": [
      "93.4992%\n",
      "93.5393%\n",
      "93.5795%\n",
      "93.6196%\n",
      "93.6597%\n",
      "93.6998%\n",
      "93.7400%\n"
     ]
    },
    {
     "name": "stderr",
     "output_type": "stream",
     "text": [
      "/Users/evelyn/opt/anaconda3/lib/python3.9/site-packages/numpy/core/fromnumeric.py:3440: RuntimeWarning: Mean of empty slice.\n",
      "  return _methods._mean(a, axis=axis, dtype=dtype,\n",
      "/Users/evelyn/opt/anaconda3/lib/python3.9/site-packages/numpy/core/_methods.py:189: RuntimeWarning: invalid value encountered in double_scalars\n",
      "  ret = ret.dtype.type(ret / rcount)\n",
      "/Users/evelyn/opt/anaconda3/lib/python3.9/site-packages/numpy/core/fromnumeric.py:3440: RuntimeWarning: Mean of empty slice.\n",
      "  return _methods._mean(a, axis=axis, dtype=dtype,\n",
      "/Users/evelyn/opt/anaconda3/lib/python3.9/site-packages/numpy/core/_methods.py:189: RuntimeWarning: invalid value encountered in double_scalars\n",
      "  ret = ret.dtype.type(ret / rcount)\n"
     ]
    },
    {
     "name": "stdout",
     "output_type": "stream",
     "text": [
      "93.7801%\n",
      "93.8202%\n",
      "93.8604%\n",
      "93.9005%\n",
      "93.9406%\n",
      "93.9807%\n",
      "94.0209%\n",
      "94.0610%\n",
      "94.1011%\n",
      "94.1413%\n",
      "94.1814%\n",
      "94.2215%\n",
      "94.2616%\n",
      "94.3018%\n",
      "94.3419%\n",
      "94.3820%\n",
      "94.4222%\n",
      "94.4623%\n",
      "94.5024%\n",
      "94.5425%\n",
      "94.5827%\n",
      "94.6228%\n",
      "94.6629%\n",
      "94.7030%\n",
      "94.7432%\n",
      "94.7833%\n",
      "94.8234%\n",
      "94.8636%\n",
      "94.9037%\n",
      "94.9438%\n",
      "94.9839%\n",
      "95.0241%\n",
      "95.0642%\n",
      "95.1043%\n",
      "95.1445%\n",
      "95.1846%\n",
      "95.2247%\n",
      "95.2648%\n",
      "95.3050%\n"
     ]
    },
    {
     "name": "stderr",
     "output_type": "stream",
     "text": [
      "/Users/evelyn/opt/anaconda3/lib/python3.9/site-packages/numpy/core/fromnumeric.py:3440: RuntimeWarning: Mean of empty slice.\n",
      "  return _methods._mean(a, axis=axis, dtype=dtype,\n",
      "/Users/evelyn/opt/anaconda3/lib/python3.9/site-packages/numpy/core/_methods.py:189: RuntimeWarning: invalid value encountered in double_scalars\n",
      "  ret = ret.dtype.type(ret / rcount)\n"
     ]
    },
    {
     "name": "stdout",
     "output_type": "stream",
     "text": [
      "95.3451%\n",
      "95.3852%\n",
      "95.4254%\n",
      "95.4655%\n"
     ]
    },
    {
     "name": "stderr",
     "output_type": "stream",
     "text": [
      "/Users/evelyn/opt/anaconda3/lib/python3.9/site-packages/numpy/core/fromnumeric.py:3440: RuntimeWarning: Mean of empty slice.\n",
      "  return _methods._mean(a, axis=axis, dtype=dtype,\n",
      "/Users/evelyn/opt/anaconda3/lib/python3.9/site-packages/numpy/core/_methods.py:189: RuntimeWarning: invalid value encountered in double_scalars\n",
      "  ret = ret.dtype.type(ret / rcount)\n"
     ]
    },
    {
     "name": "stdout",
     "output_type": "stream",
     "text": [
      "95.5056%\n",
      "95.5457%\n",
      "95.5859%\n",
      "95.6260%\n",
      "95.6661%\n",
      "95.7063%\n",
      "95.7464%\n",
      "95.7865%\n",
      "95.8266%\n",
      "95.8668%\n",
      "95.9069%\n",
      "95.9470%\n",
      "95.9872%\n",
      "96.0273%\n",
      "96.0674%\n",
      "96.1075%\n",
      "96.1477%\n"
     ]
    },
    {
     "name": "stderr",
     "output_type": "stream",
     "text": [
      "/Users/evelyn/opt/anaconda3/lib/python3.9/site-packages/numpy/core/fromnumeric.py:3440: RuntimeWarning: Mean of empty slice.\n",
      "  return _methods._mean(a, axis=axis, dtype=dtype,\n",
      "/Users/evelyn/opt/anaconda3/lib/python3.9/site-packages/numpy/core/_methods.py:189: RuntimeWarning: invalid value encountered in double_scalars\n",
      "  ret = ret.dtype.type(ret / rcount)\n"
     ]
    },
    {
     "name": "stdout",
     "output_type": "stream",
     "text": [
      "96.1878%\n",
      "96.2279%\n",
      "96.2681%\n",
      "96.3082%\n",
      "96.3483%\n",
      "96.3884%\n",
      "96.4286%\n",
      "96.4687%\n",
      "96.5088%\n",
      "96.5490%\n",
      "96.5891%\n",
      "96.6292%\n",
      "96.6693%\n",
      "96.7095%\n",
      "96.7496%\n",
      "96.7897%\n",
      "96.8299%\n",
      "96.8700%\n",
      "96.9101%\n",
      "96.9502%\n"
     ]
    },
    {
     "name": "stderr",
     "output_type": "stream",
     "text": [
      "/Users/evelyn/opt/anaconda3/lib/python3.9/site-packages/numpy/core/fromnumeric.py:3440: RuntimeWarning: Mean of empty slice.\n",
      "  return _methods._mean(a, axis=axis, dtype=dtype,\n",
      "/Users/evelyn/opt/anaconda3/lib/python3.9/site-packages/numpy/core/_methods.py:189: RuntimeWarning: invalid value encountered in double_scalars\n",
      "  ret = ret.dtype.type(ret / rcount)\n",
      "/Users/evelyn/opt/anaconda3/lib/python3.9/site-packages/numpy/core/fromnumeric.py:3440: RuntimeWarning: Mean of empty slice.\n",
      "  return _methods._mean(a, axis=axis, dtype=dtype,\n",
      "/Users/evelyn/opt/anaconda3/lib/python3.9/site-packages/numpy/core/_methods.py:189: RuntimeWarning: invalid value encountered in double_scalars\n",
      "  ret = ret.dtype.type(ret / rcount)\n"
     ]
    },
    {
     "name": "stdout",
     "output_type": "stream",
     "text": [
      "96.9904%\n",
      "97.0305%\n",
      "97.0706%\n",
      "97.1108%\n",
      "97.1509%\n",
      "97.1910%\n",
      "97.2311%\n"
     ]
    },
    {
     "name": "stderr",
     "output_type": "stream",
     "text": [
      "/Users/evelyn/opt/anaconda3/lib/python3.9/site-packages/numpy/core/fromnumeric.py:3440: RuntimeWarning: Mean of empty slice.\n",
      "  return _methods._mean(a, axis=axis, dtype=dtype,\n",
      "/Users/evelyn/opt/anaconda3/lib/python3.9/site-packages/numpy/core/_methods.py:189: RuntimeWarning: invalid value encountered in double_scalars\n",
      "  ret = ret.dtype.type(ret / rcount)\n"
     ]
    },
    {
     "name": "stdout",
     "output_type": "stream",
     "text": [
      "97.2713%\n",
      "97.3114%\n",
      "97.3515%\n",
      "97.3917%\n",
      "97.4318%\n",
      "97.4719%\n",
      "97.5120%\n",
      "97.5522%\n",
      "97.5923%\n",
      "97.6324%\n",
      "97.6726%\n",
      "97.7127%\n",
      "97.7528%\n",
      "97.7929%\n"
     ]
    },
    {
     "name": "stderr",
     "output_type": "stream",
     "text": [
      "/Users/evelyn/opt/anaconda3/lib/python3.9/site-packages/numpy/core/fromnumeric.py:3440: RuntimeWarning: Mean of empty slice.\n",
      "  return _methods._mean(a, axis=axis, dtype=dtype,\n",
      "/Users/evelyn/opt/anaconda3/lib/python3.9/site-packages/numpy/core/_methods.py:189: RuntimeWarning: invalid value encountered in double_scalars\n",
      "  ret = ret.dtype.type(ret / rcount)\n"
     ]
    },
    {
     "name": "stdout",
     "output_type": "stream",
     "text": [
      "97.8331%\n",
      "97.8732%\n",
      "97.9133%\n",
      "97.9535%\n"
     ]
    },
    {
     "name": "stderr",
     "output_type": "stream",
     "text": [
      "/Users/evelyn/opt/anaconda3/lib/python3.9/site-packages/numpy/core/fromnumeric.py:3440: RuntimeWarning: Mean of empty slice.\n",
      "  return _methods._mean(a, axis=axis, dtype=dtype,\n",
      "/Users/evelyn/opt/anaconda3/lib/python3.9/site-packages/numpy/core/_methods.py:189: RuntimeWarning: invalid value encountered in double_scalars\n",
      "  ret = ret.dtype.type(ret / rcount)\n",
      "/Users/evelyn/opt/anaconda3/lib/python3.9/site-packages/numpy/core/fromnumeric.py:3440: RuntimeWarning: Mean of empty slice.\n",
      "  return _methods._mean(a, axis=axis, dtype=dtype,\n",
      "/Users/evelyn/opt/anaconda3/lib/python3.9/site-packages/numpy/core/_methods.py:189: RuntimeWarning: invalid value encountered in double_scalars\n",
      "  ret = ret.dtype.type(ret / rcount)\n"
     ]
    },
    {
     "name": "stdout",
     "output_type": "stream",
     "text": [
      "97.9936%\n",
      "98.0337%\n",
      "98.0738%\n",
      "98.1140%\n",
      "98.1541%\n",
      "98.1942%\n",
      "98.2343%\n",
      "98.2745%\n",
      "98.3146%\n",
      "98.3547%\n",
      "98.3949%\n",
      "98.4350%\n",
      "98.4751%\n",
      "98.5152%\n",
      "98.5554%\n",
      "98.5955%\n",
      "98.6356%\n",
      "98.6758%\n"
     ]
    },
    {
     "name": "stderr",
     "output_type": "stream",
     "text": [
      "/Users/evelyn/opt/anaconda3/lib/python3.9/site-packages/numpy/core/fromnumeric.py:3440: RuntimeWarning: Mean of empty slice.\n",
      "  return _methods._mean(a, axis=axis, dtype=dtype,\n",
      "/Users/evelyn/opt/anaconda3/lib/python3.9/site-packages/numpy/core/_methods.py:189: RuntimeWarning: invalid value encountered in double_scalars\n",
      "  ret = ret.dtype.type(ret / rcount)\n",
      "/Users/evelyn/opt/anaconda3/lib/python3.9/site-packages/numpy/core/fromnumeric.py:3440: RuntimeWarning: Mean of empty slice.\n",
      "  return _methods._mean(a, axis=axis, dtype=dtype,\n",
      "/Users/evelyn/opt/anaconda3/lib/python3.9/site-packages/numpy/core/_methods.py:189: RuntimeWarning: invalid value encountered in double_scalars\n",
      "  ret = ret.dtype.type(ret / rcount)\n",
      "/Users/evelyn/opt/anaconda3/lib/python3.9/site-packages/numpy/core/fromnumeric.py:3440: RuntimeWarning: Mean of empty slice.\n",
      "  return _methods._mean(a, axis=axis, dtype=dtype,\n",
      "/Users/evelyn/opt/anaconda3/lib/python3.9/site-packages/numpy/core/_methods.py:189: RuntimeWarning: invalid value encountered in double_scalars\n",
      "  ret = ret.dtype.type(ret / rcount)\n"
     ]
    },
    {
     "name": "stdout",
     "output_type": "stream",
     "text": [
      "98.7159%\n",
      "98.7560%\n",
      "98.7961%\n",
      "98.8363%\n",
      "98.8764%\n",
      "98.9165%\n",
      "98.9567%\n",
      "98.9968%\n",
      "99.0369%\n",
      "99.0770%\n",
      "99.1172%\n",
      "99.1573%\n",
      "99.1974%\n",
      "99.2376%\n",
      "99.2777%\n",
      "99.3178%\n"
     ]
    },
    {
     "name": "stderr",
     "output_type": "stream",
     "text": [
      "/Users/evelyn/opt/anaconda3/lib/python3.9/site-packages/numpy/core/fromnumeric.py:3440: RuntimeWarning: Mean of empty slice.\n",
      "  return _methods._mean(a, axis=axis, dtype=dtype,\n",
      "/Users/evelyn/opt/anaconda3/lib/python3.9/site-packages/numpy/core/_methods.py:189: RuntimeWarning: invalid value encountered in double_scalars\n",
      "  ret = ret.dtype.type(ret / rcount)\n"
     ]
    },
    {
     "name": "stdout",
     "output_type": "stream",
     "text": [
      "99.3579%\n",
      "99.3981%\n",
      "99.4382%\n",
      "99.4783%\n",
      "99.5185%\n",
      "99.5586%\n",
      "99.5987%\n",
      "99.6388%\n",
      "99.6790%\n",
      "99.7191%\n",
      "99.7592%\n",
      "99.7994%\n",
      "99.8395%\n",
      "99.8796%\n",
      "99.9197%\n",
      "99.9599%\n"
     ]
    }
   ],
   "source": [
    "path = '/Users/evelyn/Desktop/weather information/noro-weather/'\n",
    "\n",
    "path1 = '/Users/evelyn/Desktop/NORO/'\n",
    "\n",
    "import os\n",
    "import os.path\n",
    "import numpy as np\n",
    "import datetime\n",
    "\n",
    "for i in range(len(noro)):\n",
    "    print('{:.4%}'.format(i/len(noro)))\n",
    "    \n",
    "    df_outbreak = noro_station[noro_station[\"CDCID\"] == noro.loc[i,\"CDCID\"]]\n",
    "    df_outbreak = df_outbreak.reset_index(drop = True)\n",
    "\n",
    "    df_null = noro_null[noro_null[\"CDCID\"] == noro.loc[i,\"CDCID\"]]\n",
    "    df_null = df_null.reset_index(drop = True)\n",
    "\n",
    "    TEMP = [] ; MAX = [] ; MIN = [] ; DEWP = [] ; SLP = [] ; STP = [] ; WDSP = [] ; MXSPD = [];\n",
    "    PRCP = [] ; SNDP = [];\n",
    "    Fog = [] ; Rain = [] ; Snow = [] ; Hail = [] ; Thunder = [] ; Tornado = [];\n",
    "    if (len(df_outbreak) > 0):\n",
    "        startdate = datetime.datetime.strptime(df_outbreak.loc[0, \"InitialExposure\"], \"%Y-%m-%d\")\n",
    "        enddate = datetime.datetime.strptime(df_outbreak.loc[0, \"LastExposure\"], \"%Y-%m-%d\")\n",
    "    elif (len(df_null) > 0):\n",
    "        startdate = datetime.datetime.strptime(df_null.loc[0, \"InitialExposure\"], \"%Y-%m-%d\")\n",
    "        enddate = datetime.datetime.strptime(df_null.loc[0, \"LastExposure\"], \"%Y-%m-%d\")\n",
    "    else:\n",
    "        continue\n",
    "\n",
    "    delta = datetime.timedelta(days=1)\n",
    "    d = startdate\n",
    "\n",
    "    while d <= enddate:\n",
    "        yr = int(str(d)[:4])\n",
    "        TEMP1 = [] ; MAX1 = [] ; MIN1 = [] ; DEWP1 = [] ; SLP1 = [] ; STP1 = [] ; WDSP1 = [] ; MXSPD1 = [];\n",
    "        PRCP1 = [] ; SNDP1 = [];\n",
    "        Fog1 = [] ; Rain1 = [] ; Snow1 = [] ; Hail1 = [] ; Thunder1 = [] ; Tornado1 = [];\n",
    "\n",
    "        if (len(df_outbreak) > 0):\n",
    "            for j in range(len(df_outbreak)):\n",
    "                usaf = df_outbreak.loc[j, \"USAF\"]\n",
    "                wban = df_outbreak.loc[j, \"WBAN\"]\n",
    "                filename = str(usaf) + str(wban) + \"-\" + str(yr) + \"DAILY.csv\"\n",
    "                if not(os.path.isfile(path+filename)):\n",
    "                    continue \n",
    "                elif(sum(1 for line in open(path+filename)) < 10):\n",
    "                    continue \n",
    "                else:\n",
    "                    df = pd.read_csv(path + filename)\n",
    "                    if(df.DATE.str.contains(str(d)[:10]).any()):\n",
    "                        m = df[df.DATE == str(d)[:10]].index.tolist()[0]\n",
    "                        if(df.loc[m, \"TEMP\"] < 9999):\n",
    "                            TEMP1.append(df.loc[m, \"TEMP\"])\n",
    "                        if(df.loc[m, \"MAX\"] < 9999):\n",
    "                            MAX1.append(df.loc[m, \"MAX\"])\n",
    "                        if(df.loc[m, \"MIN\"] < 9999):\n",
    "                            MIN1.append(df.loc[m, \"MIN\"])\n",
    "                        if(df.loc[m, \"DEWP\"] < 9999):\n",
    "                            DEWP1.append(df.loc[m, \"DEWP\"])\n",
    "                        if(df.loc[m, \"SLP\"] < 9999):\n",
    "                            SLP1.append(df.loc[m, \"SLP\"])\n",
    "                        if(df.loc[m, \"STP\"] < 100):\n",
    "                            df.loc[m, \"STP\"] = df.loc[m, \"STP\"] + 1000\n",
    "                            STP1.append(df.loc[m, \"STP\"])\n",
    "                        elif not(df.loc[m, \"STP_ATTRIBUTES\"] == 0):\n",
    "                            STP1.append(df.loc[m, \"STP\"]) \n",
    "                        if(df.loc[m, \"WDSP\"] < 999):\n",
    "                            WDSP1.append(df.loc[m, \"WDSP\"])\n",
    "                        if(df.loc[m, \"MXSPD\"] < 998):\n",
    "                            MXSPD1.append(df.loc[m, \"MXSPD\"])\n",
    "                        if(df.loc[m, \"PRCP\"] < 99):\n",
    "                            PRCP1.append(df.loc[m, \"PRCP\"])\n",
    "\n",
    "                        SNDP1.append(df.loc[m, \"SNDP\"]) \n",
    "                        Fog1.append(df.loc[m, \"Fog\"])\n",
    "                        Rain1.append(df.loc[m, \"Rain or Drizzle\"])\n",
    "                        Snow1.append(df.loc[m, \"Snow or Ice Pellets\"])\n",
    "                        Hail1.append(df.loc[m, \"Hail\"])\n",
    "                        Thunder1.append(df.loc[m, \"Thunder\"])\n",
    "                        Tornado1.append(df.loc[m, \"Tornado or Funnel Cloud\"])\n",
    "                    else:\n",
    "                        continue\n",
    "\n",
    "        if (len(df_null) > 0):\n",
    "            for k in range(len(df_null)):\n",
    "                usaf1 = df_null.loc[k, \"USAF0\"]\n",
    "                wban1 = df_null.loc[k, \"WBAN0\"]\n",
    "                filename1 = str(usaf1) + str(wban1) + \"-\" + str(yr) + \"DAILY.csv\"\n",
    "                dfn = pd.read_csv(path1 + filename1)\n",
    "                if(dfn.DATE.str.contains(str(d)[:10]).any()):\n",
    "                    a = dfn[dfn.DATE == str(d)[:10]].index.tolist()[0]\n",
    "                    if not(pd.isna(dfn.loc[a, \"TEMP\"])):\n",
    "                        TEMP1.append(dfn.loc[a, \"TEMP\"]) \n",
    "                    if not(pd.isna(dfn.loc[a, \"MAX\"])):\n",
    "                        MAX1.append(dfn.loc[a, \"MAX\"])\n",
    "                    if not(pd.isna(dfn.loc[a, \"MIN\"])):\n",
    "                        MIN1.append(dfn.loc[a, \"MIN\"])\n",
    "                    if not(pd.isna(dfn.loc[a, \"DEWP\"])):\n",
    "                        DEWP1.append(dfn.loc[a, \"DEWP\"])\n",
    "                    if not(pd.isna(dfn.loc[a, \"SLP\"])):\n",
    "                        SLP1.append(dfn.loc[a, \"SLP\"])\n",
    "                    if not(pd.isna(dfn.loc[a, \"STP\"])):\n",
    "                        STP1.append(dfn.loc[a, \"STP\"])\n",
    "                    if not(pd.isna(dfn.loc[a, \"WDSP\"])):\n",
    "                        WDSP1.append(dfn.loc[a, \"WDSP\"])\n",
    "                    if not(pd.isna(dfn.loc[a, \"MXSPD\"])):\n",
    "                        MXSPD1.append(dfn.loc[a, \"MXSPD\"])\n",
    "                    if not(pd.isna(dfn.loc[a, \"PRCP\"])):\n",
    "                        PRCP1.append(dfn.loc[a, \"PRCP\"])\n",
    "\n",
    "                    SNDP1.append(dfn.loc[a, \"SNDP\"])\n",
    "                    Fog1.append(dfn.loc[a, \"Fog\"])\n",
    "                    Rain1.append(dfn.loc[a, \"Rain or Drizzle\"])\n",
    "                    Snow1.append(dfn.loc[a, \"Snow or Ice Pellets\"])\n",
    "                    Hail1.append(dfn.loc[a, \"Hail\"])\n",
    "                    Thunder1.append(dfn.loc[a, \"Thunder\"])\n",
    "                    Tornado1.append(dfn.loc[a, \"Tornado or Funnel Cloud\"])\n",
    "                else:\n",
    "                    continue\n",
    "\n",
    "        if not(len(TEMP1) == 0):\n",
    "            TEMP.append(np.mean(TEMP1))\n",
    "        if not(len(MAX1) == 0):\n",
    "            MAX.append(np.mean(MAX1))\n",
    "        if not (len(MIN1) == 0):\n",
    "            MIN.append(np.mean(MIN1))\n",
    "        if not (len(DEWP1) == 0):\n",
    "            DEWP.append(np.mean(DEWP1))\n",
    "        if not (len(SLP1) == 0):\n",
    "            SLP.append(np.mean(SLP1))\n",
    "        if not (len(STP1) == 0):\n",
    "            STP.append(np.mean(STP1))\n",
    "        if not (len(WDSP1) == 0):\n",
    "            WDSP.append(np.mean(WDSP1))\n",
    "        if not (len(MXSPD1) == 0):\n",
    "            MXSPD.append(np.mean(MXSPD1))\n",
    "        if not (len(PRCP1) == 0):\n",
    "            PRCP.append(np.mean(PRCP1))\n",
    "        if not (len(SNDP1) == 0):\n",
    "            SNDP.append(np.mean(SNDP1))\n",
    "        if not (len(Fog1) == 0):\n",
    "            Fog.append(np.mean(Fog1))\n",
    "        if not (len(Rain1) == 0):\n",
    "            Rain.append(np.mean(Rain1))\n",
    "        if not (len(Snow1) == 0):\n",
    "            Snow.append(np.mean(Snow1))\n",
    "        if not (len(Hail1) == 0):\n",
    "            Hail.append(np.mean(Hail1))\n",
    "        if not (len(Thunder1) == 0):\n",
    "            Thunder.append(np.mean(Thunder1))\n",
    "        if not (len(Tornado1) == 0):\n",
    "            Tornado.append(np.mean(Tornado1))\n",
    "\n",
    "        d = d + delta\n",
    "\n",
    "    noro.loc[i, \"TEMP\"] = np.mean(TEMP); \n",
    "    noro.loc[i, \"MAX\"] = np.mean(MAX); \n",
    "    noro.loc[i, \"MIN\"] = np.mean(MIN);\n",
    "    noro.loc[i, \"DEWP\"] = np.mean(DEWP); \n",
    "    noro.loc[i, \"SLP\"] = np.mean(SLP); \n",
    "    noro.loc[i, \"STP\"] = np.mean(STP);\n",
    "    noro.loc[i, \"WDSP\"] = np.mean(WDSP); \n",
    "    noro.loc[i, \"MXSPD\"] = np.mean(MXSPD); \n",
    "    noro.loc[i, \"PRCP\"] = np.mean(PRCP);\n",
    "    noro.loc[i, \"SNDP\"] = np.mean(SNDP); \n",
    "    noro.loc[i, \"Fog\"] = np.mean(Fog); \n",
    "    noro.loc[i, \"Rain or Drizzle\"] = np.mean(Rain);\n",
    "    noro.loc[i, \"Snow or Ice Pellets\"] = np.mean(Snow); \n",
    "    noro.loc[i, \"Hail\"] = np.mean(Hail); \n",
    "    noro.loc[i, \"Thunder\"] = np.mean(Thunder); \n",
    "    noro.loc[i, \"Tornado or Funnel Cloud\"] = np.mean(Tornado);  \n"
   ]
  },
  {
   "cell_type": "code",
   "execution_count": 9,
   "id": "bde4176a",
   "metadata": {},
   "outputs": [],
   "source": [
    "noro.to_csv('/Users/evelyn/Desktop/weather information/NORO.csv')"
   ]
  },
  {
   "cell_type": "code",
   "execution_count": 8,
   "id": "f9286c5f",
   "metadata": {},
   "outputs": [
    {
     "data": {
      "text/html": [
       "<div>\n",
       "<style scoped>\n",
       "    .dataframe tbody tr th:only-of-type {\n",
       "        vertical-align: middle;\n",
       "    }\n",
       "\n",
       "    .dataframe tbody tr th {\n",
       "        vertical-align: top;\n",
       "    }\n",
       "\n",
       "    .dataframe thead th {\n",
       "        text-align: right;\n",
       "    }\n",
       "</style>\n",
       "<table border=\"1\" class=\"dataframe\">\n",
       "  <thead>\n",
       "    <tr style=\"text-align: right;\">\n",
       "      <th></th>\n",
       "      <th>Unnamed: 0</th>\n",
       "      <th>CDCID</th>\n",
       "      <th>TotalCases</th>\n",
       "      <th>TEMP</th>\n",
       "      <th>MAX</th>\n",
       "      <th>MIN</th>\n",
       "      <th>DEWP</th>\n",
       "      <th>SLP</th>\n",
       "      <th>STP</th>\n",
       "      <th>WDSP</th>\n",
       "      <th>MXSPD</th>\n",
       "      <th>PRCP</th>\n",
       "      <th>SNDP</th>\n",
       "      <th>Fog</th>\n",
       "      <th>Rain or Drizzle</th>\n",
       "      <th>Snow or Ice Pellets</th>\n",
       "      <th>Hail</th>\n",
       "      <th>Thunder</th>\n",
       "      <th>Tornado or Funnel Cloud</th>\n",
       "    </tr>\n",
       "  </thead>\n",
       "  <tbody>\n",
       "    <tr>\n",
       "      <th>count</th>\n",
       "      <td>2492.000000</td>\n",
       "      <td>2492.000000</td>\n",
       "      <td>2492.000000</td>\n",
       "      <td>2492.000000</td>\n",
       "      <td>2492.000000</td>\n",
       "      <td>2492.000000</td>\n",
       "      <td>2461.000000</td>\n",
       "      <td>2155.000000</td>\n",
       "      <td>2387.000000</td>\n",
       "      <td>2485.000000</td>\n",
       "      <td>2484.000000</td>\n",
       "      <td>2446.000000</td>\n",
       "      <td>2456.000000</td>\n",
       "      <td>2492.000000</td>\n",
       "      <td>2492.000000</td>\n",
       "      <td>2492.000000</td>\n",
       "      <td>2492.000000</td>\n",
       "      <td>2492.000000</td>\n",
       "      <td>2492.000000</td>\n",
       "    </tr>\n",
       "    <tr>\n",
       "      <th>mean</th>\n",
       "      <td>1245.500000</td>\n",
       "      <td>145908.865570</td>\n",
       "      <td>24.518459</td>\n",
       "      <td>49.622623</td>\n",
       "      <td>60.515222</td>\n",
       "      <td>40.244192</td>\n",
       "      <td>36.701552</td>\n",
       "      <td>1017.317343</td>\n",
       "      <td>983.891829</td>\n",
       "      <td>6.378119</td>\n",
       "      <td>13.056115</td>\n",
       "      <td>0.066716</td>\n",
       "      <td>0.160261</td>\n",
       "      <td>0.075960</td>\n",
       "      <td>0.245209</td>\n",
       "      <td>0.090772</td>\n",
       "      <td>0.000234</td>\n",
       "      <td>0.033782</td>\n",
       "      <td>0.000021</td>\n",
       "    </tr>\n",
       "    <tr>\n",
       "      <th>std</th>\n",
       "      <td>719.522759</td>\n",
       "      <td>133870.622318</td>\n",
       "      <td>38.425141</td>\n",
       "      <td>17.908707</td>\n",
       "      <td>19.245339</td>\n",
       "      <td>17.304621</td>\n",
       "      <td>17.450565</td>\n",
       "      <td>6.371409</td>\n",
       "      <td>44.250200</td>\n",
       "      <td>2.958132</td>\n",
       "      <td>4.130532</td>\n",
       "      <td>0.168945</td>\n",
       "      <td>0.850693</td>\n",
       "      <td>0.202335</td>\n",
       "      <td>0.346608</td>\n",
       "      <td>0.239723</td>\n",
       "      <td>0.005533</td>\n",
       "      <td>0.141484</td>\n",
       "      <td>0.001002</td>\n",
       "    </tr>\n",
       "    <tr>\n",
       "      <th>min</th>\n",
       "      <td>0.000000</td>\n",
       "      <td>19.000000</td>\n",
       "      <td>5.000000</td>\n",
       "      <td>-10.133333</td>\n",
       "      <td>-0.400000</td>\n",
       "      <td>-26.700000</td>\n",
       "      <td>-19.050000</td>\n",
       "      <td>992.050000</td>\n",
       "      <td>755.700000</td>\n",
       "      <td>0.150000</td>\n",
       "      <td>2.900000</td>\n",
       "      <td>0.000000</td>\n",
       "      <td>0.000000</td>\n",
       "      <td>0.000000</td>\n",
       "      <td>0.000000</td>\n",
       "      <td>0.000000</td>\n",
       "      <td>0.000000</td>\n",
       "      <td>0.000000</td>\n",
       "      <td>0.000000</td>\n",
       "    </tr>\n",
       "    <tr>\n",
       "      <th>25%</th>\n",
       "      <td>622.750000</td>\n",
       "      <td>10614.750000</td>\n",
       "      <td>8.000000</td>\n",
       "      <td>37.066667</td>\n",
       "      <td>46.900000</td>\n",
       "      <td>28.656250</td>\n",
       "      <td>24.600000</td>\n",
       "      <td>1013.240000</td>\n",
       "      <td>979.370312</td>\n",
       "      <td>4.295000</td>\n",
       "      <td>10.136458</td>\n",
       "      <td>0.000000</td>\n",
       "      <td>0.000000</td>\n",
       "      <td>0.000000</td>\n",
       "      <td>0.000000</td>\n",
       "      <td>0.000000</td>\n",
       "      <td>0.000000</td>\n",
       "      <td>0.000000</td>\n",
       "      <td>0.000000</td>\n",
       "    </tr>\n",
       "    <tr>\n",
       "      <th>50%</th>\n",
       "      <td>1245.500000</td>\n",
       "      <td>230579.500000</td>\n",
       "      <td>14.000000</td>\n",
       "      <td>50.417917</td>\n",
       "      <td>62.087679</td>\n",
       "      <td>40.986389</td>\n",
       "      <td>36.750000</td>\n",
       "      <td>1017.050000</td>\n",
       "      <td>993.233333</td>\n",
       "      <td>6.020000</td>\n",
       "      <td>12.561707</td>\n",
       "      <td>0.000000</td>\n",
       "      <td>0.000000</td>\n",
       "      <td>0.000000</td>\n",
       "      <td>0.000000</td>\n",
       "      <td>0.000000</td>\n",
       "      <td>0.000000</td>\n",
       "      <td>0.000000</td>\n",
       "      <td>0.000000</td>\n",
       "    </tr>\n",
       "    <tr>\n",
       "      <th>75%</th>\n",
       "      <td>1868.250000</td>\n",
       "      <td>277189.750000</td>\n",
       "      <td>26.250000</td>\n",
       "      <td>63.069444</td>\n",
       "      <td>75.844167</td>\n",
       "      <td>52.550000</td>\n",
       "      <td>49.250000</td>\n",
       "      <td>1021.265278</td>\n",
       "      <td>1009.000000</td>\n",
       "      <td>7.950000</td>\n",
       "      <td>15.368125</td>\n",
       "      <td>0.050000</td>\n",
       "      <td>0.000000</td>\n",
       "      <td>0.000000</td>\n",
       "      <td>0.444444</td>\n",
       "      <td>0.000000</td>\n",
       "      <td>0.000000</td>\n",
       "      <td>0.000000</td>\n",
       "      <td>0.000000</td>\n",
       "    </tr>\n",
       "    <tr>\n",
       "      <th>max</th>\n",
       "      <td>2491.000000</td>\n",
       "      <td>302706.000000</td>\n",
       "      <td>756.000000</td>\n",
       "      <td>96.200000</td>\n",
       "      <td>111.100000</td>\n",
       "      <td>81.978889</td>\n",
       "      <td>80.650000</td>\n",
       "      <td>1046.600000</td>\n",
       "      <td>1034.200000</td>\n",
       "      <td>22.800000</td>\n",
       "      <td>33.000000</td>\n",
       "      <td>2.070000</td>\n",
       "      <td>11.266667</td>\n",
       "      <td>1.000000</td>\n",
       "      <td>1.000000</td>\n",
       "      <td>1.000000</td>\n",
       "      <td>0.200000</td>\n",
       "      <td>1.000000</td>\n",
       "      <td>0.050000</td>\n",
       "    </tr>\n",
       "  </tbody>\n",
       "</table>\n",
       "</div>"
      ],
      "text/plain": [
       "        Unnamed: 0          CDCID   TotalCases         TEMP          MAX  \\\n",
       "count  2492.000000    2492.000000  2492.000000  2492.000000  2492.000000   \n",
       "mean   1245.500000  145908.865570    24.518459    49.622623    60.515222   \n",
       "std     719.522759  133870.622318    38.425141    17.908707    19.245339   \n",
       "min       0.000000      19.000000     5.000000   -10.133333    -0.400000   \n",
       "25%     622.750000   10614.750000     8.000000    37.066667    46.900000   \n",
       "50%    1245.500000  230579.500000    14.000000    50.417917    62.087679   \n",
       "75%    1868.250000  277189.750000    26.250000    63.069444    75.844167   \n",
       "max    2491.000000  302706.000000   756.000000    96.200000   111.100000   \n",
       "\n",
       "               MIN         DEWP          SLP          STP         WDSP  \\\n",
       "count  2492.000000  2461.000000  2155.000000  2387.000000  2485.000000   \n",
       "mean     40.244192    36.701552  1017.317343   983.891829     6.378119   \n",
       "std      17.304621    17.450565     6.371409    44.250200     2.958132   \n",
       "min     -26.700000   -19.050000   992.050000   755.700000     0.150000   \n",
       "25%      28.656250    24.600000  1013.240000   979.370312     4.295000   \n",
       "50%      40.986389    36.750000  1017.050000   993.233333     6.020000   \n",
       "75%      52.550000    49.250000  1021.265278  1009.000000     7.950000   \n",
       "max      81.978889    80.650000  1046.600000  1034.200000    22.800000   \n",
       "\n",
       "             MXSPD         PRCP         SNDP          Fog  Rain or Drizzle  \\\n",
       "count  2484.000000  2446.000000  2456.000000  2492.000000      2492.000000   \n",
       "mean     13.056115     0.066716     0.160261     0.075960         0.245209   \n",
       "std       4.130532     0.168945     0.850693     0.202335         0.346608   \n",
       "min       2.900000     0.000000     0.000000     0.000000         0.000000   \n",
       "25%      10.136458     0.000000     0.000000     0.000000         0.000000   \n",
       "50%      12.561707     0.000000     0.000000     0.000000         0.000000   \n",
       "75%      15.368125     0.050000     0.000000     0.000000         0.444444   \n",
       "max      33.000000     2.070000    11.266667     1.000000         1.000000   \n",
       "\n",
       "       Snow or Ice Pellets         Hail      Thunder  Tornado or Funnel Cloud  \n",
       "count          2492.000000  2492.000000  2492.000000              2492.000000  \n",
       "mean              0.090772     0.000234     0.033782                 0.000021  \n",
       "std               0.239723     0.005533     0.141484                 0.001002  \n",
       "min               0.000000     0.000000     0.000000                 0.000000  \n",
       "25%               0.000000     0.000000     0.000000                 0.000000  \n",
       "50%               0.000000     0.000000     0.000000                 0.000000  \n",
       "75%               0.000000     0.000000     0.000000                 0.000000  \n",
       "max               1.000000     0.200000     1.000000                 0.050000  "
      ]
     },
     "execution_count": 8,
     "metadata": {},
     "output_type": "execute_result"
    }
   ],
   "source": [
    "noro.describe()"
   ]
  },
  {
   "cell_type": "code",
   "execution_count": null,
   "id": "4de8090a",
   "metadata": {},
   "outputs": [],
   "source": []
  }
 ],
 "metadata": {
  "kernelspec": {
   "display_name": "Python 3 (ipykernel)",
   "language": "python",
   "name": "python3"
  },
  "language_info": {
   "codemirror_mode": {
    "name": "ipython",
    "version": 3
   },
   "file_extension": ".py",
   "mimetype": "text/x-python",
   "name": "python",
   "nbconvert_exporter": "python",
   "pygments_lexer": "ipython3",
   "version": "3.9.12"
  }
 },
 "nbformat": 4,
 "nbformat_minor": 5
}
