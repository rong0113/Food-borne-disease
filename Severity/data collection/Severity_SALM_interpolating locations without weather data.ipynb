{
 "cells": [
  {
   "cell_type": "code",
   "execution_count": null,
   "id": "aea615e9",
   "metadata": {},
   "outputs": [],
   "source": [
    "# Severity_modification of unreasonable(DEWP SLP STP) data in Salm"
   ]
  },
  {
   "cell_type": "code",
   "execution_count": 1,
   "id": "9ce6f118",
   "metadata": {},
   "outputs": [],
   "source": [
    "import pandas as pd\n",
    "import numpy as np"
   ]
  },
  {
   "cell_type": "code",
   "execution_count": 3,
   "id": "917d1a98",
   "metadata": {},
   "outputs": [],
   "source": [
    "salm = pd.read_csv('/Users/evelyn/Desktop/Salm.csv')"
   ]
  },
  {
   "cell_type": "code",
   "execution_count": 4,
   "id": "dc9b6203",
   "metadata": {},
   "outputs": [
    {
     "data": {
      "text/html": [
       "<div>\n",
       "<style scoped>\n",
       "    .dataframe tbody tr th:only-of-type {\n",
       "        vertical-align: middle;\n",
       "    }\n",
       "\n",
       "    .dataframe tbody tr th {\n",
       "        vertical-align: top;\n",
       "    }\n",
       "\n",
       "    .dataframe thead th {\n",
       "        text-align: right;\n",
       "    }\n",
       "</style>\n",
       "<table border=\"1\" class=\"dataframe\">\n",
       "  <thead>\n",
       "    <tr style=\"text-align: right;\">\n",
       "      <th></th>\n",
       "      <th>Unnamed: 0</th>\n",
       "      <th>CDCID</th>\n",
       "      <th>GenusName</th>\n",
       "      <th>InitialExposure</th>\n",
       "      <th>LastExposure</th>\n",
       "      <th>TotalCases</th>\n",
       "      <th>Exposurestate</th>\n",
       "      <th>ExposureState</th>\n",
       "      <th>ExposureCounty1</th>\n",
       "      <th>ExposureCounty2</th>\n",
       "      <th>...</th>\n",
       "      <th>WDSP</th>\n",
       "      <th>MXSPD</th>\n",
       "      <th>PRCP</th>\n",
       "      <th>SNDP</th>\n",
       "      <th>Fog</th>\n",
       "      <th>Rain or Drizzle</th>\n",
       "      <th>Snow or Ice Pellets</th>\n",
       "      <th>Hail</th>\n",
       "      <th>Thunder</th>\n",
       "      <th>Tornado or Funnel Cloud</th>\n",
       "    </tr>\n",
       "  </thead>\n",
       "  <tbody>\n",
       "    <tr>\n",
       "      <th>0</th>\n",
       "      <td>0</td>\n",
       "      <td>55</td>\n",
       "      <td>Salmonella</td>\n",
       "      <td>2009/1/10</td>\n",
       "      <td>2009/1/23</td>\n",
       "      <td>7</td>\n",
       "      <td>IL</td>\n",
       "      <td>Illinois</td>\n",
       "      <td>Lake</td>\n",
       "      <td>NaN</td>\n",
       "      <td>...</td>\n",
       "      <td>9.271429</td>\n",
       "      <td>14.796429</td>\n",
       "      <td>0.025000</td>\n",
       "      <td>0.0000</td>\n",
       "      <td>0.035714</td>\n",
       "      <td>0.071429</td>\n",
       "      <td>0.250000</td>\n",
       "      <td>0.0</td>\n",
       "      <td>0.000000</td>\n",
       "      <td>0.0</td>\n",
       "    </tr>\n",
       "    <tr>\n",
       "      <th>1</th>\n",
       "      <td>1</td>\n",
       "      <td>83</td>\n",
       "      <td>Salmonella</td>\n",
       "      <td>2009/1/11</td>\n",
       "      <td>2009/2/8</td>\n",
       "      <td>5</td>\n",
       "      <td>MA</td>\n",
       "      <td>Massachusetts</td>\n",
       "      <td>Bristol</td>\n",
       "      <td>Essex</td>\n",
       "      <td>...</td>\n",
       "      <td>5.931034</td>\n",
       "      <td>12.383744</td>\n",
       "      <td>0.061552</td>\n",
       "      <td>0.0000</td>\n",
       "      <td>0.146552</td>\n",
       "      <td>0.090517</td>\n",
       "      <td>0.237069</td>\n",
       "      <td>0.0</td>\n",
       "      <td>0.000000</td>\n",
       "      <td>0.0</td>\n",
       "    </tr>\n",
       "    <tr>\n",
       "      <th>2</th>\n",
       "      <td>2</td>\n",
       "      <td>176</td>\n",
       "      <td>Salmonella</td>\n",
       "      <td>2009/2/28</td>\n",
       "      <td>2009/3/7</td>\n",
       "      <td>6</td>\n",
       "      <td>IL</td>\n",
       "      <td>Illinois</td>\n",
       "      <td>Cook</td>\n",
       "      <td>NaN</td>\n",
       "      <td>...</td>\n",
       "      <td>11.187500</td>\n",
       "      <td>20.096875</td>\n",
       "      <td>0.003854</td>\n",
       "      <td>0.0375</td>\n",
       "      <td>0.031250</td>\n",
       "      <td>0.093750</td>\n",
       "      <td>0.343750</td>\n",
       "      <td>0.0</td>\n",
       "      <td>0.093750</td>\n",
       "      <td>0.0</td>\n",
       "    </tr>\n",
       "    <tr>\n",
       "      <th>3</th>\n",
       "      <td>3</td>\n",
       "      <td>180</td>\n",
       "      <td>Salmonella</td>\n",
       "      <td>2009/3/12</td>\n",
       "      <td>2009/3/26</td>\n",
       "      <td>5</td>\n",
       "      <td>IL</td>\n",
       "      <td>Illinois</td>\n",
       "      <td>Cook</td>\n",
       "      <td>NaN</td>\n",
       "      <td>...</td>\n",
       "      <td>7.836667</td>\n",
       "      <td>15.266667</td>\n",
       "      <td>0.005778</td>\n",
       "      <td>0.0000</td>\n",
       "      <td>0.000000</td>\n",
       "      <td>0.183333</td>\n",
       "      <td>0.033333</td>\n",
       "      <td>0.0</td>\n",
       "      <td>0.016667</td>\n",
       "      <td>0.0</td>\n",
       "    </tr>\n",
       "    <tr>\n",
       "      <th>4</th>\n",
       "      <td>4</td>\n",
       "      <td>334</td>\n",
       "      <td>Salmonella</td>\n",
       "      <td>2009/3/1</td>\n",
       "      <td>2009/3/8</td>\n",
       "      <td>5</td>\n",
       "      <td>AR</td>\n",
       "      <td>Arkansas</td>\n",
       "      <td>Benton</td>\n",
       "      <td>NaN</td>\n",
       "      <td>...</td>\n",
       "      <td>11.203125</td>\n",
       "      <td>18.300000</td>\n",
       "      <td>0.003750</td>\n",
       "      <td>0.0000</td>\n",
       "      <td>0.000000</td>\n",
       "      <td>0.000000</td>\n",
       "      <td>0.062500</td>\n",
       "      <td>0.0</td>\n",
       "      <td>0.000000</td>\n",
       "      <td>0.0</td>\n",
       "    </tr>\n",
       "    <tr>\n",
       "      <th>...</th>\n",
       "      <td>...</td>\n",
       "      <td>...</td>\n",
       "      <td>...</td>\n",
       "      <td>...</td>\n",
       "      <td>...</td>\n",
       "      <td>...</td>\n",
       "      <td>...</td>\n",
       "      <td>...</td>\n",
       "      <td>...</td>\n",
       "      <td>...</td>\n",
       "      <td>...</td>\n",
       "      <td>...</td>\n",
       "      <td>...</td>\n",
       "      <td>...</td>\n",
       "      <td>...</td>\n",
       "      <td>...</td>\n",
       "      <td>...</td>\n",
       "      <td>...</td>\n",
       "      <td>...</td>\n",
       "      <td>...</td>\n",
       "      <td>...</td>\n",
       "    </tr>\n",
       "    <tr>\n",
       "      <th>936</th>\n",
       "      <td>936</td>\n",
       "      <td>302000</td>\n",
       "      <td>Salmonella</td>\n",
       "      <td>2021/12/16</td>\n",
       "      <td>2022/1/8</td>\n",
       "      <td>5</td>\n",
       "      <td>AZ</td>\n",
       "      <td>Arizona</td>\n",
       "      <td>Maricopa</td>\n",
       "      <td>NaN</td>\n",
       "      <td>...</td>\n",
       "      <td>3.645556</td>\n",
       "      <td>8.598102</td>\n",
       "      <td>0.049938</td>\n",
       "      <td>0.0000</td>\n",
       "      <td>0.025926</td>\n",
       "      <td>0.187500</td>\n",
       "      <td>0.000000</td>\n",
       "      <td>0.0</td>\n",
       "      <td>0.008333</td>\n",
       "      <td>0.0</td>\n",
       "    </tr>\n",
       "    <tr>\n",
       "      <th>937</th>\n",
       "      <td>937</td>\n",
       "      <td>302153</td>\n",
       "      <td>Salmonella</td>\n",
       "      <td>2021/2/26</td>\n",
       "      <td>2021/4/8</td>\n",
       "      <td>129</td>\n",
       "      <td>ME</td>\n",
       "      <td>Maine</td>\n",
       "      <td>Androscoggin</td>\n",
       "      <td>NaN</td>\n",
       "      <td>...</td>\n",
       "      <td>7.180952</td>\n",
       "      <td>14.859524</td>\n",
       "      <td>0.060476</td>\n",
       "      <td>0.0000</td>\n",
       "      <td>0.190476</td>\n",
       "      <td>0.309524</td>\n",
       "      <td>0.190476</td>\n",
       "      <td>0.0</td>\n",
       "      <td>0.023810</td>\n",
       "      <td>0.0</td>\n",
       "    </tr>\n",
       "    <tr>\n",
       "      <th>938</th>\n",
       "      <td>938</td>\n",
       "      <td>302498</td>\n",
       "      <td>Salmonella</td>\n",
       "      <td>2021/3/21</td>\n",
       "      <td>2021/3/21</td>\n",
       "      <td>11</td>\n",
       "      <td>LA</td>\n",
       "      <td>Louisiana</td>\n",
       "      <td>Franklin</td>\n",
       "      <td>NaN</td>\n",
       "      <td>...</td>\n",
       "      <td>2.240000</td>\n",
       "      <td>7.010000</td>\n",
       "      <td>0.000000</td>\n",
       "      <td>0.0000</td>\n",
       "      <td>0.000000</td>\n",
       "      <td>0.000000</td>\n",
       "      <td>0.000000</td>\n",
       "      <td>0.0</td>\n",
       "      <td>0.000000</td>\n",
       "      <td>0.0</td>\n",
       "    </tr>\n",
       "    <tr>\n",
       "      <th>939</th>\n",
       "      <td>939</td>\n",
       "      <td>302671</td>\n",
       "      <td>Salmonella</td>\n",
       "      <td>2021/8/15</td>\n",
       "      <td>2021/8/16</td>\n",
       "      <td>8</td>\n",
       "      <td>CA</td>\n",
       "      <td>California</td>\n",
       "      <td>San Diego</td>\n",
       "      <td>NaN</td>\n",
       "      <td>...</td>\n",
       "      <td>4.323718</td>\n",
       "      <td>10.100000</td>\n",
       "      <td>0.001250</td>\n",
       "      <td>0.0000</td>\n",
       "      <td>0.000000</td>\n",
       "      <td>0.041667</td>\n",
       "      <td>0.000000</td>\n",
       "      <td>0.0</td>\n",
       "      <td>0.000000</td>\n",
       "      <td>0.0</td>\n",
       "    </tr>\n",
       "    <tr>\n",
       "      <th>940</th>\n",
       "      <td>940</td>\n",
       "      <td>302902</td>\n",
       "      <td>Salmonella</td>\n",
       "      <td>2020/7/7</td>\n",
       "      <td>2020/7/23</td>\n",
       "      <td>6</td>\n",
       "      <td>OR</td>\n",
       "      <td>Oregon</td>\n",
       "      <td>Jackson</td>\n",
       "      <td>NaN</td>\n",
       "      <td>...</td>\n",
       "      <td>4.300000</td>\n",
       "      <td>13.347059</td>\n",
       "      <td>0.000000</td>\n",
       "      <td>0.0000</td>\n",
       "      <td>0.000000</td>\n",
       "      <td>0.000000</td>\n",
       "      <td>0.000000</td>\n",
       "      <td>0.0</td>\n",
       "      <td>0.000000</td>\n",
       "      <td>0.0</td>\n",
       "    </tr>\n",
       "  </tbody>\n",
       "</table>\n",
       "<p>941 rows × 43 columns</p>\n",
       "</div>"
      ],
      "text/plain": [
       "     Unnamed: 0   CDCID   GenusName InitialExposure LastExposure  TotalCases  \\\n",
       "0             0      55  Salmonella       2009/1/10    2009/1/23           7   \n",
       "1             1      83  Salmonella       2009/1/11     2009/2/8           5   \n",
       "2             2     176  Salmonella       2009/2/28     2009/3/7           6   \n",
       "3             3     180  Salmonella       2009/3/12    2009/3/26           5   \n",
       "4             4     334  Salmonella        2009/3/1     2009/3/8           5   \n",
       "..          ...     ...         ...             ...          ...         ...   \n",
       "936         936  302000  Salmonella      2021/12/16     2022/1/8           5   \n",
       "937         937  302153  Salmonella       2021/2/26     2021/4/8         129   \n",
       "938         938  302498  Salmonella       2021/3/21    2021/3/21          11   \n",
       "939         939  302671  Salmonella       2021/8/15    2021/8/16           8   \n",
       "940         940  302902  Salmonella        2020/7/7    2020/7/23           6   \n",
       "\n",
       "    Exposurestate  ExposureState ExposureCounty1 ExposureCounty2  ...  \\\n",
       "0              IL       Illinois            Lake             NaN  ...   \n",
       "1              MA  Massachusetts         Bristol           Essex  ...   \n",
       "2              IL       Illinois            Cook             NaN  ...   \n",
       "3              IL       Illinois            Cook             NaN  ...   \n",
       "4              AR       Arkansas          Benton             NaN  ...   \n",
       "..            ...            ...             ...             ...  ...   \n",
       "936            AZ        Arizona        Maricopa             NaN  ...   \n",
       "937            ME          Maine    Androscoggin             NaN  ...   \n",
       "938            LA      Louisiana        Franklin             NaN  ...   \n",
       "939            CA     California       San Diego             NaN  ...   \n",
       "940            OR         Oregon         Jackson             NaN  ...   \n",
       "\n",
       "          WDSP      MXSPD      PRCP    SNDP       Fog Rain or Drizzle  \\\n",
       "0     9.271429  14.796429  0.025000  0.0000  0.035714        0.071429   \n",
       "1     5.931034  12.383744  0.061552  0.0000  0.146552        0.090517   \n",
       "2    11.187500  20.096875  0.003854  0.0375  0.031250        0.093750   \n",
       "3     7.836667  15.266667  0.005778  0.0000  0.000000        0.183333   \n",
       "4    11.203125  18.300000  0.003750  0.0000  0.000000        0.000000   \n",
       "..         ...        ...       ...     ...       ...             ...   \n",
       "936   3.645556   8.598102  0.049938  0.0000  0.025926        0.187500   \n",
       "937   7.180952  14.859524  0.060476  0.0000  0.190476        0.309524   \n",
       "938   2.240000   7.010000  0.000000  0.0000  0.000000        0.000000   \n",
       "939   4.323718  10.100000  0.001250  0.0000  0.000000        0.041667   \n",
       "940   4.300000  13.347059  0.000000  0.0000  0.000000        0.000000   \n",
       "\n",
       "    Snow or Ice Pellets Hail   Thunder Tornado or Funnel Cloud  \n",
       "0              0.250000  0.0  0.000000                     0.0  \n",
       "1              0.237069  0.0  0.000000                     0.0  \n",
       "2              0.343750  0.0  0.093750                     0.0  \n",
       "3              0.033333  0.0  0.016667                     0.0  \n",
       "4              0.062500  0.0  0.000000                     0.0  \n",
       "..                  ...  ...       ...                     ...  \n",
       "936            0.000000  0.0  0.008333                     0.0  \n",
       "937            0.190476  0.0  0.023810                     0.0  \n",
       "938            0.000000  0.0  0.000000                     0.0  \n",
       "939            0.000000  0.0  0.000000                     0.0  \n",
       "940            0.000000  0.0  0.000000                     0.0  \n",
       "\n",
       "[941 rows x 43 columns]"
      ]
     },
     "execution_count": 4,
     "metadata": {},
     "output_type": "execute_result"
    }
   ],
   "source": [
    "salm"
   ]
  },
  {
   "cell_type": "code",
   "execution_count": 5,
   "id": "b5697827",
   "metadata": {},
   "outputs": [],
   "source": [
    "#download salm_null data\n",
    "salm_station = pd.read_csv('/Users/evelyn/Desktop/weather information/salm_station.csv')\n",
    "\n",
    "salm_station = salm_station.dropna(subset = ['USAF'])\n",
    "salm_station = salm_station.reset_index(drop = True)\n",
    "\n",
    "salm_station[\"WBAN\"] = pd.to_numeric(salm_station[\"WBAN\"], errors='coerce').fillna('0').astype('int32')\n",
    "for a in range(len(salm_station)):\n",
    "    wban_unmodified = salm_station.loc[a, \"WBAN\"]\n",
    "    if 0 < wban_unmodified < 10000: \n",
    "        salm_station.loc[a, \"WBAN\"] = str(wban_unmodified).zfill(5)\n"
   ]
  },
  {
   "cell_type": "code",
   "execution_count": 6,
   "id": "817d83ac",
   "metadata": {},
   "outputs": [],
   "source": [
    "\n",
    "salm_null = pd.read_csv('/Users/evelyn/Desktop/weather information/salm_interpolated stations.csv')\n",
    "\n",
    "for z in range(len(salm_null)):\n",
    "    salm_null.loc[z, \"USAF0\"] = str(salm_null.loc[z, \"USAF0\"])\n",
    "    salm_null.loc[z, \"WBAN0\"] = str(int(salm_null.loc[z, \"WBAN0\"]))\n",
    "\n",
    "    if not(pd.isna(salm_null.loc[z, \"USAF1\"])):\n",
    "        salm_null.loc[z, \"USAF1\"] = str(salm_null.loc[z, \"USAF1\"])\n",
    "        salm_null.loc[z, \"WBAN1\"] = str(int(salm_null.loc[z, \"WBAN1\"]))\n",
    "        \n",
    "    if not(pd.isna(salm_null.loc[z, \"USAF2\"])):\n",
    "        salm_null.loc[z, \"USAF2\"] = str(salm_null.loc[z, \"USAF2\"])\n",
    "        salm_null.loc[z, \"WBAN2\"] = str(int(salm_null.loc[z, \"WBAN2\"]))"
   ]
  },
  {
   "cell_type": "code",
   "execution_count": 7,
   "id": "a51d689c",
   "metadata": {},
   "outputs": [
    {
     "name": "stdout",
     "output_type": "stream",
     "text": [
      "0.0000%\n",
      "0.4762%\n",
      "0.9524%\n",
      "1.4286%\n",
      "1.9048%\n",
      "2.3810%\n",
      "2.8571%\n",
      "3.3333%\n",
      "3.8095%\n",
      "4.2857%\n",
      "4.7619%\n",
      "5.2381%\n",
      "5.7143%\n",
      "6.1905%\n",
      "6.6667%\n",
      "7.1429%\n",
      "7.6190%\n",
      "8.0952%\n",
      "8.5714%\n",
      "9.0476%\n",
      "9.5238%\n",
      "10.0000%\n",
      "10.4762%\n",
      "10.9524%\n",
      "11.4286%\n",
      "11.9048%\n",
      "12.3810%\n",
      "12.8571%\n",
      "13.3333%\n",
      "13.8095%\n",
      "14.2857%\n",
      "14.7619%\n",
      "15.2381%\n",
      "15.7143%\n",
      "16.1905%\n",
      "16.6667%\n",
      "17.1429%\n",
      "17.6190%\n",
      "18.0952%\n",
      "18.5714%\n",
      "19.0476%\n",
      "19.5238%\n",
      "20.0000%\n",
      "20.4762%\n",
      "20.9524%\n",
      "21.4286%\n",
      "21.9048%\n",
      "22.3810%\n",
      "22.8571%\n",
      "23.3333%\n",
      "23.8095%\n",
      "24.2857%\n",
      "24.7619%\n",
      "25.2381%\n",
      "25.7143%\n",
      "26.1905%\n",
      "26.6667%\n",
      "27.1429%\n",
      "27.6190%\n",
      "28.0952%\n",
      "28.5714%\n",
      "29.0476%\n",
      "29.5238%\n",
      "30.0000%\n",
      "30.4762%\n",
      "30.9524%\n",
      "31.4286%\n",
      "31.9048%\n",
      "32.3810%\n",
      "32.8571%\n",
      "33.3333%\n",
      "33.8095%\n",
      "34.2857%\n",
      "34.7619%\n",
      "35.2381%\n",
      "35.7143%\n",
      "36.1905%\n",
      "36.6667%\n",
      "37.1429%\n",
      "37.6190%\n",
      "38.0952%\n",
      "38.5714%\n",
      "39.0476%\n",
      "39.5238%\n",
      "40.0000%\n",
      "40.4762%\n",
      "40.9524%\n",
      "41.4286%\n",
      "41.9048%\n",
      "42.3810%\n",
      "42.8571%\n",
      "43.3333%\n",
      "43.8095%\n",
      "44.2857%\n",
      "44.7619%\n",
      "45.2381%\n",
      "45.7143%\n",
      "46.1905%\n",
      "46.6667%\n",
      "47.1429%\n",
      "47.6190%\n",
      "48.0952%\n",
      "48.5714%\n",
      "49.0476%\n",
      "49.5238%\n",
      "50.0000%\n",
      "50.4762%\n",
      "50.9524%\n",
      "51.4286%\n",
      "51.9048%\n",
      "52.3810%\n",
      "52.8571%\n",
      "53.3333%\n",
      "53.8095%\n",
      "54.2857%\n",
      "54.7619%\n",
      "55.2381%\n",
      "55.7143%\n",
      "56.1905%\n",
      "56.6667%\n",
      "57.1429%\n",
      "57.6190%\n",
      "58.0952%\n",
      "58.5714%\n",
      "59.0476%\n",
      "59.5238%\n",
      "60.0000%\n",
      "60.4762%\n",
      "60.9524%\n",
      "61.4286%\n",
      "61.9048%\n",
      "62.3810%\n",
      "62.8571%\n",
      "63.3333%\n",
      "63.8095%\n",
      "64.2857%\n",
      "64.7619%\n",
      "65.2381%\n",
      "65.7143%\n",
      "66.1905%\n",
      "66.6667%\n",
      "67.1429%\n",
      "67.6190%\n",
      "68.0952%\n",
      "68.5714%\n",
      "69.0476%\n",
      "69.5238%\n",
      "70.0000%\n",
      "70.4762%\n",
      "70.9524%\n",
      "71.4286%\n",
      "71.9048%\n",
      "72.3810%\n",
      "72.8571%\n",
      "73.3333%\n",
      "73.8095%\n",
      "74.2857%\n",
      "74.7619%\n",
      "75.2381%\n",
      "75.7143%\n",
      "76.1905%\n",
      "76.6667%\n",
      "77.1429%\n",
      "77.6190%\n",
      "78.0952%\n",
      "78.5714%\n",
      "79.0476%\n",
      "79.5238%\n",
      "80.0000%\n",
      "80.4762%\n",
      "80.9524%\n",
      "81.4286%\n",
      "81.9048%\n",
      "82.3810%\n",
      "82.8571%\n",
      "83.3333%\n",
      "83.8095%\n",
      "84.2857%\n",
      "84.7619%\n",
      "85.2381%\n",
      "85.7143%\n",
      "86.1905%\n",
      "86.6667%\n",
      "87.1429%\n",
      "87.6190%\n",
      "88.0952%\n",
      "88.5714%\n",
      "89.0476%\n",
      "89.5238%\n",
      "90.0000%\n",
      "90.4762%\n",
      "90.9524%\n",
      "91.4286%\n",
      "91.9048%\n",
      "92.3810%\n",
      "92.8571%\n",
      "93.3333%\n",
      "93.8095%\n",
      "94.2857%\n",
      "94.7619%\n",
      "95.2381%\n",
      "95.7143%\n",
      "96.1905%\n",
      "96.6667%\n",
      "97.1429%\n",
      "97.6190%\n",
      "98.0952%\n",
      "98.5714%\n",
      "99.0476%\n",
      "99.5238%\n"
     ]
    }
   ],
   "source": [
    "#three interpolation\n",
    "import numpy as np\n",
    "path = '/Users/evelyn/Desktop/project/salm_null/'\n",
    "path0 = '/Users/evelyn/Desktop/weather information/salm_interpolated/'\n",
    "\n",
    "store_path = '/Users/evelyn/Desktop/SALM/'\n",
    "variable = [\"TEMP\", \"DEWP\", \"SLP\", \"STP\", \"WDSP\", \"MXSPD\", \"MAX\", \"MIN\",\"PRCP\"]\n",
    "\n",
    "for i in range(len(salm_null)):\n",
    "    print('{:.4%}'.format(i/len(salm_null)))\n",
    "    if(pd.isna(salm_null.loc[i, \"USAF2\"])):\n",
    "        continue\n",
    "    else:\n",
    "        file = []\n",
    "        startyear = str(salm_null.loc[i , \"InitialExposure\"])[:4]\n",
    "        endyear = str(salm_null.loc[i , \"LastExposure\"])[:4]\n",
    "        w = [float(salm_null.loc[i, \"W0\"]), float(salm_null.loc[i, \"W1\"]), float(salm_null.loc[i, \"W2\"])]\n",
    "        for yr in range(int(startyear), int(endyear)+1):\n",
    "            for k in range(3):\n",
    "                usaf = salm_null.loc[i, \"USAF\"+str(k)]\n",
    "                wban = pd.to_numeric(salm_null.loc[i, \"WBAN\"+str(k)]).astype('int32')\n",
    "                filename =  str(usaf) + str(wban) + \"-\" + str(yr) + \"DAILY.csv\" \n",
    "                file.append(filename)\n",
    "            dfw = pd.read_csv(path0 + file[0])\n",
    "            df0 = pd.read_csv(path + file[0])\n",
    "            df1 = pd.read_csv(path + file[1])\n",
    "            df2 = pd.read_csv(path + file[2])\n",
    "            \n",
    "            for n in range(len(dfw)):\n",
    "                if(len(df0[df0.DATE.str.contains(dfw.loc[n, \"DATE\"])]) == 0 or len(df1[df1.DATE == dfw.loc[n, \"DATE\"]]) == 0 or len(df2[df2.DATE == dfw.loc[n, \"DATE\"]]) == 0):\n",
    "                    dfw = dfw.drop(index = n)\n",
    "                else:\n",
    "                    index0 = df0[df0.DATE.str.contains(dfw.loc[n, \"DATE\"])].index.tolist()[0]\n",
    "                    index1 = df1[df1.DATE == dfw.loc[n, \"DATE\"]].index.tolist()[0]\n",
    "                    index2 = df2[df2.DATE == dfw.loc[n, \"DATE\"]].index.tolist()[0]\n",
    "                    #对TEMP进行修改\n",
    "                    TEMP = [float(df0.loc[index0, \"TEMP\"]), float(df1.loc[index1, \"TEMP\"]), float(df2.loc[index2, \"TEMP\"])]\n",
    "                    wt = [float(salm_null.loc[i, \"W0\"]), float(salm_null.loc[i, \"W1\"]), float(salm_null.loc[i, \"W2\"])]\n",
    "                    for temp in range(3):\n",
    "                        if(TEMP[temp] > 9999):\n",
    "                            TEMP[temp] = 0\n",
    "                            wt[temp] = 0\n",
    "                    zt = sum(wt)\n",
    "                    if(max(wt) > 0):\n",
    "                        wt[0] = wt[0]/zt\n",
    "                        wt[1] = wt[1]/zt\n",
    "                        wt[2] = wt[2]/zt\n",
    "                        dfw.loc[n, \"TEMP\"] = round(sum(np.multiply(TEMP,wt)), 2)\n",
    "                    else:\n",
    "                        dfw.loc[n, \"TEMP\"] = np.nan\n",
    "                    #DEWP\n",
    "                    DEWP = [float(df0.loc[index0, \"DEWP\"]), float(df1.loc[index1, \"DEWP\"]), float(df2.loc[index2, \"DEWP\"])]\n",
    "                    wd = [float(salm_null.loc[i, \"W0\"]), float(salm_null.loc[i, \"W1\"]), float(salm_null.loc[i, \"W2\"])]\n",
    "                    for dewp in range(3):\n",
    "                        if(DEWP[dewp] > 9999):\n",
    "                            DEWP[dewp] = 0\n",
    "                            wt[dewp] = 0\n",
    "                    zd = sum(wd)\n",
    "                    if(max(wd) > 0):\n",
    "                        wd[0] = wd[0]/zd\n",
    "                        wd[1] = wd[1]/zd\n",
    "                        wd[2] = wd[2]/zd\n",
    "                        dfw.loc[n, \"DEWP\"] = round(sum(np.multiply(DEWP,wd)), 2)\n",
    "                    else:\n",
    "                        dfw.loc[n, \"DEWP\"] = np.nan\n",
    "                    #SLP\n",
    "                    SLP = [float(df0.loc[index0, \"SLP\"]), float(df1.loc[index1, \"SLP\"]), float(df2.loc[index2, \"SLP\"])]\n",
    "                    wslp = [float(salm_null.loc[i, \"W0\"]), float(salm_null.loc[i, \"W1\"]), float(salm_null.loc[i, \"W2\"])]\n",
    "                    for slp in range(3):\n",
    "                        if(SLP[slp] > 9999):\n",
    "                            SLP[slp] = 0\n",
    "                            wslp[slp] = 0\n",
    "                    zslp = sum(wslp)\n",
    "                    if(max(wslp) > 0):\n",
    "                        wslp[0] = wslp[0]/zslp\n",
    "                        wslp[1] = wslp[1]/zslp\n",
    "                        wslp[2] = wslp[2]/zslp\n",
    "                        dfw.loc[n, \"SLP\"] = round(sum(np.multiply(SLP,wslp)), 2)\n",
    "                    else:\n",
    "                        dfw.loc[n, \"SLP\"] = np.nan\n",
    "                    #STP\n",
    "                    STP = [float(df0.loc[index0, \"STP\"]), float(df1.loc[index1, \"STP\"]), float(df2.loc[index2, \"STP\"])]\n",
    "                    STP_ATTRIBUTES = [float(df0.loc[index0, \"STP_ATTRIBUTES\"]), float(df1.loc[index1, \"STP_ATTRIBUTES\"]), float(df2.loc[index2, \"STP_ATTRIBUTES\"])]\n",
    "                    wstp = [float(salm_null.loc[i, \"W0\"]), float(salm_null.loc[i, \"W1\"]), float(salm_null.loc[i, \"W2\"])]\n",
    "                    for stp in range(3):\n",
    "                        if(STP[stp] > 9999):\n",
    "                            STP[stp] = 0\n",
    "                            wstp[stp] = 0\n",
    "                        elif(STP[stp] < 100):\n",
    "                            STP[stp] = STP[stp] + 1000\n",
    "                        elif(STP_ATTRIBUTES[stp] == 0):\n",
    "                            STP[stp] = 0\n",
    "                            wstp[stp] = 0\n",
    "                    zstp = sum(wstp)\n",
    "                    if(max(wstp) >0):\n",
    "                        wstp[0] = wstp[0]/zstp\n",
    "                        wstp[1] = wstp[1]/zstp\n",
    "                        wstp[2] = wstp[2]/zstp\n",
    "                        dfw.loc[n, \"STP\"] = round(sum(np.multiply(STP,wstp)), 2)\n",
    "                    else:\n",
    "                        dfw.loc[n, \"STP\"] = np.nan\n",
    "                    #WDSP\n",
    "                    WDSP = [float(df0.loc[index0, \"WDSP\"]), float(df1.loc[index1, \"WDSP\"]), float(df2.loc[index2, \"WDSP\"])]\n",
    "                    wwdsp = [float(salm_null.loc[i, \"W0\"]), float(salm_null.loc[i, \"W1\"]), float(salm_null.loc[i, \"W2\"])]\n",
    "                    for wdsp in range(3):\n",
    "                        if(WDSP[wdsp] > 999):\n",
    "                            WDSP[wdsp] = 0\n",
    "                            wwdsp[wdsp] = 0\n",
    "                    zwsdp = sum(wwdsp)\n",
    "                    if(max(wwdsp) > 0):\n",
    "                        wwdsp[0] = wwdsp[0]/zwsdp\n",
    "                        wwdsp[1] = wwdsp[1]/zwsdp\n",
    "                        wwdsp[2] = wwdsp[2]/zwsdp\n",
    "                        dfw.loc[n, \"WDSP\"] = round(sum(np.multiply(WDSP,wwdsp)), 2)\n",
    "                    else:\n",
    "                        dfw.loc[n, \"WDSP\"] = np.nan\n",
    "                    #MXSPD\n",
    "                    MXSPD = [float(df0.loc[index0, \"MXSPD\"]), float(df1.loc[index1, \"MXSPD\"]), float(df2.loc[index2, \"MXSPD\"])]\n",
    "                    wmx = [float(salm_null.loc[i, \"W0\"]), float(salm_null.loc[i, \"W1\"]), float(salm_null.loc[i, \"W2\"])]\n",
    "                    for mxspd in range(3):\n",
    "                        if(MXSPD[mxspd] > 999):\n",
    "                            MXSPD[mxspd] = 0\n",
    "                            wmx[mxspd] = 0\n",
    "                    zmx = sum(wmx)\n",
    "                    if(max(wmx) > 0):\n",
    "                        wmx[0] = wmx[0]/zmx\n",
    "                        wmx[1] = wmx[1]/zmx\n",
    "                        wmx[2] = wmx[2]/zmx\n",
    "                        dfw.loc[n, \"MXSPD\"] = round(sum(np.multiply(MXSPD,wmx)), 2)\n",
    "                    else:\n",
    "                        dfw.loc[n, \"MXSPD\"] = np.nan\n",
    "                    #MAX\n",
    "                    MAX = [float(df0.loc[index0, \"MAX\"]), float(df1.loc[index1, \"MAX\"]), float(df2.loc[index2, \"MAX\"])]\n",
    "                    wtm = [float(salm_null.loc[i, \"W0\"]), float(salm_null.loc[i, \"W1\"]), float(salm_null.loc[i, \"W2\"])]\n",
    "                    for tmax in range(3):\n",
    "                        if(MAX[tmax] > 9999):\n",
    "                            MAX[tmax] = 0\n",
    "                            wtm[tmax] = 0\n",
    "                    ztm = sum(wtm)\n",
    "                    if(max(wtm) > 0):\n",
    "                        wtm[0] = wtm[0]/ztm\n",
    "                        wtm[1] = wtm[1]/ztm\n",
    "                        wtm[2] = wtm[2]/ztm\n",
    "                        dfw.loc[n, \"MAX\"] = round(sum(np.multiply(MAX,wtm)), 2)\n",
    "                    else:\n",
    "                        dfw.loc[n, \"MAX\"] = np.nan\n",
    "                    #MIN\n",
    "                    MIN = [float(df0.loc[index0, \"MIN\"]), float(df1.loc[index1, \"MIN\"]), float(df2.loc[index2, \"MIN\"])]\n",
    "                    wtmi = [float(salm_null.loc[i, \"W0\"]), float(salm_null.loc[i, \"W1\"]), float(salm_null.loc[i, \"W2\"])]\n",
    "                    for tmin in range(3):\n",
    "                        if(MIN[tmin] > 9999):\n",
    "                            MIN[tmin] = 0\n",
    "                            wtmi[tmin] = 0\n",
    "                    ztmi = sum(wtmi)\n",
    "                    if(max(wtmi)>0):\n",
    "                        wtmi[0] = wtmi[0]/ztmi\n",
    "                        wtmi[1] = wtmi[1]/ztmi\n",
    "                        wtmi[2] = wtmi[2]/ztmi\n",
    "                        dfw.loc[n, \"MIN\"] = round(sum(np.multiply(MIN,wtmi)), 2)\n",
    "                    else:\n",
    "                        dfw.loc[n, \"MIN\"] = np.nan\n",
    "                    #PRCP\n",
    "                    PRCP = [float(df0.loc[index0, \"PRCP\"]), float(df1.loc[index1, \"PRCP\"]), float(df2.loc[index2, \"PRCP\"])]\n",
    "                    wp = [float(salm_null.loc[i, \"W0\"]), float(salm_null.loc[i, \"W1\"]), float(salm_null.loc[i, \"W2\"])]\n",
    "                    for temp in range(3):\n",
    "                        if(PRCP[temp] > 99):\n",
    "                            PRCP[temp] = 0\n",
    "                            wp[temp] = 0\n",
    "                    zp = sum(wp)\n",
    "                    if(max(wp) > 0):\n",
    "                        wp[0] = wp[0]/zp\n",
    "                        wp[1] = wp[1]/zp\n",
    "                        wp[2] = wp[2]/zp\n",
    "                        dfw.loc[n, \"PRCP\"] = round(sum(np.multiply(PRCP,wp)), 2)\n",
    "                    else:\n",
    "                        dfw.loc[n, \"PRCP\"] = np.nan\n",
    "                \n",
    "            new_usaf = salm_null.loc[i, \"USAF0\"]\n",
    "            new_wban = pd.to_numeric(salm_null.loc[i, \"WBAN0\"]).astype('int32')\n",
    "            new_filename = str(new_usaf)+str(new_wban) + \"-\" + str(yr) + \"DAILY.csv\"\n",
    "            dfw.to_csv(store_path + new_filename)\n",
    "                    "
   ]
  },
  {
   "cell_type": "code",
   "execution_count": 8,
   "id": "f483aa34",
   "metadata": {},
   "outputs": [
    {
     "name": "stdout",
     "output_type": "stream",
     "text": [
      "0.0000%\n",
      "0.4762%\n",
      "0.9524%\n",
      "1.4286%\n",
      "1.9048%\n",
      "2.3810%\n",
      "2.8571%\n",
      "3.3333%\n",
      "3.8095%\n",
      "4.2857%\n",
      "4.7619%\n",
      "5.2381%\n",
      "5.7143%\n",
      "6.1905%\n",
      "6.6667%\n",
      "7.1429%\n",
      "7.6190%\n",
      "8.0952%\n",
      "8.5714%\n",
      "9.0476%\n",
      "9.5238%\n",
      "10.0000%\n",
      "10.4762%\n",
      "10.9524%\n",
      "11.4286%\n",
      "11.9048%\n",
      "12.3810%\n",
      "12.8571%\n",
      "13.3333%\n",
      "13.8095%\n",
      "14.2857%\n",
      "14.7619%\n",
      "15.2381%\n",
      "15.7143%\n",
      "16.1905%\n",
      "16.6667%\n",
      "17.1429%\n",
      "17.6190%\n",
      "18.0952%\n",
      "18.5714%\n",
      "19.0476%\n",
      "19.5238%\n",
      "20.0000%\n",
      "20.4762%\n",
      "20.9524%\n",
      "21.4286%\n",
      "21.9048%\n",
      "22.3810%\n",
      "22.8571%\n",
      "23.3333%\n",
      "23.8095%\n",
      "24.2857%\n",
      "24.7619%\n",
      "25.2381%\n",
      "25.7143%\n",
      "26.1905%\n",
      "26.6667%\n",
      "27.1429%\n",
      "27.6190%\n",
      "28.0952%\n",
      "28.5714%\n",
      "29.0476%\n",
      "29.5238%\n",
      "30.0000%\n",
      "30.4762%\n",
      "30.9524%\n",
      "31.4286%\n",
      "31.9048%\n",
      "32.3810%\n",
      "32.8571%\n",
      "33.3333%\n",
      "33.8095%\n",
      "34.2857%\n",
      "34.7619%\n",
      "35.2381%\n",
      "35.7143%\n",
      "36.1905%\n",
      "36.6667%\n",
      "37.1429%\n",
      "37.6190%\n",
      "38.0952%\n",
      "38.5714%\n",
      "39.0476%\n",
      "39.5238%\n",
      "40.0000%\n",
      "40.4762%\n",
      "40.9524%\n",
      "41.4286%\n",
      "41.9048%\n",
      "42.3810%\n",
      "42.8571%\n",
      "43.3333%\n",
      "43.8095%\n",
      "44.2857%\n",
      "44.7619%\n",
      "45.2381%\n",
      "45.7143%\n",
      "46.1905%\n",
      "46.6667%\n",
      "47.1429%\n",
      "47.6190%\n",
      "48.0952%\n",
      "48.5714%\n",
      "49.0476%\n",
      "49.5238%\n",
      "50.0000%\n",
      "50.4762%\n",
      "50.9524%\n",
      "51.4286%\n",
      "51.9048%\n",
      "52.3810%\n",
      "52.8571%\n",
      "53.3333%\n",
      "53.8095%\n",
      "54.2857%\n",
      "54.7619%\n",
      "55.2381%\n",
      "55.7143%\n",
      "56.1905%\n",
      "56.6667%\n",
      "57.1429%\n",
      "57.6190%\n",
      "58.0952%\n",
      "58.5714%\n",
      "59.0476%\n",
      "59.5238%\n",
      "60.0000%\n",
      "60.4762%\n",
      "60.9524%\n",
      "61.4286%\n",
      "61.9048%\n",
      "62.3810%\n",
      "62.8571%\n",
      "63.3333%\n",
      "63.8095%\n",
      "64.2857%\n",
      "64.7619%\n",
      "65.2381%\n",
      "65.7143%\n",
      "66.1905%\n",
      "66.6667%\n",
      "67.1429%\n",
      "67.6190%\n",
      "68.0952%\n",
      "68.5714%\n",
      "69.0476%\n",
      "69.5238%\n",
      "70.0000%\n",
      "70.4762%\n",
      "70.9524%\n",
      "71.4286%\n",
      "71.9048%\n",
      "72.3810%\n",
      "72.8571%\n",
      "73.3333%\n",
      "73.8095%\n",
      "74.2857%\n",
      "74.7619%\n",
      "75.2381%\n",
      "75.7143%\n",
      "76.1905%\n",
      "76.6667%\n",
      "77.1429%\n",
      "77.6190%\n",
      "78.0952%\n",
      "78.5714%\n",
      "79.0476%\n",
      "79.5238%\n",
      "80.0000%\n",
      "80.4762%\n",
      "80.9524%\n",
      "81.4286%\n",
      "81.9048%\n",
      "82.3810%\n",
      "82.8571%\n",
      "83.3333%\n",
      "83.8095%\n",
      "84.2857%\n",
      "84.7619%\n",
      "85.2381%\n",
      "85.7143%\n",
      "86.1905%\n",
      "86.6667%\n",
      "87.1429%\n",
      "87.6190%\n",
      "88.0952%\n",
      "88.5714%\n",
      "89.0476%\n",
      "89.5238%\n",
      "90.0000%\n",
      "90.4762%\n",
      "90.9524%\n",
      "91.4286%\n",
      "91.9048%\n",
      "92.3810%\n",
      "92.8571%\n",
      "93.3333%\n",
      "93.8095%\n",
      "94.2857%\n",
      "94.7619%\n",
      "95.2381%\n",
      "95.7143%\n",
      "96.1905%\n",
      "96.6667%\n",
      "97.1429%\n",
      "97.6190%\n",
      "98.0952%\n",
      "98.5714%\n",
      "99.0476%\n",
      "99.5238%\n"
     ]
    }
   ],
   "source": [
    "#two_interpolation\n",
    "import numpy as np\n",
    "path = '/Users/evelyn/Desktop/project/salm_null/'\n",
    "\n",
    "store_path = '/Users/evelyn/Desktop/SALM/'\n",
    "variable = [\"TEMP\", \"DEWP\", \"SLP\", \"STP\", \"WDSP\", \"MXSPD\", \"MAX\", \"MIN\",\"PRCP\"]\n",
    "\n",
    "for i in range(len(salm_null)):\n",
    "    print('{:.4%}'.format(i/len(salm_null)))\n",
    "    if(pd.isna(salm_null.loc[i, \"USAF2\"])):\n",
    "        file = []\n",
    "        startyear = str(salm_null.loc[i , \"InitialExposure\"])[:4]\n",
    "        endyear = str(salm_null.loc[i , \"LastExposure\"])[:4]\n",
    "        w = [float(salm_null.loc[i, \"W0\"]), float(salm_null.loc[i, \"W1\"])]\n",
    "        for yr in range(int(startyear), int(endyear)+1):\n",
    "            for k in range(2):\n",
    "                usaf = salm_null.loc[i, \"USAF\"+str(k)]\n",
    "                wban = pd.to_numeric(salm_null.loc[i, \"WBAN\"+str(k)]).astype('int32')\n",
    "                filename =  str(usaf) + str(wban) + \"-\" + str(yr) + \"DAILY.csv\" \n",
    "                file.append(filename)\n",
    "            df0 = pd.read_csv(path + file[0])\n",
    "            df1 = pd.read_csv(path + file[1])\n",
    "\n",
    "            for n in range(len(df0)):\n",
    "                if(len(df1[df1.DATE == df0.loc[n, \"DATE\"]]) == 0):\n",
    "                    df0 = df0.drop(index = n)\n",
    "                else:\n",
    "                    index1 = df1[df1.DATE == df0.loc[n, \"DATE\"]].index.tolist()[0]\n",
    "\n",
    "                    #对TEMP进行修改\n",
    "                    TEMP = [float(df0.loc[n, \"TEMP\"]), float(df1.loc[index1, \"TEMP\"])]\n",
    "                    wt = [float(salm_null.loc[i, \"W0\"]), float(salm_null.loc[i, \"W1\"])]\n",
    "                    for temp in range(2):\n",
    "                        if(TEMP[temp] > 9999):\n",
    "                            TEMP[temp] = 0\n",
    "                            wt[temp] = 0\n",
    "                    zt = sum(wt)\n",
    "                    if(max(wt) > 0):\n",
    "                        wt[0] = wt[0]/zt\n",
    "                        wt[1] = wt[1]/zt\n",
    "                        df0.loc[n, \"TEMP\"] = round(sum(np.multiply(TEMP,wt)), 2)\n",
    "                    else:\n",
    "                        df0.loc[n, \"TEMP\"] = np.nan\n",
    "                    #DEWP\n",
    "                    DEWP = [float(df0.loc[n , \"DEWP\"]), float(df1.loc[index1, \"DEWP\"])]\n",
    "                    wd = [float(salm_null.loc[i, \"W0\"]), float(salm_null.loc[i, \"W1\"])]\n",
    "                    for dewp in range(2):\n",
    "                        if(DEWP[dewp] > 9999):\n",
    "                            DEWP[dewp] = 0\n",
    "                            wt[dewp] = 0\n",
    "                    zd = sum(wd)\n",
    "                    if(max(wd) > 0):\n",
    "                        wd[0] = wd[0]/zd\n",
    "                        wd[1] = wd[1]/zd\n",
    "                        df0.loc[n, \"DEWP\"] = round(sum(np.multiply(DEWP,wd)), 2)\n",
    "                    else:\n",
    "                        df0.loc[n, \"DEWP\"] = np.nan\n",
    "                    #SLP\n",
    "                    SLP = [float(df0.loc[n, \"SLP\"]), float(df1.loc[index1, \"SLP\"])]\n",
    "                    wslp = [float(salm_null.loc[i, \"W0\"]), float(salm_null.loc[i, \"W1\"])]\n",
    "                    for slp in range(2):\n",
    "                        if(SLP[slp] > 9999):\n",
    "                            SLP[slp] = 0\n",
    "                            wslp[slp] = 0\n",
    "                    zslp = sum(wslp)\n",
    "                    if(max(wslp) > 0):\n",
    "                        wslp[0] = wslp[0]/zslp\n",
    "                        wslp[1] = wslp[1]/zslp\n",
    "                        df0.loc[n, \"SLP\"] = round(sum(np.multiply(SLP,wslp)), 2)\n",
    "                    else:\n",
    "                        df0.loc[n, \"SLP\"] = np.nan\n",
    "                    #STP\n",
    "                    STP = [float(df0.loc[n, \"STP\"]), float(df1.loc[index1, \"STP\"])]\n",
    "                    STP_ATTRIBUTES = [float(df0.loc[n, \"STP_ATTRIBUTES\"]), float(df1.loc[index1, \"STP_ATTRIBUTES\"])]\n",
    "                    wstp = [float(salm_null.loc[i, \"W0\"]), float(salm_null.loc[i, \"W1\"])]\n",
    "                    for stp in range(2):\n",
    "                        if(STP[stp] > 9999):\n",
    "                            STP[stp] = 0\n",
    "                            wstp[stp] = 0\n",
    "                        elif(STP[stp] < 100):\n",
    "                            STP[stp] = STP[stp] + 1000\n",
    "                        elif(STP_ATTRIBUTES[stp] == 0):\n",
    "                            STP[stp] = 0\n",
    "                            wstp[stp] = 0\n",
    "                    zstp = sum(wstp)\n",
    "                    if(max(wstp) >0):\n",
    "                        wstp[0] = wstp[0]/zstp\n",
    "                        wstp[1] = wstp[1]/zstp\n",
    "                        df0.loc[n, \"STP\"] = round(sum(np.multiply(STP,wstp)), 2)\n",
    "                    else:\n",
    "                        df0.loc[n, \"STP\"] = np.nan\n",
    "                    #WDSP\n",
    "                    WDSP = [float(df0.loc[n, \"WDSP\"]), float(df1.loc[index1, \"WDSP\"])]\n",
    "                    wwdsp = [float(salm_null.loc[i, \"W0\"]), float(salm_null.loc[i, \"W1\"])]\n",
    "                    for wdsp in range(2):\n",
    "                        if(WDSP[wdsp] > 999):\n",
    "                            WDSP[wdsp] = 0\n",
    "                            wwdsp[wdsp] = 0\n",
    "                    zwdsp = sum(wwdsp)\n",
    "                    if(max(wwdsp) > 0):\n",
    "                        wwdsp[0] = wwdsp[0]/zwdsp\n",
    "                        wwdsp[1] = wwdsp[1]/zwdsp\n",
    "                        df0.loc[n, \"WDSP\"] = round(sum(np.multiply(WDSP,wwdsp)), 2)\n",
    "                    else:\n",
    "                        df0.loc[n, \"WDSP\"] = np.nan\n",
    "                    #MXSPD\n",
    "                    MXSPD = [float(df0.loc[n, \"MXSPD\"]), float(df1.loc[index1, \"MXSPD\"])]\n",
    "                    wmx = [float(salm_null.loc[i, \"W0\"]), float(salm_null.loc[i, \"W1\"])]\n",
    "                    for mxspd in range(2):\n",
    "                        if(MXSPD[mxspd] > 999):\n",
    "                            MXSPD[mxspd] = 0\n",
    "                            wmx[mxspd] = 0\n",
    "                    zmx = sum(wmx)\n",
    "                    if(max(wmx) > 0):\n",
    "                        wmx[0] = wmx[0]/zmx\n",
    "                        wmx[1] = wmx[1]/zmx\n",
    "                        df0.loc[n, \"MXSPD\"] = round(sum(np.multiply(MXSPD,wmx)), 2)\n",
    "                    else:\n",
    "                        df0.loc[n, \"MXSPD\"] = np.nan\n",
    "                    #MAX\n",
    "                    MAX = [float(df0.loc[n, \"MAX\"]), float(df1.loc[index1, \"MAX\"])]\n",
    "                    wtm = [float(salm_null.loc[i, \"W0\"]), float(salm_null.loc[i, \"W1\"])]\n",
    "                    for tmax in range(2):\n",
    "                        if(MAX[tmax] > 9999):\n",
    "                            MAX[tmax] = 0\n",
    "                            wtm[tmax] = 0\n",
    "                    ztm = sum(wtm)\n",
    "                    if(max(wtm) > 0):\n",
    "                        wtm[0] = wtm[0]/ztm\n",
    "                        wtm[1] = wtm[1]/ztm\n",
    "                        df0.loc[n, \"MAX\"] = round(sum(np.multiply(MAX,wtm)), 2)\n",
    "                    else:\n",
    "                        df0.loc[n, \"MAX\"] = np.nan\n",
    "                    #MIN\n",
    "                    MIN = [float(df0.loc[n, \"MIN\"]), float(df1.loc[index1, \"MIN\"])]\n",
    "                    wtmi = [float(salm_null.loc[i, \"W0\"]), float(salm_null.loc[i, \"W1\"])]\n",
    "                    for tmin in range(2):\n",
    "                        if(MIN[tmin] > 9999):\n",
    "                            MIN[tmin] = 0\n",
    "                            wtmi[tmin] = 0\n",
    "                    ztmi = sum(wtmi)\n",
    "                    if(max(wtmi)>0):\n",
    "                        wtmi[0] = wtmi[0]/ztmi\n",
    "                        wtmi[1] = wtmi[1]/ztmi\n",
    "                        df0.loc[n, \"MIN\"] = round(sum(np.multiply(MIN,wtmi)), 2)\n",
    "                    else:\n",
    "                        df0.loc[n, \"MIN\"] = np.nan\n",
    "                    #PRCP\n",
    "                    PRCP = [float(df0.loc[n, \"PRCP\"]), float(df1.loc[index1, \"PRCP\"])]\n",
    "                    wp = [float(salm_null.loc[i, \"W0\"]), float(salm_null.loc[i, \"W1\"])]\n",
    "                    for temp in range(2):\n",
    "                        if(PRCP[temp] > 99):\n",
    "                            PRCP[temp] = 0\n",
    "                            wp[temp] = 0\n",
    "                    zp = sum(wp)\n",
    "                    if(max(wp) > 0):\n",
    "                        wp[0] = wp[0]/zp\n",
    "                        wp[1] = wp[1]/zp\n",
    "                        df0.loc[n, \"PRCP\"] = round(sum(np.multiply(PRCP,wp)), 2)\n",
    "                    else:\n",
    "                        df0.loc[n, \"PRCP\"] = np.nan\n",
    "                    #SNDP\n",
    "                    SNDP = [float(df0.loc[n, \"SNDP\"]), float(df1.loc[index1, \"SNDP\"])]\n",
    "                    wsndp = [float(salm_null.loc[i, \"W0\"]), float(salm_null.loc[i, \"W1\"])]\n",
    "                    for sn in range(2):\n",
    "                        if(SNDP[sn] > 999):\n",
    "                            SNDP[sn] = 0\n",
    "                            wsndp[sn] = 0\n",
    "                    zsndp = sum(wsndp)\n",
    "                    if(max(wsndp) > 0):\n",
    "                        wsndp[0] = wsndp[0]/zsndp\n",
    "                        wsndp[1] = wsndp[1]/zsndp\n",
    "                        df0.loc[n, \"SNDP\"] = round(sum(np.multiply(SNDP,w)), 1)\n",
    "                    else:\n",
    "                        df0.loc[n, \"SNDP\"] = np.nan\n",
    "                    \n",
    "                    #FR\n",
    "                    #对FRSHTT进行修改\n",
    "                    fr = [df0.loc[n, \"FRSHTT\"], df1.loc[index1, \"FRSHTT\"]]\n",
    "                    if(((fr[0]%10) + (fr[1]%10)) > 1):# 个位\n",
    "                        df0.loc[n, \"Tornado or Funnel Cloud\"] = int(1)\n",
    "                    else:\n",
    "                        df0.loc[n, \"Tornado or Funnel Cloud\"] = int(0)\n",
    "                    if(((fr[0]//10%10) + (fr[1]//10%10)) > 1):#十位\n",
    "                        df0.loc[n, \"Thunder\"] = int(1)\n",
    "                    else:\n",
    "                        df0.loc[n, \"Thunder\"] = int(0)\n",
    "                    if(((fr[0]//100%10) + (fr[1]//100%10)) > 1):#百位\n",
    "                        df0.loc[n, \"Hail\"] = int(1)\n",
    "                    else:\n",
    "                        df0.loc[n, \"Hail\"] = int(0)\n",
    "                    if(((fr[0]//1000%10) + (fr[1]//1000%10))  > 1):#千位\n",
    "                        df0.loc[n, \"Snow or Ice Pellets\"] = int(1)\n",
    "                    else:\n",
    "                        df0.loc[n, \"Snow or Ice Pellets\"] = int(0)\n",
    "                    if(((fr[0]//10000 % 10) + (fr[1]//10000 % 10)) > 1):\n",
    "                        df0.loc[n, \"Rain or Drizzle\"] = int(1)\n",
    "                    else:\n",
    "                        df0.loc[n, \"Rain or Drizzle\"] = int(0)\n",
    "                    if(((fr[0]//100000 % 10) + (fr[1]//100000 % 10)) > 1):\n",
    "                        df0.loc[n, \"Fog\"] = int(1)\n",
    "                    else:\n",
    "                        df0.loc[n, \"Fog\"] = int(0)\n",
    "\n",
    "            new_usaf = salm_null.loc[i, \"USAF0\"]\n",
    "            new_wban = pd.to_numeric(salm_null.loc[i, \"WBAN0\"]).astype('int32')\n",
    "            new_filename = str(new_usaf)+str(new_wban) + \"-\" + str(yr) + \"DAILY.csv\"\n",
    "            df0.to_csv(store_path + new_filename)\n"
   ]
  },
  {
   "cell_type": "code",
   "execution_count": 9,
   "id": "1e32bdc1",
   "metadata": {},
   "outputs": [
    {
     "name": "stdout",
     "output_type": "stream",
     "text": [
      "0.0000%\n",
      "0.1063%\n",
      "0.2125%\n",
      "0.3188%\n",
      "0.4251%\n",
      "0.5313%\n",
      "0.6376%\n",
      "0.7439%\n"
     ]
    },
    {
     "name": "stderr",
     "output_type": "stream",
     "text": [
      "/Users/evelyn/opt/anaconda3/lib/python3.9/site-packages/numpy/core/fromnumeric.py:3440: RuntimeWarning: Mean of empty slice.\n",
      "  return _methods._mean(a, axis=axis, dtype=dtype,\n",
      "/Users/evelyn/opt/anaconda3/lib/python3.9/site-packages/numpy/core/_methods.py:189: RuntimeWarning: invalid value encountered in double_scalars\n",
      "  ret = ret.dtype.type(ret / rcount)\n"
     ]
    },
    {
     "name": "stdout",
     "output_type": "stream",
     "text": [
      "0.8502%\n",
      "0.9564%\n",
      "1.0627%\n",
      "1.1690%\n",
      "1.2752%\n"
     ]
    },
    {
     "name": "stderr",
     "output_type": "stream",
     "text": [
      "/Users/evelyn/opt/anaconda3/lib/python3.9/site-packages/numpy/core/fromnumeric.py:3440: RuntimeWarning: Mean of empty slice.\n",
      "  return _methods._mean(a, axis=axis, dtype=dtype,\n",
      "/Users/evelyn/opt/anaconda3/lib/python3.9/site-packages/numpy/core/_methods.py:189: RuntimeWarning: invalid value encountered in double_scalars\n",
      "  ret = ret.dtype.type(ret / rcount)\n"
     ]
    },
    {
     "name": "stdout",
     "output_type": "stream",
     "text": [
      "1.3815%\n",
      "1.4878%\n",
      "1.5940%\n"
     ]
    },
    {
     "name": "stderr",
     "output_type": "stream",
     "text": [
      "/Users/evelyn/opt/anaconda3/lib/python3.9/site-packages/numpy/core/fromnumeric.py:3440: RuntimeWarning: Mean of empty slice.\n",
      "  return _methods._mean(a, axis=axis, dtype=dtype,\n",
      "/Users/evelyn/opt/anaconda3/lib/python3.9/site-packages/numpy/core/_methods.py:189: RuntimeWarning: invalid value encountered in double_scalars\n",
      "  ret = ret.dtype.type(ret / rcount)\n"
     ]
    },
    {
     "name": "stdout",
     "output_type": "stream",
     "text": [
      "1.7003%\n",
      "1.8066%\n",
      "1.9129%\n",
      "2.0191%\n",
      "2.1254%\n",
      "2.2317%\n",
      "2.3379%\n",
      "2.4442%\n",
      "2.5505%\n",
      "2.6567%\n",
      "2.7630%\n",
      "2.8693%\n"
     ]
    },
    {
     "name": "stderr",
     "output_type": "stream",
     "text": [
      "/Users/evelyn/opt/anaconda3/lib/python3.9/site-packages/numpy/core/fromnumeric.py:3440: RuntimeWarning: Mean of empty slice.\n",
      "  return _methods._mean(a, axis=axis, dtype=dtype,\n",
      "/Users/evelyn/opt/anaconda3/lib/python3.9/site-packages/numpy/core/_methods.py:189: RuntimeWarning: invalid value encountered in double_scalars\n",
      "  ret = ret.dtype.type(ret / rcount)\n",
      "/Users/evelyn/opt/anaconda3/lib/python3.9/site-packages/numpy/core/fromnumeric.py:3440: RuntimeWarning: Mean of empty slice.\n",
      "  return _methods._mean(a, axis=axis, dtype=dtype,\n",
      "/Users/evelyn/opt/anaconda3/lib/python3.9/site-packages/numpy/core/_methods.py:189: RuntimeWarning: invalid value encountered in double_scalars\n",
      "  ret = ret.dtype.type(ret / rcount)\n"
     ]
    },
    {
     "name": "stdout",
     "output_type": "stream",
     "text": [
      "2.9756%\n",
      "3.0818%\n",
      "3.1881%\n",
      "3.2944%\n",
      "3.4006%\n",
      "3.5069%\n",
      "3.6132%\n",
      "3.7194%\n"
     ]
    },
    {
     "name": "stderr",
     "output_type": "stream",
     "text": [
      "/Users/evelyn/opt/anaconda3/lib/python3.9/site-packages/numpy/core/fromnumeric.py:3440: RuntimeWarning: Mean of empty slice.\n",
      "  return _methods._mean(a, axis=axis, dtype=dtype,\n",
      "/Users/evelyn/opt/anaconda3/lib/python3.9/site-packages/numpy/core/_methods.py:189: RuntimeWarning: invalid value encountered in double_scalars\n",
      "  ret = ret.dtype.type(ret / rcount)\n"
     ]
    },
    {
     "name": "stdout",
     "output_type": "stream",
     "text": [
      "3.8257%\n",
      "3.9320%\n",
      "4.0383%\n",
      "4.1445%\n",
      "4.2508%\n",
      "4.3571%\n",
      "4.4633%\n",
      "4.5696%\n",
      "4.6759%\n"
     ]
    },
    {
     "name": "stderr",
     "output_type": "stream",
     "text": [
      "/Users/evelyn/opt/anaconda3/lib/python3.9/site-packages/numpy/core/fromnumeric.py:3440: RuntimeWarning: Mean of empty slice.\n",
      "  return _methods._mean(a, axis=axis, dtype=dtype,\n",
      "/Users/evelyn/opt/anaconda3/lib/python3.9/site-packages/numpy/core/_methods.py:189: RuntimeWarning: invalid value encountered in double_scalars\n",
      "  ret = ret.dtype.type(ret / rcount)\n"
     ]
    },
    {
     "name": "stdout",
     "output_type": "stream",
     "text": [
      "4.7821%\n"
     ]
    },
    {
     "name": "stderr",
     "output_type": "stream",
     "text": [
      "/Users/evelyn/opt/anaconda3/lib/python3.9/site-packages/numpy/core/fromnumeric.py:3440: RuntimeWarning: Mean of empty slice.\n",
      "  return _methods._mean(a, axis=axis, dtype=dtype,\n",
      "/Users/evelyn/opt/anaconda3/lib/python3.9/site-packages/numpy/core/_methods.py:189: RuntimeWarning: invalid value encountered in double_scalars\n",
      "  ret = ret.dtype.type(ret / rcount)\n"
     ]
    },
    {
     "name": "stdout",
     "output_type": "stream",
     "text": [
      "4.8884%\n",
      "4.9947%\n",
      "5.1010%\n",
      "5.2072%\n",
      "5.3135%\n",
      "5.4198%\n",
      "5.5260%\n"
     ]
    },
    {
     "name": "stderr",
     "output_type": "stream",
     "text": [
      "/Users/evelyn/opt/anaconda3/lib/python3.9/site-packages/numpy/core/fromnumeric.py:3440: RuntimeWarning: Mean of empty slice.\n",
      "  return _methods._mean(a, axis=axis, dtype=dtype,\n",
      "/Users/evelyn/opt/anaconda3/lib/python3.9/site-packages/numpy/core/_methods.py:189: RuntimeWarning: invalid value encountered in double_scalars\n",
      "  ret = ret.dtype.type(ret / rcount)\n"
     ]
    },
    {
     "name": "stdout",
     "output_type": "stream",
     "text": [
      "5.6323%\n",
      "5.7386%\n",
      "5.8448%\n",
      "5.9511%\n",
      "6.0574%\n",
      "6.1637%\n",
      "6.2699%\n",
      "6.3762%\n",
      "6.4825%\n"
     ]
    },
    {
     "name": "stderr",
     "output_type": "stream",
     "text": [
      "/Users/evelyn/opt/anaconda3/lib/python3.9/site-packages/numpy/core/fromnumeric.py:3440: RuntimeWarning: Mean of empty slice.\n",
      "  return _methods._mean(a, axis=axis, dtype=dtype,\n",
      "/Users/evelyn/opt/anaconda3/lib/python3.9/site-packages/numpy/core/_methods.py:189: RuntimeWarning: invalid value encountered in double_scalars\n",
      "  ret = ret.dtype.type(ret / rcount)\n"
     ]
    },
    {
     "name": "stdout",
     "output_type": "stream",
     "text": [
      "6.5887%\n",
      "6.6950%\n",
      "6.8013%\n",
      "6.9075%\n",
      "7.0138%\n",
      "7.1201%\n",
      "7.2264%\n",
      "7.3326%\n",
      "7.4389%\n",
      "7.5452%\n"
     ]
    },
    {
     "name": "stderr",
     "output_type": "stream",
     "text": [
      "/Users/evelyn/opt/anaconda3/lib/python3.9/site-packages/numpy/core/fromnumeric.py:3440: RuntimeWarning: Mean of empty slice.\n",
      "  return _methods._mean(a, axis=axis, dtype=dtype,\n",
      "/Users/evelyn/opt/anaconda3/lib/python3.9/site-packages/numpy/core/_methods.py:189: RuntimeWarning: invalid value encountered in double_scalars\n",
      "  ret = ret.dtype.type(ret / rcount)\n"
     ]
    },
    {
     "name": "stdout",
     "output_type": "stream",
     "text": [
      "7.6514%\n",
      "7.7577%\n",
      "7.8640%\n",
      "7.9702%\n",
      "8.0765%\n",
      "8.1828%\n",
      "8.2891%\n",
      "8.3953%\n",
      "8.5016%\n",
      "8.6079%\n",
      "8.7141%\n",
      "8.8204%\n"
     ]
    },
    {
     "name": "stderr",
     "output_type": "stream",
     "text": [
      "/Users/evelyn/opt/anaconda3/lib/python3.9/site-packages/numpy/core/fromnumeric.py:3440: RuntimeWarning: Mean of empty slice.\n",
      "  return _methods._mean(a, axis=axis, dtype=dtype,\n",
      "/Users/evelyn/opt/anaconda3/lib/python3.9/site-packages/numpy/core/_methods.py:189: RuntimeWarning: invalid value encountered in double_scalars\n",
      "  ret = ret.dtype.type(ret / rcount)\n"
     ]
    },
    {
     "name": "stdout",
     "output_type": "stream",
     "text": [
      "8.9267%\n",
      "9.0329%\n",
      "9.1392%\n",
      "9.2455%\n",
      "9.3518%\n",
      "9.4580%\n"
     ]
    },
    {
     "name": "stderr",
     "output_type": "stream",
     "text": [
      "/Users/evelyn/opt/anaconda3/lib/python3.9/site-packages/numpy/core/fromnumeric.py:3440: RuntimeWarning: Mean of empty slice.\n",
      "  return _methods._mean(a, axis=axis, dtype=dtype,\n",
      "/Users/evelyn/opt/anaconda3/lib/python3.9/site-packages/numpy/core/_methods.py:189: RuntimeWarning: invalid value encountered in double_scalars\n",
      "  ret = ret.dtype.type(ret / rcount)\n"
     ]
    },
    {
     "name": "stdout",
     "output_type": "stream",
     "text": [
      "9.5643%\n",
      "9.6706%\n",
      "9.7768%\n"
     ]
    },
    {
     "name": "stderr",
     "output_type": "stream",
     "text": [
      "/Users/evelyn/opt/anaconda3/lib/python3.9/site-packages/numpy/core/fromnumeric.py:3440: RuntimeWarning: Mean of empty slice.\n",
      "  return _methods._mean(a, axis=axis, dtype=dtype,\n",
      "/Users/evelyn/opt/anaconda3/lib/python3.9/site-packages/numpy/core/_methods.py:189: RuntimeWarning: invalid value encountered in double_scalars\n",
      "  ret = ret.dtype.type(ret / rcount)\n"
     ]
    },
    {
     "name": "stdout",
     "output_type": "stream",
     "text": [
      "9.8831%\n",
      "9.9894%\n",
      "10.0956%\n",
      "10.2019%\n",
      "10.3082%\n",
      "10.4145%\n",
      "10.5207%\n"
     ]
    },
    {
     "name": "stderr",
     "output_type": "stream",
     "text": [
      "/Users/evelyn/opt/anaconda3/lib/python3.9/site-packages/numpy/core/fromnumeric.py:3440: RuntimeWarning: Mean of empty slice.\n",
      "  return _methods._mean(a, axis=axis, dtype=dtype,\n",
      "/Users/evelyn/opt/anaconda3/lib/python3.9/site-packages/numpy/core/_methods.py:189: RuntimeWarning: invalid value encountered in double_scalars\n",
      "  ret = ret.dtype.type(ret / rcount)\n",
      "/Users/evelyn/opt/anaconda3/lib/python3.9/site-packages/numpy/core/fromnumeric.py:3440: RuntimeWarning: Mean of empty slice.\n",
      "  return _methods._mean(a, axis=axis, dtype=dtype,\n",
      "/Users/evelyn/opt/anaconda3/lib/python3.9/site-packages/numpy/core/_methods.py:189: RuntimeWarning: invalid value encountered in double_scalars\n",
      "  ret = ret.dtype.type(ret / rcount)\n"
     ]
    },
    {
     "name": "stdout",
     "output_type": "stream",
     "text": [
      "10.6270%\n",
      "10.7333%\n",
      "10.8395%\n",
      "10.9458%\n",
      "11.0521%\n",
      "11.1583%\n",
      "11.2646%\n",
      "11.3709%\n",
      "11.4772%\n",
      "11.5834%\n",
      "11.6897%\n",
      "11.7960%\n",
      "11.9022%\n"
     ]
    },
    {
     "name": "stderr",
     "output_type": "stream",
     "text": [
      "/Users/evelyn/opt/anaconda3/lib/python3.9/site-packages/numpy/core/fromnumeric.py:3440: RuntimeWarning: Mean of empty slice.\n",
      "  return _methods._mean(a, axis=axis, dtype=dtype,\n",
      "/Users/evelyn/opt/anaconda3/lib/python3.9/site-packages/numpy/core/_methods.py:189: RuntimeWarning: invalid value encountered in double_scalars\n",
      "  ret = ret.dtype.type(ret / rcount)\n",
      "/Users/evelyn/opt/anaconda3/lib/python3.9/site-packages/numpy/core/fromnumeric.py:3440: RuntimeWarning: Mean of empty slice.\n",
      "  return _methods._mean(a, axis=axis, dtype=dtype,\n",
      "/Users/evelyn/opt/anaconda3/lib/python3.9/site-packages/numpy/core/_methods.py:189: RuntimeWarning: invalid value encountered in double_scalars\n",
      "  ret = ret.dtype.type(ret / rcount)\n"
     ]
    },
    {
     "name": "stdout",
     "output_type": "stream",
     "text": [
      "12.0085%\n",
      "12.1148%\n",
      "12.2210%\n",
      "12.3273%\n",
      "12.4336%\n"
     ]
    },
    {
     "name": "stderr",
     "output_type": "stream",
     "text": [
      "/Users/evelyn/opt/anaconda3/lib/python3.9/site-packages/numpy/core/fromnumeric.py:3440: RuntimeWarning: Mean of empty slice.\n",
      "  return _methods._mean(a, axis=axis, dtype=dtype,\n",
      "/Users/evelyn/opt/anaconda3/lib/python3.9/site-packages/numpy/core/_methods.py:189: RuntimeWarning: invalid value encountered in double_scalars\n",
      "  ret = ret.dtype.type(ret / rcount)\n",
      "/Users/evelyn/opt/anaconda3/lib/python3.9/site-packages/numpy/core/fromnumeric.py:3440: RuntimeWarning: Mean of empty slice.\n",
      "  return _methods._mean(a, axis=axis, dtype=dtype,\n",
      "/Users/evelyn/opt/anaconda3/lib/python3.9/site-packages/numpy/core/_methods.py:189: RuntimeWarning: invalid value encountered in double_scalars\n",
      "  ret = ret.dtype.type(ret / rcount)\n"
     ]
    },
    {
     "name": "stdout",
     "output_type": "stream",
     "text": [
      "12.5399%\n",
      "12.6461%\n",
      "12.7524%\n",
      "12.8587%\n",
      "12.9649%\n",
      "13.0712%\n",
      "13.1775%\n"
     ]
    },
    {
     "name": "stderr",
     "output_type": "stream",
     "text": [
      "/Users/evelyn/opt/anaconda3/lib/python3.9/site-packages/numpy/core/fromnumeric.py:3440: RuntimeWarning: Mean of empty slice.\n",
      "  return _methods._mean(a, axis=axis, dtype=dtype,\n",
      "/Users/evelyn/opt/anaconda3/lib/python3.9/site-packages/numpy/core/_methods.py:189: RuntimeWarning: invalid value encountered in double_scalars\n",
      "  ret = ret.dtype.type(ret / rcount)\n",
      "/Users/evelyn/opt/anaconda3/lib/python3.9/site-packages/numpy/core/fromnumeric.py:3440: RuntimeWarning: Mean of empty slice.\n",
      "  return _methods._mean(a, axis=axis, dtype=dtype,\n",
      "/Users/evelyn/opt/anaconda3/lib/python3.9/site-packages/numpy/core/_methods.py:189: RuntimeWarning: invalid value encountered in double_scalars\n",
      "  ret = ret.dtype.type(ret / rcount)\n",
      "/Users/evelyn/opt/anaconda3/lib/python3.9/site-packages/numpy/core/fromnumeric.py:3440: RuntimeWarning: Mean of empty slice.\n",
      "  return _methods._mean(a, axis=axis, dtype=dtype,\n",
      "/Users/evelyn/opt/anaconda3/lib/python3.9/site-packages/numpy/core/_methods.py:189: RuntimeWarning: invalid value encountered in double_scalars\n",
      "  ret = ret.dtype.type(ret / rcount)\n"
     ]
    },
    {
     "name": "stdout",
     "output_type": "stream",
     "text": [
      "13.2837%\n",
      "13.3900%\n",
      "13.4963%\n",
      "13.6026%\n",
      "13.7088%\n",
      "13.8151%\n",
      "13.9214%\n"
     ]
    },
    {
     "name": "stderr",
     "output_type": "stream",
     "text": [
      "/Users/evelyn/opt/anaconda3/lib/python3.9/site-packages/numpy/core/fromnumeric.py:3440: RuntimeWarning: Mean of empty slice.\n",
      "  return _methods._mean(a, axis=axis, dtype=dtype,\n",
      "/Users/evelyn/opt/anaconda3/lib/python3.9/site-packages/numpy/core/_methods.py:189: RuntimeWarning: invalid value encountered in double_scalars\n",
      "  ret = ret.dtype.type(ret / rcount)\n",
      "/Users/evelyn/opt/anaconda3/lib/python3.9/site-packages/numpy/core/fromnumeric.py:3440: RuntimeWarning: Mean of empty slice.\n",
      "  return _methods._mean(a, axis=axis, dtype=dtype,\n",
      "/Users/evelyn/opt/anaconda3/lib/python3.9/site-packages/numpy/core/_methods.py:189: RuntimeWarning: invalid value encountered in double_scalars\n",
      "  ret = ret.dtype.type(ret / rcount)\n"
     ]
    },
    {
     "name": "stdout",
     "output_type": "stream",
     "text": [
      "14.0276%\n",
      "14.1339%\n",
      "14.2402%\n",
      "14.3464%\n",
      "14.4527%\n",
      "14.5590%\n",
      "14.6652%\n",
      "14.7715%\n",
      "14.8778%\n"
     ]
    },
    {
     "name": "stderr",
     "output_type": "stream",
     "text": [
      "/Users/evelyn/opt/anaconda3/lib/python3.9/site-packages/numpy/core/fromnumeric.py:3440: RuntimeWarning: Mean of empty slice.\n",
      "  return _methods._mean(a, axis=axis, dtype=dtype,\n",
      "/Users/evelyn/opt/anaconda3/lib/python3.9/site-packages/numpy/core/_methods.py:189: RuntimeWarning: invalid value encountered in double_scalars\n",
      "  ret = ret.dtype.type(ret / rcount)\n"
     ]
    },
    {
     "name": "stdout",
     "output_type": "stream",
     "text": [
      "14.9841%\n",
      "15.0903%\n"
     ]
    },
    {
     "name": "stderr",
     "output_type": "stream",
     "text": [
      "/Users/evelyn/opt/anaconda3/lib/python3.9/site-packages/numpy/core/fromnumeric.py:3440: RuntimeWarning: Mean of empty slice.\n",
      "  return _methods._mean(a, axis=axis, dtype=dtype,\n",
      "/Users/evelyn/opt/anaconda3/lib/python3.9/site-packages/numpy/core/_methods.py:189: RuntimeWarning: invalid value encountered in double_scalars\n",
      "  ret = ret.dtype.type(ret / rcount)\n"
     ]
    },
    {
     "name": "stdout",
     "output_type": "stream",
     "text": [
      "15.1966%\n",
      "15.3029%\n",
      "15.4091%\n",
      "15.5154%\n",
      "15.6217%\n",
      "15.7279%\n",
      "15.8342%\n",
      "15.9405%\n",
      "16.0468%\n",
      "16.1530%\n",
      "16.2593%\n",
      "16.3656%\n",
      "16.4718%\n",
      "16.5781%\n",
      "16.6844%\n",
      "16.7906%\n",
      "16.8969%\n",
      "17.0032%\n",
      "17.1095%\n",
      "17.2157%\n",
      "17.3220%\n",
      "17.4283%\n",
      "17.5345%\n",
      "17.6408%\n",
      "17.7471%\n",
      "17.8533%\n",
      "17.9596%\n"
     ]
    },
    {
     "name": "stderr",
     "output_type": "stream",
     "text": [
      "/Users/evelyn/opt/anaconda3/lib/python3.9/site-packages/numpy/core/fromnumeric.py:3440: RuntimeWarning: Mean of empty slice.\n",
      "  return _methods._mean(a, axis=axis, dtype=dtype,\n",
      "/Users/evelyn/opt/anaconda3/lib/python3.9/site-packages/numpy/core/_methods.py:189: RuntimeWarning: invalid value encountered in double_scalars\n",
      "  ret = ret.dtype.type(ret / rcount)\n"
     ]
    },
    {
     "name": "stdout",
     "output_type": "stream",
     "text": [
      "18.0659%\n",
      "18.1722%\n",
      "18.2784%\n",
      "18.3847%\n",
      "18.4910%\n"
     ]
    },
    {
     "name": "stderr",
     "output_type": "stream",
     "text": [
      "/Users/evelyn/opt/anaconda3/lib/python3.9/site-packages/numpy/core/fromnumeric.py:3440: RuntimeWarning: Mean of empty slice.\n",
      "  return _methods._mean(a, axis=axis, dtype=dtype,\n",
      "/Users/evelyn/opt/anaconda3/lib/python3.9/site-packages/numpy/core/_methods.py:189: RuntimeWarning: invalid value encountered in double_scalars\n",
      "  ret = ret.dtype.type(ret / rcount)\n"
     ]
    },
    {
     "name": "stdout",
     "output_type": "stream",
     "text": [
      "18.5972%\n",
      "18.7035%\n"
     ]
    },
    {
     "name": "stderr",
     "output_type": "stream",
     "text": [
      "/Users/evelyn/opt/anaconda3/lib/python3.9/site-packages/numpy/core/fromnumeric.py:3440: RuntimeWarning: Mean of empty slice.\n",
      "  return _methods._mean(a, axis=axis, dtype=dtype,\n",
      "/Users/evelyn/opt/anaconda3/lib/python3.9/site-packages/numpy/core/_methods.py:189: RuntimeWarning: invalid value encountered in double_scalars\n",
      "  ret = ret.dtype.type(ret / rcount)\n"
     ]
    },
    {
     "name": "stdout",
     "output_type": "stream",
     "text": [
      "18.8098%\n",
      "18.9160%\n",
      "19.0223%\n",
      "19.1286%\n",
      "19.2349%\n",
      "19.3411%\n",
      "19.4474%\n",
      "19.5537%\n"
     ]
    },
    {
     "name": "stderr",
     "output_type": "stream",
     "text": [
      "/Users/evelyn/opt/anaconda3/lib/python3.9/site-packages/numpy/core/fromnumeric.py:3440: RuntimeWarning: Mean of empty slice.\n",
      "  return _methods._mean(a, axis=axis, dtype=dtype,\n",
      "/Users/evelyn/opt/anaconda3/lib/python3.9/site-packages/numpy/core/_methods.py:189: RuntimeWarning: invalid value encountered in double_scalars\n",
      "  ret = ret.dtype.type(ret / rcount)\n"
     ]
    },
    {
     "name": "stdout",
     "output_type": "stream",
     "text": [
      "19.6599%\n",
      "19.7662%\n",
      "19.8725%\n",
      "19.9787%\n"
     ]
    },
    {
     "name": "stderr",
     "output_type": "stream",
     "text": [
      "/Users/evelyn/opt/anaconda3/lib/python3.9/site-packages/numpy/core/fromnumeric.py:3440: RuntimeWarning: Mean of empty slice.\n",
      "  return _methods._mean(a, axis=axis, dtype=dtype,\n",
      "/Users/evelyn/opt/anaconda3/lib/python3.9/site-packages/numpy/core/_methods.py:189: RuntimeWarning: invalid value encountered in double_scalars\n",
      "  ret = ret.dtype.type(ret / rcount)\n",
      "/Users/evelyn/opt/anaconda3/lib/python3.9/site-packages/numpy/core/fromnumeric.py:3440: RuntimeWarning: Mean of empty slice.\n",
      "  return _methods._mean(a, axis=axis, dtype=dtype,\n",
      "/Users/evelyn/opt/anaconda3/lib/python3.9/site-packages/numpy/core/_methods.py:189: RuntimeWarning: invalid value encountered in double_scalars\n",
      "  ret = ret.dtype.type(ret / rcount)\n"
     ]
    },
    {
     "name": "stdout",
     "output_type": "stream",
     "text": [
      "20.0850%\n",
      "20.1913%\n",
      "20.2976%\n",
      "20.4038%\n",
      "20.5101%\n",
      "20.6164%\n",
      "20.7226%\n"
     ]
    },
    {
     "name": "stderr",
     "output_type": "stream",
     "text": [
      "/Users/evelyn/opt/anaconda3/lib/python3.9/site-packages/numpy/core/fromnumeric.py:3440: RuntimeWarning: Mean of empty slice.\n",
      "  return _methods._mean(a, axis=axis, dtype=dtype,\n",
      "/Users/evelyn/opt/anaconda3/lib/python3.9/site-packages/numpy/core/_methods.py:189: RuntimeWarning: invalid value encountered in double_scalars\n",
      "  ret = ret.dtype.type(ret / rcount)\n"
     ]
    },
    {
     "name": "stdout",
     "output_type": "stream",
     "text": [
      "20.8289%\n",
      "20.9352%\n",
      "21.0414%\n",
      "21.1477%\n",
      "21.2540%\n",
      "21.3603%\n",
      "21.4665%\n",
      "21.5728%\n",
      "21.6791%\n",
      "21.7853%\n",
      "21.8916%\n",
      "21.9979%\n",
      "22.1041%\n",
      "22.2104%\n",
      "22.3167%\n",
      "22.4230%\n",
      "22.5292%\n"
     ]
    },
    {
     "name": "stderr",
     "output_type": "stream",
     "text": [
      "/Users/evelyn/opt/anaconda3/lib/python3.9/site-packages/numpy/core/fromnumeric.py:3440: RuntimeWarning: Mean of empty slice.\n",
      "  return _methods._mean(a, axis=axis, dtype=dtype,\n",
      "/Users/evelyn/opt/anaconda3/lib/python3.9/site-packages/numpy/core/_methods.py:189: RuntimeWarning: invalid value encountered in double_scalars\n",
      "  ret = ret.dtype.type(ret / rcount)\n",
      "/Users/evelyn/opt/anaconda3/lib/python3.9/site-packages/numpy/core/fromnumeric.py:3440: RuntimeWarning: Mean of empty slice.\n",
      "  return _methods._mean(a, axis=axis, dtype=dtype,\n",
      "/Users/evelyn/opt/anaconda3/lib/python3.9/site-packages/numpy/core/_methods.py:189: RuntimeWarning: invalid value encountered in double_scalars\n",
      "  ret = ret.dtype.type(ret / rcount)\n"
     ]
    },
    {
     "name": "stdout",
     "output_type": "stream",
     "text": [
      "22.6355%\n",
      "22.7418%\n"
     ]
    },
    {
     "name": "stderr",
     "output_type": "stream",
     "text": [
      "/Users/evelyn/opt/anaconda3/lib/python3.9/site-packages/numpy/core/fromnumeric.py:3440: RuntimeWarning: Mean of empty slice.\n",
      "  return _methods._mean(a, axis=axis, dtype=dtype,\n",
      "/Users/evelyn/opt/anaconda3/lib/python3.9/site-packages/numpy/core/_methods.py:189: RuntimeWarning: invalid value encountered in double_scalars\n",
      "  ret = ret.dtype.type(ret / rcount)\n"
     ]
    },
    {
     "name": "stdout",
     "output_type": "stream",
     "text": [
      "22.8480%\n",
      "22.9543%\n",
      "23.0606%\n",
      "23.1668%\n"
     ]
    },
    {
     "name": "stderr",
     "output_type": "stream",
     "text": [
      "/Users/evelyn/opt/anaconda3/lib/python3.9/site-packages/numpy/core/fromnumeric.py:3440: RuntimeWarning: Mean of empty slice.\n",
      "  return _methods._mean(a, axis=axis, dtype=dtype,\n",
      "/Users/evelyn/opt/anaconda3/lib/python3.9/site-packages/numpy/core/_methods.py:189: RuntimeWarning: invalid value encountered in double_scalars\n",
      "  ret = ret.dtype.type(ret / rcount)\n",
      "/Users/evelyn/opt/anaconda3/lib/python3.9/site-packages/numpy/core/fromnumeric.py:3440: RuntimeWarning: Mean of empty slice.\n",
      "  return _methods._mean(a, axis=axis, dtype=dtype,\n",
      "/Users/evelyn/opt/anaconda3/lib/python3.9/site-packages/numpy/core/_methods.py:189: RuntimeWarning: invalid value encountered in double_scalars\n",
      "  ret = ret.dtype.type(ret / rcount)\n"
     ]
    },
    {
     "name": "stdout",
     "output_type": "stream",
     "text": [
      "23.2731%\n",
      "23.3794%\n",
      "23.4857%\n",
      "23.5919%\n",
      "23.6982%\n",
      "23.8045%\n",
      "23.9107%\n",
      "24.0170%\n",
      "24.1233%\n",
      "24.2295%\n",
      "24.3358%\n",
      "24.4421%\n",
      "24.5484%\n",
      "24.6546%\n",
      "24.7609%\n",
      "24.8672%\n",
      "24.9734%\n",
      "25.0797%\n"
     ]
    },
    {
     "name": "stderr",
     "output_type": "stream",
     "text": [
      "/Users/evelyn/opt/anaconda3/lib/python3.9/site-packages/numpy/core/fromnumeric.py:3440: RuntimeWarning: Mean of empty slice.\n",
      "  return _methods._mean(a, axis=axis, dtype=dtype,\n",
      "/Users/evelyn/opt/anaconda3/lib/python3.9/site-packages/numpy/core/_methods.py:189: RuntimeWarning: invalid value encountered in double_scalars\n",
      "  ret = ret.dtype.type(ret / rcount)\n"
     ]
    },
    {
     "name": "stdout",
     "output_type": "stream",
     "text": [
      "25.1860%\n",
      "25.2922%\n",
      "25.3985%\n"
     ]
    },
    {
     "name": "stderr",
     "output_type": "stream",
     "text": [
      "/Users/evelyn/opt/anaconda3/lib/python3.9/site-packages/numpy/core/fromnumeric.py:3440: RuntimeWarning: Mean of empty slice.\n",
      "  return _methods._mean(a, axis=axis, dtype=dtype,\n",
      "/Users/evelyn/opt/anaconda3/lib/python3.9/site-packages/numpy/core/_methods.py:189: RuntimeWarning: invalid value encountered in double_scalars\n",
      "  ret = ret.dtype.type(ret / rcount)\n",
      "/Users/evelyn/opt/anaconda3/lib/python3.9/site-packages/numpy/core/fromnumeric.py:3440: RuntimeWarning: Mean of empty slice.\n",
      "  return _methods._mean(a, axis=axis, dtype=dtype,\n",
      "/Users/evelyn/opt/anaconda3/lib/python3.9/site-packages/numpy/core/_methods.py:189: RuntimeWarning: invalid value encountered in double_scalars\n",
      "  ret = ret.dtype.type(ret / rcount)\n"
     ]
    },
    {
     "name": "stdout",
     "output_type": "stream",
     "text": [
      "25.5048%\n",
      "25.6111%\n",
      "25.7173%\n",
      "25.8236%\n",
      "25.9299%\n",
      "26.0361%\n",
      "26.1424%\n",
      "26.2487%\n",
      "26.3549%\n",
      "26.4612%\n",
      "26.5675%\n",
      "26.6738%\n",
      "26.7800%\n",
      "26.8863%\n",
      "26.9926%\n"
     ]
    },
    {
     "name": "stderr",
     "output_type": "stream",
     "text": [
      "/Users/evelyn/opt/anaconda3/lib/python3.9/site-packages/numpy/core/fromnumeric.py:3440: RuntimeWarning: Mean of empty slice.\n",
      "  return _methods._mean(a, axis=axis, dtype=dtype,\n",
      "/Users/evelyn/opt/anaconda3/lib/python3.9/site-packages/numpy/core/_methods.py:189: RuntimeWarning: invalid value encountered in double_scalars\n",
      "  ret = ret.dtype.type(ret / rcount)\n"
     ]
    },
    {
     "name": "stdout",
     "output_type": "stream",
     "text": [
      "27.0988%\n",
      "27.2051%\n",
      "27.3114%\n"
     ]
    },
    {
     "name": "stderr",
     "output_type": "stream",
     "text": [
      "/Users/evelyn/opt/anaconda3/lib/python3.9/site-packages/numpy/core/fromnumeric.py:3440: RuntimeWarning: Mean of empty slice.\n",
      "  return _methods._mean(a, axis=axis, dtype=dtype,\n",
      "/Users/evelyn/opt/anaconda3/lib/python3.9/site-packages/numpy/core/_methods.py:189: RuntimeWarning: invalid value encountered in double_scalars\n",
      "  ret = ret.dtype.type(ret / rcount)\n"
     ]
    },
    {
     "name": "stdout",
     "output_type": "stream",
     "text": [
      "27.4176%\n",
      "27.5239%\n",
      "27.6302%\n",
      "27.7365%\n",
      "27.8427%\n",
      "27.9490%\n",
      "28.0553%\n",
      "28.1615%\n"
     ]
    },
    {
     "name": "stderr",
     "output_type": "stream",
     "text": [
      "/Users/evelyn/opt/anaconda3/lib/python3.9/site-packages/numpy/core/fromnumeric.py:3440: RuntimeWarning: Mean of empty slice.\n",
      "  return _methods._mean(a, axis=axis, dtype=dtype,\n",
      "/Users/evelyn/opt/anaconda3/lib/python3.9/site-packages/numpy/core/_methods.py:189: RuntimeWarning: invalid value encountered in double_scalars\n",
      "  ret = ret.dtype.type(ret / rcount)\n"
     ]
    },
    {
     "name": "stdout",
     "output_type": "stream",
     "text": [
      "28.2678%\n",
      "28.3741%\n",
      "28.4803%\n"
     ]
    },
    {
     "name": "stderr",
     "output_type": "stream",
     "text": [
      "/Users/evelyn/opt/anaconda3/lib/python3.9/site-packages/numpy/core/fromnumeric.py:3440: RuntimeWarning: Mean of empty slice.\n",
      "  return _methods._mean(a, axis=axis, dtype=dtype,\n",
      "/Users/evelyn/opt/anaconda3/lib/python3.9/site-packages/numpy/core/_methods.py:189: RuntimeWarning: invalid value encountered in double_scalars\n",
      "  ret = ret.dtype.type(ret / rcount)\n"
     ]
    },
    {
     "name": "stdout",
     "output_type": "stream",
     "text": [
      "28.5866%\n",
      "28.6929%\n",
      "28.7991%\n",
      "28.9054%\n",
      "29.0117%\n"
     ]
    },
    {
     "name": "stderr",
     "output_type": "stream",
     "text": [
      "/Users/evelyn/opt/anaconda3/lib/python3.9/site-packages/numpy/core/fromnumeric.py:3440: RuntimeWarning: Mean of empty slice.\n",
      "  return _methods._mean(a, axis=axis, dtype=dtype,\n",
      "/Users/evelyn/opt/anaconda3/lib/python3.9/site-packages/numpy/core/_methods.py:189: RuntimeWarning: invalid value encountered in double_scalars\n",
      "  ret = ret.dtype.type(ret / rcount)\n"
     ]
    },
    {
     "name": "stdout",
     "output_type": "stream",
     "text": [
      "29.1180%\n",
      "29.2242%\n"
     ]
    },
    {
     "name": "stderr",
     "output_type": "stream",
     "text": [
      "/Users/evelyn/opt/anaconda3/lib/python3.9/site-packages/numpy/core/fromnumeric.py:3440: RuntimeWarning: Mean of empty slice.\n",
      "  return _methods._mean(a, axis=axis, dtype=dtype,\n",
      "/Users/evelyn/opt/anaconda3/lib/python3.9/site-packages/numpy/core/_methods.py:189: RuntimeWarning: invalid value encountered in double_scalars\n",
      "  ret = ret.dtype.type(ret / rcount)\n"
     ]
    },
    {
     "name": "stdout",
     "output_type": "stream",
     "text": [
      "29.3305%\n",
      "29.4368%\n",
      "29.5430%\n",
      "29.6493%\n",
      "29.7556%\n",
      "29.8618%\n",
      "29.9681%\n",
      "30.0744%\n",
      "30.1807%\n",
      "30.2869%\n",
      "30.3932%\n",
      "30.4995%\n",
      "30.6057%\n",
      "30.7120%\n",
      "30.8183%\n"
     ]
    },
    {
     "name": "stderr",
     "output_type": "stream",
     "text": [
      "/Users/evelyn/opt/anaconda3/lib/python3.9/site-packages/numpy/core/fromnumeric.py:3440: RuntimeWarning: Mean of empty slice.\n",
      "  return _methods._mean(a, axis=axis, dtype=dtype,\n",
      "/Users/evelyn/opt/anaconda3/lib/python3.9/site-packages/numpy/core/_methods.py:189: RuntimeWarning: invalid value encountered in double_scalars\n",
      "  ret = ret.dtype.type(ret / rcount)\n"
     ]
    },
    {
     "name": "stdout",
     "output_type": "stream",
     "text": [
      "30.9245%\n",
      "31.0308%\n",
      "31.1371%\n",
      "31.2434%\n",
      "31.3496%\n",
      "31.4559%\n"
     ]
    },
    {
     "name": "stderr",
     "output_type": "stream",
     "text": [
      "/Users/evelyn/opt/anaconda3/lib/python3.9/site-packages/numpy/core/fromnumeric.py:3440: RuntimeWarning: Mean of empty slice.\n",
      "  return _methods._mean(a, axis=axis, dtype=dtype,\n",
      "/Users/evelyn/opt/anaconda3/lib/python3.9/site-packages/numpy/core/_methods.py:189: RuntimeWarning: invalid value encountered in double_scalars\n",
      "  ret = ret.dtype.type(ret / rcount)\n",
      "/Users/evelyn/opt/anaconda3/lib/python3.9/site-packages/numpy/core/fromnumeric.py:3440: RuntimeWarning: Mean of empty slice.\n",
      "  return _methods._mean(a, axis=axis, dtype=dtype,\n",
      "/Users/evelyn/opt/anaconda3/lib/python3.9/site-packages/numpy/core/_methods.py:189: RuntimeWarning: invalid value encountered in double_scalars\n",
      "  ret = ret.dtype.type(ret / rcount)\n"
     ]
    },
    {
     "name": "stdout",
     "output_type": "stream",
     "text": [
      "31.5622%\n",
      "31.6684%\n",
      "31.7747%\n",
      "31.8810%\n",
      "31.9872%\n"
     ]
    },
    {
     "name": "stderr",
     "output_type": "stream",
     "text": [
      "/Users/evelyn/opt/anaconda3/lib/python3.9/site-packages/numpy/core/fromnumeric.py:3440: RuntimeWarning: Mean of empty slice.\n",
      "  return _methods._mean(a, axis=axis, dtype=dtype,\n",
      "/Users/evelyn/opt/anaconda3/lib/python3.9/site-packages/numpy/core/_methods.py:189: RuntimeWarning: invalid value encountered in double_scalars\n",
      "  ret = ret.dtype.type(ret / rcount)\n"
     ]
    },
    {
     "name": "stdout",
     "output_type": "stream",
     "text": [
      "32.0935%\n",
      "32.1998%\n",
      "32.3061%\n",
      "32.4123%\n",
      "32.5186%\n",
      "32.6249%\n",
      "32.7311%\n",
      "32.8374%\n"
     ]
    },
    {
     "name": "stderr",
     "output_type": "stream",
     "text": [
      "/Users/evelyn/opt/anaconda3/lib/python3.9/site-packages/numpy/core/fromnumeric.py:3440: RuntimeWarning: Mean of empty slice.\n",
      "  return _methods._mean(a, axis=axis, dtype=dtype,\n",
      "/Users/evelyn/opt/anaconda3/lib/python3.9/site-packages/numpy/core/_methods.py:189: RuntimeWarning: invalid value encountered in double_scalars\n",
      "  ret = ret.dtype.type(ret / rcount)\n"
     ]
    },
    {
     "name": "stdout",
     "output_type": "stream",
     "text": [
      "32.9437%\n",
      "33.0499%\n",
      "33.1562%\n",
      "33.2625%\n"
     ]
    },
    {
     "name": "stderr",
     "output_type": "stream",
     "text": [
      "/Users/evelyn/opt/anaconda3/lib/python3.9/site-packages/numpy/core/fromnumeric.py:3440: RuntimeWarning: Mean of empty slice.\n",
      "  return _methods._mean(a, axis=axis, dtype=dtype,\n",
      "/Users/evelyn/opt/anaconda3/lib/python3.9/site-packages/numpy/core/_methods.py:189: RuntimeWarning: invalid value encountered in double_scalars\n",
      "  ret = ret.dtype.type(ret / rcount)\n"
     ]
    },
    {
     "name": "stdout",
     "output_type": "stream",
     "text": [
      "33.3688%\n",
      "33.4750%\n",
      "33.5813%\n",
      "33.6876%\n",
      "33.7938%\n",
      "33.9001%\n"
     ]
    },
    {
     "name": "stderr",
     "output_type": "stream",
     "text": [
      "/Users/evelyn/opt/anaconda3/lib/python3.9/site-packages/numpy/core/fromnumeric.py:3440: RuntimeWarning: Mean of empty slice.\n",
      "  return _methods._mean(a, axis=axis, dtype=dtype,\n",
      "/Users/evelyn/opt/anaconda3/lib/python3.9/site-packages/numpy/core/_methods.py:189: RuntimeWarning: invalid value encountered in double_scalars\n",
      "  ret = ret.dtype.type(ret / rcount)\n",
      "/Users/evelyn/opt/anaconda3/lib/python3.9/site-packages/numpy/core/fromnumeric.py:3440: RuntimeWarning: Mean of empty slice.\n",
      "  return _methods._mean(a, axis=axis, dtype=dtype,\n",
      "/Users/evelyn/opt/anaconda3/lib/python3.9/site-packages/numpy/core/_methods.py:189: RuntimeWarning: invalid value encountered in double_scalars\n",
      "  ret = ret.dtype.type(ret / rcount)\n"
     ]
    },
    {
     "name": "stdout",
     "output_type": "stream",
     "text": [
      "34.0064%\n",
      "34.1126%\n",
      "34.2189%\n",
      "34.3252%\n"
     ]
    },
    {
     "name": "stderr",
     "output_type": "stream",
     "text": [
      "/Users/evelyn/opt/anaconda3/lib/python3.9/site-packages/numpy/core/fromnumeric.py:3440: RuntimeWarning: Mean of empty slice.\n",
      "  return _methods._mean(a, axis=axis, dtype=dtype,\n",
      "/Users/evelyn/opt/anaconda3/lib/python3.9/site-packages/numpy/core/_methods.py:189: RuntimeWarning: invalid value encountered in double_scalars\n",
      "  ret = ret.dtype.type(ret / rcount)\n"
     ]
    },
    {
     "name": "stdout",
     "output_type": "stream",
     "text": [
      "34.4315%\n",
      "34.5377%\n",
      "34.6440%\n",
      "34.7503%\n",
      "34.8565%\n",
      "34.9628%\n",
      "35.0691%\n",
      "35.1753%\n",
      "35.2816%\n",
      "35.3879%\n",
      "35.4942%\n"
     ]
    },
    {
     "name": "stderr",
     "output_type": "stream",
     "text": [
      "/Users/evelyn/opt/anaconda3/lib/python3.9/site-packages/numpy/core/fromnumeric.py:3440: RuntimeWarning: Mean of empty slice.\n",
      "  return _methods._mean(a, axis=axis, dtype=dtype,\n",
      "/Users/evelyn/opt/anaconda3/lib/python3.9/site-packages/numpy/core/_methods.py:189: RuntimeWarning: invalid value encountered in double_scalars\n",
      "  ret = ret.dtype.type(ret / rcount)\n"
     ]
    },
    {
     "name": "stdout",
     "output_type": "stream",
     "text": [
      "35.6004%\n",
      "35.7067%\n",
      "35.8130%\n",
      "35.9192%\n",
      "36.0255%\n",
      "36.1318%\n",
      "36.2380%\n",
      "36.3443%\n",
      "36.4506%\n",
      "36.5569%\n",
      "36.6631%\n"
     ]
    },
    {
     "name": "stderr",
     "output_type": "stream",
     "text": [
      "/Users/evelyn/opt/anaconda3/lib/python3.9/site-packages/numpy/core/fromnumeric.py:3440: RuntimeWarning: Mean of empty slice.\n",
      "  return _methods._mean(a, axis=axis, dtype=dtype,\n",
      "/Users/evelyn/opt/anaconda3/lib/python3.9/site-packages/numpy/core/_methods.py:189: RuntimeWarning: invalid value encountered in double_scalars\n",
      "  ret = ret.dtype.type(ret / rcount)\n",
      "/Users/evelyn/opt/anaconda3/lib/python3.9/site-packages/numpy/core/fromnumeric.py:3440: RuntimeWarning: Mean of empty slice.\n",
      "  return _methods._mean(a, axis=axis, dtype=dtype,\n",
      "/Users/evelyn/opt/anaconda3/lib/python3.9/site-packages/numpy/core/_methods.py:189: RuntimeWarning: invalid value encountered in double_scalars\n",
      "  ret = ret.dtype.type(ret / rcount)\n"
     ]
    },
    {
     "name": "stdout",
     "output_type": "stream",
     "text": [
      "36.7694%\n",
      "36.8757%\n",
      "36.9819%\n",
      "37.0882%\n",
      "37.1945%\n",
      "37.3007%\n",
      "37.4070%\n",
      "37.5133%\n",
      "37.6196%\n",
      "37.7258%\n",
      "37.8321%\n",
      "37.9384%\n",
      "38.0446%\n",
      "38.1509%\n"
     ]
    },
    {
     "name": "stderr",
     "output_type": "stream",
     "text": [
      "/Users/evelyn/opt/anaconda3/lib/python3.9/site-packages/numpy/core/fromnumeric.py:3440: RuntimeWarning: Mean of empty slice.\n",
      "  return _methods._mean(a, axis=axis, dtype=dtype,\n",
      "/Users/evelyn/opt/anaconda3/lib/python3.9/site-packages/numpy/core/_methods.py:189: RuntimeWarning: invalid value encountered in double_scalars\n",
      "  ret = ret.dtype.type(ret / rcount)\n"
     ]
    },
    {
     "name": "stdout",
     "output_type": "stream",
     "text": [
      "38.2572%\n",
      "38.3634%\n",
      "38.4697%\n",
      "38.5760%\n",
      "38.6823%\n",
      "38.7885%\n",
      "38.8948%\n"
     ]
    },
    {
     "name": "stderr",
     "output_type": "stream",
     "text": [
      "/Users/evelyn/opt/anaconda3/lib/python3.9/site-packages/numpy/core/fromnumeric.py:3440: RuntimeWarning: Mean of empty slice.\n",
      "  return _methods._mean(a, axis=axis, dtype=dtype,\n",
      "/Users/evelyn/opt/anaconda3/lib/python3.9/site-packages/numpy/core/_methods.py:189: RuntimeWarning: invalid value encountered in double_scalars\n",
      "  ret = ret.dtype.type(ret / rcount)\n",
      "/Users/evelyn/opt/anaconda3/lib/python3.9/site-packages/numpy/core/fromnumeric.py:3440: RuntimeWarning: Mean of empty slice.\n",
      "  return _methods._mean(a, axis=axis, dtype=dtype,\n",
      "/Users/evelyn/opt/anaconda3/lib/python3.9/site-packages/numpy/core/_methods.py:189: RuntimeWarning: invalid value encountered in double_scalars\n",
      "  ret = ret.dtype.type(ret / rcount)\n"
     ]
    },
    {
     "name": "stdout",
     "output_type": "stream",
     "text": [
      "39.0011%\n",
      "39.1073%\n",
      "39.2136%\n",
      "39.3199%\n"
     ]
    },
    {
     "name": "stderr",
     "output_type": "stream",
     "text": [
      "/Users/evelyn/opt/anaconda3/lib/python3.9/site-packages/numpy/core/fromnumeric.py:3440: RuntimeWarning: Mean of empty slice.\n",
      "  return _methods._mean(a, axis=axis, dtype=dtype,\n",
      "/Users/evelyn/opt/anaconda3/lib/python3.9/site-packages/numpy/core/_methods.py:189: RuntimeWarning: invalid value encountered in double_scalars\n",
      "  ret = ret.dtype.type(ret / rcount)\n"
     ]
    },
    {
     "name": "stdout",
     "output_type": "stream",
     "text": [
      "39.4261%\n",
      "39.5324%\n",
      "39.6387%\n"
     ]
    },
    {
     "name": "stderr",
     "output_type": "stream",
     "text": [
      "/Users/evelyn/opt/anaconda3/lib/python3.9/site-packages/numpy/core/fromnumeric.py:3440: RuntimeWarning: Mean of empty slice.\n",
      "  return _methods._mean(a, axis=axis, dtype=dtype,\n",
      "/Users/evelyn/opt/anaconda3/lib/python3.9/site-packages/numpy/core/_methods.py:189: RuntimeWarning: invalid value encountered in double_scalars\n",
      "  ret = ret.dtype.type(ret / rcount)\n"
     ]
    },
    {
     "name": "stdout",
     "output_type": "stream",
     "text": [
      "39.7450%\n",
      "39.8512%\n",
      "39.9575%\n",
      "40.0638%\n",
      "40.1700%\n",
      "40.2763%\n",
      "40.3826%\n",
      "40.4888%\n",
      "40.5951%\n",
      "40.7014%\n",
      "40.8077%\n",
      "40.9139%\n",
      "41.0202%\n",
      "41.1265%\n",
      "41.2327%\n",
      "41.3390%\n",
      "41.4453%\n",
      "41.5515%\n",
      "41.6578%\n"
     ]
    },
    {
     "name": "stderr",
     "output_type": "stream",
     "text": [
      "/Users/evelyn/opt/anaconda3/lib/python3.9/site-packages/numpy/core/fromnumeric.py:3440: RuntimeWarning: Mean of empty slice.\n",
      "  return _methods._mean(a, axis=axis, dtype=dtype,\n",
      "/Users/evelyn/opt/anaconda3/lib/python3.9/site-packages/numpy/core/_methods.py:189: RuntimeWarning: invalid value encountered in double_scalars\n",
      "  ret = ret.dtype.type(ret / rcount)\n",
      "/Users/evelyn/opt/anaconda3/lib/python3.9/site-packages/numpy/core/fromnumeric.py:3440: RuntimeWarning: Mean of empty slice.\n",
      "  return _methods._mean(a, axis=axis, dtype=dtype,\n",
      "/Users/evelyn/opt/anaconda3/lib/python3.9/site-packages/numpy/core/_methods.py:189: RuntimeWarning: invalid value encountered in double_scalars\n",
      "  ret = ret.dtype.type(ret / rcount)\n"
     ]
    },
    {
     "name": "stdout",
     "output_type": "stream",
     "text": [
      "41.7641%\n",
      "41.8704%\n",
      "41.9766%\n",
      "42.0829%\n",
      "42.1892%\n",
      "42.2954%\n",
      "42.4017%\n",
      "42.5080%\n"
     ]
    },
    {
     "name": "stderr",
     "output_type": "stream",
     "text": [
      "/Users/evelyn/opt/anaconda3/lib/python3.9/site-packages/numpy/core/fromnumeric.py:3440: RuntimeWarning: Mean of empty slice.\n",
      "  return _methods._mean(a, axis=axis, dtype=dtype,\n",
      "/Users/evelyn/opt/anaconda3/lib/python3.9/site-packages/numpy/core/_methods.py:189: RuntimeWarning: invalid value encountered in double_scalars\n",
      "  ret = ret.dtype.type(ret / rcount)\n"
     ]
    },
    {
     "name": "stdout",
     "output_type": "stream",
     "text": [
      "42.6142%\n",
      "42.7205%\n",
      "42.8268%\n",
      "42.9330%\n"
     ]
    },
    {
     "name": "stderr",
     "output_type": "stream",
     "text": [
      "/Users/evelyn/opt/anaconda3/lib/python3.9/site-packages/numpy/core/fromnumeric.py:3440: RuntimeWarning: Mean of empty slice.\n",
      "  return _methods._mean(a, axis=axis, dtype=dtype,\n",
      "/Users/evelyn/opt/anaconda3/lib/python3.9/site-packages/numpy/core/_methods.py:189: RuntimeWarning: invalid value encountered in double_scalars\n",
      "  ret = ret.dtype.type(ret / rcount)\n",
      "/Users/evelyn/opt/anaconda3/lib/python3.9/site-packages/numpy/core/fromnumeric.py:3440: RuntimeWarning: Mean of empty slice.\n",
      "  return _methods._mean(a, axis=axis, dtype=dtype,\n",
      "/Users/evelyn/opt/anaconda3/lib/python3.9/site-packages/numpy/core/_methods.py:189: RuntimeWarning: invalid value encountered in double_scalars\n",
      "  ret = ret.dtype.type(ret / rcount)\n"
     ]
    },
    {
     "name": "stdout",
     "output_type": "stream",
     "text": [
      "43.0393%\n",
      "43.1456%\n",
      "43.2519%\n",
      "43.3581%\n",
      "43.4644%\n",
      "43.5707%\n",
      "43.6769%\n",
      "43.7832%\n",
      "43.8895%\n",
      "43.9957%\n",
      "44.1020%\n",
      "44.2083%\n"
     ]
    },
    {
     "name": "stderr",
     "output_type": "stream",
     "text": [
      "/Users/evelyn/opt/anaconda3/lib/python3.9/site-packages/numpy/core/fromnumeric.py:3440: RuntimeWarning: Mean of empty slice.\n",
      "  return _methods._mean(a, axis=axis, dtype=dtype,\n",
      "/Users/evelyn/opt/anaconda3/lib/python3.9/site-packages/numpy/core/_methods.py:189: RuntimeWarning: invalid value encountered in double_scalars\n",
      "  ret = ret.dtype.type(ret / rcount)\n"
     ]
    },
    {
     "name": "stdout",
     "output_type": "stream",
     "text": [
      "44.3146%\n",
      "44.4208%\n",
      "44.5271%\n",
      "44.6334%\n"
     ]
    },
    {
     "name": "stderr",
     "output_type": "stream",
     "text": [
      "/Users/evelyn/opt/anaconda3/lib/python3.9/site-packages/numpy/core/fromnumeric.py:3440: RuntimeWarning: Mean of empty slice.\n",
      "  return _methods._mean(a, axis=axis, dtype=dtype,\n",
      "/Users/evelyn/opt/anaconda3/lib/python3.9/site-packages/numpy/core/_methods.py:189: RuntimeWarning: invalid value encountered in double_scalars\n",
      "  ret = ret.dtype.type(ret / rcount)\n"
     ]
    },
    {
     "name": "stdout",
     "output_type": "stream",
     "text": [
      "44.7396%\n",
      "44.8459%\n",
      "44.9522%\n",
      "45.0584%\n",
      "45.1647%\n",
      "45.2710%\n",
      "45.3773%\n"
     ]
    },
    {
     "name": "stderr",
     "output_type": "stream",
     "text": [
      "/Users/evelyn/opt/anaconda3/lib/python3.9/site-packages/numpy/core/fromnumeric.py:3440: RuntimeWarning: Mean of empty slice.\n",
      "  return _methods._mean(a, axis=axis, dtype=dtype,\n",
      "/Users/evelyn/opt/anaconda3/lib/python3.9/site-packages/numpy/core/_methods.py:189: RuntimeWarning: invalid value encountered in double_scalars\n",
      "  ret = ret.dtype.type(ret / rcount)\n"
     ]
    },
    {
     "name": "stdout",
     "output_type": "stream",
     "text": [
      "45.4835%\n",
      "45.5898%\n",
      "45.6961%\n",
      "45.8023%\n"
     ]
    },
    {
     "name": "stderr",
     "output_type": "stream",
     "text": [
      "/Users/evelyn/opt/anaconda3/lib/python3.9/site-packages/numpy/core/fromnumeric.py:3440: RuntimeWarning: Mean of empty slice.\n",
      "  return _methods._mean(a, axis=axis, dtype=dtype,\n",
      "/Users/evelyn/opt/anaconda3/lib/python3.9/site-packages/numpy/core/_methods.py:189: RuntimeWarning: invalid value encountered in double_scalars\n",
      "  ret = ret.dtype.type(ret / rcount)\n"
     ]
    },
    {
     "name": "stdout",
     "output_type": "stream",
     "text": [
      "45.9086%\n",
      "46.0149%\n"
     ]
    },
    {
     "name": "stderr",
     "output_type": "stream",
     "text": [
      "/Users/evelyn/opt/anaconda3/lib/python3.9/site-packages/numpy/core/fromnumeric.py:3440: RuntimeWarning: Mean of empty slice.\n",
      "  return _methods._mean(a, axis=axis, dtype=dtype,\n",
      "/Users/evelyn/opt/anaconda3/lib/python3.9/site-packages/numpy/core/_methods.py:189: RuntimeWarning: invalid value encountered in double_scalars\n",
      "  ret = ret.dtype.type(ret / rcount)\n"
     ]
    },
    {
     "name": "stdout",
     "output_type": "stream",
     "text": [
      "46.1211%\n",
      "46.2274%\n",
      "46.3337%\n",
      "46.4400%\n"
     ]
    },
    {
     "name": "stderr",
     "output_type": "stream",
     "text": [
      "/Users/evelyn/opt/anaconda3/lib/python3.9/site-packages/numpy/core/fromnumeric.py:3440: RuntimeWarning: Mean of empty slice.\n",
      "  return _methods._mean(a, axis=axis, dtype=dtype,\n",
      "/Users/evelyn/opt/anaconda3/lib/python3.9/site-packages/numpy/core/_methods.py:189: RuntimeWarning: invalid value encountered in double_scalars\n",
      "  ret = ret.dtype.type(ret / rcount)\n"
     ]
    },
    {
     "name": "stdout",
     "output_type": "stream",
     "text": [
      "46.5462%\n",
      "46.6525%\n",
      "46.7588%\n",
      "46.8650%\n"
     ]
    },
    {
     "name": "stderr",
     "output_type": "stream",
     "text": [
      "/Users/evelyn/opt/anaconda3/lib/python3.9/site-packages/numpy/core/fromnumeric.py:3440: RuntimeWarning: Mean of empty slice.\n",
      "  return _methods._mean(a, axis=axis, dtype=dtype,\n",
      "/Users/evelyn/opt/anaconda3/lib/python3.9/site-packages/numpy/core/_methods.py:189: RuntimeWarning: invalid value encountered in double_scalars\n",
      "  ret = ret.dtype.type(ret / rcount)\n",
      "/Users/evelyn/opt/anaconda3/lib/python3.9/site-packages/numpy/core/fromnumeric.py:3440: RuntimeWarning: Mean of empty slice.\n",
      "  return _methods._mean(a, axis=axis, dtype=dtype,\n",
      "/Users/evelyn/opt/anaconda3/lib/python3.9/site-packages/numpy/core/_methods.py:189: RuntimeWarning: invalid value encountered in double_scalars\n",
      "  ret = ret.dtype.type(ret / rcount)\n"
     ]
    },
    {
     "name": "stdout",
     "output_type": "stream",
     "text": [
      "46.9713%\n",
      "47.0776%\n",
      "47.1838%\n",
      "47.2901%\n",
      "47.3964%\n",
      "47.5027%\n",
      "47.6089%\n",
      "47.7152%\n",
      "47.8215%\n",
      "47.9277%\n"
     ]
    },
    {
     "name": "stderr",
     "output_type": "stream",
     "text": [
      "/Users/evelyn/opt/anaconda3/lib/python3.9/site-packages/numpy/core/fromnumeric.py:3440: RuntimeWarning: Mean of empty slice.\n",
      "  return _methods._mean(a, axis=axis, dtype=dtype,\n",
      "/Users/evelyn/opt/anaconda3/lib/python3.9/site-packages/numpy/core/_methods.py:189: RuntimeWarning: invalid value encountered in double_scalars\n",
      "  ret = ret.dtype.type(ret / rcount)\n"
     ]
    },
    {
     "name": "stdout",
     "output_type": "stream",
     "text": [
      "48.0340%\n",
      "48.1403%\n",
      "48.2465%\n",
      "48.3528%\n",
      "48.4591%\n",
      "48.5654%\n"
     ]
    },
    {
     "name": "stderr",
     "output_type": "stream",
     "text": [
      "/Users/evelyn/opt/anaconda3/lib/python3.9/site-packages/numpy/core/fromnumeric.py:3440: RuntimeWarning: Mean of empty slice.\n",
      "  return _methods._mean(a, axis=axis, dtype=dtype,\n",
      "/Users/evelyn/opt/anaconda3/lib/python3.9/site-packages/numpy/core/_methods.py:189: RuntimeWarning: invalid value encountered in double_scalars\n",
      "  ret = ret.dtype.type(ret / rcount)\n"
     ]
    },
    {
     "name": "stdout",
     "output_type": "stream",
     "text": [
      "48.6716%\n",
      "48.7779%\n",
      "48.8842%\n",
      "48.9904%\n",
      "49.0967%\n",
      "49.2030%\n",
      "49.3092%\n",
      "49.4155%\n",
      "49.5218%\n",
      "49.6281%\n",
      "49.7343%\n",
      "49.8406%\n",
      "49.9469%\n",
      "50.0531%\n",
      "50.1594%\n"
     ]
    },
    {
     "name": "stderr",
     "output_type": "stream",
     "text": [
      "/Users/evelyn/opt/anaconda3/lib/python3.9/site-packages/numpy/core/fromnumeric.py:3440: RuntimeWarning: Mean of empty slice.\n",
      "  return _methods._mean(a, axis=axis, dtype=dtype,\n",
      "/Users/evelyn/opt/anaconda3/lib/python3.9/site-packages/numpy/core/_methods.py:189: RuntimeWarning: invalid value encountered in double_scalars\n",
      "  ret = ret.dtype.type(ret / rcount)\n"
     ]
    },
    {
     "name": "stdout",
     "output_type": "stream",
     "text": [
      "50.2657%\n",
      "50.3719%\n",
      "50.4782%\n",
      "50.5845%\n",
      "50.6908%\n",
      "50.7970%\n"
     ]
    },
    {
     "name": "stderr",
     "output_type": "stream",
     "text": [
      "/Users/evelyn/opt/anaconda3/lib/python3.9/site-packages/numpy/core/fromnumeric.py:3440: RuntimeWarning: Mean of empty slice.\n",
      "  return _methods._mean(a, axis=axis, dtype=dtype,\n",
      "/Users/evelyn/opt/anaconda3/lib/python3.9/site-packages/numpy/core/_methods.py:189: RuntimeWarning: invalid value encountered in double_scalars\n",
      "  ret = ret.dtype.type(ret / rcount)\n"
     ]
    },
    {
     "name": "stdout",
     "output_type": "stream",
     "text": [
      "50.9033%\n",
      "51.0096%\n",
      "51.1158%\n",
      "51.2221%\n"
     ]
    },
    {
     "name": "stderr",
     "output_type": "stream",
     "text": [
      "/Users/evelyn/opt/anaconda3/lib/python3.9/site-packages/numpy/core/fromnumeric.py:3440: RuntimeWarning: Mean of empty slice.\n",
      "  return _methods._mean(a, axis=axis, dtype=dtype,\n",
      "/Users/evelyn/opt/anaconda3/lib/python3.9/site-packages/numpy/core/_methods.py:189: RuntimeWarning: invalid value encountered in double_scalars\n",
      "  ret = ret.dtype.type(ret / rcount)\n"
     ]
    },
    {
     "name": "stdout",
     "output_type": "stream",
     "text": [
      "51.3284%\n",
      "51.4346%\n",
      "51.5409%\n",
      "51.6472%\n",
      "51.7535%\n"
     ]
    },
    {
     "name": "stderr",
     "output_type": "stream",
     "text": [
      "/Users/evelyn/opt/anaconda3/lib/python3.9/site-packages/numpy/core/fromnumeric.py:3440: RuntimeWarning: Mean of empty slice.\n",
      "  return _methods._mean(a, axis=axis, dtype=dtype,\n",
      "/Users/evelyn/opt/anaconda3/lib/python3.9/site-packages/numpy/core/_methods.py:189: RuntimeWarning: invalid value encountered in double_scalars\n",
      "  ret = ret.dtype.type(ret / rcount)\n"
     ]
    },
    {
     "name": "stdout",
     "output_type": "stream",
     "text": [
      "51.8597%\n",
      "51.9660%\n",
      "52.0723%\n",
      "52.1785%\n",
      "52.2848%\n",
      "52.3911%\n",
      "52.4973%\n",
      "52.6036%\n",
      "52.7099%\n",
      "52.8162%\n",
      "52.9224%\n",
      "53.0287%\n",
      "53.1350%\n",
      "53.2412%\n",
      "53.3475%\n",
      "53.4538%\n",
      "53.5600%\n",
      "53.6663%\n",
      "53.7726%\n",
      "53.8789%\n",
      "53.9851%\n"
     ]
    },
    {
     "name": "stderr",
     "output_type": "stream",
     "text": [
      "/Users/evelyn/opt/anaconda3/lib/python3.9/site-packages/numpy/core/fromnumeric.py:3440: RuntimeWarning: Mean of empty slice.\n",
      "  return _methods._mean(a, axis=axis, dtype=dtype,\n",
      "/Users/evelyn/opt/anaconda3/lib/python3.9/site-packages/numpy/core/_methods.py:189: RuntimeWarning: invalid value encountered in double_scalars\n",
      "  ret = ret.dtype.type(ret / rcount)\n",
      "/Users/evelyn/opt/anaconda3/lib/python3.9/site-packages/numpy/core/fromnumeric.py:3440: RuntimeWarning: Mean of empty slice.\n",
      "  return _methods._mean(a, axis=axis, dtype=dtype,\n",
      "/Users/evelyn/opt/anaconda3/lib/python3.9/site-packages/numpy/core/_methods.py:189: RuntimeWarning: invalid value encountered in double_scalars\n",
      "  ret = ret.dtype.type(ret / rcount)\n"
     ]
    },
    {
     "name": "stdout",
     "output_type": "stream",
     "text": [
      "54.0914%\n",
      "54.1977%\n",
      "54.3039%\n",
      "54.4102%\n",
      "54.5165%\n",
      "54.6227%\n",
      "54.7290%\n",
      "54.8353%\n",
      "54.9416%\n",
      "55.0478%\n",
      "55.1541%\n",
      "55.2604%\n",
      "55.3666%\n",
      "55.4729%\n",
      "55.5792%\n"
     ]
    },
    {
     "name": "stderr",
     "output_type": "stream",
     "text": [
      "/Users/evelyn/opt/anaconda3/lib/python3.9/site-packages/numpy/core/fromnumeric.py:3440: RuntimeWarning: Mean of empty slice.\n",
      "  return _methods._mean(a, axis=axis, dtype=dtype,\n",
      "/Users/evelyn/opt/anaconda3/lib/python3.9/site-packages/numpy/core/_methods.py:189: RuntimeWarning: invalid value encountered in double_scalars\n",
      "  ret = ret.dtype.type(ret / rcount)\n"
     ]
    },
    {
     "name": "stdout",
     "output_type": "stream",
     "text": [
      "55.6854%\n",
      "55.7917%\n",
      "55.8980%\n",
      "56.0043%\n",
      "56.1105%\n",
      "56.2168%\n"
     ]
    },
    {
     "name": "stderr",
     "output_type": "stream",
     "text": [
      "/Users/evelyn/opt/anaconda3/lib/python3.9/site-packages/numpy/core/fromnumeric.py:3440: RuntimeWarning: Mean of empty slice.\n",
      "  return _methods._mean(a, axis=axis, dtype=dtype,\n",
      "/Users/evelyn/opt/anaconda3/lib/python3.9/site-packages/numpy/core/_methods.py:189: RuntimeWarning: invalid value encountered in double_scalars\n",
      "  ret = ret.dtype.type(ret / rcount)\n"
     ]
    },
    {
     "name": "stdout",
     "output_type": "stream",
     "text": [
      "56.3231%\n",
      "56.4293%\n",
      "56.5356%\n",
      "56.6419%\n",
      "56.7481%\n",
      "56.8544%\n"
     ]
    },
    {
     "name": "stderr",
     "output_type": "stream",
     "text": [
      "/Users/evelyn/opt/anaconda3/lib/python3.9/site-packages/numpy/core/fromnumeric.py:3440: RuntimeWarning: Mean of empty slice.\n",
      "  return _methods._mean(a, axis=axis, dtype=dtype,\n",
      "/Users/evelyn/opt/anaconda3/lib/python3.9/site-packages/numpy/core/_methods.py:189: RuntimeWarning: invalid value encountered in double_scalars\n",
      "  ret = ret.dtype.type(ret / rcount)\n",
      "/Users/evelyn/opt/anaconda3/lib/python3.9/site-packages/numpy/core/fromnumeric.py:3440: RuntimeWarning: Mean of empty slice.\n",
      "  return _methods._mean(a, axis=axis, dtype=dtype,\n",
      "/Users/evelyn/opt/anaconda3/lib/python3.9/site-packages/numpy/core/_methods.py:189: RuntimeWarning: invalid value encountered in double_scalars\n",
      "  ret = ret.dtype.type(ret / rcount)\n",
      "/Users/evelyn/opt/anaconda3/lib/python3.9/site-packages/numpy/core/fromnumeric.py:3440: RuntimeWarning: Mean of empty slice.\n",
      "  return _methods._mean(a, axis=axis, dtype=dtype,\n",
      "/Users/evelyn/opt/anaconda3/lib/python3.9/site-packages/numpy/core/_methods.py:189: RuntimeWarning: invalid value encountered in double_scalars\n",
      "  ret = ret.dtype.type(ret / rcount)\n"
     ]
    },
    {
     "name": "stdout",
     "output_type": "stream",
     "text": [
      "56.9607%\n",
      "57.0670%\n",
      "57.1732%\n",
      "57.2795%\n",
      "57.3858%\n"
     ]
    },
    {
     "name": "stderr",
     "output_type": "stream",
     "text": [
      "/Users/evelyn/opt/anaconda3/lib/python3.9/site-packages/numpy/core/fromnumeric.py:3440: RuntimeWarning: Mean of empty slice.\n",
      "  return _methods._mean(a, axis=axis, dtype=dtype,\n",
      "/Users/evelyn/opt/anaconda3/lib/python3.9/site-packages/numpy/core/_methods.py:189: RuntimeWarning: invalid value encountered in double_scalars\n",
      "  ret = ret.dtype.type(ret / rcount)\n"
     ]
    },
    {
     "name": "stdout",
     "output_type": "stream",
     "text": [
      "57.4920%\n",
      "57.5983%\n",
      "57.7046%\n",
      "57.8108%\n",
      "57.9171%\n",
      "58.0234%\n",
      "58.1296%\n"
     ]
    },
    {
     "name": "stderr",
     "output_type": "stream",
     "text": [
      "/Users/evelyn/opt/anaconda3/lib/python3.9/site-packages/numpy/core/fromnumeric.py:3440: RuntimeWarning: Mean of empty slice.\n",
      "  return _methods._mean(a, axis=axis, dtype=dtype,\n",
      "/Users/evelyn/opt/anaconda3/lib/python3.9/site-packages/numpy/core/_methods.py:189: RuntimeWarning: invalid value encountered in double_scalars\n",
      "  ret = ret.dtype.type(ret / rcount)\n",
      "/Users/evelyn/opt/anaconda3/lib/python3.9/site-packages/numpy/core/fromnumeric.py:3440: RuntimeWarning: Mean of empty slice.\n",
      "  return _methods._mean(a, axis=axis, dtype=dtype,\n",
      "/Users/evelyn/opt/anaconda3/lib/python3.9/site-packages/numpy/core/_methods.py:189: RuntimeWarning: invalid value encountered in double_scalars\n",
      "  ret = ret.dtype.type(ret / rcount)\n",
      "/Users/evelyn/opt/anaconda3/lib/python3.9/site-packages/numpy/core/fromnumeric.py:3440: RuntimeWarning: Mean of empty slice.\n",
      "  return _methods._mean(a, axis=axis, dtype=dtype,\n",
      "/Users/evelyn/opt/anaconda3/lib/python3.9/site-packages/numpy/core/_methods.py:189: RuntimeWarning: invalid value encountered in double_scalars\n",
      "  ret = ret.dtype.type(ret / rcount)\n"
     ]
    },
    {
     "name": "stdout",
     "output_type": "stream",
     "text": [
      "58.2359%\n",
      "58.3422%\n",
      "58.4485%\n",
      "58.5547%\n",
      "58.6610%\n",
      "58.7673%\n",
      "58.8735%\n",
      "58.9798%\n",
      "59.0861%\n",
      "59.1923%\n"
     ]
    },
    {
     "name": "stderr",
     "output_type": "stream",
     "text": [
      "/Users/evelyn/opt/anaconda3/lib/python3.9/site-packages/numpy/core/fromnumeric.py:3440: RuntimeWarning: Mean of empty slice.\n",
      "  return _methods._mean(a, axis=axis, dtype=dtype,\n",
      "/Users/evelyn/opt/anaconda3/lib/python3.9/site-packages/numpy/core/_methods.py:189: RuntimeWarning: invalid value encountered in double_scalars\n",
      "  ret = ret.dtype.type(ret / rcount)\n",
      "/Users/evelyn/opt/anaconda3/lib/python3.9/site-packages/numpy/core/fromnumeric.py:3440: RuntimeWarning: Mean of empty slice.\n",
      "  return _methods._mean(a, axis=axis, dtype=dtype,\n",
      "/Users/evelyn/opt/anaconda3/lib/python3.9/site-packages/numpy/core/_methods.py:189: RuntimeWarning: invalid value encountered in double_scalars\n",
      "  ret = ret.dtype.type(ret / rcount)\n"
     ]
    },
    {
     "name": "stdout",
     "output_type": "stream",
     "text": [
      "59.2986%\n",
      "59.4049%\n",
      "59.5112%\n",
      "59.6174%\n"
     ]
    },
    {
     "name": "stderr",
     "output_type": "stream",
     "text": [
      "/Users/evelyn/opt/anaconda3/lib/python3.9/site-packages/numpy/core/fromnumeric.py:3440: RuntimeWarning: Mean of empty slice.\n",
      "  return _methods._mean(a, axis=axis, dtype=dtype,\n",
      "/Users/evelyn/opt/anaconda3/lib/python3.9/site-packages/numpy/core/_methods.py:189: RuntimeWarning: invalid value encountered in double_scalars\n",
      "  ret = ret.dtype.type(ret / rcount)\n",
      "/Users/evelyn/opt/anaconda3/lib/python3.9/site-packages/numpy/core/fromnumeric.py:3440: RuntimeWarning: Mean of empty slice.\n",
      "  return _methods._mean(a, axis=axis, dtype=dtype,\n",
      "/Users/evelyn/opt/anaconda3/lib/python3.9/site-packages/numpy/core/_methods.py:189: RuntimeWarning: invalid value encountered in double_scalars\n",
      "  ret = ret.dtype.type(ret / rcount)\n"
     ]
    },
    {
     "name": "stdout",
     "output_type": "stream",
     "text": [
      "59.7237%\n",
      "59.8300%\n",
      "59.9362%\n",
      "60.0425%\n",
      "60.1488%\n",
      "60.2550%\n",
      "60.3613%\n",
      "60.4676%\n",
      "60.5739%\n",
      "60.6801%\n",
      "60.7864%\n",
      "60.8927%\n",
      "60.9989%\n",
      "61.1052%\n",
      "61.2115%\n",
      "61.3177%\n",
      "61.4240%\n",
      "61.5303%\n",
      "61.6366%\n",
      "61.7428%\n",
      "61.8491%\n",
      "61.9554%\n",
      "62.0616%\n"
     ]
    },
    {
     "name": "stderr",
     "output_type": "stream",
     "text": [
      "/Users/evelyn/opt/anaconda3/lib/python3.9/site-packages/numpy/core/fromnumeric.py:3440: RuntimeWarning: Mean of empty slice.\n",
      "  return _methods._mean(a, axis=axis, dtype=dtype,\n",
      "/Users/evelyn/opt/anaconda3/lib/python3.9/site-packages/numpy/core/_methods.py:189: RuntimeWarning: invalid value encountered in double_scalars\n",
      "  ret = ret.dtype.type(ret / rcount)\n"
     ]
    },
    {
     "name": "stdout",
     "output_type": "stream",
     "text": [
      "62.1679%\n",
      "62.2742%\n",
      "62.3804%\n",
      "62.4867%\n"
     ]
    },
    {
     "name": "stderr",
     "output_type": "stream",
     "text": [
      "/Users/evelyn/opt/anaconda3/lib/python3.9/site-packages/numpy/core/fromnumeric.py:3440: RuntimeWarning: Mean of empty slice.\n",
      "  return _methods._mean(a, axis=axis, dtype=dtype,\n",
      "/Users/evelyn/opt/anaconda3/lib/python3.9/site-packages/numpy/core/_methods.py:189: RuntimeWarning: invalid value encountered in double_scalars\n",
      "  ret = ret.dtype.type(ret / rcount)\n"
     ]
    },
    {
     "name": "stdout",
     "output_type": "stream",
     "text": [
      "62.5930%\n",
      "62.6993%\n",
      "62.8055%\n",
      "62.9118%\n",
      "63.0181%\n",
      "63.1243%\n",
      "63.2306%\n",
      "63.3369%\n"
     ]
    },
    {
     "name": "stderr",
     "output_type": "stream",
     "text": [
      "/Users/evelyn/opt/anaconda3/lib/python3.9/site-packages/numpy/core/fromnumeric.py:3440: RuntimeWarning: Mean of empty slice.\n",
      "  return _methods._mean(a, axis=axis, dtype=dtype,\n",
      "/Users/evelyn/opt/anaconda3/lib/python3.9/site-packages/numpy/core/_methods.py:189: RuntimeWarning: invalid value encountered in double_scalars\n",
      "  ret = ret.dtype.type(ret / rcount)\n"
     ]
    },
    {
     "name": "stdout",
     "output_type": "stream",
     "text": [
      "63.4431%\n",
      "63.5494%\n",
      "63.6557%\n",
      "63.7620%\n",
      "63.8682%\n",
      "63.9745%\n",
      "64.0808%\n",
      "64.1870%\n",
      "64.2933%\n",
      "64.3996%\n",
      "64.5058%\n",
      "64.6121%\n",
      "64.7184%\n",
      "64.8247%\n"
     ]
    },
    {
     "name": "stderr",
     "output_type": "stream",
     "text": [
      "/Users/evelyn/opt/anaconda3/lib/python3.9/site-packages/numpy/core/fromnumeric.py:3440: RuntimeWarning: Mean of empty slice.\n",
      "  return _methods._mean(a, axis=axis, dtype=dtype,\n",
      "/Users/evelyn/opt/anaconda3/lib/python3.9/site-packages/numpy/core/_methods.py:189: RuntimeWarning: invalid value encountered in double_scalars\n",
      "  ret = ret.dtype.type(ret / rcount)\n",
      "/Users/evelyn/opt/anaconda3/lib/python3.9/site-packages/numpy/core/fromnumeric.py:3440: RuntimeWarning: Mean of empty slice.\n",
      "  return _methods._mean(a, axis=axis, dtype=dtype,\n",
      "/Users/evelyn/opt/anaconda3/lib/python3.9/site-packages/numpy/core/_methods.py:189: RuntimeWarning: invalid value encountered in double_scalars\n",
      "  ret = ret.dtype.type(ret / rcount)\n"
     ]
    },
    {
     "name": "stdout",
     "output_type": "stream",
     "text": [
      "64.9309%\n",
      "65.0372%\n",
      "65.1435%\n",
      "65.2497%\n",
      "65.3560%\n"
     ]
    },
    {
     "name": "stderr",
     "output_type": "stream",
     "text": [
      "/Users/evelyn/opt/anaconda3/lib/python3.9/site-packages/numpy/core/fromnumeric.py:3440: RuntimeWarning: Mean of empty slice.\n",
      "  return _methods._mean(a, axis=axis, dtype=dtype,\n",
      "/Users/evelyn/opt/anaconda3/lib/python3.9/site-packages/numpy/core/_methods.py:189: RuntimeWarning: invalid value encountered in double_scalars\n",
      "  ret = ret.dtype.type(ret / rcount)\n"
     ]
    },
    {
     "name": "stdout",
     "output_type": "stream",
     "text": [
      "65.4623%\n",
      "65.5685%\n",
      "65.6748%\n",
      "65.7811%\n",
      "65.8874%\n",
      "65.9936%\n",
      "66.0999%\n",
      "66.2062%\n",
      "66.3124%\n",
      "66.4187%\n",
      "66.5250%\n",
      "66.6312%\n",
      "66.7375%\n",
      "66.8438%\n",
      "66.9501%\n",
      "67.0563%\n"
     ]
    },
    {
     "name": "stderr",
     "output_type": "stream",
     "text": [
      "/Users/evelyn/opt/anaconda3/lib/python3.9/site-packages/numpy/core/fromnumeric.py:3440: RuntimeWarning: Mean of empty slice.\n",
      "  return _methods._mean(a, axis=axis, dtype=dtype,\n",
      "/Users/evelyn/opt/anaconda3/lib/python3.9/site-packages/numpy/core/_methods.py:189: RuntimeWarning: invalid value encountered in double_scalars\n",
      "  ret = ret.dtype.type(ret / rcount)\n"
     ]
    },
    {
     "name": "stdout",
     "output_type": "stream",
     "text": [
      "67.1626%\n",
      "67.2689%\n",
      "67.3751%\n"
     ]
    },
    {
     "name": "stderr",
     "output_type": "stream",
     "text": [
      "/Users/evelyn/opt/anaconda3/lib/python3.9/site-packages/numpy/core/fromnumeric.py:3440: RuntimeWarning: Mean of empty slice.\n",
      "  return _methods._mean(a, axis=axis, dtype=dtype,\n",
      "/Users/evelyn/opt/anaconda3/lib/python3.9/site-packages/numpy/core/_methods.py:189: RuntimeWarning: invalid value encountered in double_scalars\n",
      "  ret = ret.dtype.type(ret / rcount)\n"
     ]
    },
    {
     "name": "stdout",
     "output_type": "stream",
     "text": [
      "67.4814%\n",
      "67.5877%\n",
      "67.6939%\n",
      "67.8002%\n",
      "67.9065%\n",
      "68.0128%\n",
      "68.1190%\n",
      "68.2253%\n",
      "68.3316%\n",
      "68.4378%\n",
      "68.5441%\n",
      "68.6504%\n"
     ]
    },
    {
     "name": "stderr",
     "output_type": "stream",
     "text": [
      "/Users/evelyn/opt/anaconda3/lib/python3.9/site-packages/numpy/core/fromnumeric.py:3440: RuntimeWarning: Mean of empty slice.\n",
      "  return _methods._mean(a, axis=axis, dtype=dtype,\n",
      "/Users/evelyn/opt/anaconda3/lib/python3.9/site-packages/numpy/core/_methods.py:189: RuntimeWarning: invalid value encountered in double_scalars\n",
      "  ret = ret.dtype.type(ret / rcount)\n",
      "/Users/evelyn/opt/anaconda3/lib/python3.9/site-packages/numpy/core/fromnumeric.py:3440: RuntimeWarning: Mean of empty slice.\n",
      "  return _methods._mean(a, axis=axis, dtype=dtype,\n",
      "/Users/evelyn/opt/anaconda3/lib/python3.9/site-packages/numpy/core/_methods.py:189: RuntimeWarning: invalid value encountered in double_scalars\n",
      "  ret = ret.dtype.type(ret / rcount)\n"
     ]
    },
    {
     "name": "stdout",
     "output_type": "stream",
     "text": [
      "68.7566%\n",
      "68.8629%\n",
      "68.9692%\n",
      "69.0755%\n",
      "69.1817%\n",
      "69.2880%\n",
      "69.3943%\n",
      "69.5005%\n",
      "69.6068%\n",
      "69.7131%\n",
      "69.8193%\n",
      "69.9256%\n",
      "70.0319%\n",
      "70.1382%\n",
      "70.2444%\n",
      "70.3507%\n",
      "70.4570%\n",
      "70.5632%\n",
      "70.6695%\n",
      "70.7758%\n",
      "70.8820%\n",
      "70.9883%\n"
     ]
    },
    {
     "name": "stderr",
     "output_type": "stream",
     "text": [
      "/Users/evelyn/opt/anaconda3/lib/python3.9/site-packages/numpy/core/fromnumeric.py:3440: RuntimeWarning: Mean of empty slice.\n",
      "  return _methods._mean(a, axis=axis, dtype=dtype,\n",
      "/Users/evelyn/opt/anaconda3/lib/python3.9/site-packages/numpy/core/_methods.py:189: RuntimeWarning: invalid value encountered in double_scalars\n",
      "  ret = ret.dtype.type(ret / rcount)\n"
     ]
    },
    {
     "name": "stdout",
     "output_type": "stream",
     "text": [
      "71.0946%\n",
      "71.2009%\n",
      "71.3071%\n",
      "71.4134%\n",
      "71.5197%\n",
      "71.6259%\n",
      "71.7322%\n",
      "71.8385%\n",
      "71.9447%\n",
      "72.0510%\n",
      "72.1573%\n",
      "72.2635%\n",
      "72.3698%\n",
      "72.4761%\n",
      "72.5824%\n",
      "72.6886%\n",
      "72.7949%\n",
      "72.9012%\n",
      "73.0074%\n",
      "73.1137%\n",
      "73.2200%\n",
      "73.3262%\n",
      "73.4325%\n",
      "73.5388%\n",
      "73.6451%\n",
      "73.7513%\n",
      "73.8576%\n"
     ]
    },
    {
     "name": "stderr",
     "output_type": "stream",
     "text": [
      "/Users/evelyn/opt/anaconda3/lib/python3.9/site-packages/numpy/core/fromnumeric.py:3440: RuntimeWarning: Mean of empty slice.\n",
      "  return _methods._mean(a, axis=axis, dtype=dtype,\n",
      "/Users/evelyn/opt/anaconda3/lib/python3.9/site-packages/numpy/core/_methods.py:189: RuntimeWarning: invalid value encountered in double_scalars\n",
      "  ret = ret.dtype.type(ret / rcount)\n"
     ]
    },
    {
     "name": "stdout",
     "output_type": "stream",
     "text": [
      "73.9639%\n",
      "74.0701%\n"
     ]
    },
    {
     "name": "stderr",
     "output_type": "stream",
     "text": [
      "/Users/evelyn/opt/anaconda3/lib/python3.9/site-packages/numpy/core/fromnumeric.py:3440: RuntimeWarning: Mean of empty slice.\n",
      "  return _methods._mean(a, axis=axis, dtype=dtype,\n",
      "/Users/evelyn/opt/anaconda3/lib/python3.9/site-packages/numpy/core/_methods.py:189: RuntimeWarning: invalid value encountered in double_scalars\n",
      "  ret = ret.dtype.type(ret / rcount)\n",
      "/Users/evelyn/opt/anaconda3/lib/python3.9/site-packages/numpy/core/fromnumeric.py:3440: RuntimeWarning: Mean of empty slice.\n",
      "  return _methods._mean(a, axis=axis, dtype=dtype,\n",
      "/Users/evelyn/opt/anaconda3/lib/python3.9/site-packages/numpy/core/_methods.py:189: RuntimeWarning: invalid value encountered in double_scalars\n",
      "  ret = ret.dtype.type(ret / rcount)\n"
     ]
    },
    {
     "name": "stdout",
     "output_type": "stream",
     "text": [
      "74.1764%\n",
      "74.2827%\n",
      "74.3889%\n",
      "74.4952%\n",
      "74.6015%\n",
      "74.7078%\n",
      "74.8140%\n",
      "74.9203%\n",
      "75.0266%\n",
      "75.1328%\n",
      "75.2391%\n"
     ]
    },
    {
     "name": "stderr",
     "output_type": "stream",
     "text": [
      "/Users/evelyn/opt/anaconda3/lib/python3.9/site-packages/numpy/core/fromnumeric.py:3440: RuntimeWarning: Mean of empty slice.\n",
      "  return _methods._mean(a, axis=axis, dtype=dtype,\n",
      "/Users/evelyn/opt/anaconda3/lib/python3.9/site-packages/numpy/core/_methods.py:189: RuntimeWarning: invalid value encountered in double_scalars\n",
      "  ret = ret.dtype.type(ret / rcount)\n"
     ]
    },
    {
     "name": "stdout",
     "output_type": "stream",
     "text": [
      "75.3454%\n",
      "75.4516%\n",
      "75.5579%\n",
      "75.6642%\n"
     ]
    },
    {
     "name": "stderr",
     "output_type": "stream",
     "text": [
      "/Users/evelyn/opt/anaconda3/lib/python3.9/site-packages/numpy/core/fromnumeric.py:3440: RuntimeWarning: Mean of empty slice.\n",
      "  return _methods._mean(a, axis=axis, dtype=dtype,\n",
      "/Users/evelyn/opt/anaconda3/lib/python3.9/site-packages/numpy/core/_methods.py:189: RuntimeWarning: invalid value encountered in double_scalars\n",
      "  ret = ret.dtype.type(ret / rcount)\n",
      "/Users/evelyn/opt/anaconda3/lib/python3.9/site-packages/numpy/core/fromnumeric.py:3440: RuntimeWarning: Mean of empty slice.\n",
      "  return _methods._mean(a, axis=axis, dtype=dtype,\n",
      "/Users/evelyn/opt/anaconda3/lib/python3.9/site-packages/numpy/core/_methods.py:189: RuntimeWarning: invalid value encountered in double_scalars\n",
      "  ret = ret.dtype.type(ret / rcount)\n"
     ]
    },
    {
     "name": "stdout",
     "output_type": "stream",
     "text": [
      "75.7705%\n",
      "75.8767%\n",
      "75.9830%\n",
      "76.0893%\n",
      "76.1955%\n",
      "76.3018%\n",
      "76.4081%\n"
     ]
    },
    {
     "name": "stderr",
     "output_type": "stream",
     "text": [
      "/Users/evelyn/opt/anaconda3/lib/python3.9/site-packages/numpy/core/fromnumeric.py:3440: RuntimeWarning: Mean of empty slice.\n",
      "  return _methods._mean(a, axis=axis, dtype=dtype,\n",
      "/Users/evelyn/opt/anaconda3/lib/python3.9/site-packages/numpy/core/_methods.py:189: RuntimeWarning: invalid value encountered in double_scalars\n",
      "  ret = ret.dtype.type(ret / rcount)\n",
      "/Users/evelyn/opt/anaconda3/lib/python3.9/site-packages/numpy/core/fromnumeric.py:3440: RuntimeWarning: Mean of empty slice.\n",
      "  return _methods._mean(a, axis=axis, dtype=dtype,\n",
      "/Users/evelyn/opt/anaconda3/lib/python3.9/site-packages/numpy/core/_methods.py:189: RuntimeWarning: invalid value encountered in double_scalars\n",
      "  ret = ret.dtype.type(ret / rcount)\n"
     ]
    },
    {
     "name": "stdout",
     "output_type": "stream",
     "text": [
      "76.5143%\n",
      "76.6206%\n",
      "76.7269%\n",
      "76.8332%\n",
      "76.9394%\n",
      "77.0457%\n",
      "77.1520%\n",
      "77.2582%\n",
      "77.3645%\n",
      "77.4708%\n",
      "77.5770%\n",
      "77.6833%\n",
      "77.7896%\n",
      "77.8959%\n",
      "78.0021%\n",
      "78.1084%\n",
      "78.2147%\n",
      "78.3209%\n",
      "78.4272%\n",
      "78.5335%\n",
      "78.6397%\n",
      "78.7460%\n",
      "78.8523%\n",
      "78.9586%\n",
      "79.0648%\n",
      "79.1711%\n",
      "79.2774%\n",
      "79.3836%\n",
      "79.4899%\n",
      "79.5962%\n"
     ]
    },
    {
     "name": "stderr",
     "output_type": "stream",
     "text": [
      "/Users/evelyn/opt/anaconda3/lib/python3.9/site-packages/numpy/core/fromnumeric.py:3440: RuntimeWarning: Mean of empty slice.\n",
      "  return _methods._mean(a, axis=axis, dtype=dtype,\n",
      "/Users/evelyn/opt/anaconda3/lib/python3.9/site-packages/numpy/core/_methods.py:189: RuntimeWarning: invalid value encountered in double_scalars\n",
      "  ret = ret.dtype.type(ret / rcount)\n"
     ]
    },
    {
     "name": "stdout",
     "output_type": "stream",
     "text": [
      "79.7024%\n",
      "79.8087%\n",
      "79.9150%\n",
      "80.0213%\n",
      "80.1275%\n"
     ]
    },
    {
     "name": "stderr",
     "output_type": "stream",
     "text": [
      "/Users/evelyn/opt/anaconda3/lib/python3.9/site-packages/numpy/core/fromnumeric.py:3440: RuntimeWarning: Mean of empty slice.\n",
      "  return _methods._mean(a, axis=axis, dtype=dtype,\n",
      "/Users/evelyn/opt/anaconda3/lib/python3.9/site-packages/numpy/core/_methods.py:189: RuntimeWarning: invalid value encountered in double_scalars\n",
      "  ret = ret.dtype.type(ret / rcount)\n"
     ]
    },
    {
     "name": "stdout",
     "output_type": "stream",
     "text": [
      "80.2338%\n",
      "80.3401%\n",
      "80.4463%\n"
     ]
    },
    {
     "name": "stderr",
     "output_type": "stream",
     "text": [
      "/Users/evelyn/opt/anaconda3/lib/python3.9/site-packages/numpy/core/fromnumeric.py:3440: RuntimeWarning: Mean of empty slice.\n",
      "  return _methods._mean(a, axis=axis, dtype=dtype,\n",
      "/Users/evelyn/opt/anaconda3/lib/python3.9/site-packages/numpy/core/_methods.py:189: RuntimeWarning: invalid value encountered in double_scalars\n",
      "  ret = ret.dtype.type(ret / rcount)\n"
     ]
    },
    {
     "name": "stdout",
     "output_type": "stream",
     "text": [
      "80.5526%\n",
      "80.6589%\n",
      "80.7651%\n",
      "80.8714%\n",
      "80.9777%\n",
      "81.0840%\n",
      "81.1902%\n",
      "81.2965%\n",
      "81.4028%\n",
      "81.5090%\n",
      "81.6153%\n"
     ]
    },
    {
     "name": "stderr",
     "output_type": "stream",
     "text": [
      "/Users/evelyn/opt/anaconda3/lib/python3.9/site-packages/numpy/core/fromnumeric.py:3440: RuntimeWarning: Mean of empty slice.\n",
      "  return _methods._mean(a, axis=axis, dtype=dtype,\n",
      "/Users/evelyn/opt/anaconda3/lib/python3.9/site-packages/numpy/core/_methods.py:189: RuntimeWarning: invalid value encountered in double_scalars\n",
      "  ret = ret.dtype.type(ret / rcount)\n"
     ]
    },
    {
     "name": "stdout",
     "output_type": "stream",
     "text": [
      "81.7216%\n",
      "81.8278%\n",
      "81.9341%\n",
      "82.0404%\n",
      "82.1467%\n",
      "82.2529%\n",
      "82.3592%\n",
      "82.4655%\n",
      "82.5717%\n",
      "82.6780%\n"
     ]
    },
    {
     "name": "stderr",
     "output_type": "stream",
     "text": [
      "/Users/evelyn/opt/anaconda3/lib/python3.9/site-packages/numpy/core/fromnumeric.py:3440: RuntimeWarning: Mean of empty slice.\n",
      "  return _methods._mean(a, axis=axis, dtype=dtype,\n",
      "/Users/evelyn/opt/anaconda3/lib/python3.9/site-packages/numpy/core/_methods.py:189: RuntimeWarning: invalid value encountered in double_scalars\n",
      "  ret = ret.dtype.type(ret / rcount)\n"
     ]
    },
    {
     "name": "stdout",
     "output_type": "stream",
     "text": [
      "82.7843%\n",
      "82.8905%\n",
      "82.9968%\n",
      "83.1031%\n",
      "83.2094%\n",
      "83.3156%\n",
      "83.4219%\n"
     ]
    },
    {
     "name": "stderr",
     "output_type": "stream",
     "text": [
      "/Users/evelyn/opt/anaconda3/lib/python3.9/site-packages/numpy/core/fromnumeric.py:3440: RuntimeWarning: Mean of empty slice.\n",
      "  return _methods._mean(a, axis=axis, dtype=dtype,\n",
      "/Users/evelyn/opt/anaconda3/lib/python3.9/site-packages/numpy/core/_methods.py:189: RuntimeWarning: invalid value encountered in double_scalars\n",
      "  ret = ret.dtype.type(ret / rcount)\n"
     ]
    },
    {
     "name": "stdout",
     "output_type": "stream",
     "text": [
      "83.5282%\n",
      "83.6344%\n",
      "83.7407%\n",
      "83.8470%\n",
      "83.9532%\n",
      "84.0595%\n",
      "84.1658%\n",
      "84.2721%\n",
      "84.3783%\n",
      "84.4846%\n",
      "84.5909%\n",
      "84.6971%\n",
      "84.8034%\n",
      "84.9097%\n",
      "85.0159%\n",
      "85.1222%\n",
      "85.2285%\n",
      "85.3348%\n",
      "85.4410%\n",
      "85.5473%\n",
      "85.6536%\n",
      "85.7598%\n",
      "85.8661%\n",
      "85.9724%\n",
      "86.0786%\n",
      "86.1849%\n",
      "86.2912%\n",
      "86.3974%\n",
      "86.5037%\n"
     ]
    },
    {
     "name": "stderr",
     "output_type": "stream",
     "text": [
      "/Users/evelyn/opt/anaconda3/lib/python3.9/site-packages/numpy/core/fromnumeric.py:3440: RuntimeWarning: Mean of empty slice.\n",
      "  return _methods._mean(a, axis=axis, dtype=dtype,\n",
      "/Users/evelyn/opt/anaconda3/lib/python3.9/site-packages/numpy/core/_methods.py:189: RuntimeWarning: invalid value encountered in double_scalars\n",
      "  ret = ret.dtype.type(ret / rcount)\n"
     ]
    },
    {
     "name": "stdout",
     "output_type": "stream",
     "text": [
      "86.6100%\n",
      "86.7163%\n",
      "86.8225%\n",
      "86.9288%\n",
      "87.0351%\n",
      "87.1413%\n"
     ]
    },
    {
     "name": "stderr",
     "output_type": "stream",
     "text": [
      "/Users/evelyn/opt/anaconda3/lib/python3.9/site-packages/numpy/core/fromnumeric.py:3440: RuntimeWarning: Mean of empty slice.\n",
      "  return _methods._mean(a, axis=axis, dtype=dtype,\n",
      "/Users/evelyn/opt/anaconda3/lib/python3.9/site-packages/numpy/core/_methods.py:189: RuntimeWarning: invalid value encountered in double_scalars\n",
      "  ret = ret.dtype.type(ret / rcount)\n",
      "/Users/evelyn/opt/anaconda3/lib/python3.9/site-packages/numpy/core/fromnumeric.py:3440: RuntimeWarning: Mean of empty slice.\n",
      "  return _methods._mean(a, axis=axis, dtype=dtype,\n",
      "/Users/evelyn/opt/anaconda3/lib/python3.9/site-packages/numpy/core/_methods.py:189: RuntimeWarning: invalid value encountered in double_scalars\n",
      "  ret = ret.dtype.type(ret / rcount)\n"
     ]
    },
    {
     "name": "stdout",
     "output_type": "stream",
     "text": [
      "87.2476%\n",
      "87.3539%\n",
      "87.4601%\n",
      "87.5664%\n",
      "87.6727%\n",
      "87.7790%\n",
      "87.8852%\n",
      "87.9915%\n",
      "88.0978%\n",
      "88.2040%\n",
      "88.3103%\n",
      "88.4166%\n",
      "88.5228%\n",
      "88.6291%\n",
      "88.7354%\n",
      "88.8417%\n",
      "88.9479%\n",
      "89.0542%\n",
      "89.1605%\n",
      "89.2667%\n",
      "89.3730%\n",
      "89.4793%\n",
      "89.5855%\n",
      "89.6918%\n",
      "89.7981%\n"
     ]
    },
    {
     "name": "stderr",
     "output_type": "stream",
     "text": [
      "/Users/evelyn/opt/anaconda3/lib/python3.9/site-packages/numpy/core/fromnumeric.py:3440: RuntimeWarning: Mean of empty slice.\n",
      "  return _methods._mean(a, axis=axis, dtype=dtype,\n",
      "/Users/evelyn/opt/anaconda3/lib/python3.9/site-packages/numpy/core/_methods.py:189: RuntimeWarning: invalid value encountered in double_scalars\n",
      "  ret = ret.dtype.type(ret / rcount)\n"
     ]
    },
    {
     "name": "stdout",
     "output_type": "stream",
     "text": [
      "89.9044%\n",
      "90.0106%\n",
      "90.1169%\n",
      "90.2232%\n",
      "90.3294%\n",
      "90.4357%\n",
      "90.5420%\n",
      "90.6482%\n",
      "90.7545%\n",
      "90.8608%\n",
      "90.9671%\n",
      "91.0733%\n",
      "91.1796%\n",
      "91.2859%\n",
      "91.3921%\n",
      "91.4984%\n",
      "91.6047%\n",
      "91.7109%\n",
      "91.8172%\n",
      "91.9235%\n",
      "92.0298%\n",
      "92.1360%\n",
      "92.2423%\n",
      "92.3486%\n",
      "92.4548%\n"
     ]
    },
    {
     "name": "stderr",
     "output_type": "stream",
     "text": [
      "/Users/evelyn/opt/anaconda3/lib/python3.9/site-packages/numpy/core/fromnumeric.py:3440: RuntimeWarning: Mean of empty slice.\n",
      "  return _methods._mean(a, axis=axis, dtype=dtype,\n",
      "/Users/evelyn/opt/anaconda3/lib/python3.9/site-packages/numpy/core/_methods.py:189: RuntimeWarning: invalid value encountered in double_scalars\n",
      "  ret = ret.dtype.type(ret / rcount)\n",
      "/Users/evelyn/opt/anaconda3/lib/python3.9/site-packages/numpy/core/fromnumeric.py:3440: RuntimeWarning: Mean of empty slice.\n",
      "  return _methods._mean(a, axis=axis, dtype=dtype,\n",
      "/Users/evelyn/opt/anaconda3/lib/python3.9/site-packages/numpy/core/_methods.py:189: RuntimeWarning: invalid value encountered in double_scalars\n",
      "  ret = ret.dtype.type(ret / rcount)\n",
      "/Users/evelyn/opt/anaconda3/lib/python3.9/site-packages/numpy/core/fromnumeric.py:3440: RuntimeWarning: Mean of empty slice.\n",
      "  return _methods._mean(a, axis=axis, dtype=dtype,\n",
      "/Users/evelyn/opt/anaconda3/lib/python3.9/site-packages/numpy/core/_methods.py:189: RuntimeWarning: invalid value encountered in double_scalars\n",
      "  ret = ret.dtype.type(ret / rcount)\n"
     ]
    },
    {
     "name": "stdout",
     "output_type": "stream",
     "text": [
      "92.5611%\n",
      "92.6674%\n",
      "92.7736%\n",
      "92.8799%\n",
      "92.9862%\n",
      "93.0925%\n",
      "93.1987%\n",
      "93.3050%\n"
     ]
    },
    {
     "name": "stderr",
     "output_type": "stream",
     "text": [
      "/Users/evelyn/opt/anaconda3/lib/python3.9/site-packages/numpy/core/fromnumeric.py:3440: RuntimeWarning: Mean of empty slice.\n",
      "  return _methods._mean(a, axis=axis, dtype=dtype,\n",
      "/Users/evelyn/opt/anaconda3/lib/python3.9/site-packages/numpy/core/_methods.py:189: RuntimeWarning: invalid value encountered in double_scalars\n",
      "  ret = ret.dtype.type(ret / rcount)\n"
     ]
    },
    {
     "name": "stdout",
     "output_type": "stream",
     "text": [
      "93.4113%\n",
      "93.5175%\n",
      "93.6238%\n",
      "93.7301%\n"
     ]
    },
    {
     "name": "stderr",
     "output_type": "stream",
     "text": [
      "/Users/evelyn/opt/anaconda3/lib/python3.9/site-packages/numpy/core/fromnumeric.py:3440: RuntimeWarning: Mean of empty slice.\n",
      "  return _methods._mean(a, axis=axis, dtype=dtype,\n",
      "/Users/evelyn/opt/anaconda3/lib/python3.9/site-packages/numpy/core/_methods.py:189: RuntimeWarning: invalid value encountered in double_scalars\n",
      "  ret = ret.dtype.type(ret / rcount)\n"
     ]
    },
    {
     "name": "stdout",
     "output_type": "stream",
     "text": [
      "93.8363%\n",
      "93.9426%\n",
      "94.0489%\n",
      "94.1552%\n",
      "94.2614%\n",
      "94.3677%\n",
      "94.4740%\n"
     ]
    },
    {
     "name": "stderr",
     "output_type": "stream",
     "text": [
      "/Users/evelyn/opt/anaconda3/lib/python3.9/site-packages/numpy/core/fromnumeric.py:3440: RuntimeWarning: Mean of empty slice.\n",
      "  return _methods._mean(a, axis=axis, dtype=dtype,\n",
      "/Users/evelyn/opt/anaconda3/lib/python3.9/site-packages/numpy/core/_methods.py:189: RuntimeWarning: invalid value encountered in double_scalars\n",
      "  ret = ret.dtype.type(ret / rcount)\n"
     ]
    },
    {
     "name": "stdout",
     "output_type": "stream",
     "text": [
      "94.5802%\n",
      "94.6865%\n",
      "94.7928%\n",
      "94.8990%\n",
      "95.0053%\n",
      "95.1116%\n",
      "95.2179%\n",
      "95.3241%\n",
      "95.4304%\n",
      "95.5367%\n",
      "95.6429%\n",
      "95.7492%\n",
      "95.8555%\n",
      "95.9617%\n"
     ]
    },
    {
     "name": "stderr",
     "output_type": "stream",
     "text": [
      "/Users/evelyn/opt/anaconda3/lib/python3.9/site-packages/numpy/core/fromnumeric.py:3440: RuntimeWarning: Mean of empty slice.\n",
      "  return _methods._mean(a, axis=axis, dtype=dtype,\n",
      "/Users/evelyn/opt/anaconda3/lib/python3.9/site-packages/numpy/core/_methods.py:189: RuntimeWarning: invalid value encountered in double_scalars\n",
      "  ret = ret.dtype.type(ret / rcount)\n",
      "/Users/evelyn/opt/anaconda3/lib/python3.9/site-packages/numpy/core/fromnumeric.py:3440: RuntimeWarning: Mean of empty slice.\n",
      "  return _methods._mean(a, axis=axis, dtype=dtype,\n",
      "/Users/evelyn/opt/anaconda3/lib/python3.9/site-packages/numpy/core/_methods.py:189: RuntimeWarning: invalid value encountered in double_scalars\n",
      "  ret = ret.dtype.type(ret / rcount)\n",
      "/Users/evelyn/opt/anaconda3/lib/python3.9/site-packages/numpy/core/fromnumeric.py:3440: RuntimeWarning: Mean of empty slice.\n",
      "  return _methods._mean(a, axis=axis, dtype=dtype,\n",
      "/Users/evelyn/opt/anaconda3/lib/python3.9/site-packages/numpy/core/_methods.py:189: RuntimeWarning: invalid value encountered in double_scalars\n",
      "  ret = ret.dtype.type(ret / rcount)\n",
      "/Users/evelyn/opt/anaconda3/lib/python3.9/site-packages/numpy/core/fromnumeric.py:3440: RuntimeWarning: Mean of empty slice.\n",
      "  return _methods._mean(a, axis=axis, dtype=dtype,\n",
      "/Users/evelyn/opt/anaconda3/lib/python3.9/site-packages/numpy/core/_methods.py:189: RuntimeWarning: invalid value encountered in double_scalars\n",
      "  ret = ret.dtype.type(ret / rcount)\n"
     ]
    },
    {
     "name": "stdout",
     "output_type": "stream",
     "text": [
      "96.0680%\n",
      "96.1743%\n",
      "96.2806%\n",
      "96.3868%\n",
      "96.4931%\n",
      "96.5994%\n",
      "96.7056%\n",
      "96.8119%\n",
      "96.9182%\n",
      "97.0244%\n",
      "97.1307%\n",
      "97.2370%\n",
      "97.3433%\n",
      "97.4495%\n",
      "97.5558%\n",
      "97.6621%\n",
      "97.7683%\n",
      "97.8746%\n",
      "97.9809%\n",
      "98.0871%\n",
      "98.1934%\n",
      "98.2997%\n",
      "98.4060%\n",
      "98.5122%\n"
     ]
    },
    {
     "name": "stderr",
     "output_type": "stream",
     "text": [
      "/Users/evelyn/opt/anaconda3/lib/python3.9/site-packages/numpy/core/fromnumeric.py:3440: RuntimeWarning: Mean of empty slice.\n",
      "  return _methods._mean(a, axis=axis, dtype=dtype,\n",
      "/Users/evelyn/opt/anaconda3/lib/python3.9/site-packages/numpy/core/_methods.py:189: RuntimeWarning: invalid value encountered in double_scalars\n",
      "  ret = ret.dtype.type(ret / rcount)\n",
      "/Users/evelyn/opt/anaconda3/lib/python3.9/site-packages/numpy/core/fromnumeric.py:3440: RuntimeWarning: Mean of empty slice.\n",
      "  return _methods._mean(a, axis=axis, dtype=dtype,\n",
      "/Users/evelyn/opt/anaconda3/lib/python3.9/site-packages/numpy/core/_methods.py:189: RuntimeWarning: invalid value encountered in double_scalars\n",
      "  ret = ret.dtype.type(ret / rcount)\n"
     ]
    },
    {
     "name": "stdout",
     "output_type": "stream",
     "text": [
      "98.6185%\n",
      "98.7248%\n",
      "98.8310%\n"
     ]
    },
    {
     "name": "stderr",
     "output_type": "stream",
     "text": [
      "/Users/evelyn/opt/anaconda3/lib/python3.9/site-packages/numpy/core/fromnumeric.py:3440: RuntimeWarning: Mean of empty slice.\n",
      "  return _methods._mean(a, axis=axis, dtype=dtype,\n",
      "/Users/evelyn/opt/anaconda3/lib/python3.9/site-packages/numpy/core/_methods.py:189: RuntimeWarning: invalid value encountered in double_scalars\n",
      "  ret = ret.dtype.type(ret / rcount)\n"
     ]
    },
    {
     "name": "stdout",
     "output_type": "stream",
     "text": [
      "98.9373%\n",
      "99.0436%\n",
      "99.1498%\n",
      "99.2561%\n",
      "99.3624%\n",
      "99.4687%\n",
      "99.5749%\n",
      "99.6812%\n",
      "99.7875%\n",
      "99.8937%\n"
     ]
    }
   ],
   "source": [
    "path = '/Users/evelyn/Desktop/weather information/salm-weather/'\n",
    "\n",
    "path1 = '/Users/evelyn/Desktop/SALM/'\n",
    "\n",
    "import os\n",
    "import os.path\n",
    "import numpy as np\n",
    "import datetime\n",
    "\n",
    "for i in range(len(salm)):\n",
    "    print('{:.4%}'.format(i/len(salm)))\n",
    "    \n",
    "    df_outbreak = salm_station[salm_station[\"CDCID\"] == salm.loc[i,\"CDCID\"]]\n",
    "    df_outbreak = df_outbreak.reset_index(drop = True)\n",
    "    \n",
    "    df_null = salm_null[salm_null[\"CDCID\"] == salm.loc[i,\"CDCID\"]]\n",
    "    df_null = df_null.reset_index(drop = True)\n",
    "    \n",
    "    TEMP = [] ; MAX = [] ; MIN = [] ; DEWP = [] ; SLP = [] ; STP = [] ; WDSP = [] ; MXSPD = [];\n",
    "    PRCP = [] ; SNDP = [];\n",
    "    Fog = [] ; Rain = [] ; Snow = [] ; Hail = [] ; Thunder = [] ; Tornado = [];\n",
    "    if (len(df_outbreak) > 0):\n",
    "        startdate = datetime.datetime.strptime(df_outbreak.loc[0, \"InitialExposure\"], \"%Y-%m-%d\")\n",
    "        enddate = datetime.datetime.strptime(df_outbreak.loc[0, \"LastExposure\"], \"%Y-%m-%d\")\n",
    "    elif (len(df_null) > 0):\n",
    "        startdate = datetime.datetime.strptime(df_null.loc[0, \"InitialExposure\"], \"%Y-%m-%d\")\n",
    "        enddate = datetime.datetime.strptime(df_null.loc[0, \"LastExposure\"], \"%Y-%m-%d\")\n",
    "    else:\n",
    "        continue\n",
    "        \n",
    "    delta = datetime.timedelta(days=1)\n",
    "    d = startdate\n",
    "    \n",
    "    while d <= enddate:\n",
    "        yr = int(str(d)[:4])\n",
    "        TEMP1 = [] ; MAX1 = [] ; MIN1 = [] ; DEWP1 = [] ; SLP1 = [] ; STP1 = [] ; WDSP1 = [] ; MXSPD1 = [];\n",
    "        PRCP1 = [] ; SNDP1 = [];\n",
    "        Fog1 = [] ; Rain1 = [] ; Snow1 = [] ; Hail1 = [] ; Thunder1 = [] ; Tornado1 = [];\n",
    "        \n",
    "        if (len(df_outbreak) > 0):\n",
    "            for j in range(len(df_outbreak)):\n",
    "                usaf = df_outbreak.loc[j, \"USAF\"]\n",
    "                wban = df_outbreak.loc[j, \"WBAN\"]\n",
    "                filename = str(usaf) + str(wban) + \"-\" + str(yr) + \"DAILY.csv\"\n",
    "                if not(os.path.isfile(path+filename)):\n",
    "                    continue \n",
    "                elif(sum(1 for line in open(path+filename)) < 10):\n",
    "                    continue \n",
    "                else:\n",
    "                    df = pd.read_csv(path + filename)\n",
    "                    if(df.DATE.str.contains(str(d)[:10]).any()):\n",
    "                        m = df[df.DATE == str(d)[:10]].index.tolist()[0]\n",
    "                        if(df.loc[m, \"TEMP\"] < 9999):\n",
    "                            TEMP1.append(df.loc[m, \"TEMP\"])\n",
    "                        if(df.loc[m, \"MAX\"] < 9999):\n",
    "                            MAX1.append(df.loc[m, \"MAX\"])\n",
    "                        if(df.loc[m, \"MIN\"] < 9999):\n",
    "                            MIN1.append(df.loc[m, \"MIN\"])\n",
    "                        if(df.loc[m, \"DEWP\"] < 9999):\n",
    "                            DEWP1.append(df.loc[m, \"DEWP\"])\n",
    "                        if(df.loc[m, \"SLP\"] < 9999):\n",
    "                            SLP1.append(df.loc[m, \"SLP\"])\n",
    "                        if(df.loc[m, \"STP\"] < 100):\n",
    "                            df.loc[m, \"STP\"] = df.loc[m, \"STP\"] + 1000\n",
    "                            STP1.append(df.loc[m, \"STP\"])\n",
    "                        elif not(df.loc[m, \"STP_ATTRIBUTES\"] == 0):\n",
    "                            STP1.append(df.loc[m, \"STP\"]) \n",
    "                        if(df.loc[m, \"WDSP\"] < 999):\n",
    "                            WDSP1.append(df.loc[m, \"WDSP\"])\n",
    "                        if(df.loc[m, \"MXSPD\"] < 998):\n",
    "                            MXSPD1.append(df.loc[m, \"MXSPD\"])\n",
    "                        if(df.loc[m, \"PRCP\"] < 99):\n",
    "                            PRCP1.append(df.loc[m, \"PRCP\"])\n",
    "\n",
    "                        SNDP1.append(df.loc[m, \"SNDP\"]) \n",
    "                        Fog1.append(df.loc[m, \"Fog\"])\n",
    "                        Rain1.append(df.loc[m, \"Rain or Drizzle\"])\n",
    "                        Snow1.append(df.loc[m, \"Snow or Ice Pellets\"])\n",
    "                        Hail1.append(df.loc[m, \"Hail\"])\n",
    "                        Thunder1.append(df.loc[m, \"Thunder\"])\n",
    "                        Tornado1.append(df.loc[m, \"Tornado or Funnel Cloud\"])\n",
    "                    else:\n",
    "                        continue\n",
    "        if (len(df_null) > 0):\n",
    "            for k in range(len(df_null)):\n",
    "                usaf1 = df_null.loc[k, \"USAF0\"]\n",
    "                wban1 = df_null.loc[k, \"WBAN0\"]\n",
    "                filename1 = str(usaf1) + str(wban1) + \"-\" + str(yr) + \"DAILY.csv\"\n",
    "                dfn = pd.read_csv(path1 + filename1)\n",
    "                if(dfn.DATE.str.contains(str(d)[:10]).any()):\n",
    "                    a = dfn[dfn.DATE == str(d)[:10]].index.tolist()[0]\n",
    "                    if not(pd.isna(dfn.loc[a, \"TEMP\"])):\n",
    "                        TEMP1.append(dfn.loc[a, \"TEMP\"]) \n",
    "                    if not(pd.isna(dfn.loc[a, \"MAX\"])):\n",
    "                        MAX1.append(dfn.loc[a, \"MAX\"])\n",
    "                    if not(pd.isna(dfn.loc[a, \"MIN\"])):\n",
    "                        MIN1.append(dfn.loc[a, \"MIN\"])\n",
    "                    if not(pd.isna(dfn.loc[a, \"DEWP\"])):\n",
    "                        DEWP1.append(dfn.loc[a, \"DEWP\"])\n",
    "                    if not(pd.isna(dfn.loc[a, \"SLP\"])):\n",
    "                        SLP1.append(dfn.loc[a, \"SLP\"])\n",
    "                    if not(pd.isna(dfn.loc[a, \"STP\"])):\n",
    "                        STP1.append(dfn.loc[a, \"STP\"])\n",
    "                    if not(pd.isna(dfn.loc[a, \"WDSP\"])):\n",
    "                        WDSP1.append(dfn.loc[a, \"WDSP\"])\n",
    "                    if not(pd.isna(dfn.loc[a, \"MXSPD\"])):\n",
    "                        MXSPD1.append(dfn.loc[a, \"MXSPD\"])\n",
    "                    if not(pd.isna(dfn.loc[a, \"PRCP\"])):\n",
    "                        PRCP1.append(dfn.loc[a, \"PRCP\"])\n",
    "                        \n",
    "                    SNDP1.append(dfn.loc[a, \"SNDP\"])\n",
    "                    Fog1.append(dfn.loc[a, \"Fog\"])\n",
    "                    Rain1.append(dfn.loc[a, \"Rain or Drizzle\"])\n",
    "                    Snow1.append(dfn.loc[a, \"Snow or Ice Pellets\"])\n",
    "                    Hail1.append(dfn.loc[a, \"Hail\"])\n",
    "                    Thunder1.append(dfn.loc[a, \"Thunder\"])\n",
    "                    Tornado1.append(dfn.loc[a, \"Tornado or Funnel Cloud\"])\n",
    "                else:\n",
    "                    continue\n",
    "            \n",
    "        if not(len(TEMP1) == 0):\n",
    "            TEMP.append(np.mean(TEMP1))\n",
    "        if not(len(MAX1) == 0):\n",
    "            MAX.append(np.mean(MAX1))\n",
    "        if not (len(MIN1) == 0):\n",
    "            MIN.append(np.mean(MIN1))\n",
    "        if not (len(DEWP1) == 0):\n",
    "            DEWP.append(np.mean(DEWP1))\n",
    "        if not (len(SLP1) == 0):\n",
    "            SLP.append(np.mean(SLP1))\n",
    "        if not (len(STP1) == 0):\n",
    "            STP.append(np.mean(STP1))\n",
    "        if not (len(WDSP1) == 0):\n",
    "            WDSP.append(np.mean(WDSP1))\n",
    "        if not (len(MXSPD1) == 0):\n",
    "            MXSPD.append(np.mean(MXSPD1))\n",
    "        if not (len(PRCP1) == 0):\n",
    "            PRCP.append(np.mean(PRCP1))\n",
    "        if not (len(SNDP1) == 0):\n",
    "            SNDP.append(np.mean(SNDP1))\n",
    "        if not (len(Fog1) == 0):\n",
    "            Fog.append(np.mean(Fog1))\n",
    "        if not (len(Rain1) == 0):\n",
    "            Rain.append(np.mean(Rain1))\n",
    "        if not (len(Snow1) == 0):\n",
    "            Snow.append(np.mean(Snow1))\n",
    "        if not (len(Hail1) == 0):\n",
    "            Hail.append(np.mean(Hail1))\n",
    "        if not (len(Thunder1) == 0):\n",
    "            Thunder.append(np.mean(Thunder1))\n",
    "        if not (len(Tornado1) == 0):\n",
    "            Tornado.append(np.mean(Tornado1))\n",
    "        \n",
    "        d = d + delta\n",
    "        \n",
    "    salm.loc[i, \"TEMP\"] = np.mean(TEMP); \n",
    "    salm.loc[i, \"MAX\"] = np.mean(MAX); \n",
    "    salm.loc[i, \"MIN\"] = np.mean(MIN);\n",
    "    salm.loc[i, \"DEWP\"] = np.mean(DEWP); \n",
    "    salm.loc[i, \"SLP\"] = np.mean(SLP); \n",
    "    salm.loc[i, \"STP\"] = np.mean(STP);\n",
    "    salm.loc[i, \"WDSP\"] = np.mean(WDSP); \n",
    "    salm.loc[i, \"MXSPD\"] = np.mean(MXSPD); \n",
    "    salm.loc[i, \"PRCP\"] = np.mean(PRCP);\n",
    "    salm.loc[i, \"SNDP\"] = np.mean(SNDP); \n",
    "    salm.loc[i, \"Fog\"] = np.mean(Fog); \n",
    "    salm.loc[i, \"Rain or Drizzle\"] = np.mean(Rain);\n",
    "    salm.loc[i, \"Snow or Ice Pellets\"] = np.mean(Snow); \n",
    "    salm.loc[i, \"Hail\"] = np.mean(Hail); \n",
    "    salm.loc[i, \"Thunder\"] = np.mean(Thunder); \n",
    "    salm.loc[i, \"Tornado or Funnel Cloud\"] = np.mean(Tornado);  \n",
    "    "
   ]
  },
  {
   "cell_type": "code",
   "execution_count": 98,
   "id": "99bbba25",
   "metadata": {},
   "outputs": [
    {
     "data": {
      "text/plain": [
       "CDCID                        0\n",
       "GenusName                    0\n",
       "InitialExposure              0\n",
       "LastExposure                 0\n",
       "TotalCases                   0\n",
       "Exposurestate                1\n",
       "ExposureState                0\n",
       "ExposureCounty1              0\n",
       "ExposureCounty2            841\n",
       "ExposureCounty3            867\n",
       "ExposureCounty4            890\n",
       "ExposureCounty5            901\n",
       "ExposureCounty6            909\n",
       "ExposureCounty7            919\n",
       "ExposureCounty8            924\n",
       "ExposureCounty9            927\n",
       "ExposureCounty10           928\n",
       "ExposureCounty11           931\n",
       "ExposureCounty12           932\n",
       "ExposureCounty13           936\n",
       "ExposureCounty14           938\n",
       "ExposureCounty15           938\n",
       "ExposureCounty16           938\n",
       "ExposureCounty17           939\n",
       "ExposureCounty18           939\n",
       "ExposureCounty19           940\n",
       "TEMP                         0\n",
       "MAX                          0\n",
       "MIN                          0\n",
       "DEWP                        11\n",
       "SLP                        128\n",
       "STP                        117\n",
       "WDSP                         5\n",
       "MXSPD                        5\n",
       "PRCP                        15\n",
       "SNDP                        18\n",
       "Fog                          0\n",
       "Rain or Drizzle              0\n",
       "Snow or Ice Pellets          0\n",
       "Hail                         0\n",
       "Thunder                      0\n",
       "Tornado or Funnel Cloud      0\n",
       "dtype: int64"
      ]
     },
     "execution_count": 98,
     "metadata": {},
     "output_type": "execute_result"
    }
   ],
   "source": [
    "salm.isnull().sum()"
   ]
  },
  {
   "cell_type": "code",
   "execution_count": 99,
   "id": "e88b75f9",
   "metadata": {},
   "outputs": [],
   "source": [
    "salm.to_csv('/Users/evelyn/Desktop/Salm.csv')"
   ]
  },
  {
   "cell_type": "code",
   "execution_count": 10,
   "id": "f0024f4d",
   "metadata": {},
   "outputs": [
    {
     "data": {
      "text/html": [
       "<div>\n",
       "<style scoped>\n",
       "    .dataframe tbody tr th:only-of-type {\n",
       "        vertical-align: middle;\n",
       "    }\n",
       "\n",
       "    .dataframe tbody tr th {\n",
       "        vertical-align: top;\n",
       "    }\n",
       "\n",
       "    .dataframe thead th {\n",
       "        text-align: right;\n",
       "    }\n",
       "</style>\n",
       "<table border=\"1\" class=\"dataframe\">\n",
       "  <thead>\n",
       "    <tr style=\"text-align: right;\">\n",
       "      <th></th>\n",
       "      <th>Unnamed: 0</th>\n",
       "      <th>CDCID</th>\n",
       "      <th>TotalCases</th>\n",
       "      <th>TEMP</th>\n",
       "      <th>MAX</th>\n",
       "      <th>MIN</th>\n",
       "      <th>DEWP</th>\n",
       "      <th>SLP</th>\n",
       "      <th>STP</th>\n",
       "      <th>WDSP</th>\n",
       "      <th>MXSPD</th>\n",
       "      <th>PRCP</th>\n",
       "      <th>SNDP</th>\n",
       "      <th>Fog</th>\n",
       "      <th>Rain or Drizzle</th>\n",
       "      <th>Snow or Ice Pellets</th>\n",
       "      <th>Hail</th>\n",
       "      <th>Thunder</th>\n",
       "      <th>Tornado or Funnel Cloud</th>\n",
       "    </tr>\n",
       "  </thead>\n",
       "  <tbody>\n",
       "    <tr>\n",
       "      <th>count</th>\n",
       "      <td>941.000000</td>\n",
       "      <td>941.000000</td>\n",
       "      <td>941.000000</td>\n",
       "      <td>941.000000</td>\n",
       "      <td>941.000000</td>\n",
       "      <td>941.000000</td>\n",
       "      <td>930.000000</td>\n",
       "      <td>813.000000</td>\n",
       "      <td>908.000000</td>\n",
       "      <td>936.000000</td>\n",
       "      <td>936.000000</td>\n",
       "      <td>926.000000</td>\n",
       "      <td>923.000000</td>\n",
       "      <td>941.000000</td>\n",
       "      <td>941.000000</td>\n",
       "      <td>941.000000</td>\n",
       "      <td>941.000000</td>\n",
       "      <td>941.000000</td>\n",
       "      <td>941.000000</td>\n",
       "    </tr>\n",
       "    <tr>\n",
       "      <th>mean</th>\n",
       "      <td>470.000000</td>\n",
       "      <td>146218.775770</td>\n",
       "      <td>23.366631</td>\n",
       "      <td>62.790429</td>\n",
       "      <td>74.073344</td>\n",
       "      <td>53.081329</td>\n",
       "      <td>48.881085</td>\n",
       "      <td>1015.836696</td>\n",
       "      <td>984.238068</td>\n",
       "      <td>5.945341</td>\n",
       "      <td>12.872153</td>\n",
       "      <td>0.081203</td>\n",
       "      <td>0.038735</td>\n",
       "      <td>0.064600</td>\n",
       "      <td>0.282531</td>\n",
       "      <td>0.032484</td>\n",
       "      <td>0.000376</td>\n",
       "      <td>0.074980</td>\n",
       "      <td>0.000083</td>\n",
       "    </tr>\n",
       "    <tr>\n",
       "      <th>std</th>\n",
       "      <td>271.787601</td>\n",
       "      <td>134369.451493</td>\n",
       "      <td>39.053870</td>\n",
       "      <td>15.124396</td>\n",
       "      <td>15.840295</td>\n",
       "      <td>14.964454</td>\n",
       "      <td>15.322277</td>\n",
       "      <td>4.482611</td>\n",
       "      <td>40.969555</td>\n",
       "      <td>2.528293</td>\n",
       "      <td>3.739216</td>\n",
       "      <td>0.189885</td>\n",
       "      <td>0.333721</td>\n",
       "      <td>0.148762</td>\n",
       "      <td>0.297287</td>\n",
       "      <td>0.127395</td>\n",
       "      <td>0.005829</td>\n",
       "      <td>0.175728</td>\n",
       "      <td>0.001558</td>\n",
       "    </tr>\n",
       "    <tr>\n",
       "      <th>min</th>\n",
       "      <td>0.000000</td>\n",
       "      <td>55.000000</td>\n",
       "      <td>5.000000</td>\n",
       "      <td>9.488095</td>\n",
       "      <td>17.721212</td>\n",
       "      <td>-1.007143</td>\n",
       "      <td>1.379762</td>\n",
       "      <td>988.800000</td>\n",
       "      <td>657.562500</td>\n",
       "      <td>0.684000</td>\n",
       "      <td>4.100000</td>\n",
       "      <td>0.000000</td>\n",
       "      <td>0.000000</td>\n",
       "      <td>0.000000</td>\n",
       "      <td>0.000000</td>\n",
       "      <td>0.000000</td>\n",
       "      <td>0.000000</td>\n",
       "      <td>0.000000</td>\n",
       "      <td>0.000000</td>\n",
       "    </tr>\n",
       "    <tr>\n",
       "      <th>25%</th>\n",
       "      <td>235.000000</td>\n",
       "      <td>10706.000000</td>\n",
       "      <td>7.000000</td>\n",
       "      <td>53.836364</td>\n",
       "      <td>64.940896</td>\n",
       "      <td>43.184000</td>\n",
       "      <td>38.875000</td>\n",
       "      <td>1013.111364</td>\n",
       "      <td>979.547401</td>\n",
       "      <td>4.272807</td>\n",
       "      <td>10.362500</td>\n",
       "      <td>0.000000</td>\n",
       "      <td>0.000000</td>\n",
       "      <td>0.000000</td>\n",
       "      <td>0.000000</td>\n",
       "      <td>0.000000</td>\n",
       "      <td>0.000000</td>\n",
       "      <td>0.000000</td>\n",
       "      <td>0.000000</td>\n",
       "    </tr>\n",
       "    <tr>\n",
       "      <th>50%</th>\n",
       "      <td>470.000000</td>\n",
       "      <td>246466.000000</td>\n",
       "      <td>12.000000</td>\n",
       "      <td>65.625000</td>\n",
       "      <td>77.254545</td>\n",
       "      <td>55.600000</td>\n",
       "      <td>50.878271</td>\n",
       "      <td>1015.750000</td>\n",
       "      <td>993.306190</td>\n",
       "      <td>5.722030</td>\n",
       "      <td>12.604762</td>\n",
       "      <td>0.025431</td>\n",
       "      <td>0.000000</td>\n",
       "      <td>0.000000</td>\n",
       "      <td>0.235507</td>\n",
       "      <td>0.000000</td>\n",
       "      <td>0.000000</td>\n",
       "      <td>0.000000</td>\n",
       "      <td>0.000000</td>\n",
       "    </tr>\n",
       "    <tr>\n",
       "      <th>75%</th>\n",
       "      <td>705.000000</td>\n",
       "      <td>276713.000000</td>\n",
       "      <td>23.000000</td>\n",
       "      <td>73.870000</td>\n",
       "      <td>85.100000</td>\n",
       "      <td>64.170345</td>\n",
       "      <td>60.791667</td>\n",
       "      <td>1018.350000</td>\n",
       "      <td>1008.568690</td>\n",
       "      <td>7.304808</td>\n",
       "      <td>14.760164</td>\n",
       "      <td>0.101146</td>\n",
       "      <td>0.000000</td>\n",
       "      <td>0.066667</td>\n",
       "      <td>0.428571</td>\n",
       "      <td>0.000000</td>\n",
       "      <td>0.000000</td>\n",
       "      <td>0.071429</td>\n",
       "      <td>0.000000</td>\n",
       "    </tr>\n",
       "    <tr>\n",
       "      <th>max</th>\n",
       "      <td>940.000000</td>\n",
       "      <td>302902.000000</td>\n",
       "      <td>557.000000</td>\n",
       "      <td>97.981000</td>\n",
       "      <td>109.388542</td>\n",
       "      <td>84.103000</td>\n",
       "      <td>77.332143</td>\n",
       "      <td>1038.700000</td>\n",
       "      <td>1024.200000</td>\n",
       "      <td>33.000000</td>\n",
       "      <td>45.800000</td>\n",
       "      <td>3.555000</td>\n",
       "      <td>5.100000</td>\n",
       "      <td>1.000000</td>\n",
       "      <td>1.000000</td>\n",
       "      <td>1.000000</td>\n",
       "      <td>0.166667</td>\n",
       "      <td>1.000000</td>\n",
       "      <td>0.033333</td>\n",
       "    </tr>\n",
       "  </tbody>\n",
       "</table>\n",
       "</div>"
      ],
      "text/plain": [
       "       Unnamed: 0          CDCID  TotalCases        TEMP         MAX  \\\n",
       "count  941.000000     941.000000  941.000000  941.000000  941.000000   \n",
       "mean   470.000000  146218.775770   23.366631   62.790429   74.073344   \n",
       "std    271.787601  134369.451493   39.053870   15.124396   15.840295   \n",
       "min      0.000000      55.000000    5.000000    9.488095   17.721212   \n",
       "25%    235.000000   10706.000000    7.000000   53.836364   64.940896   \n",
       "50%    470.000000  246466.000000   12.000000   65.625000   77.254545   \n",
       "75%    705.000000  276713.000000   23.000000   73.870000   85.100000   \n",
       "max    940.000000  302902.000000  557.000000   97.981000  109.388542   \n",
       "\n",
       "              MIN        DEWP          SLP          STP        WDSP  \\\n",
       "count  941.000000  930.000000   813.000000   908.000000  936.000000   \n",
       "mean    53.081329   48.881085  1015.836696   984.238068    5.945341   \n",
       "std     14.964454   15.322277     4.482611    40.969555    2.528293   \n",
       "min     -1.007143    1.379762   988.800000   657.562500    0.684000   \n",
       "25%     43.184000   38.875000  1013.111364   979.547401    4.272807   \n",
       "50%     55.600000   50.878271  1015.750000   993.306190    5.722030   \n",
       "75%     64.170345   60.791667  1018.350000  1008.568690    7.304808   \n",
       "max     84.103000   77.332143  1038.700000  1024.200000   33.000000   \n",
       "\n",
       "            MXSPD        PRCP        SNDP         Fog  Rain or Drizzle  \\\n",
       "count  936.000000  926.000000  923.000000  941.000000       941.000000   \n",
       "mean    12.872153    0.081203    0.038735    0.064600         0.282531   \n",
       "std      3.739216    0.189885    0.333721    0.148762         0.297287   \n",
       "min      4.100000    0.000000    0.000000    0.000000         0.000000   \n",
       "25%     10.362500    0.000000    0.000000    0.000000         0.000000   \n",
       "50%     12.604762    0.025431    0.000000    0.000000         0.235507   \n",
       "75%     14.760164    0.101146    0.000000    0.066667         0.428571   \n",
       "max     45.800000    3.555000    5.100000    1.000000         1.000000   \n",
       "\n",
       "       Snow or Ice Pellets        Hail     Thunder  Tornado or Funnel Cloud  \n",
       "count           941.000000  941.000000  941.000000               941.000000  \n",
       "mean              0.032484    0.000376    0.074980                 0.000083  \n",
       "std               0.127395    0.005829    0.175728                 0.001558  \n",
       "min               0.000000    0.000000    0.000000                 0.000000  \n",
       "25%               0.000000    0.000000    0.000000                 0.000000  \n",
       "50%               0.000000    0.000000    0.000000                 0.000000  \n",
       "75%               0.000000    0.000000    0.071429                 0.000000  \n",
       "max               1.000000    0.166667    1.000000                 0.033333  "
      ]
     },
     "execution_count": 10,
     "metadata": {},
     "output_type": "execute_result"
    }
   ],
   "source": [
    "salm.describe()"
   ]
  },
  {
   "cell_type": "code",
   "execution_count": 114,
   "id": "3e6763fc",
   "metadata": {},
   "outputs": [
    {
     "name": "stdout",
     "output_type": "stream",
     "text": [
      "[270862]\n"
     ]
    }
   ],
   "source": [
    "a = []\n",
    "for i in range(len(salm)):\n",
    "    if(salm.loc[i, \"STP\"] < 700):\n",
    "        a.append(salm.loc[i, \"CDCID\"])\n",
    "print(a)"
   ]
  },
  {
   "cell_type": "code",
   "execution_count": 12,
   "id": "b6f3f2be",
   "metadata": {},
   "outputs": [],
   "source": [
    "salm.to_csv('/Users/evelyn/Desktop/weather information/SALM.csv')"
   ]
  },
  {
   "cell_type": "code",
   "execution_count": null,
   "id": "ed6fdd70",
   "metadata": {},
   "outputs": [],
   "source": []
  }
 ],
 "metadata": {
  "kernelspec": {
   "display_name": "Python 3 (ipykernel)",
   "language": "python",
   "name": "python3"
  },
  "language_info": {
   "codemirror_mode": {
    "name": "ipython",
    "version": 3
   },
   "file_extension": ".py",
   "mimetype": "text/x-python",
   "name": "python",
   "nbconvert_exporter": "python",
   "pygments_lexer": "ipython3",
   "version": "3.9.12"
  }
 },
 "nbformat": 4,
 "nbformat_minor": 5
}
