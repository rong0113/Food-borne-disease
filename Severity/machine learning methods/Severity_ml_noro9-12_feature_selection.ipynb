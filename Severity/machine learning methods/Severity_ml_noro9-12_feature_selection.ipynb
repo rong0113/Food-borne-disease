{
 "cells": [
  {
   "cell_type": "code",
   "execution_count": 30,
   "id": "779a44e3",
   "metadata": {},
   "outputs": [],
   "source": [
    "import pandas as pd\n",
    "noro = pd.read_csv('/Users/evelyn/Desktop/Cubic Spline/noro_nooutliers.csv')"
   ]
  },
  {
   "cell_type": "code",
   "execution_count": 34,
   "id": "30107a18",
   "metadata": {},
   "outputs": [
    {
     "data": {
      "text/plain": [
       "1092"
      ]
     },
     "execution_count": 34,
     "metadata": {},
     "output_type": "execute_result"
    }
   ],
   "source": [
    "from itertools import combinations\n",
    "a = []\n",
    "features = ['TEMP','SLP','WDSP','PRCP','RH','SLP-STP','MXSPD-WDSP',\n",
    "            'Median age','Immigrants','Households Median Income','%Food preparation','%Farming, fishing, and forestry','Population Density']\n",
    "for p in combinations(features,9):\n",
    "    a.append(p)\n",
    "for p in combinations(features,10):\n",
    "    a.append(p)\n",
    "for p in combinations(features,11):\n",
    "    a.append(p)\n",
    "for p in combinations(features,12):\n",
    "    a.append(p)\n",
    "\n",
    "len(a)"
   ]
  },
  {
   "cell_type": "code",
   "execution_count": 35,
   "id": "ba4d9b1a",
   "metadata": {},
   "outputs": [],
   "source": [
    "fea = pd.DataFrame()"
   ]
  },
  {
   "cell_type": "code",
   "execution_count": 40,
   "id": "5a66e982",
   "metadata": {},
   "outputs": [
    {
     "data": {
      "application/vnd.jupyter.widget-view+json": {
       "model_id": "fd082cbe7b5a48298c69c841d0e5bd6e",
       "version_major": 2,
       "version_minor": 0
      },
      "text/plain": [
       "  0%|          | 0/1092 [00:00<?, ?it/s]"
      ]
     },
     "metadata": {},
     "output_type": "display_data"
    }
   ],
   "source": [
    "import numpy as np\n",
    "from progressbar import ProgressBar\n",
    "from sklearn.metrics import mean_squared_error, r2_score, mean_absolute_error, mean_absolute_percentage_error\n",
    "from sklearn.metrics import accuracy_score, confusion_matrix, precision_score, recall_score, ConfusionMatrixDisplay\n",
    "import xgboost as xgb\n",
    "import warnings\n",
    "from sklearn.model_selection import train_test_split\n",
    "from tqdm.notebook import tqdm\n",
    "\n",
    "for i in tqdm(range(len(a))):\n",
    "    fea.loc[i, \"Features\"] = str(a[i])\n",
    "    X = noro[list(a[i])]\n",
    "    y = noro['TotalCases']\n",
    "   \n",
    "    X_train, X_test, y_train, y_test = train_test_split(X, y, test_size = 0.2, random_state = 25)\n",
    "    warnings.filterwarnings(\"ignore\")\n",
    "    model = xgb.XGBRegressor()\n",
    "    model.fit(X_train, y_train)\n",
    "    y_pred_xg = model.predict(X_test)\n",
    "    fea.loc[i, \"xgboost\"]=r2_score(y_test, y_pred_xg)\n",
    "          "
   ]
  },
  {
   "cell_type": "code",
   "execution_count": 37,
   "id": "d76eb35e",
   "metadata": {},
   "outputs": [
    {
     "data": {
      "text/plain": [
       "0.018624950537707297"
      ]
     },
     "execution_count": 37,
     "metadata": {},
     "output_type": "execute_result"
    }
   ],
   "source": [
    "fea['xgboost'].max()"
   ]
  },
  {
   "cell_type": "code",
   "execution_count": 43,
   "id": "0b194912",
   "metadata": {},
   "outputs": [
    {
     "name": "stdout",
     "output_type": "stream",
     "text": [
      "Features    ('TEMP', 'WDSP', 'PRCP', 'RH', 'SLP-STP', 'MXS...\n",
      "xgboost                                              0.018625\n",
      "DT                                                  -0.263894\n",
      "dt_rs                                                    40.0\n",
      "Name: 1061, dtype: object\n",
      "('TEMP', 'WDSP', 'PRCP', 'RH', 'SLP-STP', 'MXSPD-WDSP', 'Immigrants', 'Households Median Income', '%Food preparation', '%Farming, fishing, and forestry', 'Population Density')\n"
     ]
    }
   ],
   "source": [
    "index = fea[fea.xgboost == fea[\"xgboost\"].max()].index.tolist()[0]\n",
    "print(fea.loc[index,:])\n",
    "print(fea.loc[index,\"Features\"])"
   ]
  },
  {
   "cell_type": "code",
   "execution_count": 41,
   "id": "d1ca0184",
   "metadata": {},
   "outputs": [
    {
     "data": {
      "application/vnd.jupyter.widget-view+json": {
       "model_id": "1693c2ea5f284080a6cc1b363fc4e44b",
       "version_major": 2,
       "version_minor": 0
      },
      "text/plain": [
       "  0%|          | 0/1092 [00:00<?, ?it/s]"
      ]
     },
     "metadata": {},
     "output_type": "display_data"
    }
   ],
   "source": [
    "from sklearn.metrics import mean_squared_error, r2_score, mean_absolute_error, mean_absolute_percentage_error\n",
    "from sklearn.metrics import accuracy_score, confusion_matrix, precision_score, recall_score, ConfusionMatrixDisplay\n",
    "from sklearn.ensemble import RandomForestRegressor\n",
    "from sklearn.tree import DecisionTreeRegressor\n",
    "from sklearn.model_selection import train_test_split\n",
    "\n",
    "for i in tqdm(range(len(a))):\n",
    "    X = noro[list(a[i])]\n",
    "    y = noro['TotalCases']\n",
    "    dt1 = []\n",
    "    X_train, X_test, y_train, y_test = train_test_split(X, y, test_size = 0.2, random_state = 25)\n",
    "    for rm in range(0,50):\n",
    "        model2 = DecisionTreeRegressor(random_state = rm)\n",
    "        model2.fit(X_train, y_train)\n",
    "        y_pred = model2.predict(X_test)\n",
    "        dt1.append(r2_score(y_test, y_pred))\n",
    "    idx_rf = dt1.index(max(dt1))\n",
    "    fea.loc[i, \"DT\"] = max(dt1)\n",
    "    fea.loc[i, \"dt_rs\"] = idx_rf  "
   ]
  },
  {
   "cell_type": "code",
   "execution_count": 42,
   "id": "3343c710",
   "metadata": {},
   "outputs": [
    {
     "data": {
      "text/plain": [
       "-0.008931569954027996"
      ]
     },
     "execution_count": 42,
     "metadata": {},
     "output_type": "execute_result"
    }
   ],
   "source": [
    "fea['DT'].max()"
   ]
  },
  {
   "cell_type": "code",
   "execution_count": 48,
   "id": "08e74fcf",
   "metadata": {},
   "outputs": [
    {
     "data": {
      "application/vnd.jupyter.widget-view+json": {
       "model_id": "b55eb103ce1a4902bdbbbe366841b707",
       "version_major": 2,
       "version_minor": 0
      },
      "text/plain": [
       "  0%|          | 0/320 [00:00<?, ?it/s]"
      ]
     },
     "metadata": {},
     "output_type": "display_data"
    }
   ],
   "source": [
    "import numpy as np\n",
    "from progressbar import ProgressBar\n",
    "from sklearn.metrics import mean_squared_error, r2_score, mean_absolute_error, mean_absolute_percentage_error\n",
    "from sklearn.metrics import accuracy_score, confusion_matrix, precision_score, recall_score, ConfusionMatrixDisplay\n",
    "from sklearn.ensemble import RandomForestRegressor\n",
    "from sklearn.model_selection import train_test_split\n",
    "from tqdm.notebook import tqdm\n",
    "\n",
    "for i in tqdm(range(772,len(a))):\n",
    "    X = noro[list(a[i])]\n",
    "    y = noro['TotalCases']\n",
    "    rf1 = []\n",
    "    X_train, X_test, y_train, y_test = train_test_split(X, y, test_size = 0.2, random_state = 25)\n",
    "    for rm in range(0,50):\n",
    "        model2 = RandomForestRegressor(random_state = rm)\n",
    "        model2.fit(X_train, y_train)\n",
    "        y_pred = model2.predict(X_test)\n",
    "        rf1.append(r2_score(y_test, y_pred))\n",
    "    idx_rf = rf1.index(max(rf1))\n",
    "    fea.loc[i, \"RF\"] = max(rf1)\n",
    "    fea.loc[i, \"rf_rs\"] = idx_rf   "
   ]
  },
  {
   "cell_type": "code",
   "execution_count": 46,
   "id": "33bbf72d",
   "metadata": {},
   "outputs": [],
   "source": [
    "fea.to_csv('/Users/evelyn/Desktop/Cubic spline/noro912.csv')"
   ]
  },
  {
   "cell_type": "code",
   "execution_count": 49,
   "id": "c3acd152",
   "metadata": {},
   "outputs": [
    {
     "data": {
      "text/plain": [
       "-0.0025448120059490265"
      ]
     },
     "execution_count": 49,
     "metadata": {},
     "output_type": "execute_result"
    }
   ],
   "source": [
    "fea['RF'].max()"
   ]
  },
  {
   "cell_type": "code",
   "execution_count": null,
   "id": "f87c11af",
   "metadata": {},
   "outputs": [],
   "source": [
    "# Compute RMSE\n",
    "import numpy as np\n",
    "from sklearn.metrics import mean_squared_error, r2_score, mean_absolute_error, mean_absolute_percentage_error\n",
    "from sklearn.metrics import accuracy_score, confusion_matrix, precision_score, recall_score, ConfusionMatrixDisplay\n",
    "import xgboost as xgb\n",
    "from sklearn.ensemble import RandomForestRegressor\n",
    "from sklearn.tree import DecisionTreeRegressor\n",
    "import warnings\n",
    "from sklearn.model_selection import train_test_split\n",
    "from tqdm.notebook import tqdm\n",
    "\n",
    "for i in tqdm(range(len(fea))):\n",
    "    X = noro[list(a[i])]\n",
    "    y = noro['TotalCases']\n",
    "    X_train, X_test, y_train, y_test = train_test_split(X, y, test_size = 0.2, random_state = 25)\n",
    "    \n",
    "    #XGBOOST\n",
    "    warnings.filterwarnings(\"ignore\")\n",
    "    model = xgb.XGBRegressor()\n",
    "    model.fit(X_train, y_train)\n",
    "    y_pred_xg = model.predict(X_test)\n",
    "    mse = mean_squared_error(y_pred_xg, y_test)\n",
    "    fea.loc[i, \"rmse_xgboost\"] = np.sqrt(mse)\n",
    "    \n",
    "    #DT\n",
    "    model2 = DecisionTreeRegressor(random_state = int(fea.loc[i, \"dt_rs\"]))\n",
    "    model2.fit(X_train, y_train)\n",
    "    y_pred_dt = model2.predict(X_test)\n",
    "    mse = mean_squared_error(y_pred_dt, y_test)\n",
    "    fea.loc[i, \"rmse_dt\"] = np.sqrt(mse)\n",
    "    \n",
    "    #RF\n",
    "    model2 = RandomForestRegressor(random_state = int(fea.loc[i, \"rf_rs\"]))\n",
    "    model2.fit(X_train, y_train)\n",
    "    y_pred_rf = model2.predict(X_test)\n",
    "    mse = mean_squared_error(y_pred_rf, y_test)\n",
    "    fea.loc[i, \"rmse_rf\"] = np.sqrt(mse)"
   ]
  },
  {
   "cell_type": "code",
   "execution_count": 54,
   "id": "6496d8dc",
   "metadata": {},
   "outputs": [
    {
     "name": "stdout",
     "output_type": "stream",
     "text": [
      "Features        ('TEMP', 'WDSP', 'PRCP', 'RH', 'SLP-STP', 'MXS...\n",
      "xgboost                                                  0.018625\n",
      "DT                                                      -0.263894\n",
      "dt_rs                                                        40.0\n",
      "RF                                                      -0.033988\n",
      "rf_rs                                                        23.0\n",
      "rmse_xgboost                                            59.506283\n",
      "rmse_dt                                                   67.5306\n",
      "rmse_rf                                                 61.080578\n",
      "Name: 1061, dtype: object\n",
      "('TEMP', 'WDSP', 'PRCP', 'RH', 'SLP-STP', 'MXSPD-WDSP', 'Immigrants', 'Households Median Income', '%Food preparation', '%Farming, fishing, and forestry', 'Population Density')\n"
     ]
    }
   ],
   "source": [
    "index = fea[fea.xgboost == fea[\"xgboost\"].max()].index.tolist()[0]\n",
    "print(fea.loc[index,:])\n",
    "print(fea.loc[index,\"Features\"])"
   ]
  },
  {
   "cell_type": "code",
   "execution_count": 55,
   "id": "f99e645e",
   "metadata": {},
   "outputs": [
    {
     "name": "stdout",
     "output_type": "stream",
     "text": [
      "Features        ('TEMP', 'SLP', 'WDSP', 'PRCP', 'RH', 'Immigra...\n",
      "xgboost                                                 -0.091878\n",
      "DT                                                      -0.008932\n",
      "dt_rs                                                         9.0\n",
      "RF                                                      -0.010348\n",
      "rf_rs                                                         2.0\n",
      "rmse_xgboost                                            62.767154\n",
      "rmse_dt                                                 60.335953\n",
      "rmse_rf                                                 60.378298\n",
      "Name: 68, dtype: object\n",
      "('TEMP', 'SLP', 'WDSP', 'PRCP', 'RH', 'Immigrants', '%Food preparation', '%Farming, fishing, and forestry', 'Population Density')\n"
     ]
    }
   ],
   "source": [
    "index = fea[fea.DT == fea[\"DT\"].max()].index.tolist()[0]\n",
    "print(fea.loc[index,:])\n",
    "print(fea.loc[index,\"Features\"])"
   ]
  },
  {
   "cell_type": "code",
   "execution_count": 56,
   "id": "056e08f7",
   "metadata": {},
   "outputs": [
    {
     "name": "stdout",
     "output_type": "stream",
     "text": [
      "Features        ('TEMP', 'SLP', 'WDSP', 'PRCP', 'RH', 'Median ...\n",
      "xgboost                                                 -0.087274\n",
      "DT                                                       -0.22246\n",
      "dt_rs                                                        23.0\n",
      "RF                                                      -0.002545\n",
      "rf_rs                                                         1.0\n",
      "rmse_xgboost                                            62.634684\n",
      "rmse_dt                                                 66.414458\n",
      "rmse_rf                                                  60.14468\n",
      "Name: 58, dtype: object\n",
      "('TEMP', 'SLP', 'WDSP', 'PRCP', 'RH', 'Median age', 'Immigrants', '%Food preparation', '%Farming, fishing, and forestry')\n"
     ]
    }
   ],
   "source": [
    "index = fea[fea.RF == fea[\"RF\"].max()].index.tolist()[0]\n",
    "print(fea.loc[index,:])\n",
    "print(fea.loc[index,\"Features\"])"
   ]
  },
  {
   "cell_type": "code",
   "execution_count": null,
   "id": "90efb06f",
   "metadata": {},
   "outputs": [],
   "source": []
  }
 ],
 "metadata": {
  "kernelspec": {
   "display_name": "Python 3 (ipykernel)",
   "language": "python",
   "name": "python3"
  },
  "language_info": {
   "codemirror_mode": {
    "name": "ipython",
    "version": 3
   },
   "file_extension": ".py",
   "mimetype": "text/x-python",
   "name": "python",
   "nbconvert_exporter": "python",
   "pygments_lexer": "ipython3",
   "version": "3.9.12"
  }
 },
 "nbformat": 4,
 "nbformat_minor": 5
}
